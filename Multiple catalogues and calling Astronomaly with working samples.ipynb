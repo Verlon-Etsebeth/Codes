{
 "cells": [
  {
   "cell_type": "code",
   "execution_count": 1,
   "metadata": {},
   "outputs": [],
   "source": [
    "import astropy\n",
    "import os\n",
    "import cv2\n",
    "import io\n",
    "import matplotlib as mpl\n",
    "import pandas as pd\n",
    "import numpy as np\n",
    "import matplotlib.pyplot as plt\n",
    "\n",
    "from astropy import io\n",
    "from astropy.io import fits\n",
    "from astropy import table\n",
    "from astropy import wcs\n",
    "from astropy.wcs import WCS\n",
    "from skimage.transform import resize\n",
    "from astronomaly.base.base_dataset import Dataset\n",
    "from astronomaly.data_management.image_reader import ImageDataset\n",
    "from astronomaly.data_management import image_reader\n",
    "from astronomaly.preprocessing import image_preprocessing\n",
    "from astronomaly.data_management.image_reader import AstroImage\n",
    "\n",
    "%matplotlib inline"
   ]
  },
  {
   "cell_type": "markdown",
   "metadata": {},
   "source": [
    "_________"
   ]
  },
  {
   "cell_type": "markdown",
   "metadata": {},
   "source": [
    "## Convert tractor catalogue"
   ]
  },
  {
   "cell_type": "code",
   "execution_count": 2,
   "metadata": {},
   "outputs": [],
   "source": [
    "def convert_tractor_catalogue(catalogue_file, image_file, image_name=''):\n",
    "    \"\"\"\n",
    "    Converts a tractor fits file to a pandas dataframe to be given\n",
    "    directly to an ImageDataset object.\n",
    "\n",
    "    Parameters\n",
    "    ----------\n",
    "    catalogue_files : string\n",
    "        tractor catalogue in fits table format \n",
    "    image_file:\n",
    "        The image corresponding to this catalogue (to extract pixel information\n",
    "        and naming information)\n",
    "    \"\"\"\n",
    "\n",
    "    catalogue = astropy.table.Table(astropy.io.fits.getdata(catalogue_file,ignore_missing_end=True))\n",
    "\n",
    "    dataframe = {}\n",
    "    for name in catalogue.colnames:\n",
    "        data = catalogue[name].tolist()\n",
    "        dataframe[name] = data\n",
    "    \n",
    "    old_catalogue = pd.DataFrame(dataframe)\n",
    "    hdul = astropy.io.fits.open(image_file)\n",
    "\n",
    "    if len(image_name) == 0:\n",
    "        original_image_ = image_file.split(os.path.sep)[-1]\n",
    "        original_image = original_image_.replace(original_image_[:2],'')\n",
    "    else:\n",
    "        original_image = image_name\n",
    "    \n",
    "    new_catalogue = pd.DataFrame()\n",
    "    new_catalogue['objid'] = old_catalogue['objid']\n",
    "    new_catalogue['original_image'] = [original_image] * len(new_catalogue)\n",
    "    new_catalogue['peak_flux'] = old_catalogue['flux_g']\n",
    "    #new_catalogue['flux_g'] = old_catalogue['flux_g']\n",
    "    new_catalogue['flux_r'] = old_catalogue['flux_r']\n",
    "    new_catalogue['flux_z'] = old_catalogue['flux_z']\n",
    "    new_catalogue['x'] = old_catalogue['bx'].astype('int')\n",
    "    new_catalogue['y'] = old_catalogue['by'].astype('int')\n",
    "    new_catalogue['ra'] = old_catalogue['ra']\n",
    "    new_catalogue['dec'] = old_catalogue['dec']\n",
    "    \n",
    "    new_catalogue['type'] = old_catalogue['type']\n",
    "    catalogue_no_PSFs = new_catalogue[new_catalogue.type.astype(\"S\") != b'PSF ']\n",
    "    \n",
    "    return catalogue_no_PSFs"
   ]
  },
  {
   "cell_type": "markdown",
   "metadata": {},
   "source": [
    "__________"
   ]
  },
  {
   "cell_type": "markdown",
   "metadata": {},
   "source": [
    "## Create a catalogue for each tractor file"
   ]
  },
  {
   "cell_type": "code",
   "execution_count": 3,
   "metadata": {},
   "outputs": [],
   "source": [
    "catalogue_file_055 = '/home/verlon/Desktop/Astronomaly/Data/Input/0267 Brick/Catalogue/tractor-0267m055.fits'\n",
    "\n",
    "image_file_g_055 = '/home/verlon/Desktop/Astronomaly/Data/Input/0267 Brick/Images/g-legacysurvey-0267m055-image.fits.fz'\n",
    "image_file_r_055 = '/home/verlon/Desktop/Astronomaly/Data/Input/0267 Brick/Images/r-legacysurvey-0267m055-image.fits.fz'\n",
    "image_file_z_055 = '/home/verlon/Desktop/Astronomaly/Data/Input/0267 Brick/Images/z-legacysurvey-0267m055-image.fits.fz'\n",
    "\n",
    "image_name = 'legacysurvey-0267m055-image.fits.fz'\n",
    "\n",
    "pd1 = convert_tractor_catalogue(catalogue_file_055, image_file_z_055, image_name='')"
   ]
  },
  {
   "cell_type": "code",
   "execution_count": 4,
   "metadata": {},
   "outputs": [],
   "source": [
    "catalogue_file_057 = '/home/verlon/Desktop/Astronomaly/Data/Input/0267 Brick/Catalogue/tractor-0267m057.fits'\n",
    "\n",
    "image_file_g_057 = '/home/verlon/Desktop/Astronomaly/Data/Input/0267 Brick/Images/g-legacysurvey-0267m057-image.fits.fz'\n",
    "image_file_r_057 = '/home/verlon/Desktop/Astronomaly/Data/Input/0267 Brick/Images/r-legacysurvey-0267m057-image.fits.fz'\n",
    "image_file_z_057 = '/home/verlon/Desktop/Astronomaly/Data/Input/0267 Brick/Images/z-legacysurvey-0267m057-image.fits.fz'\n",
    "\n",
    "image_name = 'legacysurvey-0267m057-image.fits.fz'\n",
    "\n",
    "pd2 = convert_tractor_catalogue(catalogue_file_057, image_file_z_057, image_name='')"
   ]
  },
  {
   "cell_type": "code",
   "execution_count": 5,
   "metadata": {},
   "outputs": [],
   "source": [
    "catalogue_file_060 = '/home/verlon/Desktop/Astronomaly/Data/Input/0267 Brick/Catalogue/tractor-0267m060.fits'\n",
    "\n",
    "image_file_g_060 = '/home/verlon/Desktop/Astronomaly/Data/Input/0267 Brick/Images/g-legacysurvey-0267m060-image.fits.fz'\n",
    "image_file_r_060 = '/home/verlon/Desktop/Astronomaly/Data/Input/0267 Brick/Images/r-legacysurvey-0267m060-image.fits.fz'\n",
    "image_file_z_060 = '/home/verlon/Desktop/Astronomaly/Data/Input/0267 Brick/Images/z-legacysurvey-0267m060-image.fits.fz'\n",
    "\n",
    "image_name = 'legacysurvey-0267m060-image.fits.fz'\n",
    "\n",
    "pd3 = convert_tractor_catalogue(catalogue_file_060, image_file_z_060, image_name='')"
   ]
  },
  {
   "cell_type": "code",
   "execution_count": 6,
   "metadata": {},
   "outputs": [],
   "source": [
    "catalogue_file_062 = '/home/verlon/Desktop/Astronomaly/Data/Input/0267 Brick/Catalogue/tractor-0267m062.fits'\n",
    "\n",
    "image_file_g_062 = '/home/verlon/Desktop/Astronomaly/Data/Input/0267 Brick/Images/g-legacysurvey-0267m062-image.fits.fz'\n",
    "image_file_r_062 = '/home/verlon/Desktop/Astronomaly/Data/Input/0267 Brick/Images/r-legacysurvey-0267m062-image.fits.fz'\n",
    "image_file_z_062 = '/home/verlon/Desktop/Astronomaly/Data/Input/0267 Brick/Images/z-legacysurvey-0267m062-image.fits.fz'\n",
    "\n",
    "image_name = 'legacysurvey-0267m062-image.fits.fz'\n",
    "\n",
    "pd4 = convert_tractor_catalogue(catalogue_file_062, image_file_z_062, image_name='')"
   ]
  },
  {
   "cell_type": "code",
   "execution_count": 7,
   "metadata": {},
   "outputs": [],
   "source": [
    "catalogue_file_065 = '/home/verlon/Desktop/Astronomaly/Data/Input/0267 Brick/Catalogue/tractor-0267m065.fits'\n",
    "\n",
    "image_file_g_065 = '/home/verlon/Desktop/Astronomaly/Data/Input/0267 Brick/Images/g-legacysurvey-0267m065-image.fits.fz'\n",
    "image_file_r_065 = '/home/verlon/Desktop/Astronomaly/Data/Input/0267 Brick/Images/r-legacysurvey-0267m065-image.fits.fz'\n",
    "image_file_z_065 = '/home/verlon/Desktop/Astronomaly/Data/Input/0267 Brick/Images/z-legacysurvey-0267m065-image.fits.fz'\n",
    "\n",
    "image_name = 'legacysurvey-0267m065-image.fits.fz'\n",
    "\n",
    "pd5 = convert_tractor_catalogue(catalogue_file_065, image_file_z_065, image_name='')"
   ]
  },
  {
   "cell_type": "code",
   "execution_count": 8,
   "metadata": {},
   "outputs": [],
   "source": [
    "catalogue_file_067 = '/home/verlon/Desktop/Astronomaly/Data/Input/0267 Brick/Catalogue/tractor-0267m067.fits'\n",
    "\n",
    "image_file_g_067 = '/home/verlon/Desktop/Astronomaly/Data/Input/0267 Brick/Images/g-legacysurvey-0267m067-image.fits.fz'\n",
    "image_file_r_067 = '/home/verlon/Desktop/Astronomaly/Data/Input/0267 Brick/Images/r-legacysurvey-0267m067-image.fits.fz'\n",
    "image_file_z_067 = '/home/verlon/Desktop/Astronomaly/Data/Input/0267 Brick/Images/z-legacysurvey-0267m067-image.fits.fz'\n",
    "\n",
    "image_name = 'legacysurvey-0267m067-image.fits.fz'\n",
    "\n",
    "pd6 = convert_tractor_catalogue(catalogue_file_067, image_file_z_067, image_name='')"
   ]
  },
  {
   "cell_type": "code",
   "execution_count": 9,
   "metadata": {},
   "outputs": [],
   "source": [
    "catalogue_file_092 = '/home/verlon/Desktop/Astronomaly/Data/Input/0267 Brick/Catalogue/tractor-0267m092.fits'\n",
    "\n",
    "image_file_g_092 = '/home/verlon/Desktop/Astronomaly/Data/Input/0267 Brick/Images/g-legacysurvey-0267m092-image.fits.fz'\n",
    "image_file_r_092 = '/home/verlon/Desktop/Astronomaly/Data/Input/0267 Brick/Images/r-legacysurvey-0267m092-image.fits.fz'\n",
    "image_file_z_092 = '/home/verlon/Desktop/Astronomaly/Data/Input/0267 Brick/Images/z-legacysurvey-0267m092-image.fits.fz'\n",
    "\n",
    "image_name = 'legacysurvey-0267m092-image.fits.fz'\n",
    "\n",
    "pd7 = convert_tractor_catalogue(catalogue_file_092, image_file_z_092, image_name='')"
   ]
  },
  {
   "cell_type": "code",
   "execution_count": 10,
   "metadata": {},
   "outputs": [],
   "source": [
    "catalogue_file_095 = '/home/verlon/Desktop/Astronomaly/Data/Input/0267 Brick/Catalogue/tractor-0267m095.fits'\n",
    "\n",
    "image_file_g_095 = '/home/verlon/Desktop/Astronomaly/Data/Input/0267 Brick/Images/g-legacysurvey-0267m095-image.fits.fz'\n",
    "image_file_r_095 = '/home/verlon/Desktop/Astronomaly/Data/Input/0267 Brick/Images/r-legacysurvey-0267m095-image.fits.fz'\n",
    "image_file_z_095 = '/home/verlon/Desktop/Astronomaly/Data/Input/0267 Brick/Images/z-legacysurvey-0267m095-image.fits.fz'\n",
    "\n",
    "image_name = 'legacysurvey-0267m095-image.fits.fz'\n",
    "\n",
    "pd8 = convert_tractor_catalogue(catalogue_file_095, image_file_z_095, image_name='')"
   ]
  },
  {
   "cell_type": "code",
   "execution_count": 11,
   "metadata": {},
   "outputs": [],
   "source": [
    "catalogue_file_097 = '/home/verlon/Desktop/Astronomaly/Data/Input/0267 Brick/Catalogue/tractor-0267m097.fits'\n",
    "\n",
    "image_file_g_097 = '/home/verlon/Desktop/Astronomaly/Data/Input/0267 Brick/Images/g-legacysurvey-0267m097-image.fits.fz'\n",
    "image_file_r_097 = '/home/verlon/Desktop/Astronomaly/Data/Input/0267 Brick/Images/r-legacysurvey-0267m097-image.fits.fz'\n",
    "image_file_z_097 = '/home/verlon/Desktop/Astronomaly/Data/Input/0267 Brick/Images/z-legacysurvey-0267m097-image.fits.fz'\n",
    "\n",
    "image_name = 'legacysurvey-0267m097-image.fits.fz'\n",
    "\n",
    "pd9 = convert_tractor_catalogue(catalogue_file_097, image_file_z_097, image_name='')"
   ]
  },
  {
   "cell_type": "markdown",
   "metadata": {},
   "source": [
    "______"
   ]
  },
  {
   "cell_type": "markdown",
   "metadata": {},
   "source": [
    "### Create a single catalogue from the ones above"
   ]
  },
  {
   "cell_type": "code",
   "execution_count": 12,
   "metadata": {},
   "outputs": [
    {
     "data": {
      "text/html": [
       "<div>\n",
       "<style scoped>\n",
       "    .dataframe tbody tr th:only-of-type {\n",
       "        vertical-align: middle;\n",
       "    }\n",
       "\n",
       "    .dataframe tbody tr th {\n",
       "        vertical-align: top;\n",
       "    }\n",
       "\n",
       "    .dataframe thead th {\n",
       "        text-align: right;\n",
       "    }\n",
       "</style>\n",
       "<table border=\"1\" class=\"dataframe\">\n",
       "  <thead>\n",
       "    <tr style=\"text-align: right;\">\n",
       "      <th></th>\n",
       "      <th>objid</th>\n",
       "      <th>original_image</th>\n",
       "      <th>peak_flux</th>\n",
       "      <th>flux_r</th>\n",
       "      <th>flux_z</th>\n",
       "      <th>x</th>\n",
       "      <th>y</th>\n",
       "      <th>ra</th>\n",
       "      <th>dec</th>\n",
       "      <th>type</th>\n",
       "    </tr>\n",
       "  </thead>\n",
       "  <tbody>\n",
       "    <tr>\n",
       "      <th>0</th>\n",
       "      <td>0</td>\n",
       "      <td>legacysurvey-0267m055-image.fits.fz</td>\n",
       "      <td>4.599823</td>\n",
       "      <td>11.780396</td>\n",
       "      <td>22.910582</td>\n",
       "      <td>967</td>\n",
       "      <td>34</td>\n",
       "      <td>26.797254</td>\n",
       "      <td>-5.628483</td>\n",
       "      <td>EXP</td>\n",
       "    </tr>\n",
       "    <tr>\n",
       "      <th>1</th>\n",
       "      <td>1</td>\n",
       "      <td>legacysurvey-0267m055-image.fits.fz</td>\n",
       "      <td>0.891017</td>\n",
       "      <td>2.780183</td>\n",
       "      <td>8.695500</td>\n",
       "      <td>962</td>\n",
       "      <td>73</td>\n",
       "      <td>26.797641</td>\n",
       "      <td>-5.625607</td>\n",
       "      <td>REX</td>\n",
       "    </tr>\n",
       "    <tr>\n",
       "      <th>2</th>\n",
       "      <td>2</td>\n",
       "      <td>legacysurvey-0267m055-image.fits.fz</td>\n",
       "      <td>0.676702</td>\n",
       "      <td>1.608683</td>\n",
       "      <td>4.078941</td>\n",
       "      <td>932</td>\n",
       "      <td>117</td>\n",
       "      <td>26.799828</td>\n",
       "      <td>-5.622403</td>\n",
       "      <td>REX</td>\n",
       "    </tr>\n",
       "    <tr>\n",
       "      <th>3</th>\n",
       "      <td>3</td>\n",
       "      <td>legacysurvey-0267m055-image.fits.fz</td>\n",
       "      <td>0.042543</td>\n",
       "      <td>0.319040</td>\n",
       "      <td>2.364341</td>\n",
       "      <td>978</td>\n",
       "      <td>57</td>\n",
       "      <td>26.796466</td>\n",
       "      <td>-5.626809</td>\n",
       "      <td>REX</td>\n",
       "    </tr>\n",
       "    <tr>\n",
       "      <th>4</th>\n",
       "      <td>4</td>\n",
       "      <td>legacysurvey-0267m055-image.fits.fz</td>\n",
       "      <td>4.975256</td>\n",
       "      <td>9.013798</td>\n",
       "      <td>13.551513</td>\n",
       "      <td>1058</td>\n",
       "      <td>0</td>\n",
       "      <td>26.790606</td>\n",
       "      <td>-5.630930</td>\n",
       "      <td>EXP</td>\n",
       "    </tr>\n",
       "    <tr>\n",
       "      <th>...</th>\n",
       "      <td>...</td>\n",
       "      <td>...</td>\n",
       "      <td>...</td>\n",
       "      <td>...</td>\n",
       "      <td>...</td>\n",
       "      <td>...</td>\n",
       "      <td>...</td>\n",
       "      <td>...</td>\n",
       "      <td>...</td>\n",
       "      <td>...</td>\n",
       "    </tr>\n",
       "    <tr>\n",
       "      <th>7759</th>\n",
       "      <td>7759</td>\n",
       "      <td>legacysurvey-0267m097-image.fits.fz</td>\n",
       "      <td>0.927698</td>\n",
       "      <td>2.323367</td>\n",
       "      <td>3.712649</td>\n",
       "      <td>1987</td>\n",
       "      <td>3522</td>\n",
       "      <td>26.732593</td>\n",
       "      <td>-9.624581</td>\n",
       "      <td>REX</td>\n",
       "    </tr>\n",
       "    <tr>\n",
       "      <th>7761</th>\n",
       "      <td>7761</td>\n",
       "      <td>legacysurvey-0267m097-image.fits.fz</td>\n",
       "      <td>0.021620</td>\n",
       "      <td>0.163782</td>\n",
       "      <td>0.357528</td>\n",
       "      <td>601</td>\n",
       "      <td>3517</td>\n",
       "      <td>26.834893</td>\n",
       "      <td>-9.624991</td>\n",
       "      <td>REX</td>\n",
       "    </tr>\n",
       "    <tr>\n",
       "      <th>7763</th>\n",
       "      <td>7763</td>\n",
       "      <td>legacysurvey-0267m097-image.fits.fz</td>\n",
       "      <td>0.097634</td>\n",
       "      <td>0.143542</td>\n",
       "      <td>0.318315</td>\n",
       "      <td>3350</td>\n",
       "      <td>3521</td>\n",
       "      <td>26.632009</td>\n",
       "      <td>-9.624648</td>\n",
       "      <td>REX</td>\n",
       "    </tr>\n",
       "    <tr>\n",
       "      <th>7767</th>\n",
       "      <td>7767</td>\n",
       "      <td>legacysurvey-0267m097-image.fits.fz</td>\n",
       "      <td>0.234619</td>\n",
       "      <td>0.391112</td>\n",
       "      <td>0.414931</td>\n",
       "      <td>902</td>\n",
       "      <td>3533</td>\n",
       "      <td>26.812658</td>\n",
       "      <td>-9.623805</td>\n",
       "      <td>EXP</td>\n",
       "    </tr>\n",
       "    <tr>\n",
       "      <th>7769</th>\n",
       "      <td>7769</td>\n",
       "      <td>legacysurvey-0267m097-image.fits.fz</td>\n",
       "      <td>0.039774</td>\n",
       "      <td>0.293591</td>\n",
       "      <td>1.182975</td>\n",
       "      <td>2967</td>\n",
       "      <td>3535</td>\n",
       "      <td>26.660279</td>\n",
       "      <td>-9.623669</td>\n",
       "      <td>REX</td>\n",
       "    </tr>\n",
       "  </tbody>\n",
       "</table>\n",
       "<p>41414 rows × 10 columns</p>\n",
       "</div>"
      ],
      "text/plain": [
       "      objid                       original_image  peak_flux     flux_r  \\\n",
       "0         0  legacysurvey-0267m055-image.fits.fz   4.599823  11.780396   \n",
       "1         1  legacysurvey-0267m055-image.fits.fz   0.891017   2.780183   \n",
       "2         2  legacysurvey-0267m055-image.fits.fz   0.676702   1.608683   \n",
       "3         3  legacysurvey-0267m055-image.fits.fz   0.042543   0.319040   \n",
       "4         4  legacysurvey-0267m055-image.fits.fz   4.975256   9.013798   \n",
       "...     ...                                  ...        ...        ...   \n",
       "7759   7759  legacysurvey-0267m097-image.fits.fz   0.927698   2.323367   \n",
       "7761   7761  legacysurvey-0267m097-image.fits.fz   0.021620   0.163782   \n",
       "7763   7763  legacysurvey-0267m097-image.fits.fz   0.097634   0.143542   \n",
       "7767   7767  legacysurvey-0267m097-image.fits.fz   0.234619   0.391112   \n",
       "7769   7769  legacysurvey-0267m097-image.fits.fz   0.039774   0.293591   \n",
       "\n",
       "         flux_z     x     y         ra       dec  type  \n",
       "0     22.910582   967    34  26.797254 -5.628483  EXP   \n",
       "1      8.695500   962    73  26.797641 -5.625607  REX   \n",
       "2      4.078941   932   117  26.799828 -5.622403  REX   \n",
       "3      2.364341   978    57  26.796466 -5.626809  REX   \n",
       "4     13.551513  1058     0  26.790606 -5.630930  EXP   \n",
       "...         ...   ...   ...        ...       ...   ...  \n",
       "7759   3.712649  1987  3522  26.732593 -9.624581  REX   \n",
       "7761   0.357528   601  3517  26.834893 -9.624991  REX   \n",
       "7763   0.318315  3350  3521  26.632009 -9.624648  REX   \n",
       "7767   0.414931   902  3533  26.812658 -9.623805  EXP   \n",
       "7769   1.182975  2967  3535  26.660279 -9.623669  REX   \n",
       "\n",
       "[41414 rows x 10 columns]"
      ]
     },
     "execution_count": 12,
     "metadata": {},
     "output_type": "execute_result"
    }
   ],
   "source": [
    "pdList = [pd1, pd2, pd3,pd4,pd5,pd6,pd7,pd8,pd9]  # List of your dataframes\n",
    "large_catalogue = pd.concat(pdList)\n",
    "large_catalogue"
   ]
  },
  {
   "cell_type": "code",
   "execution_count": 13,
   "metadata": {},
   "outputs": [],
   "source": [
    "large_catalogue.reset_index(inplace=True)"
   ]
  },
  {
   "cell_type": "code",
   "execution_count": 14,
   "metadata": {},
   "outputs": [],
   "source": [
    "large_catalogue['objid'] = large_catalogue.index"
   ]
  },
  {
   "cell_type": "code",
   "execution_count": 15,
   "metadata": {},
   "outputs": [],
   "source": [
    "large_catalogue.to_csv('/home/verlon/Desktop/Astronomaly/Data/Input/0267 Brick/Catalogue/large_catalogue.csv')"
   ]
  },
  {
   "cell_type": "code",
   "execution_count": 16,
   "metadata": {},
   "outputs": [
    {
     "data": {
      "text/html": [
       "<div>\n",
       "<style scoped>\n",
       "    .dataframe tbody tr th:only-of-type {\n",
       "        vertical-align: middle;\n",
       "    }\n",
       "\n",
       "    .dataframe tbody tr th {\n",
       "        vertical-align: top;\n",
       "    }\n",
       "\n",
       "    .dataframe thead th {\n",
       "        text-align: right;\n",
       "    }\n",
       "</style>\n",
       "<table border=\"1\" class=\"dataframe\">\n",
       "  <thead>\n",
       "    <tr style=\"text-align: right;\">\n",
       "      <th></th>\n",
       "      <th>index</th>\n",
       "      <th>objid</th>\n",
       "      <th>original_image</th>\n",
       "      <th>peak_flux</th>\n",
       "      <th>flux_r</th>\n",
       "      <th>flux_z</th>\n",
       "      <th>x</th>\n",
       "      <th>y</th>\n",
       "      <th>ra</th>\n",
       "      <th>dec</th>\n",
       "      <th>type</th>\n",
       "    </tr>\n",
       "  </thead>\n",
       "  <tbody>\n",
       "    <tr>\n",
       "      <th>0</th>\n",
       "      <td>0</td>\n",
       "      <td>0</td>\n",
       "      <td>legacysurvey-0267m055-image.fits.fz</td>\n",
       "      <td>4.599823</td>\n",
       "      <td>11.780396</td>\n",
       "      <td>22.910582</td>\n",
       "      <td>967</td>\n",
       "      <td>34</td>\n",
       "      <td>26.797254</td>\n",
       "      <td>-5.628483</td>\n",
       "      <td>EXP</td>\n",
       "    </tr>\n",
       "    <tr>\n",
       "      <th>1</th>\n",
       "      <td>1</td>\n",
       "      <td>1</td>\n",
       "      <td>legacysurvey-0267m055-image.fits.fz</td>\n",
       "      <td>0.891017</td>\n",
       "      <td>2.780183</td>\n",
       "      <td>8.695500</td>\n",
       "      <td>962</td>\n",
       "      <td>73</td>\n",
       "      <td>26.797641</td>\n",
       "      <td>-5.625607</td>\n",
       "      <td>REX</td>\n",
       "    </tr>\n",
       "    <tr>\n",
       "      <th>2</th>\n",
       "      <td>2</td>\n",
       "      <td>2</td>\n",
       "      <td>legacysurvey-0267m055-image.fits.fz</td>\n",
       "      <td>0.676702</td>\n",
       "      <td>1.608683</td>\n",
       "      <td>4.078941</td>\n",
       "      <td>932</td>\n",
       "      <td>117</td>\n",
       "      <td>26.799828</td>\n",
       "      <td>-5.622403</td>\n",
       "      <td>REX</td>\n",
       "    </tr>\n",
       "    <tr>\n",
       "      <th>3</th>\n",
       "      <td>3</td>\n",
       "      <td>3</td>\n",
       "      <td>legacysurvey-0267m055-image.fits.fz</td>\n",
       "      <td>0.042543</td>\n",
       "      <td>0.319040</td>\n",
       "      <td>2.364341</td>\n",
       "      <td>978</td>\n",
       "      <td>57</td>\n",
       "      <td>26.796466</td>\n",
       "      <td>-5.626809</td>\n",
       "      <td>REX</td>\n",
       "    </tr>\n",
       "    <tr>\n",
       "      <th>4</th>\n",
       "      <td>4</td>\n",
       "      <td>4</td>\n",
       "      <td>legacysurvey-0267m055-image.fits.fz</td>\n",
       "      <td>4.975256</td>\n",
       "      <td>9.013798</td>\n",
       "      <td>13.551513</td>\n",
       "      <td>1058</td>\n",
       "      <td>0</td>\n",
       "      <td>26.790606</td>\n",
       "      <td>-5.630930</td>\n",
       "      <td>EXP</td>\n",
       "    </tr>\n",
       "    <tr>\n",
       "      <th>...</th>\n",
       "      <td>...</td>\n",
       "      <td>...</td>\n",
       "      <td>...</td>\n",
       "      <td>...</td>\n",
       "      <td>...</td>\n",
       "      <td>...</td>\n",
       "      <td>...</td>\n",
       "      <td>...</td>\n",
       "      <td>...</td>\n",
       "      <td>...</td>\n",
       "      <td>...</td>\n",
       "    </tr>\n",
       "    <tr>\n",
       "      <th>41409</th>\n",
       "      <td>7759</td>\n",
       "      <td>41409</td>\n",
       "      <td>legacysurvey-0267m097-image.fits.fz</td>\n",
       "      <td>0.927698</td>\n",
       "      <td>2.323367</td>\n",
       "      <td>3.712649</td>\n",
       "      <td>1987</td>\n",
       "      <td>3522</td>\n",
       "      <td>26.732593</td>\n",
       "      <td>-9.624581</td>\n",
       "      <td>REX</td>\n",
       "    </tr>\n",
       "    <tr>\n",
       "      <th>41410</th>\n",
       "      <td>7761</td>\n",
       "      <td>41410</td>\n",
       "      <td>legacysurvey-0267m097-image.fits.fz</td>\n",
       "      <td>0.021620</td>\n",
       "      <td>0.163782</td>\n",
       "      <td>0.357528</td>\n",
       "      <td>601</td>\n",
       "      <td>3517</td>\n",
       "      <td>26.834893</td>\n",
       "      <td>-9.624991</td>\n",
       "      <td>REX</td>\n",
       "    </tr>\n",
       "    <tr>\n",
       "      <th>41411</th>\n",
       "      <td>7763</td>\n",
       "      <td>41411</td>\n",
       "      <td>legacysurvey-0267m097-image.fits.fz</td>\n",
       "      <td>0.097634</td>\n",
       "      <td>0.143542</td>\n",
       "      <td>0.318315</td>\n",
       "      <td>3350</td>\n",
       "      <td>3521</td>\n",
       "      <td>26.632009</td>\n",
       "      <td>-9.624648</td>\n",
       "      <td>REX</td>\n",
       "    </tr>\n",
       "    <tr>\n",
       "      <th>41412</th>\n",
       "      <td>7767</td>\n",
       "      <td>41412</td>\n",
       "      <td>legacysurvey-0267m097-image.fits.fz</td>\n",
       "      <td>0.234619</td>\n",
       "      <td>0.391112</td>\n",
       "      <td>0.414931</td>\n",
       "      <td>902</td>\n",
       "      <td>3533</td>\n",
       "      <td>26.812658</td>\n",
       "      <td>-9.623805</td>\n",
       "      <td>EXP</td>\n",
       "    </tr>\n",
       "    <tr>\n",
       "      <th>41413</th>\n",
       "      <td>7769</td>\n",
       "      <td>41413</td>\n",
       "      <td>legacysurvey-0267m097-image.fits.fz</td>\n",
       "      <td>0.039774</td>\n",
       "      <td>0.293591</td>\n",
       "      <td>1.182975</td>\n",
       "      <td>2967</td>\n",
       "      <td>3535</td>\n",
       "      <td>26.660279</td>\n",
       "      <td>-9.623669</td>\n",
       "      <td>REX</td>\n",
       "    </tr>\n",
       "  </tbody>\n",
       "</table>\n",
       "<p>41414 rows × 11 columns</p>\n",
       "</div>"
      ],
      "text/plain": [
       "       index  objid                       original_image  peak_flux  \\\n",
       "0          0      0  legacysurvey-0267m055-image.fits.fz   4.599823   \n",
       "1          1      1  legacysurvey-0267m055-image.fits.fz   0.891017   \n",
       "2          2      2  legacysurvey-0267m055-image.fits.fz   0.676702   \n",
       "3          3      3  legacysurvey-0267m055-image.fits.fz   0.042543   \n",
       "4          4      4  legacysurvey-0267m055-image.fits.fz   4.975256   \n",
       "...      ...    ...                                  ...        ...   \n",
       "41409   7759  41409  legacysurvey-0267m097-image.fits.fz   0.927698   \n",
       "41410   7761  41410  legacysurvey-0267m097-image.fits.fz   0.021620   \n",
       "41411   7763  41411  legacysurvey-0267m097-image.fits.fz   0.097634   \n",
       "41412   7767  41412  legacysurvey-0267m097-image.fits.fz   0.234619   \n",
       "41413   7769  41413  legacysurvey-0267m097-image.fits.fz   0.039774   \n",
       "\n",
       "          flux_r     flux_z     x     y         ra       dec  type  \n",
       "0      11.780396  22.910582   967    34  26.797254 -5.628483  EXP   \n",
       "1       2.780183   8.695500   962    73  26.797641 -5.625607  REX   \n",
       "2       1.608683   4.078941   932   117  26.799828 -5.622403  REX   \n",
       "3       0.319040   2.364341   978    57  26.796466 -5.626809  REX   \n",
       "4       9.013798  13.551513  1058     0  26.790606 -5.630930  EXP   \n",
       "...          ...        ...   ...   ...        ...       ...   ...  \n",
       "41409   2.323367   3.712649  1987  3522  26.732593 -9.624581  REX   \n",
       "41410   0.163782   0.357528   601  3517  26.834893 -9.624991  REX   \n",
       "41411   0.143542   0.318315  3350  3521  26.632009 -9.624648  REX   \n",
       "41412   0.391112   0.414931   902  3533  26.812658 -9.623805  EXP   \n",
       "41413   0.293591   1.182975  2967  3535  26.660279 -9.623669  REX   \n",
       "\n",
       "[41414 rows x 11 columns]"
      ]
     },
     "execution_count": 16,
     "metadata": {},
     "output_type": "execute_result"
    }
   ],
   "source": [
    "large_catalogue #Flux_g replaced by peak_flux (name only)"
   ]
  },
  {
   "cell_type": "markdown",
   "metadata": {},
   "source": [
    "_____________"
   ]
  },
  {
   "cell_type": "markdown",
   "metadata": {},
   "source": [
    "# Run it through Astronomaly"
   ]
  },
  {
   "cell_type": "markdown",
   "metadata": {},
   "source": [
    "#### ID 66"
   ]
  },
  {
   "cell_type": "code",
   "execution_count": 17,
   "metadata": {},
   "outputs": [],
   "source": [
    "catalogue_file = '/home/verlon/Desktop/Astronomaly/Data/Input/Coadd_0260/0260m062/Catalogue/tractor-0260m062.fits'\n",
    "\n",
    "image_file_g = '/home/verlon/Desktop/Astronomaly/Data/Input/Coadd_0260/0260m062/Images/g-legacysurvey-0260m062-image.fits.fz'\n",
    "image_file_r = '/home/verlon/Desktop/Astronomaly/Data/Input/Coadd_0260/0260m062/Images/r-legacysurvey-0260m062-image.fits.fz'\n",
    "image_file_z = '/home/verlon/Desktop/Astronomaly/Data/Input/Coadd_0260/0260m062/Images/z-legacysurvey-0260m062-image.fits.fz'\n",
    "\n",
    "image_name = 'legacysurvey-0260m062-image.fits.fz'\n",
    "\n",
    "df = convert_tractor_catalogue(catalogue_file, image_file_z, image_name='')"
   ]
  },
  {
   "cell_type": "markdown",
   "metadata": {},
   "source": [
    "### Basic settings for DECaLS data"
   ]
  },
  {
   "cell_type": "code",
   "execution_count": 18,
   "metadata": {},
   "outputs": [],
   "source": [
    "def apply_transform(cutout, transform_function):\n",
    "    \"\"\"\n",
    "    Applies the transform function(s) given at initialisation to the image.\n",
    "\n",
    "    Parameters\n",
    "    ----------\n",
    "    cutout : np.ndarray\n",
    "        Cutout of image\n",
    "\n",
    "    Returns\n",
    "    -------\n",
    "    np.ndarray\n",
    "        Transformed cutout\n",
    "    \"\"\"\n",
    "    if transform_function is not None:\n",
    "        try:\n",
    "            len(transform_function)\n",
    "            new_cutout = cutout\n",
    "            for f in transform_function:\n",
    "                new_cutout = f(new_cutout)\n",
    "            cutout = new_cutout\n",
    "        except TypeError:  # Simple way to test if there's only one function\n",
    "            cutout = transform_function(cutout)\n",
    "    return cutout"
   ]
  },
  {
   "cell_type": "code",
   "execution_count": 19,
   "metadata": {},
   "outputs": [],
   "source": [
    "which_data = 'decals'\n",
    "\n",
    "coadd_id = '026'\n",
    "\n",
    "feature_method = 'ellipse'\n",
    "\n",
    "dim_reduction = ''\n",
    "\n",
    "band_prefixes = ['z-', 'r-', 'g-']\n",
    "\n",
    "band_rgb = {'r': 'z-', 'g': 'r-', 'b': 'g-'}\n",
    "\n",
    "image_transform_function = [image_preprocessing.image_transform_sigma_clipping,\n",
    "                            # image_preprocessing.image_transform_inverse_sinh,\n",
    "                            image_preprocessing.image_transform_scale\n",
    "                            ]\n",
    "\n",
    "display_transform_function = [#image_preprocessing.image_transform_inverse_sinh,\n",
    "                              image_preprocessing.image_transform_scale]\n",
    "\n",
    "plot_cmap = 'hot'\n",
    "window_size = 32 # Changed this to match cutout array size\n",
    "list_of_files = []"
   ]
  },
  {
   "cell_type": "markdown",
   "metadata": {},
   "source": [
    "### Reading in catalogue and images"
   ]
  },
  {
   "cell_type": "code",
   "execution_count": 20,
   "metadata": {},
   "outputs": [],
   "source": [
    "data_dir = '/home/verlon/Desktop/Astronomaly/Data/Input/Coadd_0260/0260m062/'\n",
    "#data_dir = '/home/verlon/Desktop/Astronomaly/Data/Input/0267 Brick/'\n",
    "\n",
    "image_dir = os.path.join(data_dir, 'Images')\n",
    "\n",
    "output_dir = os.path.join(\n",
    "    '/home/verlon/Desktop/Astronomaly/Data/Output/Coadd026','')\n",
    "\n",
    "#output_dir = os.path.join(\n",
    "#    '/home/verlon/Desktop/Astronomaly/Data/Output/0267 Brick', '')\n",
    "\n",
    "#catalogue = '/home/verlon/Desktop/Astronomaly/Data/Input/Coadd_0260/0260m062/test_catalogue_0260m062_500.csv'\n",
    "#cat = pd.read_csv(catalogue)\n",
    "catalogue = df"
   ]
  },
  {
   "cell_type": "markdown",
   "metadata": {},
   "source": [
    "### Running Astronomaly"
   ]
  },
  {
   "cell_type": "code",
   "execution_count": 21,
   "metadata": {},
   "outputs": [
    {
     "name": "stdout",
     "output_type": "stream",
     "text": [
      "Reading image data from /home/verlon/Desktop/Astronomaly/Data/Input/Coadd_0260/0260m062/Images/z-legacysurvey-0260m062-image.fits.fz...\n"
     ]
    },
    {
     "name": "stderr",
     "output_type": "stream",
     "text": [
      "WARNING: FITSFixedWarning: 'datfix' made the change 'Set DATE-REF to '1858-11-17' from MJD-REF'. [astropy.wcs.wcs]\n",
      "2020-10-07 13:21:10,418 - WARNING - FITSFixedWarning: 'datfix' made the change 'Set DATE-REF to '1858-11-17' from MJD-REF'.\n"
     ]
    },
    {
     "name": "stdout",
     "output_type": "stream",
     "text": [
      "Done!\n",
      "A catalogue of  5133 sources has been provided.\n"
     ]
    }
   ],
   "source": [
    "image_dataset = image_reader.ImageDataset(directory=image_dir,\n",
    "                                          list_of_files=list_of_files,\n",
    "                                          window_size=window_size, \n",
    "                                          output_dir=output_dir, \n",
    "                                          plot_square=False,\n",
    "                                          transform_function=image_transform_function,\n",
    "                                          display_transform_function=display_transform_function,\n",
    "                                          plot_cmap=plot_cmap,\n",
    "                                          catalogue=catalogue,\n",
    "                                          band_prefixes=band_prefixes,\n",
    "                                          bands_rgb=band_rgb)"
   ]
  },
  {
   "cell_type": "code",
   "execution_count": 22,
   "metadata": {},
   "outputs": [
    {
     "data": {
      "text/html": [
       "<div>\n",
       "<style scoped>\n",
       "    .dataframe tbody tr th:only-of-type {\n",
       "        vertical-align: middle;\n",
       "    }\n",
       "\n",
       "    .dataframe tbody tr th {\n",
       "        vertical-align: top;\n",
       "    }\n",
       "\n",
       "    .dataframe thead th {\n",
       "        text-align: right;\n",
       "    }\n",
       "</style>\n",
       "<table border=\"1\" class=\"dataframe\">\n",
       "  <thead>\n",
       "    <tr style=\"text-align: right;\">\n",
       "      <th></th>\n",
       "      <th>original_image</th>\n",
       "      <th>x</th>\n",
       "      <th>y</th>\n",
       "      <th>ra</th>\n",
       "      <th>dec</th>\n",
       "      <th>peak_flux</th>\n",
       "    </tr>\n",
       "  </thead>\n",
       "  <tbody>\n",
       "    <tr>\n",
       "      <th>0</th>\n",
       "      <td>legacysurvey-0260m062-image.fits.fz</td>\n",
       "      <td>2811</td>\n",
       "      <td>126</td>\n",
       "      <td>25.945412</td>\n",
       "      <td>-6.371716</td>\n",
       "      <td>14.647056</td>\n",
       "    </tr>\n",
       "    <tr>\n",
       "      <th>1</th>\n",
       "      <td>legacysurvey-0260m062-image.fits.fz</td>\n",
       "      <td>2790</td>\n",
       "      <td>13</td>\n",
       "      <td>25.946999</td>\n",
       "      <td>-6.379954</td>\n",
       "      <td>0.300906</td>\n",
       "    </tr>\n",
       "    <tr>\n",
       "      <th>3</th>\n",
       "      <td>legacysurvey-0260m062-image.fits.fz</td>\n",
       "      <td>2780</td>\n",
       "      <td>111</td>\n",
       "      <td>25.947719</td>\n",
       "      <td>-6.372837</td>\n",
       "      <td>0.167745</td>\n",
       "    </tr>\n",
       "    <tr>\n",
       "      <th>4</th>\n",
       "      <td>legacysurvey-0260m062-image.fits.fz</td>\n",
       "      <td>2815</td>\n",
       "      <td>48</td>\n",
       "      <td>25.945132</td>\n",
       "      <td>-6.377418</td>\n",
       "      <td>0.733369</td>\n",
       "    </tr>\n",
       "    <tr>\n",
       "      <th>5</th>\n",
       "      <td>legacysurvey-0260m062-image.fits.fz</td>\n",
       "      <td>2818</td>\n",
       "      <td>19</td>\n",
       "      <td>25.944953</td>\n",
       "      <td>-6.379543</td>\n",
       "      <td>0.507454</td>\n",
       "    </tr>\n",
       "    <tr>\n",
       "      <th>...</th>\n",
       "      <td>...</td>\n",
       "      <td>...</td>\n",
       "      <td>...</td>\n",
       "      <td>...</td>\n",
       "      <td>...</td>\n",
       "      <td>...</td>\n",
       "    </tr>\n",
       "    <tr>\n",
       "      <th>8552</th>\n",
       "      <td>legacysurvey-0260m062-image.fits.fz</td>\n",
       "      <td>884</td>\n",
       "      <td>3528</td>\n",
       "      <td>26.086547</td>\n",
       "      <td>-6.124149</td>\n",
       "      <td>0.342398</td>\n",
       "    </tr>\n",
       "    <tr>\n",
       "      <th>8554</th>\n",
       "      <td>legacysurvey-0260m062-image.fits.fz</td>\n",
       "      <td>1233</td>\n",
       "      <td>3527</td>\n",
       "      <td>26.060966</td>\n",
       "      <td>-6.124226</td>\n",
       "      <td>-0.060995</td>\n",
       "    </tr>\n",
       "    <tr>\n",
       "      <th>8555</th>\n",
       "      <td>legacysurvey-0260m062-image.fits.fz</td>\n",
       "      <td>1221</td>\n",
       "      <td>3540</td>\n",
       "      <td>26.061850</td>\n",
       "      <td>-6.123305</td>\n",
       "      <td>0.158827</td>\n",
       "    </tr>\n",
       "    <tr>\n",
       "      <th>8557</th>\n",
       "      <td>legacysurvey-0260m062-image.fits.fz</td>\n",
       "      <td>1413</td>\n",
       "      <td>3527</td>\n",
       "      <td>26.047838</td>\n",
       "      <td>-6.124206</td>\n",
       "      <td>0.102805</td>\n",
       "    </tr>\n",
       "    <tr>\n",
       "      <th>8559</th>\n",
       "      <td>legacysurvey-0260m062-image.fits.fz</td>\n",
       "      <td>337</td>\n",
       "      <td>369</td>\n",
       "      <td>26.126580</td>\n",
       "      <td>-6.354087</td>\n",
       "      <td>0.000000</td>\n",
       "    </tr>\n",
       "  </tbody>\n",
       "</table>\n",
       "<p>5133 rows × 6 columns</p>\n",
       "</div>"
      ],
      "text/plain": [
       "                           original_image     x     y         ra       dec  \\\n",
       "0     legacysurvey-0260m062-image.fits.fz  2811   126  25.945412 -6.371716   \n",
       "1     legacysurvey-0260m062-image.fits.fz  2790    13  25.946999 -6.379954   \n",
       "3     legacysurvey-0260m062-image.fits.fz  2780   111  25.947719 -6.372837   \n",
       "4     legacysurvey-0260m062-image.fits.fz  2815    48  25.945132 -6.377418   \n",
       "5     legacysurvey-0260m062-image.fits.fz  2818    19  25.944953 -6.379543   \n",
       "...                                   ...   ...   ...        ...       ...   \n",
       "8552  legacysurvey-0260m062-image.fits.fz   884  3528  26.086547 -6.124149   \n",
       "8554  legacysurvey-0260m062-image.fits.fz  1233  3527  26.060966 -6.124226   \n",
       "8555  legacysurvey-0260m062-image.fits.fz  1221  3540  26.061850 -6.123305   \n",
       "8557  legacysurvey-0260m062-image.fits.fz  1413  3527  26.047838 -6.124206   \n",
       "8559  legacysurvey-0260m062-image.fits.fz   337   369  26.126580 -6.354087   \n",
       "\n",
       "      peak_flux  \n",
       "0     14.647056  \n",
       "1      0.300906  \n",
       "3      0.167745  \n",
       "4      0.733369  \n",
       "5      0.507454  \n",
       "...         ...  \n",
       "8552   0.342398  \n",
       "8554  -0.060995  \n",
       "8555   0.158827  \n",
       "8557   0.102805  \n",
       "8559   0.000000  \n",
       "\n",
       "[5133 rows x 6 columns]"
      ]
     },
     "execution_count": 22,
     "metadata": {},
     "output_type": "execute_result"
    }
   ],
   "source": [
    "image_dataset.metadata"
   ]
  },
  {
   "cell_type": "markdown",
   "metadata": {},
   "source": [
    "### Get_image_data"
   ]
  },
  {
   "cell_type": "code",
   "execution_count": 23,
   "metadata": {},
   "outputs": [],
   "source": [
    "def get_image_data(idx, original_image):\n",
    "    \n",
    "    images = []\n",
    "    \n",
    "    x0 = image_dataset.metadata.loc[idx, 'x']\n",
    "    y0 = image_dataset.metadata.loc[idx, 'y']\n",
    "    \n",
    "    original_image = image_dataset.metadata.loc[idx, 'original_image']\n",
    "    \n",
    "    this_image = image_dataset.images[original_image]\n",
    "    \n",
    "    x_wid = image_dataset.window_size_x // 2\n",
    "    y_wid = image_dataset.window_size_y // 2\n",
    "    \n",
    "    y_start = y0 - y_wid\n",
    "    y_end = y0 + y_wid\n",
    "    x_start = x0 - x_wid\n",
    "    x_end = x0 + x_wid\n",
    "    \n",
    "    rs = y_start\n",
    "    re = y_end\n",
    "    cs = x_start\n",
    "    ce = x_end\n",
    "    this_image.fits_index\n",
    "\n",
    "    for hdul in this_image.hdul_list:\n",
    "        dat = hdul[this_image.fits_index].data\n",
    "\n",
    "        image = dat[rs:re , cs:ce]\n",
    "        images.append(image)\n",
    "        image = images[0]\n",
    "    \n",
    "        invalid_y = y_start < 0 or y_end > this_image.metadata['NAXIS1']\n",
    "        invalid_x = x_start < 0 or x_end > this_image.metadata['NAXIS2']\n",
    "        \n",
    "        if invalid_y or invalid_x:\n",
    "            cutout = np.ones((image_dataset.window_size_y, image_dataset.window_size_x)) * np.nan\n",
    "        else:\n",
    "            cutout = apply_transform(image, image_dataset.transform_function)\n",
    "        if image_dataset.metadata.loc[idx, 'peak_flux'] == -1:\n",
    "            if np.any(np.isnan(cutout)):\n",
    "                flx = -1\n",
    "            else:\n",
    "                flx = np.max(cutout)\n",
    "            image_dataset.metadata.loc[idx, 'peak_flux'] = flx\n",
    "    \n",
    "    return (cutout)"
   ]
  },
  {
   "cell_type": "code",
   "execution_count": 24,
   "metadata": {},
   "outputs": [
    {
     "data": {
      "text/plain": [
       "array([[0., 0., 0., ..., 0., 0., 0.],\n",
       "       [0., 0., 0., ..., 0., 0., 0.],\n",
       "       [0., 0., 0., ..., 0., 0., 0.],\n",
       "       ...,\n",
       "       [0., 0., 0., ..., 0., 0., 0.],\n",
       "       [0., 0., 0., ..., 0., 0., 0.],\n",
       "       [0., 0., 0., ..., 0., 0., 0.]], dtype=float32)"
      ]
     },
     "execution_count": 24,
     "metadata": {},
     "output_type": "execute_result"
    }
   ],
   "source": [
    "get_image_data('66','original_image')"
   ]
  },
  {
   "cell_type": "code",
   "execution_count": 25,
   "metadata": {},
   "outputs": [
    {
     "data": {
      "text/plain": [
       "<matplotlib.image.AxesImage at 0x7fc1afd2c400>"
      ]
     },
     "execution_count": 25,
     "metadata": {},
     "output_type": "execute_result"
    },
    {
     "data": {
      "image/png": "[encoded data removed]",
      "text/plain": [
       "<Figure size 432x288 with 1 Axes>"
      ]
     },
     "metadata": {
      "needs_background": "light"
     },
     "output_type": "display_data"
    }
   ],
   "source": [
    "plt.imshow(get_image_data('66','original_image'))"
   ]
  },
  {
   "cell_type": "code",
   "execution_count": 26,
   "metadata": {},
   "outputs": [
    {
     "data": {
      "text/plain": [
       "(32, 32)"
      ]
     },
     "execution_count": 26,
     "metadata": {},
     "output_type": "execute_result"
    }
   ],
   "source": [
    "np.shape(get_image_data('66','original_image'))"
   ]
  },
  {
   "cell_type": "code",
   "execution_count": 27,
   "metadata": {},
   "outputs": [],
   "source": [
    "imgs = []\n",
    "\n",
    "for i in image_dataset.index[:20]:\n",
    "    if np.isnan(get_image_data(i,'original_image')).any():\n",
    "        pass\n",
    "    else:\n",
    "        imgs.append(get_image_data(i,'original_image'))"
   ]
  },
  {
   "cell_type": "code",
   "execution_count": 28,
   "metadata": {
    "scrolled": false
   },
   "outputs": [
    {
     "data": {
      "image/png": "[encoded data removed]",
      "text/plain": [
       "<Figure size 720x720 with 1 Axes>"
      ]
     },
     "metadata": {
      "needs_background": "light"
     },
     "output_type": "display_data"
    },
    {
     "data": {
      "image/png": "[encoded data removed]",
      "text/plain": [
       "<Figure size 720x720 with 1 Axes>"
      ]
     },
     "metadata": {
      "needs_background": "light"
     },
     "output_type": "display_data"
    },
    {
     "data": {
      "image/png": "[encoded data removed]",
      "text/plain": [
       "<Figure size 720x720 with 1 Axes>"
      ]
     },
     "metadata": {
      "needs_background": "light"
     },
     "output_type": "display_data"
    },
    {
     "data": {
      "image/png": "[encoded data removed]",
      "text/plain": [
       "<Figure size 720x720 with 1 Axes>"
      ]
     },
     "metadata": {
      "needs_background": "light"
     },
     "output_type": "display_data"
    },
    {
     "data": {
      "image/png": "[encoded data removed]",
      "text/plain": [
       "<Figure size 720x720 with 1 Axes>"
      ]
     },
     "metadata": {
      "needs_background": "light"
     },
     "output_type": "display_data"
    },
    {
     "data": {
      "image/png": "[encoded data removed]",
      "text/plain": [
       "<Figure size 720x720 with 1 Axes>"
      ]
     },
     "metadata": {
      "needs_background": "light"
     },
     "output_type": "display_data"
    },
    {
     "data": {
      "image/png": "[encoded data removed]",
      "text/plain": [
       "<Figure size 720x720 with 1 Axes>"
      ]
     },
     "metadata": {
      "needs_background": "light"
     },
     "output_type": "display_data"
    },
    {
     "data": {
      "image/png": "[encoded data removed]",
      "text/plain": [
       "<Figure size 720x720 with 1 Axes>"
      ]
     },
     "metadata": {
      "needs_background": "light"
     },
     "output_type": "display_data"
    },
    {
     "data": {
      "image/png": "[encoded data removed]",
      "text/plain": [
       "<Figure size 720x720 with 1 Axes>"
      ]
     },
     "metadata": {
      "needs_background": "light"
     },
     "output_type": "display_data"
    },
    {
     "data": {
      "image/png": "[encoded data removed]",
      "text/plain": [
       "<Figure size 720x720 with 1 Axes>"
      ]
     },
     "metadata": {
      "needs_background": "light"
     },
     "output_type": "display_data"
    },
    {
     "data": {
      "image/png": "[encoded data removed]",
      "text/plain": [
       "<Figure size 720x720 with 1 Axes>"
      ]
     },
     "metadata": {
      "needs_background": "light"
     },
     "output_type": "display_data"
    },
    {
     "data": {
      "image/png": "[encoded data removed]",
      "text/plain": [
       "<Figure size 720x720 with 1 Axes>"
      ]
     },
     "metadata": {
      "needs_background": "light"
     },
     "output_type": "display_data"
    },
    {
     "data": {
      "image/png": "[encoded data removed]",
      "text/plain": [
       "<Figure size 720x720 with 1 Axes>"
      ]
     },
     "metadata": {
      "needs_background": "light"
     },
     "output_type": "display_data"
    },
    {
     "data": {
      "image/png": "[encoded data removed]",
      "text/plain": [
       "<Figure size 720x720 with 1 Axes>"
      ]
     },
     "metadata": {
      "needs_background": "light"
     },
     "output_type": "display_data"
    },
    {
     "data": {
      "image/png": "[encoded data removed]",
      "text/plain": [
       "<Figure size 720x720 with 1 Axes>"
      ]
     },
     "metadata": {
      "needs_background": "light"
     },
     "output_type": "display_data"
    },
    {
     "data": {
      "image/png": "[encoded data removed]",
      "text/plain": [
       "<Figure size 720x720 with 1 Axes>"
      ]
     },
     "metadata": {
      "needs_background": "light"
     },
     "output_type": "display_data"
    },
    {
     "data": {
      "image/png": "[encoded data removed]",
      "text/plain": [
       "<Figure size 720x720 with 1 Axes>"
      ]
     },
     "metadata": {
      "needs_background": "light"
     },
     "output_type": "display_data"
    },
    {
     "data": {
      "image/png": "[encoded data removed]",
      "text/plain": [
       "<Figure size 720x720 with 1 Axes>"
      ]
     },
     "metadata": {
      "needs_background": "light"
     },
     "output_type": "display_data"
    }
   ],
   "source": [
    "for i in range(len(imgs)):\n",
    "    plt.figure(figsize = (10,10))\n",
    "    plt.imshow(imgs[i])\n",
    "    plt.show(block=True)"
   ]
  },
  {
   "cell_type": "code",
   "execution_count": null,
   "metadata": {},
   "outputs": [],
   "source": []
  },
  {
   "cell_type": "code",
   "execution_count": null,
   "metadata": {},
   "outputs": [],
   "source": []
  }
 ],
 "metadata": {
  "kernelspec": {
   "display_name": "Python 3.7.5 64-bit",
   "language": "python",
   "name": "python37564bit90ce9393941248d8885c8ffd563274d3"
  },
  "language_info": {
   "codemirror_mode": {
    "name": "ipython",
    "version": 3
   },
   "file_extension": ".py",
   "mimetype": "text/x-python",
   "name": "python",
   "nbconvert_exporter": "python",
   "pygments_lexer": "ipython3",
   "version": "3.8.2"
  }
 },
 "nbformat": 4,
 "nbformat_minor": 4
}
