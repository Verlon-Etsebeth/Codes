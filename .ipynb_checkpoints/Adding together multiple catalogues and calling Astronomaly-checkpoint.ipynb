{
 "cells": [
  {
   "cell_type": "code",
   "execution_count": 25,
   "metadata": {},
   "outputs": [],
   "source": [
    "import astropy\n",
    "import os\n",
    "import xlsxwriter\n",
    "import cv2\n",
    "import tracemalloc\n",
    "import io\n",
    "import matplotlib as mpl\n",
    "import pandas as pd\n",
    "import numpy as np\n",
    "import matplotlib.pyplot as plt\n",
    "\n",
    "#from matplotlib.backends.backend_agg import FigureCanvasAgg as FigureCanvas  # noqa: E402, E501\n",
    "from astropy import io\n",
    "from astropy.io import fits\n",
    "from astropy import table\n",
    "from astropy import wcs\n",
    "from astropy.wcs import WCS\n",
    "from skimage.transform import resize\n",
    "from astronomaly.base.base_dataset import Dataset\n",
    "from astronomaly.base import logging_tools\n",
    "from astronomaly.data_management.image_reader import ImageDataset\n",
    "from astronomaly.data_management import image_reader\n",
    "from astronomaly.preprocessing import image_preprocessing\n",
    "from astronomaly.feature_extraction import power_spectrum, autoencoder\n",
    "from astronomaly.feature_extraction import shape_features\n",
    "from astronomaly.dimensionality_reduction import pca\n",
    "from astronomaly.postprocessing import scaling\n",
    "from astronomaly.anomaly_detection import isolation_forest, human_loop_learning\n",
    "from astronomaly.visualisation import tsne\n",
    "from astronomaly.utils import utils\n",
    "\n",
    "#mpl.use('Agg')"
   ]
  },
  {
   "cell_type": "markdown",
   "metadata": {},
   "source": [
    "_________"
   ]
  },
  {
   "cell_type": "markdown",
   "metadata": {},
   "source": [
    "## Convert tractor catalogue"
   ]
  },
  {
   "cell_type": "code",
   "execution_count": 26,
   "metadata": {},
   "outputs": [],
   "source": [
    "def convert_tractor_catalogue(catalogue_file, image_file, image_name=''):\n",
    "    \"\"\"\n",
    "    Converts a tractor fits file to a pandas dataframe to be given\n",
    "    directly to an ImageDataset object.\n",
    "\n",
    "    Parameters\n",
    "    ----------\n",
    "    catalogue_files : string\n",
    "        tractor catalogue in fits table format \n",
    "    image_file:\n",
    "        The image corresponding to this catalogue (to extract pixel information\n",
    "        and naming information)\n",
    "    \"\"\"\n",
    "\n",
    "    catalogue = astropy.table.Table(astropy.io.fits.getdata(catalogue_file,ignore_missing_end=True))\n",
    "\n",
    "    dataframe = {}\n",
    "    for name in catalogue.colnames:\n",
    "        data = catalogue[name].tolist()\n",
    "        dataframe[name] = data\n",
    "    \n",
    "    old_catalogue = pd.DataFrame(dataframe)\n",
    "    hdul = astropy.io.fits.open(image_file)\n",
    "\n",
    "    if len(image_name) == 0:\n",
    "        original_image_ = image_file.split(os.path.sep)[-1]\n",
    "        original_image = original_image_.replace(original_image_[:2],'')\n",
    "    else:\n",
    "        original_image = image_name\n",
    "    \n",
    "    new_catalogue = pd.DataFrame()\n",
    "    new_catalogue['objid'] = old_catalogue['objid']\n",
    "    new_catalogue['original_image'] = [original_image] * len(new_catalogue)\n",
    "    new_catalogue['flux_g'] = old_catalogue['flux_g']\n",
    "    new_catalogue['flux_r'] = old_catalogue['flux_r']\n",
    "    new_catalogue['flux_z'] = old_catalogue['flux_z']\n",
    "    new_catalogue['x'] = old_catalogue['bx'].astype('int')\n",
    "    new_catalogue['y'] = old_catalogue['by'].astype('int')\n",
    "    new_catalogue['ra'] = old_catalogue['ra']\n",
    "    new_catalogue['dec'] = old_catalogue['dec']\n",
    "    \n",
    "    new_catalogue['type'] = old_catalogue['type']\n",
    "    catalogue_no_PSFs = new_catalogue[new_catalogue.type.astype(\"S\") != b'PSF ']\n",
    "    \n",
    "    return catalogue_no_PSFs"
   ]
  },
  {
   "cell_type": "markdown",
   "metadata": {},
   "source": [
    "__________"
   ]
  },
  {
   "cell_type": "markdown",
   "metadata": {},
   "source": [
    "## Create a catalogue for each tractor file"
   ]
  },
  {
   "cell_type": "code",
   "execution_count": 27,
   "metadata": {},
   "outputs": [],
   "source": [
    "catalogue_file_055 = '/home/verlon/Desktop/Astronomaly/Data/Input/0267 Brick/Catalogue/tractor-0267m055.fits'\n",
    "\n",
    "image_file_g_055 = '/home/verlon/Desktop/Astronomaly/Data/Input/0267 Brick/Images/g-legacysurvey-0267m055-image.fits.fz'\n",
    "image_file_r_055 = '/home/verlon/Desktop/Astronomaly/Data/Input/0267 Brick/Images/r-legacysurvey-0267m055-image.fits.fz'\n",
    "image_file_z_055 = '/home/verlon/Desktop/Astronomaly/Data/Input/0267 Brick/Images/z-legacysurvey-0267m055-image.fits.fz'\n",
    "\n",
    "image_name = 'legacysurvey-0267m055-image.fits.fz'\n",
    "\n",
    "pd1 = convert_tractor_catalogue(catalogue_file_055, image_file_z_055, image_name='')"
   ]
  },
  {
   "cell_type": "code",
   "execution_count": 28,
   "metadata": {},
   "outputs": [],
   "source": [
    "catalogue_file_057 = '/home/verlon/Desktop/Astronomaly/Data/Input/0267 Brick/Catalogue/tractor-0267m057.fits'\n",
    "\n",
    "image_file_g_057 = '/home/verlon/Desktop/Astronomaly/Data/Input/0267 Brick/Images/g-legacysurvey-0267m057-image.fits.fz'\n",
    "image_file_r_057 = '/home/verlon/Desktop/Astronomaly/Data/Input/0267 Brick/Images/r-legacysurvey-0267m057-image.fits.fz'\n",
    "image_file_z_057 = '/home/verlon/Desktop/Astronomaly/Data/Input/0267 Brick/Images/z-legacysurvey-0267m057-image.fits.fz'\n",
    "\n",
    "image_name = 'legacysurvey-0267m057-image.fits.fz'\n",
    "\n",
    "pd2 = convert_tractor_catalogue(catalogue_file_057, image_file_z_057, image_name='')"
   ]
  },
  {
   "cell_type": "code",
   "execution_count": 29,
   "metadata": {},
   "outputs": [],
   "source": [
    "catalogue_file_060 = '/home/verlon/Desktop/Astronomaly/Data/Input/0267 Brick/Catalogue/tractor-0267m060.fits'\n",
    "\n",
    "image_file_g_060 = '/home/verlon/Desktop/Astronomaly/Data/Input/0267 Brick/Images/g-legacysurvey-0267m060-image.fits.fz'\n",
    "image_file_r_060 = '/home/verlon/Desktop/Astronomaly/Data/Input/0267 Brick/Images/r-legacysurvey-0267m060-image.fits.fz'\n",
    "image_file_z_060 = '/home/verlon/Desktop/Astronomaly/Data/Input/0267 Brick/Images/z-legacysurvey-0267m060-image.fits.fz'\n",
    "\n",
    "image_name = 'legacysurvey-0267m060-image.fits.fz'\n",
    "\n",
    "pd3 = convert_tractor_catalogue(catalogue_file_060, image_file_z_060, image_name='')"
   ]
  },
  {
   "cell_type": "code",
   "execution_count": 30,
   "metadata": {},
   "outputs": [],
   "source": [
    "catalogue_file_062 = '/home/verlon/Desktop/Astronomaly/Data/Input/0267 Brick/Catalogue/tractor-0267m062.fits'\n",
    "\n",
    "image_file_g_062 = '/home/verlon/Desktop/Astronomaly/Data/Input/0267 Brick/Images/g-legacysurvey-0267m062-image.fits.fz'\n",
    "image_file_r_062 = '/home/verlon/Desktop/Astronomaly/Data/Input/0267 Brick/Images/r-legacysurvey-0267m062-image.fits.fz'\n",
    "image_file_z_062 = '/home/verlon/Desktop/Astronomaly/Data/Input/0267 Brick/Images/z-legacysurvey-0267m062-image.fits.fz'\n",
    "\n",
    "image_name = 'legacysurvey-0267m062-image.fits.fz'\n",
    "\n",
    "pd4 = convert_tractor_catalogue(catalogue_file_062, image_file_z_062, image_name='')"
   ]
  },
  {
   "cell_type": "code",
   "execution_count": 31,
   "metadata": {},
   "outputs": [],
   "source": [
    "catalogue_file_065 = '/home/verlon/Desktop/Astronomaly/Data/Input/0267 Brick/Catalogue/tractor-0267m065.fits'\n",
    "\n",
    "image_file_g_065 = '/home/verlon/Desktop/Astronomaly/Data/Input/0267 Brick/Images/g-legacysurvey-0267m065-image.fits.fz'\n",
    "image_file_r_065 = '/home/verlon/Desktop/Astronomaly/Data/Input/0267 Brick/Images/r-legacysurvey-0267m065-image.fits.fz'\n",
    "image_file_z_065 = '/home/verlon/Desktop/Astronomaly/Data/Input/0267 Brick/Images/z-legacysurvey-0267m065-image.fits.fz'\n",
    "\n",
    "image_name = 'legacysurvey-0267m065-image.fits.fz'\n",
    "\n",
    "pd5 = convert_tractor_catalogue(catalogue_file_065, image_file_z_065, image_name='')"
   ]
  },
  {
   "cell_type": "code",
   "execution_count": 32,
   "metadata": {},
   "outputs": [],
   "source": [
    "catalogue_file_067 = '/home/verlon/Desktop/Astronomaly/Data/Input/0267 Brick/Catalogue/tractor-0267m067.fits'\n",
    "\n",
    "image_file_g_067 = '/home/verlon/Desktop/Astronomaly/Data/Input/0267 Brick/Images/g-legacysurvey-0267m067-image.fits.fz'\n",
    "image_file_r_067 = '/home/verlon/Desktop/Astronomaly/Data/Input/0267 Brick/Images/r-legacysurvey-0267m067-image.fits.fz'\n",
    "image_file_z_067 = '/home/verlon/Desktop/Astronomaly/Data/Input/0267 Brick/Images/z-legacysurvey-0267m067-image.fits.fz'\n",
    "\n",
    "image_name = 'legacysurvey-0267m067-image.fits.fz'\n",
    "\n",
    "pd6 = convert_tractor_catalogue(catalogue_file_067, image_file_z_067, image_name='')"
   ]
  },
  {
   "cell_type": "code",
   "execution_count": 33,
   "metadata": {},
   "outputs": [],
   "source": [
    "catalogue_file_092 = '/home/verlon/Desktop/Astronomaly/Data/Input/0267 Brick/Catalogue/tractor-0267m092.fits'\n",
    "\n",
    "image_file_g_092 = '/home/verlon/Desktop/Astronomaly/Data/Input/0267 Brick/Images/g-legacysurvey-0267m092-image.fits.fz'\n",
    "image_file_r_092 = '/home/verlon/Desktop/Astronomaly/Data/Input/0267 Brick/Images/r-legacysurvey-0267m092-image.fits.fz'\n",
    "image_file_z_092 = '/home/verlon/Desktop/Astronomaly/Data/Input/0267 Brick/Images/z-legacysurvey-0267m092-image.fits.fz'\n",
    "\n",
    "image_name = 'legacysurvey-0267m092-image.fits.fz'\n",
    "\n",
    "pd7 = convert_tractor_catalogue(catalogue_file_092, image_file_z_092, image_name='')"
   ]
  },
  {
   "cell_type": "code",
   "execution_count": 34,
   "metadata": {},
   "outputs": [],
   "source": [
    "catalogue_file_095 = '/home/verlon/Desktop/Astronomaly/Data/Input/0267 Brick/Catalogue/tractor-0267m095.fits'\n",
    "\n",
    "image_file_g_095 = '/home/verlon/Desktop/Astronomaly/Data/Input/0267 Brick/Images/g-legacysurvey-0267m095-image.fits.fz'\n",
    "image_file_r_095 = '/home/verlon/Desktop/Astronomaly/Data/Input/0267 Brick/Images/r-legacysurvey-0267m095-image.fits.fz'\n",
    "image_file_z_095 = '/home/verlon/Desktop/Astronomaly/Data/Input/0267 Brick/Images/z-legacysurvey-0267m095-image.fits.fz'\n",
    "\n",
    "image_name = 'legacysurvey-0267m095-image.fits.fz'\n",
    "\n",
    "pd8 = convert_tractor_catalogue(catalogue_file_095, image_file_z_095, image_name='')"
   ]
  },
  {
   "cell_type": "code",
   "execution_count": 35,
   "metadata": {},
   "outputs": [],
   "source": [
    "catalogue_file_097 = '/home/verlon/Desktop/Astronomaly/Data/Input/0267 Brick/Catalogue/tractor-0267m097.fits'\n",
    "\n",
    "image_file_g_097 = '/home/verlon/Desktop/Astronomaly/Data/Input/0267 Brick/Images/g-legacysurvey-0267m097-image.fits.fz'\n",
    "image_file_r_097 = '/home/verlon/Desktop/Astronomaly/Data/Input/0267 Brick/Images/r-legacysurvey-0267m097-image.fits.fz'\n",
    "image_file_z_097 = '/home/verlon/Desktop/Astronomaly/Data/Input/0267 Brick/Images/z-legacysurvey-0267m097-image.fits.fz'\n",
    "\n",
    "image_name = 'legacysurvey-0267m097-image.fits.fz'\n",
    "\n",
    "pd9 = convert_tractor_catalogue(catalogue_file_097, image_file_z_097, image_name='')"
   ]
  },
  {
   "cell_type": "markdown",
   "metadata": {},
   "source": [
    "______"
   ]
  },
  {
   "cell_type": "markdown",
   "metadata": {},
   "source": [
    "### Create a single catalogue from the ones above"
   ]
  },
  {
   "cell_type": "code",
   "execution_count": 36,
   "metadata": {},
   "outputs": [
    {
     "data": {
      "text/html": [
       "<div>\n",
       "<style scoped>\n",
       "    .dataframe tbody tr th:only-of-type {\n",
       "        vertical-align: middle;\n",
       "    }\n",
       "\n",
       "    .dataframe tbody tr th {\n",
       "        vertical-align: top;\n",
       "    }\n",
       "\n",
       "    .dataframe thead th {\n",
       "        text-align: right;\n",
       "    }\n",
       "</style>\n",
       "<table border=\"1\" class=\"dataframe\">\n",
       "  <thead>\n",
       "    <tr style=\"text-align: right;\">\n",
       "      <th></th>\n",
       "      <th>objid</th>\n",
       "      <th>original_image</th>\n",
       "      <th>flux_g</th>\n",
       "      <th>flux_r</th>\n",
       "      <th>flux_z</th>\n",
       "      <th>x</th>\n",
       "      <th>y</th>\n",
       "      <th>ra</th>\n",
       "      <th>dec</th>\n",
       "      <th>type</th>\n",
       "    </tr>\n",
       "  </thead>\n",
       "  <tbody>\n",
       "    <tr>\n",
       "      <th>0</th>\n",
       "      <td>0</td>\n",
       "      <td>legacysurvey-0267m055-image.fits.fz</td>\n",
       "      <td>4.599823</td>\n",
       "      <td>11.780396</td>\n",
       "      <td>22.910582</td>\n",
       "      <td>967</td>\n",
       "      <td>34</td>\n",
       "      <td>26.797254</td>\n",
       "      <td>-5.628483</td>\n",
       "      <td>EXP</td>\n",
       "    </tr>\n",
       "    <tr>\n",
       "      <th>1</th>\n",
       "      <td>1</td>\n",
       "      <td>legacysurvey-0267m055-image.fits.fz</td>\n",
       "      <td>0.891017</td>\n",
       "      <td>2.780183</td>\n",
       "      <td>8.695500</td>\n",
       "      <td>962</td>\n",
       "      <td>73</td>\n",
       "      <td>26.797641</td>\n",
       "      <td>-5.625607</td>\n",
       "      <td>REX</td>\n",
       "    </tr>\n",
       "    <tr>\n",
       "      <th>2</th>\n",
       "      <td>2</td>\n",
       "      <td>legacysurvey-0267m055-image.fits.fz</td>\n",
       "      <td>0.676702</td>\n",
       "      <td>1.608683</td>\n",
       "      <td>4.078941</td>\n",
       "      <td>932</td>\n",
       "      <td>117</td>\n",
       "      <td>26.799828</td>\n",
       "      <td>-5.622403</td>\n",
       "      <td>REX</td>\n",
       "    </tr>\n",
       "    <tr>\n",
       "      <th>3</th>\n",
       "      <td>3</td>\n",
       "      <td>legacysurvey-0267m055-image.fits.fz</td>\n",
       "      <td>0.042543</td>\n",
       "      <td>0.319040</td>\n",
       "      <td>2.364341</td>\n",
       "      <td>978</td>\n",
       "      <td>57</td>\n",
       "      <td>26.796466</td>\n",
       "      <td>-5.626809</td>\n",
       "      <td>REX</td>\n",
       "    </tr>\n",
       "    <tr>\n",
       "      <th>4</th>\n",
       "      <td>4</td>\n",
       "      <td>legacysurvey-0267m055-image.fits.fz</td>\n",
       "      <td>4.975256</td>\n",
       "      <td>9.013798</td>\n",
       "      <td>13.551513</td>\n",
       "      <td>1058</td>\n",
       "      <td>0</td>\n",
       "      <td>26.790606</td>\n",
       "      <td>-5.630930</td>\n",
       "      <td>EXP</td>\n",
       "    </tr>\n",
       "    <tr>\n",
       "      <th>...</th>\n",
       "      <td>...</td>\n",
       "      <td>...</td>\n",
       "      <td>...</td>\n",
       "      <td>...</td>\n",
       "      <td>...</td>\n",
       "      <td>...</td>\n",
       "      <td>...</td>\n",
       "      <td>...</td>\n",
       "      <td>...</td>\n",
       "      <td>...</td>\n",
       "    </tr>\n",
       "    <tr>\n",
       "      <th>7759</th>\n",
       "      <td>7759</td>\n",
       "      <td>legacysurvey-0267m097-image.fits.fz</td>\n",
       "      <td>0.927698</td>\n",
       "      <td>2.323367</td>\n",
       "      <td>3.712649</td>\n",
       "      <td>1987</td>\n",
       "      <td>3522</td>\n",
       "      <td>26.732593</td>\n",
       "      <td>-9.624581</td>\n",
       "      <td>REX</td>\n",
       "    </tr>\n",
       "    <tr>\n",
       "      <th>7761</th>\n",
       "      <td>7761</td>\n",
       "      <td>legacysurvey-0267m097-image.fits.fz</td>\n",
       "      <td>0.021620</td>\n",
       "      <td>0.163782</td>\n",
       "      <td>0.357528</td>\n",
       "      <td>601</td>\n",
       "      <td>3517</td>\n",
       "      <td>26.834893</td>\n",
       "      <td>-9.624991</td>\n",
       "      <td>REX</td>\n",
       "    </tr>\n",
       "    <tr>\n",
       "      <th>7763</th>\n",
       "      <td>7763</td>\n",
       "      <td>legacysurvey-0267m097-image.fits.fz</td>\n",
       "      <td>0.097634</td>\n",
       "      <td>0.143542</td>\n",
       "      <td>0.318315</td>\n",
       "      <td>3350</td>\n",
       "      <td>3521</td>\n",
       "      <td>26.632009</td>\n",
       "      <td>-9.624648</td>\n",
       "      <td>REX</td>\n",
       "    </tr>\n",
       "    <tr>\n",
       "      <th>7767</th>\n",
       "      <td>7767</td>\n",
       "      <td>legacysurvey-0267m097-image.fits.fz</td>\n",
       "      <td>0.234619</td>\n",
       "      <td>0.391112</td>\n",
       "      <td>0.414931</td>\n",
       "      <td>902</td>\n",
       "      <td>3533</td>\n",
       "      <td>26.812658</td>\n",
       "      <td>-9.623805</td>\n",
       "      <td>EXP</td>\n",
       "    </tr>\n",
       "    <tr>\n",
       "      <th>7769</th>\n",
       "      <td>7769</td>\n",
       "      <td>legacysurvey-0267m097-image.fits.fz</td>\n",
       "      <td>0.039774</td>\n",
       "      <td>0.293591</td>\n",
       "      <td>1.182975</td>\n",
       "      <td>2967</td>\n",
       "      <td>3535</td>\n",
       "      <td>26.660279</td>\n",
       "      <td>-9.623669</td>\n",
       "      <td>REX</td>\n",
       "    </tr>\n",
       "  </tbody>\n",
       "</table>\n",
       "<p>41414 rows × 10 columns</p>\n",
       "</div>"
      ],
      "text/plain": [
       "      objid                       original_image    flux_g     flux_r  \\\n",
       "0         0  legacysurvey-0267m055-image.fits.fz  4.599823  11.780396   \n",
       "1         1  legacysurvey-0267m055-image.fits.fz  0.891017   2.780183   \n",
       "2         2  legacysurvey-0267m055-image.fits.fz  0.676702   1.608683   \n",
       "3         3  legacysurvey-0267m055-image.fits.fz  0.042543   0.319040   \n",
       "4         4  legacysurvey-0267m055-image.fits.fz  4.975256   9.013798   \n",
       "...     ...                                  ...       ...        ...   \n",
       "7759   7759  legacysurvey-0267m097-image.fits.fz  0.927698   2.323367   \n",
       "7761   7761  legacysurvey-0267m097-image.fits.fz  0.021620   0.163782   \n",
       "7763   7763  legacysurvey-0267m097-image.fits.fz  0.097634   0.143542   \n",
       "7767   7767  legacysurvey-0267m097-image.fits.fz  0.234619   0.391112   \n",
       "7769   7769  legacysurvey-0267m097-image.fits.fz  0.039774   0.293591   \n",
       "\n",
       "         flux_z     x     y         ra       dec  type  \n",
       "0     22.910582   967    34  26.797254 -5.628483  EXP   \n",
       "1      8.695500   962    73  26.797641 -5.625607  REX   \n",
       "2      4.078941   932   117  26.799828 -5.622403  REX   \n",
       "3      2.364341   978    57  26.796466 -5.626809  REX   \n",
       "4     13.551513  1058     0  26.790606 -5.630930  EXP   \n",
       "...         ...   ...   ...        ...       ...   ...  \n",
       "7759   3.712649  1987  3522  26.732593 -9.624581  REX   \n",
       "7761   0.357528   601  3517  26.834893 -9.624991  REX   \n",
       "7763   0.318315  3350  3521  26.632009 -9.624648  REX   \n",
       "7767   0.414931   902  3533  26.812658 -9.623805  EXP   \n",
       "7769   1.182975  2967  3535  26.660279 -9.623669  REX   \n",
       "\n",
       "[41414 rows x 10 columns]"
      ]
     },
     "execution_count": 36,
     "metadata": {},
     "output_type": "execute_result"
    }
   ],
   "source": [
    "pdList = [pd1, pd2, pd3,pd4,pd5,pd6,pd7,pd8,pd9]  # List of your dataframes\n",
    "large_catalogue = pd.concat(pdList)\n",
    "large_catalogue"
   ]
  },
  {
   "cell_type": "code",
   "execution_count": 37,
   "metadata": {},
   "outputs": [],
   "source": [
    "large_catalogue.reset_index(inplace=True)"
   ]
  },
  {
   "cell_type": "code",
   "execution_count": 38,
   "metadata": {},
   "outputs": [],
   "source": [
    "large_catalogue['objid'] = large_catalogue.index"
   ]
  },
  {
   "cell_type": "code",
   "execution_count": 39,
   "metadata": {},
   "outputs": [],
   "source": [
    "large_catalogue.to_csv('/home/verlon/Desktop/Astronomaly/Data/Input/0267 Brick/Catalogue/large_catalogue.csv')"
   ]
  },
  {
   "cell_type": "code",
   "execution_count": 40,
   "metadata": {},
   "outputs": [
    {
     "data": {
      "text/html": [
       "<div>\n",
       "<style scoped>\n",
       "    .dataframe tbody tr th:only-of-type {\n",
       "        vertical-align: middle;\n",
       "    }\n",
       "\n",
       "    .dataframe tbody tr th {\n",
       "        vertical-align: top;\n",
       "    }\n",
       "\n",
       "    .dataframe thead th {\n",
       "        text-align: right;\n",
       "    }\n",
       "</style>\n",
       "<table border=\"1\" class=\"dataframe\">\n",
       "  <thead>\n",
       "    <tr style=\"text-align: right;\">\n",
       "      <th></th>\n",
       "      <th>index</th>\n",
       "      <th>objid</th>\n",
       "      <th>original_image</th>\n",
       "      <th>flux_g</th>\n",
       "      <th>flux_r</th>\n",
       "      <th>flux_z</th>\n",
       "      <th>x</th>\n",
       "      <th>y</th>\n",
       "      <th>ra</th>\n",
       "      <th>dec</th>\n",
       "      <th>type</th>\n",
       "    </tr>\n",
       "  </thead>\n",
       "  <tbody>\n",
       "    <tr>\n",
       "      <th>0</th>\n",
       "      <td>0</td>\n",
       "      <td>0</td>\n",
       "      <td>legacysurvey-0267m055-image.fits.fz</td>\n",
       "      <td>4.599823</td>\n",
       "      <td>11.780396</td>\n",
       "      <td>22.910582</td>\n",
       "      <td>967</td>\n",
       "      <td>34</td>\n",
       "      <td>26.797254</td>\n",
       "      <td>-5.628483</td>\n",
       "      <td>EXP</td>\n",
       "    </tr>\n",
       "    <tr>\n",
       "      <th>1</th>\n",
       "      <td>1</td>\n",
       "      <td>1</td>\n",
       "      <td>legacysurvey-0267m055-image.fits.fz</td>\n",
       "      <td>0.891017</td>\n",
       "      <td>2.780183</td>\n",
       "      <td>8.695500</td>\n",
       "      <td>962</td>\n",
       "      <td>73</td>\n",
       "      <td>26.797641</td>\n",
       "      <td>-5.625607</td>\n",
       "      <td>REX</td>\n",
       "    </tr>\n",
       "    <tr>\n",
       "      <th>2</th>\n",
       "      <td>2</td>\n",
       "      <td>2</td>\n",
       "      <td>legacysurvey-0267m055-image.fits.fz</td>\n",
       "      <td>0.676702</td>\n",
       "      <td>1.608683</td>\n",
       "      <td>4.078941</td>\n",
       "      <td>932</td>\n",
       "      <td>117</td>\n",
       "      <td>26.799828</td>\n",
       "      <td>-5.622403</td>\n",
       "      <td>REX</td>\n",
       "    </tr>\n",
       "    <tr>\n",
       "      <th>3</th>\n",
       "      <td>3</td>\n",
       "      <td>3</td>\n",
       "      <td>legacysurvey-0267m055-image.fits.fz</td>\n",
       "      <td>0.042543</td>\n",
       "      <td>0.319040</td>\n",
       "      <td>2.364341</td>\n",
       "      <td>978</td>\n",
       "      <td>57</td>\n",
       "      <td>26.796466</td>\n",
       "      <td>-5.626809</td>\n",
       "      <td>REX</td>\n",
       "    </tr>\n",
       "    <tr>\n",
       "      <th>4</th>\n",
       "      <td>4</td>\n",
       "      <td>4</td>\n",
       "      <td>legacysurvey-0267m055-image.fits.fz</td>\n",
       "      <td>4.975256</td>\n",
       "      <td>9.013798</td>\n",
       "      <td>13.551513</td>\n",
       "      <td>1058</td>\n",
       "      <td>0</td>\n",
       "      <td>26.790606</td>\n",
       "      <td>-5.630930</td>\n",
       "      <td>EXP</td>\n",
       "    </tr>\n",
       "    <tr>\n",
       "      <th>...</th>\n",
       "      <td>...</td>\n",
       "      <td>...</td>\n",
       "      <td>...</td>\n",
       "      <td>...</td>\n",
       "      <td>...</td>\n",
       "      <td>...</td>\n",
       "      <td>...</td>\n",
       "      <td>...</td>\n",
       "      <td>...</td>\n",
       "      <td>...</td>\n",
       "      <td>...</td>\n",
       "    </tr>\n",
       "    <tr>\n",
       "      <th>41409</th>\n",
       "      <td>7759</td>\n",
       "      <td>41409</td>\n",
       "      <td>legacysurvey-0267m097-image.fits.fz</td>\n",
       "      <td>0.927698</td>\n",
       "      <td>2.323367</td>\n",
       "      <td>3.712649</td>\n",
       "      <td>1987</td>\n",
       "      <td>3522</td>\n",
       "      <td>26.732593</td>\n",
       "      <td>-9.624581</td>\n",
       "      <td>REX</td>\n",
       "    </tr>\n",
       "    <tr>\n",
       "      <th>41410</th>\n",
       "      <td>7761</td>\n",
       "      <td>41410</td>\n",
       "      <td>legacysurvey-0267m097-image.fits.fz</td>\n",
       "      <td>0.021620</td>\n",
       "      <td>0.163782</td>\n",
       "      <td>0.357528</td>\n",
       "      <td>601</td>\n",
       "      <td>3517</td>\n",
       "      <td>26.834893</td>\n",
       "      <td>-9.624991</td>\n",
       "      <td>REX</td>\n",
       "    </tr>\n",
       "    <tr>\n",
       "      <th>41411</th>\n",
       "      <td>7763</td>\n",
       "      <td>41411</td>\n",
       "      <td>legacysurvey-0267m097-image.fits.fz</td>\n",
       "      <td>0.097634</td>\n",
       "      <td>0.143542</td>\n",
       "      <td>0.318315</td>\n",
       "      <td>3350</td>\n",
       "      <td>3521</td>\n",
       "      <td>26.632009</td>\n",
       "      <td>-9.624648</td>\n",
       "      <td>REX</td>\n",
       "    </tr>\n",
       "    <tr>\n",
       "      <th>41412</th>\n",
       "      <td>7767</td>\n",
       "      <td>41412</td>\n",
       "      <td>legacysurvey-0267m097-image.fits.fz</td>\n",
       "      <td>0.234619</td>\n",
       "      <td>0.391112</td>\n",
       "      <td>0.414931</td>\n",
       "      <td>902</td>\n",
       "      <td>3533</td>\n",
       "      <td>26.812658</td>\n",
       "      <td>-9.623805</td>\n",
       "      <td>EXP</td>\n",
       "    </tr>\n",
       "    <tr>\n",
       "      <th>41413</th>\n",
       "      <td>7769</td>\n",
       "      <td>41413</td>\n",
       "      <td>legacysurvey-0267m097-image.fits.fz</td>\n",
       "      <td>0.039774</td>\n",
       "      <td>0.293591</td>\n",
       "      <td>1.182975</td>\n",
       "      <td>2967</td>\n",
       "      <td>3535</td>\n",
       "      <td>26.660279</td>\n",
       "      <td>-9.623669</td>\n",
       "      <td>REX</td>\n",
       "    </tr>\n",
       "  </tbody>\n",
       "</table>\n",
       "<p>41414 rows × 11 columns</p>\n",
       "</div>"
      ],
      "text/plain": [
       "       index  objid                       original_image    flux_g     flux_r  \\\n",
       "0          0      0  legacysurvey-0267m055-image.fits.fz  4.599823  11.780396   \n",
       "1          1      1  legacysurvey-0267m055-image.fits.fz  0.891017   2.780183   \n",
       "2          2      2  legacysurvey-0267m055-image.fits.fz  0.676702   1.608683   \n",
       "3          3      3  legacysurvey-0267m055-image.fits.fz  0.042543   0.319040   \n",
       "4          4      4  legacysurvey-0267m055-image.fits.fz  4.975256   9.013798   \n",
       "...      ...    ...                                  ...       ...        ...   \n",
       "41409   7759  41409  legacysurvey-0267m097-image.fits.fz  0.927698   2.323367   \n",
       "41410   7761  41410  legacysurvey-0267m097-image.fits.fz  0.021620   0.163782   \n",
       "41411   7763  41411  legacysurvey-0267m097-image.fits.fz  0.097634   0.143542   \n",
       "41412   7767  41412  legacysurvey-0267m097-image.fits.fz  0.234619   0.391112   \n",
       "41413   7769  41413  legacysurvey-0267m097-image.fits.fz  0.039774   0.293591   \n",
       "\n",
       "          flux_z     x     y         ra       dec  type  \n",
       "0      22.910582   967    34  26.797254 -5.628483  EXP   \n",
       "1       8.695500   962    73  26.797641 -5.625607  REX   \n",
       "2       4.078941   932   117  26.799828 -5.622403  REX   \n",
       "3       2.364341   978    57  26.796466 -5.626809  REX   \n",
       "4      13.551513  1058     0  26.790606 -5.630930  EXP   \n",
       "...          ...   ...   ...        ...       ...   ...  \n",
       "41409   3.712649  1987  3522  26.732593 -9.624581  REX   \n",
       "41410   0.357528   601  3517  26.834893 -9.624991  REX   \n",
       "41411   0.318315  3350  3521  26.632009 -9.624648  REX   \n",
       "41412   0.414931   902  3533  26.812658 -9.623805  EXP   \n",
       "41413   1.182975  2967  3535  26.660279 -9.623669  REX   \n",
       "\n",
       "[41414 rows x 11 columns]"
      ]
     },
     "execution_count": 40,
     "metadata": {},
     "output_type": "execute_result"
    }
   ],
   "source": [
    "large_catalogue"
   ]
  },
  {
   "cell_type": "markdown",
   "metadata": {},
   "source": [
    "_____________"
   ]
  },
  {
   "cell_type": "markdown",
   "metadata": {},
   "source": [
    "## Run it through Astronomaly"
   ]
  },
  {
   "cell_type": "markdown",
   "metadata": {},
   "source": [
    "### Basic setting for DECaLS data"
   ]
  },
  {
   "cell_type": "code",
   "execution_count": 41,
   "metadata": {},
   "outputs": [],
   "source": [
    "which_data = 'decals'\n",
    "\n",
    "coadd_id = '026'\n",
    "\n",
    "feature_method = 'ellipse'\n",
    "\n",
    "dim_reduction = ''\n",
    "\n",
    "band_prefixes = ['z-', 'r-', 'g-']\n",
    "\n",
    "band_rgb = {'r': 'z-', 'g': 'r-', 'b': 'g-'}\n",
    "\n",
    "image_transform_function = [image_preprocessing.image_transform_sigma_clipping,\n",
    "                            # image_preprocessing.image_transform_inverse_sinh,\n",
    "                            image_preprocessing.image_transform_scale\n",
    "                            ]\n",
    "\n",
    "display_transform_function = [#image_preprocessing.image_transform_inverse_sinh,\n",
    "                              image_preprocessing.image_transform_scale]\n",
    "\n",
    "plot_cmap = 'hot'\n",
    "window_size = 32\n",
    "list_of_files = []"
   ]
  },
  {
   "cell_type": "markdown",
   "metadata": {},
   "source": [
    "### Reading in catalogue and images"
   ]
  },
  {
   "cell_type": "code",
   "execution_count": 125,
   "metadata": {},
   "outputs": [],
   "source": [
    "data_dir = '/home/verlon/Desktop/Astronomaly/Data/Input/Coadd_0260/0260m062/'\n",
    "#data_dir = '/home/verlon/Desktop/Astronomaly/Data/Input/0267 Brick/'\n",
    "\n",
    "image_dir = os.path.join(data_dir, 'Images')\n",
    "\n",
    "output_dir = os.path.join(\n",
    "    '/home/verlon/Desktop/Astronomaly/Data/Output/Coadd026','')\n",
    "\n",
    "#output_dir = os.path.join(\n",
    "#    '/home/verlon/Desktop/Astronomaly/Data/Output/0267 Brick', '')\n",
    "\n",
    "catalogue = '/home/verlon/Desktop/Astronomaly/Data/Input/Coadd_0260/0260m062/test_catalogue_0260m062_500.csv'\n",
    "cat = pd.read_csv(catalogue)\n",
    "#catalogue = large_catalogue"
   ]
  },
  {
   "cell_type": "markdown",
   "metadata": {},
   "source": [
    "### Running Astronomaly"
   ]
  },
  {
   "cell_type": "code",
   "execution_count": 149,
   "metadata": {},
   "outputs": [
    {
     "name": "stdout",
     "output_type": "stream",
     "text": [
      "Reading image data from /home/verlon/Desktop/Astronomaly/Data/Input/Coadd_0260/0260m062/Images/z-legacysurvey-0260m062-image.fits.fz...\n"
     ]
    },
    {
     "name": "stderr",
     "output_type": "stream",
     "text": [
      "WARNING: FITSFixedWarning: 'datfix' made the change 'Set DATE-REF to '1858-11-17' from MJD-REF'. [astropy.wcs.wcs]\n",
      "2020-10-04 18:04:53,856 - WARNING - FITSFixedWarning: 'datfix' made the change 'Set DATE-REF to '1858-11-17' from MJD-REF'.\n"
     ]
    },
    {
     "name": "stdout",
     "output_type": "stream",
     "text": [
      "Done!\n",
      "A catalogue of  500 sources has been provided.\n"
     ]
    }
   ],
   "source": [
    "image_dataset = image_reader.ImageDataset(directory=image_dir,\n",
    "                                          list_of_files=list_of_files,\n",
    "                                          window_size=window_size, \n",
    "                                          output_dir=output_dir, \n",
    "                                          plot_square=False,\n",
    "                                          transform_function=image_transform_function,\n",
    "                                          display_transform_function=display_transform_function,\n",
    "                                          plot_cmap=plot_cmap,\n",
    "                                          catalogue=cat,\n",
    "                                          band_prefixes=band_prefixes,\n",
    "                                          bands_rgb=band_rgb)"
   ]
  },
  {
   "cell_type": "code",
   "execution_count": null,
   "metadata": {},
   "outputs": [],
   "source": []
  },
  {
   "cell_type": "code",
   "execution_count": 150,
   "metadata": {},
   "outputs": [],
   "source": [
    "inds = ['594']\n",
    "\n",
    "for i in image_dataset.index[0:4]:\n",
    "    imgs.append(image_dataset.get_sample(i))"
   ]
  },
  {
   "cell_type": "code",
   "execution_count": null,
   "metadata": {},
   "outputs": [],
   "source": []
  },
  {
   "cell_type": "code",
   "execution_count": null,
   "metadata": {},
   "outputs": [],
   "source": []
  },
  {
   "cell_type": "code",
   "execution_count": 151,
   "metadata": {},
   "outputs": [],
   "source": [
    "def apply_transform(cutout, transform_function):\n",
    "    \"\"\"\n",
    "    Applies the transform function(s) given at initialisation to the image.\n",
    "\n",
    "    Parameters\n",
    "    ----------\n",
    "    cutout : np.ndarray\n",
    "        Cutout of image\n",
    "\n",
    "    Returns\n",
    "    -------\n",
    "    np.ndarray\n",
    "        Transformed cutout\n",
    "    \"\"\"\n",
    "    if transform_function is not None:\n",
    "        try:\n",
    "            len(transform_function)\n",
    "            new_cutout = cutout\n",
    "            for f in transform_function:\n",
    "                new_cutout = f(new_cutout)\n",
    "            cutout = new_cutout\n",
    "        except TypeError:  # Simple way to test if there's only one function\n",
    "            cutout = transform_function(cutout)\n",
    "    return cutout"
   ]
  },
  {
   "cell_type": "code",
   "execution_count": null,
   "metadata": {},
   "outputs": [],
   "source": []
  },
  {
   "cell_type": "code",
   "execution_count": 153,
   "metadata": {},
   "outputs": [
    {
     "data": {
      "text/plain": [
       "Index(['Unnamed: 0', 'objid', 'original_image', 'flux_g', 'flux_r', 'flux_z',\n",
       "       'x', 'y', 'ra', 'dec', 'type', 'peak_flux'],\n",
       "      dtype='object')"
      ]
     },
     "execution_count": 153,
     "metadata": {},
     "output_type": "execute_result"
    }
   ],
   "source": [
    "image_dataset.catalogue.columns"
   ]
  },
  {
   "cell_type": "code",
   "execution_count": null,
   "metadata": {},
   "outputs": [],
   "source": []
  },
  {
   "cell_type": "code",
   "execution_count": 152,
   "metadata": {},
   "outputs": [
    {
     "data": {
      "text/html": [
       "<div>\n",
       "<style scoped>\n",
       "    .dataframe tbody tr th:only-of-type {\n",
       "        vertical-align: middle;\n",
       "    }\n",
       "\n",
       "    .dataframe tbody tr th {\n",
       "        vertical-align: top;\n",
       "    }\n",
       "\n",
       "    .dataframe thead th {\n",
       "        text-align: right;\n",
       "    }\n",
       "</style>\n",
       "<table border=\"1\" class=\"dataframe\">\n",
       "  <thead>\n",
       "    <tr style=\"text-align: right;\">\n",
       "      <th></th>\n",
       "      <th>original_image</th>\n",
       "      <th>x</th>\n",
       "      <th>y</th>\n",
       "      <th>ra</th>\n",
       "      <th>dec</th>\n",
       "      <th>peak_flux</th>\n",
       "    </tr>\n",
       "  </thead>\n",
       "  <tbody>\n",
       "    <tr>\n",
       "      <th>594</th>\n",
       "      <td>legacysurvey-0260m062-image.fits.fz</td>\n",
       "      <td>337</td>\n",
       "      <td>369</td>\n",
       "      <td>26.126581</td>\n",
       "      <td>-6.354089</td>\n",
       "      <td>NaN</td>\n",
       "    </tr>\n",
       "    <tr>\n",
       "      <th>6095</th>\n",
       "      <td>legacysurvey-0260m062-image.fits.fz</td>\n",
       "      <td>994</td>\n",
       "      <td>2486</td>\n",
       "      <td>26.078486</td>\n",
       "      <td>-6.199997</td>\n",
       "      <td>NaN</td>\n",
       "    </tr>\n",
       "    <tr>\n",
       "      <th>2709</th>\n",
       "      <td>legacysurvey-0260m062-image.fits.fz</td>\n",
       "      <td>3216</td>\n",
       "      <td>1209</td>\n",
       "      <td>25.915781</td>\n",
       "      <td>-6.292911</td>\n",
       "      <td>NaN</td>\n",
       "    </tr>\n",
       "    <tr>\n",
       "      <th>5667</th>\n",
       "      <td>legacysurvey-0260m062-image.fits.fz</td>\n",
       "      <td>1088</td>\n",
       "      <td>2359</td>\n",
       "      <td>26.071583</td>\n",
       "      <td>-6.209265</td>\n",
       "      <td>NaN</td>\n",
       "    </tr>\n",
       "    <tr>\n",
       "      <th>2471</th>\n",
       "      <td>legacysurvey-0260m062-image.fits.fz</td>\n",
       "      <td>2859</td>\n",
       "      <td>1137</td>\n",
       "      <td>25.941948</td>\n",
       "      <td>-6.298205</td>\n",
       "      <td>NaN</td>\n",
       "    </tr>\n",
       "    <tr>\n",
       "      <th>...</th>\n",
       "      <td>...</td>\n",
       "      <td>...</td>\n",
       "      <td>...</td>\n",
       "      <td>...</td>\n",
       "      <td>...</td>\n",
       "      <td>...</td>\n",
       "    </tr>\n",
       "    <tr>\n",
       "      <th>6345</th>\n",
       "      <td>legacysurvey-0260m062-image.fits.fz</td>\n",
       "      <td>292</td>\n",
       "      <td>2585</td>\n",
       "      <td>26.129869</td>\n",
       "      <td>-6.192759</td>\n",
       "      <td>NaN</td>\n",
       "    </tr>\n",
       "    <tr>\n",
       "      <th>4612</th>\n",
       "      <td>legacysurvey-0260m062-image.fits.fz</td>\n",
       "      <td>3450</td>\n",
       "      <td>1864</td>\n",
       "      <td>25.898683</td>\n",
       "      <td>-6.245235</td>\n",
       "      <td>NaN</td>\n",
       "    </tr>\n",
       "    <tr>\n",
       "      <th>2445</th>\n",
       "      <td>legacysurvey-0260m062-image.fits.fz</td>\n",
       "      <td>1230</td>\n",
       "      <td>1161</td>\n",
       "      <td>26.061230</td>\n",
       "      <td>-6.296397</td>\n",
       "      <td>NaN</td>\n",
       "    </tr>\n",
       "    <tr>\n",
       "      <th>3190</th>\n",
       "      <td>legacysurvey-0260m062-image.fits.fz</td>\n",
       "      <td>2916</td>\n",
       "      <td>1365</td>\n",
       "      <td>25.937799</td>\n",
       "      <td>-6.281606</td>\n",
       "      <td>NaN</td>\n",
       "    </tr>\n",
       "    <tr>\n",
       "      <th>8031</th>\n",
       "      <td>legacysurvey-0260m062-image.fits.fz</td>\n",
       "      <td>35</td>\n",
       "      <td>3352</td>\n",
       "      <td>26.148690</td>\n",
       "      <td>-6.136935</td>\n",
       "      <td>NaN</td>\n",
       "    </tr>\n",
       "  </tbody>\n",
       "</table>\n",
       "<p>500 rows × 6 columns</p>\n",
       "</div>"
      ],
      "text/plain": [
       "                           original_image     x     y         ra       dec  \\\n",
       "594   legacysurvey-0260m062-image.fits.fz   337   369  26.126581 -6.354089   \n",
       "6095  legacysurvey-0260m062-image.fits.fz   994  2486  26.078486 -6.199997   \n",
       "2709  legacysurvey-0260m062-image.fits.fz  3216  1209  25.915781 -6.292911   \n",
       "5667  legacysurvey-0260m062-image.fits.fz  1088  2359  26.071583 -6.209265   \n",
       "2471  legacysurvey-0260m062-image.fits.fz  2859  1137  25.941948 -6.298205   \n",
       "...                                   ...   ...   ...        ...       ...   \n",
       "6345  legacysurvey-0260m062-image.fits.fz   292  2585  26.129869 -6.192759   \n",
       "4612  legacysurvey-0260m062-image.fits.fz  3450  1864  25.898683 -6.245235   \n",
       "2445  legacysurvey-0260m062-image.fits.fz  1230  1161  26.061230 -6.296397   \n",
       "3190  legacysurvey-0260m062-image.fits.fz  2916  1365  25.937799 -6.281606   \n",
       "8031  legacysurvey-0260m062-image.fits.fz    35  3352  26.148690 -6.136935   \n",
       "\n",
       "      peak_flux  \n",
       "594         NaN  \n",
       "6095        NaN  \n",
       "2709        NaN  \n",
       "5667        NaN  \n",
       "2471        NaN  \n",
       "...         ...  \n",
       "6345        NaN  \n",
       "4612        NaN  \n",
       "2445        NaN  \n",
       "3190        NaN  \n",
       "8031        NaN  \n",
       "\n",
       "[500 rows x 6 columns]"
      ]
     },
     "execution_count": 152,
     "metadata": {},
     "output_type": "execute_result"
    }
   ],
   "source": [
    "image_dataset.metadata"
   ]
  },
  {
   "cell_type": "code",
   "execution_count": 141,
   "metadata": {},
   "outputs": [],
   "source": [
    "x0 = image_dataset.metadata.loc['594', 'x']\n",
    "y0 = image_dataset.metadata.loc['594', 'y']\n",
    "original_image = image_dataset.metadata.loc['594', 'original_image']\n",
    "this_image = image_dataset.images[original_image]"
   ]
  },
  {
   "cell_type": "code",
   "execution_count": 142,
   "metadata": {},
   "outputs": [
    {
     "data": {
      "text/plain": [
       "337"
      ]
     },
     "execution_count": 142,
     "metadata": {},
     "output_type": "execute_result"
    }
   ],
   "source": [
    "x0"
   ]
  },
  {
   "cell_type": "code",
   "execution_count": 143,
   "metadata": {},
   "outputs": [
    {
     "data": {
      "text/plain": [
       "369"
      ]
     },
     "execution_count": 143,
     "metadata": {},
     "output_type": "execute_result"
    }
   ],
   "source": [
    "y0"
   ]
  },
  {
   "cell_type": "code",
   "execution_count": 144,
   "metadata": {},
   "outputs": [
    {
     "data": {
      "text/plain": [
       "'legacysurvey-0260m062-image.fits.fz'"
      ]
     },
     "execution_count": 144,
     "metadata": {},
     "output_type": "execute_result"
    }
   ],
   "source": [
    "original_image"
   ]
  },
  {
   "cell_type": "code",
   "execution_count": 145,
   "metadata": {},
   "outputs": [
    {
     "data": {
      "text/plain": [
       "<astronomaly.data_management.image_reader.AstroImage at 0x7fdb00abb040>"
      ]
     },
     "execution_count": 145,
     "metadata": {},
     "output_type": "execute_result"
    }
   ],
   "source": [
    "this_image"
   ]
  },
  {
   "cell_type": "code",
   "execution_count": 146,
   "metadata": {},
   "outputs": [],
   "source": [
    "x_wid = image_dataset.window_size_x // 2\n",
    "y_wid = image_dataset.window_size_y // 2"
   ]
  },
  {
   "cell_type": "code",
   "execution_count": 147,
   "metadata": {},
   "outputs": [],
   "source": [
    "y_start = y0 - y_wid\n",
    "y_end = y0 + y_wid\n",
    "x_start = x0 - x_wid\n",
    "x_end = x0 + x_wid\n",
    "\n",
    "invalid_y = y_start < 0 or y_end > this_image.metadata['NAXIS1']\n",
    "invalid_x = x_start < 0 or x_end > this_image.metadata['NAXIS2']\n",
    "if invalid_y or invalid_x:\n",
    "    cutout = np.ones((image_dataset.window_size_y, image_dataset.window_size_x)) * np.nan\n",
    "else:\n",
    "    cutout = this_image.get_image_data(y_start, y_end, x_start, x_end)\n",
    "if image_dataset.metadata.loc['594', 'peak_flux'] == -1:\n",
    "    if np.any(np.isnan(cutout)):\n",
    "        flx = -1\n",
    "    else:\n",
    "        flx = np.max(cutout)\n",
    "    image_dataset.metadata.loc['594', 'peak_flux'] = flx\n",
    "\n",
    "cutout = apply_transform(cutout, image_dataset.transform_function)"
   ]
  },
  {
   "cell_type": "code",
   "execution_count": 148,
   "metadata": {},
   "outputs": [
    {
     "data": {
      "text/plain": [
       "array([[[0., 0., 0.],\n",
       "        [0., 0., 0.],\n",
       "        [0., 0., 0.],\n",
       "        ...,\n",
       "        [0., 0., 0.],\n",
       "        [0., 0., 0.],\n",
       "        [0., 0., 0.]],\n",
       "\n",
       "       [[0., 0., 0.],\n",
       "        [0., 0., 0.],\n",
       "        [0., 0., 0.],\n",
       "        ...,\n",
       "        [0., 0., 0.],\n",
       "        [0., 0., 0.],\n",
       "        [0., 0., 0.]],\n",
       "\n",
       "       [[0., 0., 0.],\n",
       "        [0., 0., 0.],\n",
       "        [0., 0., 0.],\n",
       "        ...,\n",
       "        [0., 0., 0.],\n",
       "        [0., 0., 0.],\n",
       "        [0., 0., 0.]],\n",
       "\n",
       "       ...,\n",
       "\n",
       "       [[0., 0., 0.],\n",
       "        [0., 0., 0.],\n",
       "        [0., 0., 0.],\n",
       "        ...,\n",
       "        [0., 0., 0.],\n",
       "        [0., 0., 0.],\n",
       "        [0., 0., 0.]],\n",
       "\n",
       "       [[0., 0., 0.],\n",
       "        [0., 0., 0.],\n",
       "        [0., 0., 0.],\n",
       "        ...,\n",
       "        [0., 0., 0.],\n",
       "        [0., 0., 0.],\n",
       "        [0., 0., 0.]],\n",
       "\n",
       "       [[0., 0., 0.],\n",
       "        [0., 0., 0.],\n",
       "        [0., 0., 0.],\n",
       "        ...,\n",
       "        [0., 0., 0.],\n",
       "        [0., 0., 0.],\n",
       "        [0., 0., 0.]]], dtype=float32)"
      ]
     },
     "execution_count": 148,
     "metadata": {},
     "output_type": "execute_result"
    }
   ],
   "source": [
    "cutout"
   ]
  },
  {
   "cell_type": "code",
   "execution_count": null,
   "metadata": {},
   "outputs": [],
   "source": []
  },
  {
   "cell_type": "code",
   "execution_count": 108,
   "metadata": {},
   "outputs": [
    {
     "name": "stderr",
     "output_type": "stream",
     "text": [
      "<ipython-input-108-4accc49d5196>:3: UserWarning: Matplotlib is currently using agg, which is a non-GUI backend, so cannot show the figure.\n",
      "  plt.show()\n"
     ]
    }
   ],
   "source": [
    "plt.figure(figsize = (8,8))\n",
    "imgplot = plt.imshow(image_dataset.get_sample('1'))\n",
    "plt.show()"
   ]
  },
  {
   "cell_type": "code",
   "execution_count": 109,
   "metadata": {},
   "outputs": [],
   "source": [
    "from PIL import Image"
   ]
  },
  {
   "cell_type": "code",
   "execution_count": 112,
   "metadata": {},
   "outputs": [],
   "source": [
    "img = Image.fromarray(imgs[0][0])\n",
    "img.show()"
   ]
  },
  {
   "cell_type": "code",
   "execution_count": null,
   "metadata": {},
   "outputs": [],
   "source": []
  },
  {
   "cell_type": "code",
   "execution_count": null,
   "metadata": {},
   "outputs": [],
   "source": []
  }
 ],
 "metadata": {
  "kernelspec": {
   "display_name": "Python 3.7.5 64-bit",
   "language": "python",
   "name": "python37564bit90ce9393941248d8885c8ffd563274d3"
  },
  "language_info": {
   "codemirror_mode": {
    "name": "ipython",
    "version": 3
   },
   "file_extension": ".py",
   "mimetype": "text/x-python",
   "name": "python",
   "nbconvert_exporter": "python",
   "pygments_lexer": "ipython3",
   "version": "3.8.2"
  }
 },
 "nbformat": 4,
 "nbformat_minor": 4
}
