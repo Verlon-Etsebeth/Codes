{
 "cells": [
  {
   "cell_type": "markdown",
   "metadata": {},
   "source": [
    "# Astronomaly"
   ]
  },
  {
   "cell_type": "markdown",
   "metadata": {},
   "source": [
    "This notebook is designed to replicate the feature extraction methods of Astronomaly. In addition, the steps are shown individually and explained in order to provide better detail in the processes of Astronomaly. The notebook would thus ideally serve as a troubleshooting method for Astronomaly."
   ]
  },
  {
   "cell_type": "markdown",
   "metadata": {},
   "source": [
    "## Section 1: Using A Sample From Astronomaly"
   ]
  },
  {
   "cell_type": "markdown",
   "metadata": {},
   "source": [
    "This section displays the contours and ellipses found by Astronomaly. The image within this section is taken directly from Astronomaly and the contours and ellipses are shown for this image. The image has already been transformed before it is obtained and as such the separate transformations can not be displayed here."
   ]
  },
  {
   "cell_type": "markdown",
   "metadata": {},
   "source": [
    "__________________________"
   ]
  },
  {
   "cell_type": "code",
   "execution_count": 1,
   "metadata": {},
   "outputs": [],
   "source": [
    "from astronomaly.anomaly_detection import isolation_forest, human_loop_learning\n",
    "from astronomaly.base import logging_tools\n",
    "from astronomaly.base.base_pipeline import PipelineStage\n",
    "from astronomaly.data_management import image_reader\n",
    "from astronomaly.dimensionality_reduction import pca\n",
    "from astronomaly.feature_extraction import power_spectrum, autoencoder, shape_features\n",
    "from astronomaly.feature_extraction.shape_features import find_contours, fit_ellipse, draw_contour\n",
    "from astronomaly.feature_extraction.shape_features import get_ellipse_leastsq, extract_contour\n",
    "from astronomaly.postprocessing import scaling\n",
    "from astronomaly.preprocessing import image_preprocessing\n",
    "from astronomaly.preprocessing.image_preprocessing import image_transform_sigma_clipping, image_transform_scale\n",
    "from astronomaly.visualisation import tsne\n",
    "from astronomaly.utils import utils\n",
    "\n",
    "import os\n",
    "import cv2\n",
    "import pandas as pd\n",
    "import numpy as np\n",
    "import matplotlib.pyplot as plt\n",
    "from astropy.io import fits\n",
    "\n",
    "%matplotlib inline"
   ]
  },
  {
   "cell_type": "markdown",
   "metadata": {},
   "source": [
    "_______________________"
   ]
  },
  {
   "cell_type": "code",
   "execution_count": 2,
   "metadata": {},
   "outputs": [],
   "source": [
    "def image_transform_greyscale(img):\n",
    "    \"\"\"\n",
    "    Simple function that combines the rgb bands into a single image.\n",
    "\n",
    "    Parameters\n",
    "    ----------\n",
    "    img : np.ndarray\n",
    "        Input image\n",
    "\n",
    "    Returns\n",
    "    -------\n",
    "    np.ndarray\n",
    "        Greyscale image\n",
    "\n",
    "    \"\"\"\n",
    "\n",
    "    img = cv2.cvtColor(img, cv2.COLOR_BGR2GRAY)\n",
    "\n",
    "    return img"
   ]
  },
  {
   "cell_type": "markdown",
   "metadata": {},
   "source": [
    "_______________________"
   ]
  },
  {
   "cell_type": "markdown",
   "metadata": {},
   "source": [
    "### Setting up the data"
   ]
  },
  {
   "cell_type": "markdown",
   "metadata": {},
   "source": [
    "#### This subsection contains all of the relevant data and parameters that are to be specified in order for Astronomaly to run. "
   ]
  },
  {
   "cell_type": "markdown",
   "metadata": {},
   "source": [
    "Selecting the data brick to be used:"
   ]
  },
  {
   "cell_type": "code",
   "execution_count": 3,
   "metadata": {},
   "outputs": [],
   "source": [
    "coadd_id = '0260'  # Brick code\n",
    "#coadd_id = '0267'  # Brick code\n",
    "#coadd_id = '000'   # Brick code"
   ]
  },
  {
   "cell_type": "markdown",
   "metadata": {},
   "source": [
    "Some default settings for Astrnomaly to use on optical data"
   ]
  },
  {
   "cell_type": "code",
   "execution_count": 4,
   "metadata": {},
   "outputs": [],
   "source": [
    "list_of_files = []\n",
    "window_size = 32\n",
    "band_prefixes = ['z-', 'r-', 'g-']\n",
    "bands_rgb = {'r': 'z-', 'g': 'r-', 'b': 'g-'}\n",
    "plot_cmap = 'hot'\n",
    "feature_method = 'ellipse'\n",
    "dim_reduction = ''"
   ]
  },
  {
   "cell_type": "markdown",
   "metadata": {},
   "source": [
    "Selecting the transform functions"
   ]
  },
  {
   "cell_type": "code",
   "execution_count": 5,
   "metadata": {},
   "outputs": [],
   "source": [
    "image_transform_function = [#image_preprocessing.image_transform_scale,\n",
    "                            #image_preprocessing.image_transform_greyscale,\n",
    "                            #image_preprocessing.image_transform_sigma_clipping,\n",
    "                            ## image_preprocessing.image_transform_inverse_sinh,\n",
    "                            #image_preprocessing.image_transform_scale,\n",
    "                            ## image_preprocessing.image_transform_cv2_resize,\n",
    "                            ]\n",
    "\n",
    "display_transform_function = [  # image_preprocessing.image_transform_inverse_sinh\n",
    "    image_preprocessing.image_transform_scale\n",
    "]"
   ]
  },
  {
   "cell_type": "markdown",
   "metadata": {},
   "source": [
    "The data directory can be set up to shorten other directories and assists in sorting out the data storage. Due to the large number of bricks involved, it is much simpler to merely change the brick name than the entire directory all the time"
   ]
  },
  {
   "cell_type": "code",
   "execution_count": 6,
   "metadata": {},
   "outputs": [],
   "source": [
    "data_dir = '/home/verlon/Desktop/Astronomaly/Data/Coadd_'+str(coadd_id)+'/'"
   ]
  },
  {
   "cell_type": "code",
   "execution_count": 7,
   "metadata": {},
   "outputs": [],
   "source": [
    "image_dir = os.path.join(data_dir, '0260m062', 'Input', 'Images')\n",
    "output_dir = os.path.join(data_dir, '0260m062', 'Output', '')"
   ]
  },
  {
   "cell_type": "code",
   "execution_count": 8,
   "metadata": {},
   "outputs": [],
   "source": [
    "#image_dir = os.path.join(data_dir, 'Input', 'Images')\n",
    "#output_dir = os.path.join(data_dir, 'Output', '')"
   ]
  },
  {
   "cell_type": "code",
   "execution_count": 9,
   "metadata": {},
   "outputs": [],
   "source": [
    "#image_dir = os.path.join(data_dir, '0001m002', 'Input', 'Images')\n",
    "#output_dir = os.path.join(data_dir, '0001m002', 'Output', '')"
   ]
  },
  {
   "cell_type": "code",
   "execution_count": 10,
   "metadata": {},
   "outputs": [],
   "source": [
    "if not os.path.exists(output_dir):\n",
    "    os.makedirs(output_dir)"
   ]
  },
  {
   "cell_type": "markdown",
   "metadata": {},
   "source": [
    "Selecting the catalogue (as created by the convert_tractor_catalogue function in utils.py)"
   ]
  },
  {
   "cell_type": "code",
   "execution_count": 67,
   "metadata": {},
   "outputs": [],
   "source": [
    "catalogue = pd.read_csv(os.path.join(\n",
    "    data_dir, '0260m062', 'Input','Catalogue', 'test_catalogue_0260m062_500.csv'))"
   ]
  },
  {
   "cell_type": "code",
   "execution_count": 68,
   "metadata": {},
   "outputs": [],
   "source": [
    "#catalogue = pd.read_csv(os.path.join(\n",
    "#    data_dir, 'Input', 'Catalogue', 'large_catalogue.csv'))"
   ]
  },
  {
   "cell_type": "code",
   "execution_count": 69,
   "metadata": {},
   "outputs": [],
   "source": [
    "#catalogue = pd.read_csv(os.path.join(\n",
    "#    data_dir, '0001m002','Input', 'Catalogue', 'catalogue_0001m002.csv'))"
   ]
  },
  {
   "cell_type": "markdown",
   "metadata": {},
   "source": [
    "________________________________________"
   ]
  },
  {
   "cell_type": "markdown",
   "metadata": {},
   "source": [
    "## Running Astronomaly"
   ]
  },
  {
   "cell_type": "markdown",
   "metadata": {},
   "source": [
    "This is how Astronomaly can be run in a notebook, similar as to how it can be called in the *image_pipeline* script. This is required to obtain a sample cutout from the dataset.\n",
    "\n",
    "Running the cell shows which fits files are read in and used as well as how many objects are found in the catalogue."
   ]
  },
  {
   "cell_type": "code",
   "execution_count": 70,
   "metadata": {},
   "outputs": [
    {
     "name": "stdout",
     "output_type": "stream",
     "text": [
      "Reading image data from /home/verlon/Desktop/Astronomaly/Data/Coadd_0260/0260m062/Input/Images/z-legacysurvey-0260m062-image.fits.fz...\n"
     ]
    },
    {
     "name": "stderr",
     "output_type": "stream",
     "text": [
      "WARNING: FITSFixedWarning: 'datfix' made the change 'Set DATE-REF to '1858-11-17' from MJD-REF'. [astropy.wcs.wcs]\n",
      "2020-10-28 10:41:12,479 - WARNING - FITSFixedWarning: 'datfix' made the change 'Set DATE-REF to '1858-11-17' from MJD-REF'.\n"
     ]
    },
    {
     "name": "stdout",
     "output_type": "stream",
     "text": [
      "Done!\n",
      "A catalogue of  500 sources has been provided.\n"
     ]
    }
   ],
   "source": [
    "image_dataset = image_reader.ImageDataset(directory=image_dir,\n",
    "                                          list_of_files=list_of_files,\n",
    "                                          window_size=window_size,\n",
    "                                          output_dir=output_dir,\n",
    "                                          plot_square=False,\n",
    "                                          transform_function=image_transform_function,\n",
    "                                          display_transform_function=display_transform_function,\n",
    "                                          plot_cmap=plot_cmap,\n",
    "                                          catalogue=catalogue,\n",
    "                                          band_prefixes=band_prefixes,\n",
    "                                          bands_rgb=bands_rgb)"
   ]
  },
  {
   "cell_type": "markdown",
   "metadata": {},
   "source": [
    "__________________________"
   ]
  },
  {
   "cell_type": "markdown",
   "metadata": {},
   "source": [
    "This is where a sample is selected and it has yet to be transformed. To see the indices applicable, use :  *image_dataset.metadata.index*"
   ]
  },
  {
   "cell_type": "code",
   "execution_count": 15,
   "metadata": {},
   "outputs": [
    {
     "data": {
      "text/plain": [
       "array(['594', '6095', '2709', ..., '5460', '902', '8559'], dtype=object)"
      ]
     },
     "execution_count": 15,
     "metadata": {},
     "output_type": "execute_result"
    }
   ],
   "source": [
    "image_dataset.index"
   ]
  },
  {
   "cell_type": "code",
   "execution_count": 16,
   "metadata": {},
   "outputs": [
    {
     "data": {
      "text/plain": [
       "['594']"
      ]
     },
     "execution_count": 16,
     "metadata": {},
     "output_type": "execute_result"
    }
   ],
   "source": [
    "ind = []\n",
    "ind.append('594')\n",
    "ind"
   ]
  },
  {
   "cell_type": "code",
   "execution_count": 17,
   "metadata": {},
   "outputs": [
    {
     "data": {
      "text/plain": [
       "['594']"
      ]
     },
     "execution_count": 17,
     "metadata": {},
     "output_type": "execute_result"
    }
   ],
   "source": [
    "image_dataset.index = ind\n",
    "image_dataset.index"
   ]
  },
  {
   "cell_type": "markdown",
   "metadata": {},
   "source": [
    "These indices are used to obtain a given sample of data as follows:"
   ]
  },
  {
   "cell_type": "code",
   "execution_count": 141,
   "metadata": {},
   "outputs": [],
   "source": [
    "ind = '6088' #ind = '594'  # ind = '105'"
   ]
  },
  {
   "cell_type": "code",
   "execution_count": 72,
   "metadata": {},
   "outputs": [],
   "source": [
    "# Interesting failure for this one: ind = '32852'"
   ]
  },
  {
   "cell_type": "code",
   "execution_count": 73,
   "metadata": {},
   "outputs": [],
   "source": [
    "# this fails at 90th perc.. where it does not find the first contour : ind = '567'"
   ]
  },
  {
   "cell_type": "code",
   "execution_count": 21,
   "metadata": {},
   "outputs": [
    {
     "data": {
      "text/plain": [
       "['594']"
      ]
     },
     "execution_count": 21,
     "metadata": {},
     "output_type": "execute_result"
    }
   ],
   "source": [
    "image_dataset.index"
   ]
  },
  {
   "cell_type": "code",
   "execution_count": 74,
   "metadata": {},
   "outputs": [],
   "source": [
    "pipeline_ellipse = shape_features.EllipseFitFeatures(\n",
    "    percentiles=[90, 80, 70, 60, 50, 0],\n",
    "    output_dir=output_dir, channel=0, force_rerun=True\n",
    ")"
   ]
  },
  {
   "cell_type": "code",
   "execution_count": 75,
   "metadata": {},
   "outputs": [
    {
     "data": {
      "text/plain": [
       "<astronomaly.feature_extraction.shape_features.EllipseFitFeatures at 0x7f6f6c66a760>"
      ]
     },
     "execution_count": 75,
     "metadata": {},
     "output_type": "execute_result"
    }
   ],
   "source": [
    "pipeline_ellipse"
   ]
  },
  {
   "cell_type": "code",
   "execution_count": 19,
   "metadata": {},
   "outputs": [
    {
     "ename": "TypeError",
     "evalue": "'Series' objects are mutable, thus they cannot be hashed",
     "output_type": "error",
     "traceback": [
      "\u001b[0;31m---------------------------------------------------------------------------\u001b[0m",
      "\u001b[0;31mTypeError\u001b[0m                                 Traceback (most recent call last)",
      "\u001b[0;32m<ipython-input-19-75fe18907407>\u001b[0m in \u001b[0;36m<module>\u001b[0;34m\u001b[0m\n\u001b[0;32m----> 1\u001b[0;31m \u001b[0mimage_original\u001b[0m \u001b[0;34m=\u001b[0m \u001b[0mimage_dataset\u001b[0m\u001b[0;34m.\u001b[0m\u001b[0mget_sample\u001b[0m\u001b[0;34m(\u001b[0m\u001b[0mind\u001b[0m\u001b[0;34m)\u001b[0m\u001b[0;34m\u001b[0m\u001b[0;34m\u001b[0m\u001b[0m\n\u001b[0m",
      "\u001b[0;32m~/Desktop/Astronomaly/astronomaly-dev/astronomaly/data_management/image_reader.py\u001b[0m in \u001b[0;36mget_sample\u001b[0;34m(self, idx)\u001b[0m\n\u001b[1;32m    526\u001b[0m         \u001b[0my0\u001b[0m \u001b[0;34m=\u001b[0m \u001b[0mself\u001b[0m\u001b[0;34m.\u001b[0m\u001b[0mmetadata\u001b[0m\u001b[0;34m.\u001b[0m\u001b[0mloc\u001b[0m\u001b[0;34m[\u001b[0m\u001b[0midx\u001b[0m\u001b[0;34m,\u001b[0m \u001b[0;34m'y'\u001b[0m\u001b[0;34m]\u001b[0m\u001b[0;34m\u001b[0m\u001b[0;34m\u001b[0m\u001b[0m\n\u001b[1;32m    527\u001b[0m         \u001b[0moriginal_image\u001b[0m \u001b[0;34m=\u001b[0m \u001b[0mself\u001b[0m\u001b[0;34m.\u001b[0m\u001b[0mmetadata\u001b[0m\u001b[0;34m.\u001b[0m\u001b[0mloc\u001b[0m\u001b[0;34m[\u001b[0m\u001b[0midx\u001b[0m\u001b[0;34m,\u001b[0m \u001b[0;34m'original_image'\u001b[0m\u001b[0;34m]\u001b[0m\u001b[0;34m\u001b[0m\u001b[0;34m\u001b[0m\u001b[0m\n\u001b[0;32m--> 528\u001b[0;31m         \u001b[0mthis_image\u001b[0m \u001b[0;34m=\u001b[0m \u001b[0mself\u001b[0m\u001b[0;34m.\u001b[0m\u001b[0mimages\u001b[0m\u001b[0;34m[\u001b[0m\u001b[0moriginal_image\u001b[0m\u001b[0;34m]\u001b[0m\u001b[0;34m\u001b[0m\u001b[0;34m\u001b[0m\u001b[0m\n\u001b[0m\u001b[1;32m    529\u001b[0m \u001b[0;34m\u001b[0m\u001b[0m\n\u001b[1;32m    530\u001b[0m         \u001b[0mx_wid\u001b[0m \u001b[0;34m=\u001b[0m \u001b[0mself\u001b[0m\u001b[0;34m.\u001b[0m\u001b[0mwindow_size_x\u001b[0m \u001b[0;34m//\u001b[0m \u001b[0;36m2\u001b[0m\u001b[0;34m\u001b[0m\u001b[0;34m\u001b[0m\u001b[0m\n",
      "\u001b[0;32m~/anaconda3/lib/python3.8/site-packages/pandas/core/generic.py\u001b[0m in \u001b[0;36m__hash__\u001b[0;34m(self)\u001b[0m\n\u001b[1;32m   1663\u001b[0m \u001b[0;34m\u001b[0m\u001b[0m\n\u001b[1;32m   1664\u001b[0m     \u001b[0;32mdef\u001b[0m \u001b[0m__hash__\u001b[0m\u001b[0;34m(\u001b[0m\u001b[0mself\u001b[0m\u001b[0;34m)\u001b[0m\u001b[0;34m:\u001b[0m\u001b[0;34m\u001b[0m\u001b[0;34m\u001b[0m\u001b[0m\n\u001b[0;32m-> 1665\u001b[0;31m         raise TypeError(\n\u001b[0m\u001b[1;32m   1666\u001b[0m             \u001b[0;34mf\"{repr(type(self).__name__)} objects are mutable, \"\u001b[0m\u001b[0;34m\u001b[0m\u001b[0;34m\u001b[0m\u001b[0m\n\u001b[1;32m   1667\u001b[0m             \u001b[0;34mf\"thus they cannot be hashed\"\u001b[0m\u001b[0;34m\u001b[0m\u001b[0;34m\u001b[0m\u001b[0m\n",
      "\u001b[0;31mTypeError\u001b[0m: 'Series' objects are mutable, thus they cannot be hashed"
     ]
    }
   ],
   "source": [
    "image_original = image_dataset.get_sample(ind)"
   ]
  },
  {
   "cell_type": "code",
   "execution_count": 76,
   "metadata": {},
   "outputs": [
    {
     "name": "stdout",
     "output_type": "stream",
     "text": [
      "Extracting features using EllipseFitFeatures ...\n",
      "0 instances completed\n",
      "Resize Image to scale :  100 %\n",
      "All necessary contours found\n"
     ]
    },
    {
     "name": "stderr",
     "output_type": "stream",
     "text": [
      "/home/verlon/Desktop/Astronomaly/astronomaly-dev/astronomaly/base/base_pipeline.py:289: VisibleDeprecationWarning: Creating an ndarray from ragged nested sequences (which is a list-or-tuple of lists-or-tuples-or ndarrays with different lengths or shapes) is deprecated. If you meant to do this, you must specify 'dtype=object' when creating the ndarray\n",
      "  if len(np.shape(out)) != 1:\n"
     ]
    },
    {
     "ename": "TypeError",
     "evalue": "ufunc 'isnan' not supported for the input types, and the inputs could not be safely coerced to any supported types according to the casting rule ''safe''",
     "output_type": "error",
     "traceback": [
      "\u001b[0;31m---------------------------------------------------------------------------\u001b[0m",
      "\u001b[0;31mTypeError\u001b[0m                                 Traceback (most recent call last)",
      "\u001b[0;32m<ipython-input-76-f5510b931016>\u001b[0m in \u001b[0;36m<module>\u001b[0;34m\u001b[0m\n\u001b[0;32m----> 1\u001b[0;31m \u001b[0mfeatures_original\u001b[0m\u001b[0;34m,\u001b[0m\u001b[0mcontours\u001b[0m\u001b[0;34m,\u001b[0m\u001b[0mellipses\u001b[0m\u001b[0;34m=\u001b[0m \u001b[0mpipeline_ellipse\u001b[0m\u001b[0;34m.\u001b[0m\u001b[0mrun_on_dataset\u001b[0m\u001b[0;34m(\u001b[0m\u001b[0mimage_dataset\u001b[0m\u001b[0;34m)\u001b[0m\u001b[0;34m\u001b[0m\u001b[0;34m\u001b[0m\u001b[0m\n\u001b[0m",
      "\u001b[0;32m~/Desktop/Astronomaly/astronomaly-dev/astronomaly/base/base_pipeline.py\u001b[0m in \u001b[0;36mrun_on_dataset\u001b[0;34m(self, dataset)\u001b[0m\n\u001b[1;32m    287\u001b[0m                         \u001b[0mlogged_nan_msg\u001b[0m \u001b[0;34m=\u001b[0m \u001b[0;32mTrue\u001b[0m\u001b[0;34m\u001b[0m\u001b[0;34m\u001b[0m\u001b[0m\n\u001b[1;32m    288\u001b[0m                 \u001b[0mout\u001b[0m \u001b[0;34m=\u001b[0m \u001b[0mself\u001b[0m\u001b[0;34m.\u001b[0m\u001b[0m_execute_function\u001b[0m\u001b[0;34m(\u001b[0m\u001b[0minput_instance\u001b[0m\u001b[0;34m)\u001b[0m\u001b[0;34m[\u001b[0m\u001b[0;36m0\u001b[0m\u001b[0;34m]\u001b[0m\u001b[0;34m\u001b[0m\u001b[0;34m\u001b[0m\u001b[0m\n\u001b[0;32m--> 289\u001b[0;31m                 \u001b[0;32mif\u001b[0m \u001b[0mlen\u001b[0m\u001b[0;34m(\u001b[0m\u001b[0mnp\u001b[0m\u001b[0;34m.\u001b[0m\u001b[0mshape\u001b[0m\u001b[0;34m(\u001b[0m\u001b[0mout\u001b[0m\u001b[0;34m)\u001b[0m\u001b[0;34m)\u001b[0m \u001b[0;34m!=\u001b[0m \u001b[0;36m1\u001b[0m\u001b[0;34m:\u001b[0m\u001b[0;34m\u001b[0m\u001b[0;34m\u001b[0m\u001b[0m\n\u001b[0m\u001b[1;32m    290\u001b[0m                     \u001b[0mprint\u001b[0m\u001b[0;34m(\u001b[0m\u001b[0mi\u001b[0m\u001b[0;34m,\u001b[0m \u001b[0;34m'out'\u001b[0m\u001b[0;34m)\u001b[0m\u001b[0;34m\u001b[0m\u001b[0;34m\u001b[0m\u001b[0m\n\u001b[1;32m    291\u001b[0m                 \u001b[0;31m#print(out)\u001b[0m\u001b[0;34m\u001b[0m\u001b[0;34m\u001b[0m\u001b[0;34m\u001b[0m\u001b[0m\n",
      "\u001b[0;31mTypeError\u001b[0m: ufunc 'isnan' not supported for the input types, and the inputs could not be safely coerced to any supported types according to the casting rule ''safe''"
     ]
    }
   ],
   "source": [
    "features_original,contours,ellipses= pipeline_ellipse.run_on_dataset(image_dataset)"
   ]
  },
  {
   "cell_type": "code",
   "execution_count": null,
   "metadata": {},
   "outputs": [],
   "source": [
    "features_original"
   ]
  },
  {
   "cell_type": "code",
   "execution_count": null,
   "metadata": {},
   "outputs": [],
   "source": []
  },
  {
   "cell_type": "code",
   "execution_count": null,
   "metadata": {},
   "outputs": [],
   "source": []
  },
  {
   "cell_type": "code",
   "execution_count": null,
   "metadata": {},
   "outputs": [],
   "source": []
  },
  {
   "cell_type": "code",
   "execution_count": null,
   "metadata": {},
   "outputs": [],
   "source": []
  },
  {
   "cell_type": "code",
   "execution_count": null,
   "metadata": {},
   "outputs": [],
   "source": []
  },
  {
   "cell_type": "code",
   "execution_count": null,
   "metadata": {},
   "outputs": [],
   "source": []
  },
  {
   "cell_type": "code",
   "execution_count": null,
   "metadata": {},
   "outputs": [],
   "source": []
  },
  {
   "cell_type": "code",
   "execution_count": null,
   "metadata": {},
   "outputs": [],
   "source": []
  },
  {
   "cell_type": "markdown",
   "metadata": {},
   "source": [
    "__________"
   ]
  },
  {
   "cell_type": "markdown",
   "metadata": {},
   "source": [
    "### Original Image"
   ]
  },
  {
   "cell_type": "markdown",
   "metadata": {},
   "source": [
    "This is the image as returned by the *get_sample* function. This image is cutout from the fits files directly and is unchanged at this stage. "
   ]
  },
  {
   "cell_type": "code",
   "execution_count": 142,
   "metadata": {},
   "outputs": [],
   "source": [
    "image_original = image_dataset.get_sample(ind)"
   ]
  },
  {
   "cell_type": "markdown",
   "metadata": {},
   "source": [
    "*OPTIONAL* : The image shape is shown here for more information. The first part (32,32) inndicates the amount of pixels there are in the image. This forms an array of data with the same size. The last part indicates how many channels or bands there are. The 3 here corresponds to the three optical bands in the DECaLS data: g, r and z. The individual bands are displayed below for informational purposes."
   ]
  },
  {
   "cell_type": "code",
   "execution_count": 143,
   "metadata": {},
   "outputs": [
    {
     "name": "stdout",
     "output_type": "stream",
     "text": [
      "Image Shape :  (32, 32, 3)\n",
      "\n",
      "Image Dimensions :  (32, 32)\n",
      "\n",
      "Number of Channels :  3\n"
     ]
    }
   ],
   "source": [
    "print('Image Shape : ', np.shape(image_original))\n",
    "print()\n",
    "print('Image Dimensions : ', np.shape(image_original[:, :, 0]))\n",
    "print()\n",
    "print('Number of Channels : ', len(image_original[0, 0, :]))"
   ]
  },
  {
   "cell_type": "code",
   "execution_count": 144,
   "metadata": {},
   "outputs": [
    {
     "name": "stderr",
     "output_type": "stream",
     "text": [
      "2020-10-28 11:26:09,654 - WARNING - Clipping input data to the valid range for imshow with RGB data ([0..1] for floats or [0..255] for integers).\n"
     ]
    },
    {
     "data": {
      "text/plain": [
       "(-0.5, 31.5, 31.5, -0.5)"
      ]
     },
     "execution_count": 144,
     "metadata": {},
     "output_type": "execute_result"
    },
    {
     "data": {
      "image/png": "[encoded data removed]",
      "text/plain": [
       "<Figure size 576x576 with 1 Axes>"
      ]
     },
     "metadata": {
      "needs_background": "light"
     },
     "output_type": "display_data"
    }
   ],
   "source": [
    "plt.figure(figsize=(8, 8))\n",
    "plt.title('Original Image - All Bands', fontsize=22)\n",
    "plt.imshow(image_original)\n",
    "plt.axis('off')"
   ]
  },
  {
   "cell_type": "code",
   "execution_count": 145,
   "metadata": {},
   "outputs": [
    {
     "data": {
      "image/png": "[encoded data removed]",
      "text/plain": [
       "<Figure size 1080x1080 with 3 Axes>"
      ]
     },
     "metadata": {
      "needs_background": "light"
     },
     "output_type": "display_data"
    }
   ],
   "source": [
    "f = plt.figure(figsize=(15, 15))\n",
    "\n",
    "f.add_subplot(1, 3, 1)\n",
    "plt.imshow(image_original[:, :, 0])\n",
    "plt.gca().set_title('g-band', fontsize=22)\n",
    "plt.axis('off')\n",
    "\n",
    "f.add_subplot(1, 3, 2)\n",
    "plt.imshow(image_original[:, :, 1])\n",
    "plt.gca().set_title('r-band', fontsize=22)\n",
    "plt.axis('off')\n",
    "\n",
    "f.add_subplot(1, 3, 3)\n",
    "plt.imshow(image_original[:, :, 2])\n",
    "plt.gca().set_title('z-band', fontsize=22)\n",
    "plt.axis('off')\n",
    "\n",
    "plt.show(block=True)"
   ]
  },
  {
   "cell_type": "markdown",
   "metadata": {},
   "source": [
    "____________________"
   ]
  },
  {
   "cell_type": "markdown",
   "metadata": {},
   "source": [
    "## Applying The Image Transformation Functions"
   ]
  },
  {
   "cell_type": "markdown",
   "metadata": {},
   "source": [
    "### First Scale Transform"
   ]
  },
  {
   "cell_type": "markdown",
   "metadata": {},
   "source": [
    "The Scale Transfrom function rescales the values of the array so that they lie between 0 and 1. This is also the first scale transform applied (hence first scale transform) and is applied on each channel individually. This simplifies further proceedings. Again, the individual bands are displayed below for informational purposes."
   ]
  },
  {
   "cell_type": "code",
   "execution_count": 146,
   "metadata": {},
   "outputs": [],
   "source": [
    "image_transform_one = image_transform_scale(image_original)"
   ]
  },
  {
   "cell_type": "code",
   "execution_count": 147,
   "metadata": {},
   "outputs": [
    {
     "data": {
      "text/plain": [
       "(-0.5, 31.5, 31.5, -0.5)"
      ]
     },
     "execution_count": 147,
     "metadata": {},
     "output_type": "execute_result"
    },
    {
     "data": {
      "image/png": "[encoded data removed]",
      "text/plain": [
       "<Figure size 576x576 with 1 Axes>"
      ]
     },
     "metadata": {
      "needs_background": "light"
     },
     "output_type": "display_data"
    }
   ],
   "source": [
    "plt.figure(figsize=(8, 8))\n",
    "plt.title('Scale Transformed Image - All Bands', fontsize=22)\n",
    "plt.imshow(image_transform_one)\n",
    "plt.axis('off')"
   ]
  },
  {
   "cell_type": "code",
   "execution_count": 148,
   "metadata": {},
   "outputs": [
    {
     "data": {
      "image/png": "[encoded data removed]",
      "text/plain": [
       "<Figure size 1080x1080 with 3 Axes>"
      ]
     },
     "metadata": {
      "needs_background": "light"
     },
     "output_type": "display_data"
    }
   ],
   "source": [
    "f = plt.figure(figsize=(15, 15))\n",
    "\n",
    "f.add_subplot(1, 3, 1)\n",
    "plt.imshow(image_transform_one[:, :, 0])\n",
    "plt.gca().set_title('g-band', fontsize=22)\n",
    "plt.axis('off')\n",
    "\n",
    "f.add_subplot(1, 3, 2)\n",
    "plt.imshow(image_transform_one[:, :, 1])\n",
    "plt.gca().set_title('r-band', fontsize=22)\n",
    "plt.axis('off')\n",
    "\n",
    "f.add_subplot(1, 3, 3)\n",
    "plt.imshow(image_transform_one[:, :, 2])\n",
    "plt.gca().set_title('z-band', fontsize=22)\n",
    "plt.axis('off')\n",
    "\n",
    "plt.show(block=True)"
   ]
  },
  {
   "cell_type": "markdown",
   "metadata": {},
   "source": [
    "______________"
   ]
  },
  {
   "cell_type": "markdown",
   "metadata": {},
   "source": [
    "### Greyscale Image"
   ]
  },
  {
   "cell_type": "markdown",
   "metadata": {},
   "source": [
    "The Greyscale function uses OpenCvs colour converter to convert each separate image channel to a specific colour. The channels are then combined to create a single channel image that is *greyscale* and contains information from all three separate bands. This allows more information to be used compared to using a single channel only."
   ]
  },
  {
   "cell_type": "code",
   "execution_count": 149,
   "metadata": {},
   "outputs": [],
   "source": [
    "image_grey = cv2.cvtColor(image_transform_one, cv2.COLOR_BGR2GRAY)"
   ]
  },
  {
   "cell_type": "code",
   "execution_count": 150,
   "metadata": {},
   "outputs": [
    {
     "data": {
      "text/plain": [
       "(-0.5, 31.5, 31.5, -0.5)"
      ]
     },
     "execution_count": 150,
     "metadata": {},
     "output_type": "execute_result"
    },
    {
     "data": {
      "image/png": "[encoded data removed]",
      "text/plain": [
       "<Figure size 576x576 with 1 Axes>"
      ]
     },
     "metadata": {
      "needs_background": "light"
     },
     "output_type": "display_data"
    }
   ],
   "source": [
    "plt.figure(figsize=(8, 8))\n",
    "plt.title('Greyscale Image', fontsize=20)\n",
    "plt.imshow(image_grey)\n",
    "plt.axis('off')"
   ]
  },
  {
   "cell_type": "markdown",
   "metadata": {},
   "source": [
    "___________________________"
   ]
  },
  {
   "cell_type": "markdown",
   "metadata": {},
   "source": [
    "### Sigma Clipping"
   ]
  },
  {
   "cell_type": "markdown",
   "metadata": {},
   "source": [
    "The Sigma Clipping function is used to remove noise surrounding the object in question. It also serves in providing an 'outline' of the object in question. Details of how sigma clipping works are left out of this notebook for simplicity."
   ]
  },
  {
   "cell_type": "code",
   "execution_count": 151,
   "metadata": {},
   "outputs": [],
   "source": [
    "image_sigma_clipped = image_transform_sigma_clipping(image_grey)"
   ]
  },
  {
   "cell_type": "code",
   "execution_count": 152,
   "metadata": {},
   "outputs": [
    {
     "data": {
      "text/plain": [
       "(-0.5, 31.5, 31.5, -0.5)"
      ]
     },
     "execution_count": 152,
     "metadata": {},
     "output_type": "execute_result"
    },
    {
     "data": {
      "image/png": "[encoded data removed]",
      "text/plain": [
       "<Figure size 576x576 with 1 Axes>"
      ]
     },
     "metadata": {
      "needs_background": "light"
     },
     "output_type": "display_data"
    }
   ],
   "source": [
    "plt.figure(figsize=(8, 8))\n",
    "plt.title('Sigma Clipped Image', fontsize=20)\n",
    "plt.imshow(image_sigma_clipped)\n",
    "plt.axis('off')"
   ]
  },
  {
   "cell_type": "markdown",
   "metadata": {},
   "source": [
    "______________________"
   ]
  },
  {
   "cell_type": "markdown",
   "metadata": {},
   "source": [
    "### Second Scale Transform"
   ]
  },
  {
   "cell_type": "markdown",
   "metadata": {},
   "source": [
    "The function is the same as the first scale transform. It is applied here because the sigma clipping and the greyscale functions change the values of the arrays. This is the final transform applied and it is thus ideal to have the array values between 0 and 1 for machine learning purposes."
   ]
  },
  {
   "cell_type": "code",
   "execution_count": 153,
   "metadata": {},
   "outputs": [],
   "source": [
    "image_transform_two = image_transform_scale(image_sigma_clipped)"
   ]
  },
  {
   "cell_type": "code",
   "execution_count": 154,
   "metadata": {},
   "outputs": [
    {
     "data": {
      "text/plain": [
       "(-0.5, 31.5, 31.5, -0.5)"
      ]
     },
     "execution_count": 154,
     "metadata": {},
     "output_type": "execute_result"
    },
    {
     "data": {
      "image/png": "[encoded data removed]",
      "text/plain": [
       "<Figure size 576x576 with 1 Axes>"
      ]
     },
     "metadata": {
      "needs_background": "light"
     },
     "output_type": "display_data"
    }
   ],
   "source": [
    "plt.figure(figsize=(8, 8))\n",
    "plt.title('Scale Transformed Image', fontsize=20)\n",
    "plt.imshow(image_transform_two)\n",
    "plt.axis('off')"
   ]
  },
  {
   "cell_type": "markdown",
   "metadata": {},
   "source": [
    "_____________"
   ]
  },
  {
   "cell_type": "markdown",
   "metadata": {},
   "source": [
    "### Combined effects"
   ]
  },
  {
   "cell_type": "markdown",
   "metadata": {},
   "source": [
    "This image shows all of the previous steps one after the other for a sample cutout."
   ]
  },
  {
   "cell_type": "code",
   "execution_count": 155,
   "metadata": {
    "scrolled": false
   },
   "outputs": [
    {
     "name": "stderr",
     "output_type": "stream",
     "text": [
      "2020-10-28 11:26:18,822 - WARNING - Clipping input data to the valid range for imshow with RGB data ([0..1] for floats or [0..255] for integers).\n"
     ]
    },
    {
     "data": {
      "image/png": "[encoded data removed]",
      "text/plain": [
       "<Figure size 3600x2880 with 5 Axes>"
      ]
     },
     "metadata": {
      "needs_background": "light"
     },
     "output_type": "display_data"
    }
   ],
   "source": [
    "f = plt.figure(figsize=(50, 40))\n",
    "\n",
    "f.add_subplot(5, 1, 1)\n",
    "plt.imshow(image_original)\n",
    "plt.gca().set_title('Original Image', fontsize=22)\n",
    "plt.axis('off')\n",
    "\n",
    "f.add_subplot(5, 1, 2)\n",
    "plt.imshow(image_transform_one)\n",
    "plt.gca().set_title('First Scaled Image', fontsize=22)\n",
    "plt.axis('off')\n",
    "\n",
    "f.add_subplot(5, 1, 3)\n",
    "plt.imshow(image_grey)\n",
    "plt.gca().set_title('Greyscale Image', fontsize=22)\n",
    "plt.axis('off')\n",
    "\n",
    "f.add_subplot(5, 1, 4)\n",
    "plt.imshow(image_sigma_clipped)\n",
    "plt.gca().set_title('Sigma Clipped Image', fontsize=22)\n",
    "plt.axis('off')\n",
    "\n",
    "f.add_subplot(5, 1, 5)\n",
    "plt.imshow(image_transform_two)\n",
    "plt.gca().set_title('Second Scaled Image', fontsize=22)\n",
    "plt.axis('off')\n",
    "\n",
    "plt.show(block=True)"
   ]
  },
  {
   "cell_type": "markdown",
   "metadata": {},
   "source": [
    "### Resampling Image"
   ]
  },
  {
   "cell_type": "markdown",
   "metadata": {},
   "source": [
    "This function resamples and rescales and image to a higher pixel resolution. This function is required at times to provide more data points when fitting the ellipses. An example of its functionality is shown here on both the original image (can sometimes be difficult to actually see the image) and on the previous image."
   ]
  },
  {
   "cell_type": "code",
   "execution_count": 156,
   "metadata": {},
   "outputs": [],
   "source": [
    "scale_percent = [100, 125, 150, 175]"
   ]
  },
  {
   "cell_type": "code",
   "execution_count": 174,
   "metadata": {},
   "outputs": [],
   "source": [
    "image = image_transform_two"
   ]
  },
  {
   "cell_type": "code",
   "execution_count": 175,
   "metadata": {},
   "outputs": [
    {
     "data": {
      "image/png": "[encoded data removed]",
      "text/plain": [
       "<Figure size 1080x1080 with 4 Axes>"
      ]
     },
     "metadata": {
      "needs_background": "light"
     },
     "output_type": "display_data"
    }
   ],
   "source": [
    "resized_images = []\n",
    "for i in scale_percent:\n",
    "    width = int(image.shape[1] * i / 100)\n",
    "    height = int(image.shape[0] * i / 100)\n",
    "    dim = (width, height)\n",
    "    resized = cv2.resize(image, dim, interpolation=cv2.INTER_AREA)\n",
    "    resized_images.append(resized)\n",
    "\n",
    "f = plt.figure(figsize=(15, 15))\n",
    "\n",
    "f.add_subplot(2, 2, 1)\n",
    "plt.imshow(resized_images[0])\n",
    "plt.gca().set_title('Image - ' +\n",
    "                    str(scale_percent[0]) + '% Scale', fontsize=20)\n",
    "\n",
    "f.add_subplot(2, 2, 2)\n",
    "plt.imshow(resized_images[1])\n",
    "plt.gca().set_title('Image - ' +\n",
    "                    str(scale_percent[1]) + '% Scale', fontsize=20)\n",
    "\n",
    "f.add_subplot(2, 2, 3)\n",
    "plt.imshow(resized_images[2])\n",
    "plt.gca().set_title('Image - ' +\n",
    "                    str(scale_percent[2]) + '% Scale', fontsize=20)\n",
    "\n",
    "f.add_subplot(2, 2, 4)\n",
    "plt.imshow(resized_images[3])\n",
    "plt.gca().set_title('Image - ' +\n",
    "                    str(scale_percent[3]) + '% Scale', fontsize=20)\n",
    "\n",
    "plt.show(block=True)"
   ]
  },
  {
   "cell_type": "markdown",
   "metadata": {},
   "source": [
    "_________________"
   ]
  },
  {
   "cell_type": "markdown",
   "metadata": {},
   "source": [
    "### Percentiles and Scale Range"
   ]
  },
  {
   "cell_type": "markdown",
   "metadata": {},
   "source": [
    "Select the percentiles to be used. These percentiles divide the image into regions based on the image array values. It is these percentiles that determine the location of the contours that are to be drawn. The scale range supplied provides the range of scale over which the image can be resampled in order to determine the contours and ellipses."
   ]
  },
  {
   "cell_type": "code",
   "execution_count": 176,
   "metadata": {},
   "outputs": [
    {
     "name": "stdout",
     "output_type": "stream",
     "text": [
      "Percentiles Used : [90, 80, 70, 60, 50, 0]\n",
      "\n",
      "Scale Range Used : From 100 to 200 in increments of 1%\n"
     ]
    }
   ],
   "source": [
    "percentiles = [90, 80, 70, 60, 50, 0]\n",
    "print('Percentiles Used :', percentiles)\n",
    "print()\n",
    "\n",
    "scale = [i for i in np.arange(100, 201, 1)]\n",
    "print('Scale Range Used : From 100 to 200 in increments of 1%')"
   ]
  },
  {
   "cell_type": "markdown",
   "metadata": {},
   "source": [
    "___________________"
   ]
  },
  {
   "cell_type": "markdown",
   "metadata": {},
   "source": [
    "#### This is the function that reads in the percentiles on the relevant image, obtains the contours and finds the corresponding ellipses to these contours."
   ]
  },
  {
   "cell_type": "code",
   "execution_count": 177,
   "metadata": {
    "scrolled": true
   },
   "outputs": [],
   "source": [
    "image = image_transform_two\n",
    "\n",
    "\n",
    "def trial(image, percentiles):\n",
    "\n",
    "    percentiles = np.sort(percentiles)[::-1]\n",
    "\n",
    "    feats = []\n",
    "    threshold = []\n",
    "    all_contours = []\n",
    "\n",
    "    x0 = y0 = -1\n",
    "    x_cent = image.shape[0] // 2\n",
    "    y_cent = image.shape[1] // 2\n",
    "\n",
    "    if np.all(image == 0):\n",
    "        failed = True\n",
    "        failure_message = \"Invalid cutout for feature extraction\"\n",
    "    else:\n",
    "        failed = False\n",
    "        failure_message = \"\"\n",
    "\n",
    "    stop = False\n",
    "\n",
    "    for a in scale:\n",
    "        print('Resize Image to scale : ', a, '%')\n",
    "        drawn_contours = []\n",
    "        all_ellipses = []\n",
    "        lst = []\n",
    "        feats = []\n",
    "\n",
    "        for p in percentiles:\n",
    "            lst.append(p)\n",
    "            width = int(image.shape[1] * a / 100)\n",
    "            height = int(image.shape[0] * a / 100)\n",
    "            dim = (width, height)\n",
    "            resize = cv2.resize(image, dim, interpolation=cv2.INTER_AREA)\n",
    "            resize_original = cv2.resize(\n",
    "                image_original, dim, interpolation=cv2.INTER_AREA)\n",
    "\n",
    "            if failed:\n",
    "                contours = []\n",
    "            else:\n",
    "                thresh = np.percentile(resize[resize > 0], p)\n",
    "                contours, hierarchy = find_contours(resize, thresh)\n",
    "\n",
    "                x_contours = np.zeros(len(contours))\n",
    "                y_contours = np.zeros(len(contours))\n",
    "\n",
    "            if len(contours) != 0:\n",
    "                for k in range(len(contours)):\n",
    "                    M = cv2.moments(contours[k])\n",
    "                    try:\n",
    "                        x_contours[k] = int(M[\"m10\"] / M[\"m00\"])\n",
    "                        y_contours[k] = int(M[\"m01\"] / M[\"m00\"])\n",
    "                    except ZeroDivisionError:\n",
    "                        pass\n",
    "                if x0 == -1:\n",
    "                    x_diff = x_contours - x_cent\n",
    "                    y_diff = y_contours - y_cent\n",
    "                else:\n",
    "                    x_diff = x_contours - x0\n",
    "                    y_diff = y_contours - y0\n",
    "\n",
    "                # Will try to find the CLOSEST contour to the central one\n",
    "                r_diff = np.sqrt(x_diff**2 + y_diff**2)\n",
    "\n",
    "                ind = np.argmin(r_diff)\n",
    "\n",
    "                if x0 == -1:\n",
    "                    x0 = x_contours[ind]\n",
    "                    y0 = y_contours[ind]\n",
    "\n",
    "                c = contours[ind]\n",
    "\n",
    "                params = get_ellipse_leastsq(c, resize)\n",
    "\n",
    "                # Limiting condition for OpenCVs fitEllipse. Ensures a\n",
    "                # minimum of 5 points are found\n",
    "                if len(c) < 5:\n",
    "                    long_enough = False\n",
    "                    print('Loop broken due to insufficient points')\n",
    "                    print()\n",
    "                    break\n",
    "\n",
    "                ellipse_arr, param = fit_ellipse(\n",
    "                    c, resize, return_params=True, filled=False)\n",
    "\n",
    "                if np.any(np.isnan(params)):\n",
    "                    failed = True\n",
    "                else:\n",
    "                    if params[3] == 0 or params[4] == 0:\n",
    "                        aspect = 1\n",
    "                    else:\n",
    "                        aspect = params[4] / params[3]\n",
    "\n",
    "                    if aspect < 1:\n",
    "                        aspect = 1 / aspect\n",
    "                    if aspect > 100:\n",
    "                        aspect = 1\n",
    "\n",
    "                    new_params = params[:3] + [aspect] + [params[-1]]\n",
    "                    feats.append(new_params)\n",
    "\n",
    "                all_ellipses.append(ellipse_arr)\n",
    "                all_contours.append(c)\n",
    "\n",
    "                draw = draw_contour(c, resize)\n",
    "                drawn_contours.append(draw)\n",
    "\n",
    "            else:\n",
    "                failed = True\n",
    "                failure_message = \"No contour found\"\n",
    "\n",
    "            if failed:\n",
    "                feats.append([np.nan] * 5)\n",
    "                logging_tools.log(failure_message)\n",
    "\n",
    "            print('Number of contours found :', len(all_ellipses))\n",
    "\n",
    "            if len(lst) == len(percentiles):\n",
    "                print('All necessary contours found')\n",
    "                stop = True\n",
    "\n",
    "            if np.any(np.isnan(feats)):\n",
    "                return [np.nan] * 4 * len(percentiles)\n",
    "                #[np.nan] * 4 * len(percentiles)\n",
    "            else:\n",
    "                max_ind = np.argmax(percentiles)\n",
    "\n",
    "                residuals = []\n",
    "                dist_to_centre = []\n",
    "                aspect = []\n",
    "                theta = []\n",
    "\n",
    "                x0_max_sigma = feats[max_ind][1]\n",
    "                y0_max_sigma = feats[max_ind][2]\n",
    "                aspect_max_sigma = feats[max_ind][3]\n",
    "                theta_max_sigma = feats[max_ind][4]\n",
    "\n",
    "                for n in range(len(feats)):\n",
    "                    prms = feats[n]\n",
    "                    residuals.append(prms[0])\n",
    "                    if prms[1] == 0 or prms[2] == 0:\n",
    "                        r = 0\n",
    "                    else:\n",
    "                        x_diff = prms[1] - x0_max_sigma\n",
    "                        y_diff = prms[2] - y0_max_sigma\n",
    "                        r = np.sqrt((x_diff)**2 + (y_diff)**2)\n",
    "                    dist_to_centre.append(r)\n",
    "                    aspect.append(prms[3] / aspect_max_sigma)\n",
    "                    theta_diff = np.abs(prms[4] - theta_max_sigma) % 360\n",
    "                    # Because there's redundancy about which way an ellipse\n",
    "                    # is aligned, we always take the acute angle\n",
    "                    if theta_diff > 90:\n",
    "                        theta_diff -= 90\n",
    "                    theta.append(theta_diff)\n",
    "\n",
    "                # return np.hstack((residuals, dist_to_centre, aspect, theta))\n",
    "\n",
    "        if stop:\n",
    "            break\n",
    "    return np.hstack((residuals, dist_to_centre, aspect, theta)), drawn_contours, all_ellipses"
   ]
  },
  {
   "cell_type": "code",
   "execution_count": 178,
   "metadata": {},
   "outputs": [
    {
     "name": "stdout",
     "output_type": "stream",
     "text": [
      "Resize Image to scale :  100 %\n",
      "Number of contours found : 1\n",
      "Number of contours found : 2\n",
      "Number of contours found : 3\n",
      "Loop broken due to insufficient points\n",
      "\n",
      "Resize Image to scale :  101 %\n",
      "Number of contours found : 1\n",
      "Number of contours found : 2\n",
      "Number of contours found : 3\n",
      "Loop broken due to insufficient points\n",
      "\n",
      "Resize Image to scale :  102 %\n",
      "Number of contours found : 1\n",
      "Number of contours found : 2\n",
      "Number of contours found : 3\n",
      "Loop broken due to insufficient points\n",
      "\n",
      "Resize Image to scale :  103 %\n",
      "Number of contours found : 1\n",
      "Number of contours found : 2\n",
      "Number of contours found : 3\n",
      "Loop broken due to insufficient points\n",
      "\n",
      "Resize Image to scale :  104 %\n",
      "Number of contours found : 1\n",
      "Number of contours found : 2\n",
      "Number of contours found : 3\n",
      "Number of contours found : 4\n",
      "Loop broken due to insufficient points\n",
      "\n",
      "Resize Image to scale :  105 %\n",
      "Number of contours found : 1\n",
      "Number of contours found : 2\n",
      "Number of contours found : 3\n",
      "Number of contours found : 4\n",
      "Loop broken due to insufficient points\n",
      "\n",
      "Resize Image to scale :  106 %\n",
      "Number of contours found : 1\n",
      "Number of contours found : 2\n",
      "Number of contours found : 3\n",
      "Number of contours found : 4\n",
      "Loop broken due to insufficient points\n",
      "\n",
      "Resize Image to scale :  107 %\n",
      "Number of contours found : 1\n",
      "Number of contours found : 2\n",
      "Loop broken due to insufficient points\n",
      "\n",
      "Resize Image to scale :  108 %\n",
      "Number of contours found : 1\n",
      "Number of contours found : 2\n",
      "Loop broken due to insufficient points\n",
      "\n",
      "Resize Image to scale :  109 %\n",
      "Number of contours found : 1\n",
      "Number of contours found : 2\n",
      "Loop broken due to insufficient points\n",
      "\n",
      "Resize Image to scale :  110 %\n",
      "Number of contours found : 1\n",
      "Number of contours found : 2\n",
      "Number of contours found : 3\n",
      "Loop broken due to insufficient points\n",
      "\n",
      "Resize Image to scale :  111 %\n",
      "Number of contours found : 1\n",
      "Number of contours found : 2\n",
      "Number of contours found : 3\n",
      "Loop broken due to insufficient points\n",
      "\n",
      "Resize Image to scale :  112 %\n",
      "Number of contours found : 1\n",
      "Number of contours found : 2\n",
      "Number of contours found : 3\n",
      "Loop broken due to insufficient points\n",
      "\n",
      "Resize Image to scale :  113 %\n",
      "Number of contours found : 1\n",
      "Number of contours found : 2\n",
      "Loop broken due to insufficient points\n",
      "\n",
      "Resize Image to scale :  114 %\n",
      "Number of contours found : 1\n",
      "Number of contours found : 2\n",
      "Loop broken due to insufficient points\n",
      "\n",
      "Resize Image to scale :  115 %\n",
      "Number of contours found : 1\n",
      "Number of contours found : 2\n",
      "Loop broken due to insufficient points\n",
      "\n",
      "Resize Image to scale :  116 %\n",
      "Number of contours found : 1\n",
      "Number of contours found : 2\n",
      "Number of contours found : 3\n",
      "Number of contours found : 4\n",
      "Loop broken due to insufficient points\n",
      "\n",
      "Resize Image to scale :  117 %\n",
      "Number of contours found : 1\n",
      "Number of contours found : 2\n",
      "Number of contours found : 3\n",
      "Number of contours found : 4\n",
      "Loop broken due to insufficient points\n",
      "\n",
      "Resize Image to scale :  118 %\n",
      "Number of contours found : 1\n",
      "Number of contours found : 2\n",
      "Number of contours found : 3\n",
      "Number of contours found : 4\n",
      "Loop broken due to insufficient points\n",
      "\n",
      "Resize Image to scale :  119 %\n",
      "Number of contours found : 1\n",
      "Number of contours found : 2\n",
      "Loop broken due to insufficient points\n",
      "\n",
      "Resize Image to scale :  120 %\n",
      "Number of contours found : 1\n",
      "Number of contours found : 2\n",
      "Loop broken due to insufficient points\n",
      "\n",
      "Resize Image to scale :  121 %\n",
      "Number of contours found : 1\n",
      "Number of contours found : 2\n",
      "Loop broken due to insufficient points\n",
      "\n",
      "Resize Image to scale :  122 %\n",
      "Number of contours found : 1\n",
      "Number of contours found : 2\n",
      "Number of contours found : 3\n",
      "Loop broken due to insufficient points\n",
      "\n",
      "Resize Image to scale :  123 %\n",
      "Number of contours found : 1\n",
      "Number of contours found : 2\n",
      "Number of contours found : 3\n",
      "Loop broken due to insufficient points\n",
      "\n",
      "Resize Image to scale :  124 %\n",
      "Number of contours found : 1\n",
      "Number of contours found : 2\n",
      "Number of contours found : 3\n",
      "Loop broken due to insufficient points\n",
      "\n",
      "Resize Image to scale :  125 %\n",
      "Number of contours found : 1\n",
      "Number of contours found : 2\n",
      "Number of contours found : 3\n",
      "Loop broken due to insufficient points\n",
      "\n",
      "Resize Image to scale :  126 %\n",
      "Number of contours found : 1\n",
      "Number of contours found : 2\n",
      "Number of contours found : 3\n",
      "Loop broken due to insufficient points\n",
      "\n",
      "Resize Image to scale :  127 %\n",
      "Number of contours found : 1\n",
      "Number of contours found : 2\n",
      "Number of contours found : 3\n",
      "Loop broken due to insufficient points\n",
      "\n",
      "Resize Image to scale :  128 %\n",
      "Number of contours found : 1\n",
      "Number of contours found : 2\n",
      "Number of contours found : 3\n",
      "Loop broken due to insufficient points\n",
      "\n",
      "Resize Image to scale :  129 %\n",
      "Number of contours found : 1\n",
      "Number of contours found : 2\n",
      "Number of contours found : 3\n",
      "Loop broken due to insufficient points\n",
      "\n",
      "Resize Image to scale :  130 %\n",
      "Number of contours found : 1\n",
      "Number of contours found : 2\n",
      "Number of contours found : 3\n",
      "Loop broken due to insufficient points\n",
      "\n",
      "Resize Image to scale :  131 %\n",
      "Number of contours found : 1\n",
      "Number of contours found : 2\n",
      "Number of contours found : 3\n",
      "Loop broken due to insufficient points\n",
      "\n",
      "Resize Image to scale :  132 %\n",
      "Number of contours found : 1\n",
      "Number of contours found : 2\n",
      "Loop broken due to insufficient points\n",
      "\n",
      "Resize Image to scale :  133 %\n",
      "Number of contours found : 1\n",
      "Number of contours found : 2\n",
      "Loop broken due to insufficient points\n",
      "\n",
      "Resize Image to scale :  134 %\n",
      "Number of contours found : 1\n",
      "Number of contours found : 2\n",
      "Loop broken due to insufficient points\n",
      "\n",
      "Resize Image to scale :  135 %\n",
      "Number of contours found : 1\n",
      "Number of contours found : 2\n",
      "Number of contours found : 3\n",
      "Loop broken due to insufficient points\n",
      "\n",
      "Resize Image to scale :  136 %\n",
      "Number of contours found : 1\n",
      "Number of contours found : 2\n",
      "Number of contours found : 3\n",
      "Loop broken due to insufficient points\n",
      "\n",
      "Resize Image to scale :  137 %\n",
      "Number of contours found : 1\n",
      "Number of contours found : 2\n",
      "Number of contours found : 3\n",
      "Loop broken due to insufficient points\n",
      "\n",
      "Resize Image to scale :  138 %\n",
      "Number of contours found : 1\n",
      "Number of contours found : 2\n",
      "Number of contours found : 3\n",
      "Number of contours found : 4\n",
      "Loop broken due to insufficient points\n",
      "\n",
      "Resize Image to scale :  139 %\n",
      "Number of contours found : 1\n",
      "Number of contours found : 2\n",
      "Number of contours found : 3\n",
      "Number of contours found : 4\n",
      "Loop broken due to insufficient points\n",
      "\n",
      "Resize Image to scale :  140 %\n",
      "Number of contours found : 1\n",
      "Number of contours found : 2\n",
      "Number of contours found : 3\n",
      "Number of contours found : 4\n",
      "Loop broken due to insufficient points\n",
      "\n",
      "Resize Image to scale :  141 %\n",
      "Number of contours found : 1\n",
      "Number of contours found : 2\n",
      "Number of contours found : 3\n",
      "Loop broken due to insufficient points\n",
      "\n",
      "Resize Image to scale :  142 %\n",
      "Number of contours found : 1\n",
      "Number of contours found : 2\n",
      "Number of contours found : 3\n",
      "Loop broken due to insufficient points\n",
      "\n",
      "Resize Image to scale :  143 %\n",
      "Number of contours found : 1\n",
      "Number of contours found : 2\n",
      "Number of contours found : 3\n",
      "Loop broken due to insufficient points\n",
      "\n",
      "Resize Image to scale :  144 %\n",
      "Number of contours found : 1\n",
      "Number of contours found : 2\n",
      "Loop broken due to insufficient points\n",
      "\n",
      "Resize Image to scale :  145 %\n",
      "Number of contours found : 1\n",
      "Number of contours found : 2\n",
      "Loop broken due to insufficient points\n",
      "\n",
      "Resize Image to scale :  146 %\n",
      "Number of contours found : 1\n",
      "Number of contours found : 2\n",
      "Loop broken due to insufficient points\n",
      "\n",
      "Resize Image to scale :  147 %\n",
      "Number of contours found : 1\n",
      "Number of contours found : 2\n",
      "Number of contours found : 3\n",
      "Loop broken due to insufficient points\n",
      "\n",
      "Resize Image to scale :  148 %\n",
      "Number of contours found : 1\n",
      "Number of contours found : 2\n",
      "Number of contours found : 3\n",
      "Loop broken due to insufficient points\n",
      "\n",
      "Resize Image to scale :  149 %\n",
      "Number of contours found : 1\n",
      "Number of contours found : 2\n",
      "Number of contours found : 3\n",
      "Loop broken due to insufficient points\n",
      "\n",
      "Resize Image to scale :  150 %\n",
      "Number of contours found : 1\n",
      "Number of contours found : 2\n",
      "Number of contours found : 3\n",
      "Loop broken due to insufficient points\n",
      "\n",
      "Resize Image to scale :  151 %\n",
      "Number of contours found : 1\n",
      "Number of contours found : 2\n",
      "Number of contours found : 3\n",
      "Loop broken due to insufficient points\n",
      "\n",
      "Resize Image to scale :  152 %\n",
      "Number of contours found : 1\n",
      "Number of contours found : 2\n",
      "Number of contours found : 3\n",
      "Loop broken due to insufficient points\n",
      "\n",
      "Resize Image to scale :  153 %\n",
      "Number of contours found : 1\n",
      "Number of contours found : 2\n",
      "Number of contours found : 3\n",
      "Loop broken due to insufficient points\n",
      "\n",
      "Resize Image to scale :  154 %\n",
      "Number of contours found : 1\n",
      "Number of contours found : 2\n",
      "Loop broken due to insufficient points\n",
      "\n",
      "Resize Image to scale :  155 %\n",
      "Number of contours found : 1\n",
      "Number of contours found : 2\n",
      "Loop broken due to insufficient points\n",
      "\n",
      "Resize Image to scale :  156 %\n",
      "Number of contours found : 1\n",
      "Number of contours found : 2\n",
      "Loop broken due to insufficient points\n",
      "\n",
      "Resize Image to scale :  157 %\n",
      "Number of contours found : 1\n",
      "Number of contours found : 2\n",
      "Number of contours found : 3\n",
      "Loop broken due to insufficient points\n",
      "\n",
      "Resize Image to scale :  158 %\n",
      "Number of contours found : 1\n",
      "Number of contours found : 2\n",
      "Number of contours found : 3\n",
      "Loop broken due to insufficient points\n",
      "\n",
      "Resize Image to scale :  159 %\n",
      "Number of contours found : 1\n",
      "Number of contours found : 2\n",
      "Number of contours found : 3\n",
      "Loop broken due to insufficient points\n",
      "\n",
      "Resize Image to scale :  160 %\n",
      "Number of contours found : 1\n",
      "Number of contours found : 2\n",
      "Loop broken due to insufficient points\n",
      "\n",
      "Resize Image to scale :  161 %\n",
      "Number of contours found : 1\n",
      "Number of contours found : 2\n",
      "Loop broken due to insufficient points\n",
      "\n",
      "Resize Image to scale :  162 %\n",
      "Number of contours found : 1\n",
      "Number of contours found : 2\n",
      "Loop broken due to insufficient points\n",
      "\n",
      "Resize Image to scale :  163 %\n",
      "Number of contours found : 1\n",
      "Number of contours found : 2\n",
      "Number of contours found : 3\n",
      "Loop broken due to insufficient points\n",
      "\n",
      "Resize Image to scale :  164 %\n",
      "Number of contours found : 1\n",
      "Number of contours found : 2\n",
      "Number of contours found : 3\n",
      "Loop broken due to insufficient points\n",
      "\n",
      "Resize Image to scale :  165 %\n",
      "Number of contours found : 1\n",
      "Number of contours found : 2\n",
      "Number of contours found : 3\n",
      "Loop broken due to insufficient points\n",
      "\n",
      "Resize Image to scale :  166 %\n",
      "Number of contours found : 1\n",
      "Number of contours found : 2\n",
      "Loop broken due to insufficient points\n",
      "\n",
      "Resize Image to scale :  167 %\n",
      "Number of contours found : 1\n",
      "Number of contours found : 2\n",
      "Loop broken due to insufficient points\n",
      "\n",
      "Resize Image to scale :  168 %\n"
     ]
    },
    {
     "name": "stdout",
     "output_type": "stream",
     "text": [
      "Number of contours found : 1\n",
      "Number of contours found : 2\n",
      "Loop broken due to insufficient points\n",
      "\n",
      "Resize Image to scale :  169 %\n",
      "Number of contours found : 1\n",
      "Number of contours found : 2\n",
      "Number of contours found : 3\n",
      "Loop broken due to insufficient points\n",
      "\n",
      "Resize Image to scale :  170 %\n",
      "Number of contours found : 1\n",
      "Number of contours found : 2\n",
      "Number of contours found : 3\n",
      "Loop broken due to insufficient points\n",
      "\n",
      "Resize Image to scale :  171 %\n",
      "Number of contours found : 1\n",
      "Number of contours found : 2\n",
      "Number of contours found : 3\n",
      "Loop broken due to insufficient points\n",
      "\n",
      "Resize Image to scale :  172 %\n",
      "Number of contours found : 1\n",
      "Number of contours found : 2\n",
      "Number of contours found : 3\n",
      "Loop broken due to insufficient points\n",
      "\n",
      "Resize Image to scale :  173 %\n",
      "Number of contours found : 1\n",
      "Number of contours found : 2\n",
      "Number of contours found : 3\n",
      "Loop broken due to insufficient points\n",
      "\n",
      "Resize Image to scale :  174 %\n",
      "Number of contours found : 1\n",
      "Number of contours found : 2\n",
      "Number of contours found : 3\n",
      "Loop broken due to insufficient points\n",
      "\n",
      "Resize Image to scale :  175 %\n",
      "Number of contours found : 1\n",
      "Number of contours found : 2\n",
      "Number of contours found : 3\n",
      "Loop broken due to insufficient points\n",
      "\n",
      "Resize Image to scale :  176 %\n",
      "Number of contours found : 1\n",
      "Number of contours found : 2\n",
      "Number of contours found : 3\n",
      "Loop broken due to insufficient points\n",
      "\n",
      "Resize Image to scale :  177 %\n",
      "Number of contours found : 1\n",
      "Number of contours found : 2\n",
      "Number of contours found : 3\n",
      "Loop broken due to insufficient points\n",
      "\n",
      "Resize Image to scale :  178 %\n",
      "Number of contours found : 1\n",
      "Number of contours found : 2\n",
      "Number of contours found : 3\n",
      "Loop broken due to insufficient points\n",
      "\n",
      "Resize Image to scale :  179 %\n",
      "Number of contours found : 1\n",
      "Number of contours found : 2\n",
      "Number of contours found : 3\n",
      "Loop broken due to insufficient points\n",
      "\n",
      "Resize Image to scale :  180 %\n",
      "Number of contours found : 1\n",
      "Number of contours found : 2\n",
      "Number of contours found : 3\n",
      "Loop broken due to insufficient points\n",
      "\n",
      "Resize Image to scale :  181 %\n",
      "Number of contours found : 1\n",
      "Number of contours found : 2\n",
      "Number of contours found : 3\n",
      "Loop broken due to insufficient points\n",
      "\n",
      "Resize Image to scale :  182 %\n",
      "Number of contours found : 1\n",
      "Number of contours found : 2\n",
      "Number of contours found : 3\n",
      "Loop broken due to insufficient points\n",
      "\n",
      "Resize Image to scale :  183 %\n",
      "Number of contours found : 1\n",
      "Number of contours found : 2\n",
      "Number of contours found : 3\n",
      "Loop broken due to insufficient points\n",
      "\n",
      "Resize Image to scale :  184 %\n",
      "Number of contours found : 1\n",
      "Number of contours found : 2\n",
      "Number of contours found : 3\n",
      "Loop broken due to insufficient points\n",
      "\n",
      "Resize Image to scale :  185 %\n",
      "Number of contours found : 1\n",
      "Number of contours found : 2\n",
      "Number of contours found : 3\n",
      "Loop broken due to insufficient points\n",
      "\n",
      "Resize Image to scale :  186 %\n",
      "Number of contours found : 1\n",
      "Number of contours found : 2\n",
      "Number of contours found : 3\n",
      "Loop broken due to insufficient points\n",
      "\n",
      "Resize Image to scale :  187 %\n",
      "Number of contours found : 1\n",
      "Number of contours found : 2\n",
      "Number of contours found : 3\n",
      "Loop broken due to insufficient points\n",
      "\n",
      "Resize Image to scale :  188 %\n",
      "Number of contours found : 1\n",
      "Number of contours found : 2\n",
      "Number of contours found : 3\n",
      "Loop broken due to insufficient points\n",
      "\n",
      "Resize Image to scale :  189 %\n",
      "Number of contours found : 1\n",
      "Number of contours found : 2\n",
      "Number of contours found : 3\n",
      "Loop broken due to insufficient points\n",
      "\n",
      "Resize Image to scale :  190 %\n",
      "Number of contours found : 1\n",
      "Number of contours found : 2\n",
      "Number of contours found : 3\n",
      "Loop broken due to insufficient points\n",
      "\n",
      "Resize Image to scale :  191 %\n",
      "Number of contours found : 1\n",
      "Number of contours found : 2\n",
      "Number of contours found : 3\n",
      "Loop broken due to insufficient points\n",
      "\n",
      "Resize Image to scale :  192 %\n",
      "Number of contours found : 1\n",
      "Number of contours found : 2\n",
      "Number of contours found : 3\n",
      "Loop broken due to insufficient points\n",
      "\n",
      "Resize Image to scale :  193 %\n",
      "Number of contours found : 1\n",
      "Number of contours found : 2\n",
      "Number of contours found : 3\n",
      "Loop broken due to insufficient points\n",
      "\n",
      "Resize Image to scale :  194 %\n",
      "Number of contours found : 1\n",
      "Number of contours found : 2\n",
      "Number of contours found : 3\n",
      "Loop broken due to insufficient points\n",
      "\n",
      "Resize Image to scale :  195 %\n",
      "Number of contours found : 1\n",
      "Number of contours found : 2\n",
      "Number of contours found : 3\n",
      "Loop broken due to insufficient points\n",
      "\n",
      "Resize Image to scale :  196 %\n",
      "Number of contours found : 1\n",
      "Number of contours found : 2\n",
      "Number of contours found : 3\n",
      "Loop broken due to insufficient points\n",
      "\n",
      "Resize Image to scale :  197 %\n",
      "Number of contours found : 1\n",
      "Number of contours found : 2\n",
      "Number of contours found : 3\n",
      "Loop broken due to insufficient points\n",
      "\n",
      "Resize Image to scale :  198 %\n",
      "Number of contours found : 1\n",
      "Number of contours found : 2\n",
      "Number of contours found : 3\n",
      "Loop broken due to insufficient points\n",
      "\n",
      "Resize Image to scale :  199 %\n",
      "Number of contours found : 1\n",
      "Number of contours found : 2\n",
      "Number of contours found : 3\n",
      "Loop broken due to insufficient points\n",
      "\n",
      "Resize Image to scale :  200 %\n",
      "Number of contours found : 1\n",
      "Number of contours found : 2\n",
      "Number of contours found : 3\n",
      "Number of contours found : 4\n",
      "Number of contours found : 5\n",
      "Number of contours found : 6\n",
      "All necessary contours found\n"
     ]
    }
   ],
   "source": [
    "feats, contours,ellipses = trial(image, percentiles)"
   ]
  },
  {
   "cell_type": "markdown",
   "metadata": {},
   "source": [
    "#### All of the contours and the correscponding ellipses are plotted here. The cmap is set to hot to better visualise the contours and ellipses."
   ]
  },
  {
   "cell_type": "code",
   "execution_count": 180,
   "metadata": {
    "scrolled": false
   },
   "outputs": [
    {
     "data": {
      "image/png": "[encoded data removed]",
      "text/plain": [
       "<Figure size 1080x1080 with 2 Axes>"
      ]
     },
     "metadata": {
      "needs_background": "light"
     },
     "output_type": "display_data"
    },
    {
     "data": {
      "image/png": "[encoded data removed]",
      "text/plain": [
       "<Figure size 1080x1080 with 2 Axes>"
      ]
     },
     "metadata": {
      "needs_background": "light"
     },
     "output_type": "display_data"
    },
    {
     "data": {
      "image/png": "[encoded data removed]",
      "text/plain": [
       "<Figure size 1080x1080 with 2 Axes>"
      ]
     },
     "metadata": {
      "needs_background": "light"
     },
     "output_type": "display_data"
    },
    {
     "data": {
      "image/png": "[encoded data removed]",
      "text/plain": [
       "<Figure size 1080x1080 with 2 Axes>"
      ]
     },
     "metadata": {
      "needs_background": "light"
     },
     "output_type": "display_data"
    },
    {
     "data": {
      "image/png": "[encoded data removed]",
      "text/plain": [
       "<Figure size 1080x1080 with 2 Axes>"
      ]
     },
     "metadata": {
      "needs_background": "light"
     },
     "output_type": "display_data"
    },
    {
     "data": {
      "image/png": "[encoded data removed]",
      "text/plain": [
       "<Figure size 1080x1080 with 2 Axes>"
      ]
     },
     "metadata": {
      "needs_background": "light"
     },
     "output_type": "display_data"
    }
   ],
   "source": [
    "for i in range(len(contours)):\n",
    "    f = plt.figure(figsize=(15, 15))\n",
    "\n",
    "    f.add_subplot(1, 2, 1)\n",
    "    plt.imshow(contours[i], cmap='hot')\n",
    "    plt.gca().set_title('Contour - ' +\n",
    "                        str(percentiles[i]) + 'th percentile', fontsize=20)\n",
    "\n",
    "    f.add_subplot(1, 2, 2)\n",
    "    plt.imshow(ellipses[i], cmap='hot')\n",
    "    plt.gca().set_title('Ellipse - ' +\n",
    "                        str(percentiles[i]) + 'th percentile', fontsize=20)\n",
    "\n",
    "    plt.show(block=True)"
   ]
  },
  {
   "cell_type": "markdown",
   "metadata": {},
   "source": [
    "## Works: Different Size Image Each Time"
   ]
  },
  {
   "cell_type": "code",
   "execution_count": 46,
   "metadata": {},
   "outputs": [
    {
     "name": "stdout",
     "output_type": "stream",
     "text": [
      "20\n",
      "33\n",
      "40\n",
      "58\n",
      "71\n",
      "91\n"
     ]
    }
   ],
   "source": [
    "image = image_transform_two\n",
    "\n",
    "percentiles = np.sort(percentiles)[::-1]\n",
    "\n",
    "c = []\n",
    "feats = []\n",
    "threshold = []\n",
    "all_contours = []\n",
    "all_ellipses = []\n",
    "\n",
    "x0 = y0 = -1\n",
    "x_cent = image.shape[0] // 2\n",
    "y_cent = image.shape[1] // 2\n",
    "\n",
    "if np.all(image == 0):\n",
    "    failed = True\n",
    "    failure_message = \"Invalid cutout for feature extraction\"\n",
    "else:\n",
    "    failed = False\n",
    "    failure_message = \"\"\n",
    "\n",
    "too_short = False\n",
    "contour_length = []\n",
    "drawn_contours = []\n",
    "\n",
    "for p in percentiles:\n",
    "    if failed:\n",
    "        contours = []\n",
    "\n",
    "    else:\n",
    "        thresh = np.percentile(image[image > 0], p)\n",
    "        contours_1, hierarchy = find_contours(image, thresh)\n",
    "\n",
    "        x_contours = np.zeros(len(contours_1))\n",
    "        y_contours = np.zeros(len(contours_1))\n",
    "\n",
    "    if too_short:\n",
    "        scale_percent = 105\n",
    "        width = int(image.shape[1] * scale_percent / 100)\n",
    "        height = int(image.shape[0] * scale_percent / 100)\n",
    "        dim = (width, height)\n",
    "        image = cv2.resize(image, dim, interpolation=cv2.INTER_AREA)\n",
    "\n",
    "        thresh = np.percentile(image[image > 0], p)\n",
    "        contours_1, hierarchy = find_contours(image, thresh)\n",
    "\n",
    "        x_contours = np.zeros(len(contours_1))\n",
    "        y_contours = np.zeros(len(contours_1))\n",
    "\n",
    "    if len(contours_1) != 0:\n",
    "        for k in range(len(contours_1)):\n",
    "            M = cv2.moments(contours_1[k])\n",
    "            try:\n",
    "                x_contours[k] = int(M[\"m10\"] / M[\"m00\"])\n",
    "                y_contours[k] = int(M[\"m01\"] / M[\"m00\"])\n",
    "            except ZeroDivisionError:\n",
    "                pass\n",
    "        if x0 == -1:\n",
    "            x_diff = x_contours - x_cent\n",
    "            y_diff = y_contours - y_cent\n",
    "        else:\n",
    "            x_diff = x_contours - x0\n",
    "            y_diff = y_contours - y0\n",
    "\n",
    "        # Will try to find the CLOSEST contour to the central one\n",
    "        r_diff = np.sqrt(x_diff**2 + y_diff**2)\n",
    "\n",
    "        ind = np.argmin(r_diff)\n",
    "\n",
    "        if x0 == -1:\n",
    "            x0 = x_contours[ind]\n",
    "            y0 = y_contours[ind]\n",
    "\n",
    "        c_1 = contours_1[ind]\n",
    "\n",
    "        params = get_ellipse_leastsq(c_1, image)\n",
    "\n",
    "        # Params return in this order:\n",
    "        # residual, x0, y0, maj_axis, min_axis, theta\n",
    "        if np.any(np.isnan(params)):\n",
    "            failed = True\n",
    "        else:\n",
    "            if params[3] == 0 or params[4] == 0:\n",
    "                aspect = 1\n",
    "            else:\n",
    "                aspect = params[4] / params[3]\n",
    "\n",
    "            if aspect < 1:\n",
    "                aspect = 1 / aspect\n",
    "            if aspect > 100:\n",
    "                aspect = 1\n",
    "\n",
    "            new_params = params[:3] + [aspect] + [params[-1]]\n",
    "            feats.append(new_params)\n",
    "\n",
    "    else:\n",
    "        failed = True\n",
    "        failure_message = \"No contour found\"\n",
    "\n",
    "    if failed:\n",
    "        feats.append([np.nan] * 5)\n",
    "        logging_tools.log(failure_message)\n",
    "\n",
    "    contour_length.append(len(c_1))\n",
    "\n",
    "    ellipse_arr, param = fit_ellipse(\n",
    "        c_1, image, return_params=True, filled=False)\n",
    "\n",
    "    all_ellipses.append(ellipse_arr)\n",
    "    all_contours.append(c_1)\n",
    "\n",
    "    draw = draw_contour(c_1, image)\n",
    "    drawn_contours.append(draw)\n",
    "\n",
    "    print(len(c_1))\n",
    "\n",
    "    if any(contour_length) < 5:\n",
    "        too_short = True\n",
    "\n",
    "    else:\n",
    "        too_short = False"
   ]
  },
  {
   "cell_type": "markdown",
   "metadata": {},
   "source": [
    "for i in range(len(contour_length)):\n",
    "    if contour_length[i] > 5:\n",
    "        too_short = False\n",
    "        print(too_short)\n",
    "    else:\n",
    "        too_short = True\n",
    "        print(too_short)"
   ]
  },
  {
   "cell_type": "code",
   "execution_count": null,
   "metadata": {},
   "outputs": [],
   "source": [
    "for i in range(len(percentiles)):\n",
    "    print(np.shape(drawn_contours[i]))"
   ]
  },
  {
   "cell_type": "code",
   "execution_count": null,
   "metadata": {
    "scrolled": false
   },
   "outputs": [],
   "source": [
    "for i in range(len(percentiles)):\n",
    "    f = plt.figure(figsize=(15, 15))\n",
    "\n",
    "    f.add_subplot(1, 2, 1)\n",
    "    plt.imshow(drawn_contours[i], cmap='hot')\n",
    "    plt.gca().set_title('Contour - ' +\n",
    "                        str(percentiles[i]) + 'th percentile', fontsize=20)\n",
    "\n",
    "    f.add_subplot(1, 2, 2)\n",
    "    plt.imshow(all_ellipses[i], cmap='hot')\n",
    "    plt.gca().set_title('Ellipse - ' +\n",
    "                        str(percentiles[i]) + 'th percentile', fontsize=20)\n",
    "\n",
    "    plt.show(block=True)"
   ]
  },
  {
   "cell_type": "markdown",
   "metadata": {},
   "source": [
    "_______________"
   ]
  },
  {
   "cell_type": "markdown",
   "metadata": {},
   "source": [
    "## Section 2: Using A Cutout From The Legacy Skyviewer."
   ]
  },
  {
   "cell_type": "markdown",
   "metadata": {},
   "source": [
    "This section applies the same procedure as Astronomaly on a cutout from the Legacy Skyviewer. The image transformation process can thus be displayed step by step. This assists in troubleshooting if needed."
   ]
  },
  {
   "cell_type": "markdown",
   "metadata": {},
   "source": [
    "________________"
   ]
  },
  {
   "cell_type": "markdown",
   "metadata": {},
   "source": [
    "Loading the images is done by opening the relevant fits file and reading the data."
   ]
  },
  {
   "cell_type": "code",
   "execution_count": null,
   "metadata": {},
   "outputs": [],
   "source": [
    "cutout = '/home/verlon/Desktop/Astronomaly/Data/Coadd_0260/0260m062/Input/Failed Images/cutout_26.0835_-6.3682.fits'"
   ]
  },
  {
   "cell_type": "code",
   "execution_count": null,
   "metadata": {},
   "outputs": [],
   "source": [
    "image = fits.getdata(cutout)"
   ]
  },
  {
   "cell_type": "code",
   "execution_count": null,
   "metadata": {},
   "outputs": [],
   "source": [
    "np.shape(image)"
   ]
  },
  {
   "cell_type": "markdown",
   "metadata": {},
   "source": [
    "_________"
   ]
  },
  {
   "cell_type": "markdown",
   "metadata": {},
   "source": [
    "### Original Image"
   ]
  },
  {
   "cell_type": "markdown",
   "metadata": {},
   "source": [
    "This small section splits the image into the separate channels and recombines them so that they are in the same order as that of the *get_sample* function of Astronomaly."
   ]
  },
  {
   "cell_type": "code",
   "execution_count": null,
   "metadata": {},
   "outputs": [],
   "source": [
    "one = image[0,:,:] # g-band - blue b\n",
    "two = image[1,:,:] # r-band - green g\n",
    "three = image[2,:,:] # z-band - red r"
   ]
  },
  {
   "cell_type": "code",
   "execution_count": null,
   "metadata": {},
   "outputs": [],
   "source": [
    "rgb_image = np.dstack((three,two,one)) #RGB IMAGE\n",
    "bgr_image = np.dstack((one,two,three)) #BGR IMAGE\n",
    "image_original = rgb_image"
   ]
  },
  {
   "cell_type": "markdown",
   "metadata": {},
   "source": [
    "___________"
   ]
  },
  {
   "cell_type": "markdown",
   "metadata": {},
   "source": [
    "The original image and the three separate bands are displayed here."
   ]
  },
  {
   "cell_type": "code",
   "execution_count": null,
   "metadata": {},
   "outputs": [],
   "source": [
    "plt.figure(figsize=(8, 8))\n",
    "plt.title('Original Image - All Bands (RGB)', fontsize=22)\n",
    "plt.imshow(image_original)\n",
    "plt.axis('off')"
   ]
  },
  {
   "cell_type": "code",
   "execution_count": null,
   "metadata": {},
   "outputs": [],
   "source": [
    "f = plt.figure(figsize=(15, 15))\n",
    "\n",
    "f.add_subplot(1, 3, 1)\n",
    "plt.imshow(image_original[:, :, 0])\n",
    "plt.gca().set_title('g-band', fontsize=22)\n",
    "\n",
    "f.add_subplot(1, 3, 2)\n",
    "plt.imshow(image_original[:, :, 1])\n",
    "plt.gca().set_title('r-band', fontsize=22)\n",
    "\n",
    "f.add_subplot(1, 3, 3)\n",
    "plt.imshow(image_original[:, :, 2])\n",
    "plt.gca().set_title('z-band', fontsize=22)\n",
    "\n",
    "plt.show(block=True)"
   ]
  },
  {
   "cell_type": "markdown",
   "metadata": {},
   "source": [
    "_________________"
   ]
  },
  {
   "cell_type": "markdown",
   "metadata": {},
   "source": [
    "## Applying The Image Transformation Functions"
   ]
  },
  {
   "cell_type": "markdown",
   "metadata": {},
   "source": [
    "### First Scale Transform"
   ]
  },
  {
   "cell_type": "markdown",
   "metadata": {},
   "source": [
    "The Scale Transfrom function rescales the values of the array so that they lie between 0 and 1. This is also the first scale transform applied (hence first scale transform) and is applied on each channel individually. This simplifies further proceedings. Again, the individual bands are displayed below for informational purposes."
   ]
  },
  {
   "cell_type": "code",
   "execution_count": null,
   "metadata": {},
   "outputs": [],
   "source": [
    "image_transform_one = image_transform_scale(image_original)"
   ]
  },
  {
   "cell_type": "code",
   "execution_count": null,
   "metadata": {},
   "outputs": [],
   "source": [
    "plt.figure(figsize=(8, 8))\n",
    "plt.title('Scale Transformed Image - All Bands', fontsize=22)\n",
    "plt.imshow(image_transform_one)\n",
    "plt.axis('off')"
   ]
  },
  {
   "cell_type": "code",
   "execution_count": null,
   "metadata": {},
   "outputs": [],
   "source": [
    "f = plt.figure(figsize=(15, 15))\n",
    "\n",
    "f.add_subplot(1, 3, 1)\n",
    "plt.imshow(image_transform_one[:, :, 0])\n",
    "plt.gca().set_title('g-band', fontsize=22)\n",
    "plt.axis('off')\n",
    "\n",
    "f.add_subplot(1, 3, 2)\n",
    "plt.imshow(image_transform_one[:, :, 1])\n",
    "plt.gca().set_title('r-band', fontsize=22)\n",
    "plt.axis('off')\n",
    "\n",
    "f.add_subplot(1, 3, 3)\n",
    "plt.imshow(image_transform_one[:, :, 2])\n",
    "plt.gca().set_title('z-band', fontsize=22)\n",
    "plt.axis('off')\n",
    "\n",
    "plt.show(block=True)"
   ]
  },
  {
   "cell_type": "markdown",
   "metadata": {},
   "source": [
    "### Greyscale Image"
   ]
  },
  {
   "cell_type": "markdown",
   "metadata": {},
   "source": [
    "The Greyscale function uses OpenCvs colour converter to convert each separate image channel to a specific colour. The channels are then combined to create a single channel image that is *greyscale* and contains information from all three separate bands. This allows more information to be used compared to using a single channel only."
   ]
  },
  {
   "cell_type": "code",
   "execution_count": null,
   "metadata": {},
   "outputs": [],
   "source": [
    "image_grey = cv2.cvtColor(image_transform_one, cv2.COLOR_BGR2GRAY)"
   ]
  },
  {
   "cell_type": "code",
   "execution_count": null,
   "metadata": {},
   "outputs": [],
   "source": [
    "plt.figure(figsize=(8, 8))\n",
    "plt.title('Greyscale Image', fontsize=20)\n",
    "plt.imshow(image_grey)\n",
    "plt.axis('off')"
   ]
  },
  {
   "cell_type": "markdown",
   "metadata": {},
   "source": [
    "__________"
   ]
  },
  {
   "cell_type": "markdown",
   "metadata": {},
   "source": [
    "### Sigma Clipping"
   ]
  },
  {
   "cell_type": "markdown",
   "metadata": {},
   "source": [
    "The Sigma Clipping function is used to remove noise surrounding the object in question. It also serves in providing an 'outline' of the object in question. Details of how sigma clipping works are left out of this notebook for simplicity."
   ]
  },
  {
   "cell_type": "code",
   "execution_count": null,
   "metadata": {},
   "outputs": [],
   "source": [
    "image_sigma_clipped = image_transform_sigma_clipping(image_original[:,:,0])"
   ]
  },
  {
   "cell_type": "code",
   "execution_count": null,
   "metadata": {},
   "outputs": [],
   "source": [
    "plt.figure(figsize=(8, 8))\n",
    "plt.title('Sigma Clipped Image', fontsize=20)\n",
    "plt.imshow(image_sigma_clipped)\n",
    "plt.axis('off')"
   ]
  },
  {
   "cell_type": "markdown",
   "metadata": {},
   "source": [
    "________________"
   ]
  },
  {
   "cell_type": "markdown",
   "metadata": {},
   "source": [
    "### Second Scale Transform"
   ]
  },
  {
   "cell_type": "markdown",
   "metadata": {},
   "source": [
    "The function is the same as the first scale transform. It is applied here because the sigma clipping and the greyscale functions change the values of the arrays. This is the final transform applied and it is thus ideal to have the array values between 0 and 1 for machine learning purposes."
   ]
  },
  {
   "cell_type": "code",
   "execution_count": null,
   "metadata": {},
   "outputs": [],
   "source": [
    "image_transform_two = image_transform_scale(image_sigma_clipped)"
   ]
  },
  {
   "cell_type": "code",
   "execution_count": null,
   "metadata": {},
   "outputs": [],
   "source": [
    "plt.figure(figsize=(8, 8))\n",
    "plt.title('Scale Transformed Image', fontsize=20)\n",
    "plt.imshow(image_transform_two)\n",
    "plt.axis('off')"
   ]
  },
  {
   "cell_type": "markdown",
   "metadata": {},
   "source": [
    "____________________"
   ]
  },
  {
   "cell_type": "markdown",
   "metadata": {},
   "source": [
    "### Combined effects"
   ]
  },
  {
   "cell_type": "markdown",
   "metadata": {},
   "source": [
    "This image shows all of the previous steps one after the other for a downloaded cutout."
   ]
  },
  {
   "cell_type": "code",
   "execution_count": null,
   "metadata": {
    "scrolled": false
   },
   "outputs": [],
   "source": [
    "f = plt.figure(figsize=(50, 40))\n",
    "\n",
    "f.add_subplot(5, 1, 1)\n",
    "plt.imshow(image_original)\n",
    "plt.gca().set_title('Original Image', fontsize=22)\n",
    "plt.axis('off')\n",
    "\n",
    "f.add_subplot(5, 1, 2)\n",
    "plt.imshow(image_transform_one)\n",
    "plt.gca().set_title('First Scaled Image', fontsize=22)\n",
    "plt.axis('off')\n",
    "\n",
    "f.add_subplot(5, 1, 3)\n",
    "plt.imshow(image_grey)\n",
    "plt.gca().set_title('Greyscale Image', fontsize=22)\n",
    "plt.axis('off')\n",
    "\n",
    "f.add_subplot(5, 1, 4)\n",
    "plt.imshow(image_sigma_clipped)\n",
    "plt.gca().set_title('Sigma Clipped Image', fontsize=22)\n",
    "plt.axis('off')\n",
    "\n",
    "f.add_subplot(5, 1, 5)\n",
    "plt.imshow(image_transform_two)\n",
    "plt.gca().set_title('Second Scaled Image', fontsize=22)\n",
    "plt.axis('off')\n",
    "\n",
    "plt.show(block=True)"
   ]
  },
  {
   "cell_type": "markdown",
   "metadata": {},
   "source": [
    "_______"
   ]
  },
  {
   "cell_type": "markdown",
   "metadata": {},
   "source": [
    "### Percentiles and Scale Range"
   ]
  },
  {
   "cell_type": "markdown",
   "metadata": {},
   "source": [
    "Select the percentiles to be used. These percentiles divide the image into regions based on the image array values. It is these percentiles that determine the location of the contours that are to be drawn. The scale range supplied provides the range of scale over which the image can be resampled in order to determine the contours and ellipses."
   ]
  },
  {
   "cell_type": "code",
   "execution_count": null,
   "metadata": {},
   "outputs": [],
   "source": [
    "percentiles = [90, 80, 70, 60, 50, 0]\n",
    "print('Percentiles Used :', percentiles)\n",
    "print()\n",
    "\n",
    "scale = [i for i in np.arange(100, 201, 1)]\n",
    "print('Scale Range Used : From 100 to 200 in increments of 1%')"
   ]
  },
  {
   "cell_type": "markdown",
   "metadata": {},
   "source": [
    "_________________________"
   ]
  },
  {
   "cell_type": "markdown",
   "metadata": {},
   "source": [
    "#### This is the function that reads in the percentiles on the relevant image, obtains the contours and finds the corresponding ellipses to these contours."
   ]
  },
  {
   "cell_type": "code",
   "execution_count": null,
   "metadata": {},
   "outputs": [],
   "source": [
    "image = image_transform_two\n",
    "\n",
    "percentiles = np.sort(percentiles)[::-1]\n",
    "\n",
    "feats = []\n",
    "threshold = []\n",
    "all_contours = []\n",
    "\n",
    "\n",
    "x0 = y0 = -1\n",
    "x_cent = image.shape[0] // 2\n",
    "y_cent = image.shape[1] // 2\n",
    "\n",
    "if np.all(image == 0):\n",
    "    failed = True\n",
    "    failure_message = \"Invalid cutout for feature extraction\"\n",
    "else:\n",
    "    failed = False\n",
    "    failure_message = \"\"\n",
    "\n",
    "stop = False\n",
    "\n",
    "for a in scale:\n",
    "    print('Resize Image to scale : ', a, '%')\n",
    "    drawn_contours = []\n",
    "    all_ellipses = []\n",
    "    lst = []\n",
    "\n",
    "    for p in percentiles:\n",
    "        lst.append(p)\n",
    "        width = int(image.shape[1] * a / 100)\n",
    "        height = int(image.shape[0] * a / 100)\n",
    "        dim = (width, height)\n",
    "        resize = cv2.resize(image, dim, interpolation=cv2.INTER_AREA)\n",
    "\n",
    "        if failed:\n",
    "            contours = []\n",
    "        else:\n",
    "            thresh = np.percentile(resize[resize > 0], p)\n",
    "            contours, hierarchy = find_contours(resize, thresh)\n",
    "\n",
    "            x_contours = np.zeros(len(contours))\n",
    "            y_contours = np.zeros(len(contours))\n",
    "\n",
    "        if len(contours) != 0:\n",
    "            for k in range(len(contours)):\n",
    "                M = cv2.moments(contours[k])\n",
    "                try:\n",
    "                    x_contours[k] = int(M[\"m10\"] / M[\"m00\"])\n",
    "                    y_contours[k] = int(M[\"m01\"] / M[\"m00\"])\n",
    "                except ZeroDivisionError:\n",
    "                    pass\n",
    "            if x0 == -1:\n",
    "                x_diff = x_contours - x_cent\n",
    "                y_diff = y_contours - y_cent\n",
    "            else:\n",
    "                x_diff = x_contours - x0\n",
    "                y_diff = y_contours - y0\n",
    "\n",
    "            # Will try to find the CLOSEST contour to the central one\n",
    "            r_diff = np.sqrt(x_diff**2 + y_diff**2)\n",
    "\n",
    "            ind = np.argmin(r_diff)\n",
    "\n",
    "            if x0 == -1:\n",
    "                x0 = x_contours[ind]\n",
    "                y0 = y_contours[ind]\n",
    "\n",
    "            c = contours[ind]\n",
    "\n",
    "            params = get_ellipse_leastsq(c, resize)\n",
    "\n",
    "            # Limiting condition for OpenCVs fitEllipse. Ensures a\n",
    "            # minimum of 5 points are found\n",
    "            if len(c) < 5:\n",
    "                long_enough = False\n",
    "                print('Loop broken due to insufficient points')\n",
    "                print()\n",
    "                break\n",
    "\n",
    "            ellipse_arr, param = fit_ellipse(\n",
    "                c, resize, return_params=True, filled=False)\n",
    "\n",
    "            if np.any(np.isnan(params)):\n",
    "                failed = True\n",
    "            else:\n",
    "                if params[3] == 0 or params[4] == 0:\n",
    "                    aspect = 1\n",
    "                else:\n",
    "                    aspect = params[4] / params[3]\n",
    "\n",
    "                if aspect < 1:\n",
    "                    aspect = 1 / aspect\n",
    "                if aspect > 100:\n",
    "                    aspect = 1\n",
    "\n",
    "                new_params = params[:3] + [aspect] + [params[-1]]\n",
    "                feats.append(new_params)\n",
    "\n",
    "            all_ellipses.append(ellipse_arr)\n",
    "            all_contours.append(c)\n",
    "\n",
    "            draw = draw_contour(c, resize)\n",
    "            drawn_contours.append(draw)\n",
    "\n",
    "        else:\n",
    "            failed = True\n",
    "            failure_message = \"No contour found\"\n",
    "\n",
    "        if failed:\n",
    "            feats.append([np.nan] * 5)\n",
    "            logging_tools.log(failure_message)\n",
    "\n",
    "        print('Number of contours found :', len(all_ellipses))\n",
    "\n",
    "        if len(lst) == len(percentiles):\n",
    "            print('All necessary contours found')\n",
    "            stop = True\n",
    "\n",
    "    if stop:\n",
    "        break\n",
    "\n",
    "    print()"
   ]
  },
  {
   "cell_type": "markdown",
   "metadata": {},
   "source": [
    "#### All of the contours and the correscponding ellipses are plotted here. The cmap is set to hot to better visualise the contours and ellipses."
   ]
  },
  {
   "cell_type": "code",
   "execution_count": null,
   "metadata": {
    "scrolled": false
   },
   "outputs": [],
   "source": [
    "for i in range(len(drawn_contours)):\n",
    "    f = plt.figure(figsize=(15, 15))\n",
    "\n",
    "    f.add_subplot(1, 2, 1)\n",
    "    plt.imshow(drawn_contours[i], cmap='hot')\n",
    "    plt.gca().set_title('Contour - ' +\n",
    "                        str(percentiles[i]) + 'th percentile', fontsize=20)\n",
    "\n",
    "    f.add_subplot(1, 2, 2)\n",
    "    plt.imshow(all_ellipses[i], cmap='hot')\n",
    "    plt.gca().set_title('Ellipse - ' +\n",
    "                        str(percentiles[i]) + 'th percentile', fontsize=20)\n",
    "\n",
    "    plt.show(block=True)"
   ]
  },
  {
   "cell_type": "markdown",
   "metadata": {},
   "source": [
    "___________________"
   ]
  },
  {
   "cell_type": "markdown",
   "metadata": {},
   "source": [
    "_______________"
   ]
  },
  {
   "cell_type": "markdown",
   "metadata": {},
   "source": [
    "## Image Cycler\n",
    "\n",
    "Function that cycles through the images contained in the catalogue after it has been sorted according to flux"
   ]
  },
  {
   "cell_type": "code",
   "execution_count": null,
   "metadata": {},
   "outputs": [],
   "source": []
  },
  {
   "cell_type": "code",
   "execution_count": null,
   "metadata": {},
   "outputs": [],
   "source": [
    "image_dataset.metadata.sort_values('peak_flux', ascending = False)"
   ]
  },
  {
   "cell_type": "code",
   "execution_count": null,
   "metadata": {},
   "outputs": [],
   "source": [
    "new_df = image_dataset.metadata.sort_values('peak_flux', ascending = False)#.index[0]\n",
    "new_df.iloc[375]"
   ]
  },
  {
   "cell_type": "code",
   "execution_count": null,
   "metadata": {
    "scrolled": false
   },
   "outputs": [],
   "source": [
    "images_list = []\n",
    "\n",
    "for i in new_df.index:\n",
    "    cutout = image_dataset.get_sample(i)\n",
    "    images_list.append(cutout)\n",
    "    #if new_df.x[i] < 32:\n",
    "    #print('Image Shape : ',np.shape(cutout))"
   ]
  },
  {
   "cell_type": "code",
   "execution_count": null,
   "metadata": {},
   "outputs": [],
   "source": [
    "Cycler = utils.ImageCycler(images_list)"
   ]
  },
  {
   "cell_type": "code",
   "execution_count": null,
   "metadata": {},
   "outputs": [],
   "source": [
    "%matplotlib notebook\n",
    "Cycler.cycle()"
   ]
  },
  {
   "cell_type": "code",
   "execution_count": null,
   "metadata": {},
   "outputs": [],
   "source": []
  }
 ],
 "metadata": {
  "kernelspec": {
   "display_name": "astronomaly",
   "language": "python",
   "name": "astronomaly"
  },
  "language_info": {
   "codemirror_mode": {
    "name": "ipython",
    "version": 3
   },
   "file_extension": ".py",
   "mimetype": "text/x-python",
   "name": "python",
   "nbconvert_exporter": "python",
   "pygments_lexer": "ipython3",
   "version": "3.8.5"
  }
 },
 "nbformat": 4,
 "nbformat_minor": 4
}
