{
 "cells": [
  {
   "cell_type": "code",
   "execution_count": 1,
   "metadata": {},
   "outputs": [],
   "source": [
    "import matplotlib.pyplot as plt\n",
    "import astropy\n",
    "import os\n",
    "import pandas as pd\n",
    "import numpy as np\n",
    "import xlsxwriter\n",
    "import matplotlib as mpl\n",
    "from astropy import io\n",
    "from astropy.io import fits\n",
    "from astropy import table\n",
    "from astropy import wcs"
   ]
  },
  {
   "cell_type": "code",
   "execution_count": 2,
   "metadata": {},
   "outputs": [],
   "source": [
    "catalogue_file = '/home/verlon/Desktop/Astronomaly/Data/Input/Coadd_0260/0260m062/Catalogue/tractor-0260m062.fits'"
   ]
  },
  {
   "cell_type": "code",
   "execution_count": 3,
   "metadata": {},
   "outputs": [],
   "source": [
    "image_file_g = '/home/verlon/Desktop/Astronomaly/Data/Input/Coadd_0260/0260m062/Images/g-legacysurvey-0260m062-image.fits.fz'\n",
    "image_file_r = '/home/verlon/Desktop/Astronomaly/Data/Input/Coadd_0260/0260m062/Images/r-legacysurvey-0260m062-image.fits.fz'\n",
    "image_file_z = '/home/verlon/Desktop/Astronomaly/Data/Input/Coadd_0260/0260m062/Images/z-legacysurvey-0260m062-image.fits.fz'"
   ]
  },
  {
   "cell_type": "code",
   "execution_count": 4,
   "metadata": {
    "scrolled": true
   },
   "outputs": [],
   "source": [
    "catalogue = astropy.table.Table(astropy.io.fits.getdata(catalogue_file))"
   ]
  },
  {
   "cell_type": "code",
   "execution_count": 5,
   "metadata": {
    "scrolled": true
   },
   "outputs": [],
   "source": [
    "image_z = astropy.table.Table(astropy.io.fits.getdata(image_file_z))"
   ]
  },
  {
   "cell_type": "code",
   "execution_count": 6,
   "metadata": {},
   "outputs": [],
   "source": [
    "dataframe = {}\n",
    "for name in catalogue.colnames:\n",
    "    data = catalogue[name].tolist()\n",
    "    dataframe[name] = data"
   ]
  },
  {
   "cell_type": "code",
   "execution_count": 7,
   "metadata": {},
   "outputs": [
    {
     "data": {
      "text/html": [
       "<div>\n",
       "<style scoped>\n",
       "    .dataframe tbody tr th:only-of-type {\n",
       "        vertical-align: middle;\n",
       "    }\n",
       "\n",
       "    .dataframe tbody tr th {\n",
       "        vertical-align: top;\n",
       "    }\n",
       "\n",
       "    .dataframe thead th {\n",
       "        text-align: right;\n",
       "    }\n",
       "</style>\n",
       "<table border=\"1\" class=\"dataframe\">\n",
       "  <thead>\n",
       "    <tr style=\"text-align: right;\">\n",
       "      <th></th>\n",
       "      <th>release</th>\n",
       "      <th>brickid</th>\n",
       "      <th>brickname</th>\n",
       "      <th>objid</th>\n",
       "      <th>brick_primary</th>\n",
       "      <th>brightblob</th>\n",
       "      <th>maskbits</th>\n",
       "      <th>type</th>\n",
       "      <th>ra</th>\n",
       "      <th>dec</th>\n",
       "      <th>...</th>\n",
       "      <th>shapeexp_e1</th>\n",
       "      <th>shapeexp_e1_ivar</th>\n",
       "      <th>shapeexp_e2</th>\n",
       "      <th>shapeexp_e2_ivar</th>\n",
       "      <th>shapedev_r</th>\n",
       "      <th>shapedev_r_ivar</th>\n",
       "      <th>shapedev_e1</th>\n",
       "      <th>shapedev_e1_ivar</th>\n",
       "      <th>shapedev_e2</th>\n",
       "      <th>shapedev_e2_ivar</th>\n",
       "    </tr>\n",
       "  </thead>\n",
       "  <tbody>\n",
       "    <tr>\n",
       "      <th>0</th>\n",
       "      <td>8000</td>\n",
       "      <td>294523</td>\n",
       "      <td>0260m062</td>\n",
       "      <td>0</td>\n",
       "      <td>True</td>\n",
       "      <td>0</td>\n",
       "      <td>0</td>\n",
       "      <td>DEV</td>\n",
       "      <td>25.945412</td>\n",
       "      <td>-6.371716</td>\n",
       "      <td>...</td>\n",
       "      <td>0.0</td>\n",
       "      <td>0.0</td>\n",
       "      <td>0.0</td>\n",
       "      <td>0.0</td>\n",
       "      <td>2.006413</td>\n",
       "      <td>225340.296875</td>\n",
       "      <td>0.161191</td>\n",
       "      <td>663634.250000</td>\n",
       "      <td>-0.000461</td>\n",
       "      <td>395096.156250</td>\n",
       "    </tr>\n",
       "    <tr>\n",
       "      <th>1</th>\n",
       "      <td>8000</td>\n",
       "      <td>294523</td>\n",
       "      <td>0260m062</td>\n",
       "      <td>1</td>\n",
       "      <td>False</td>\n",
       "      <td>0</td>\n",
       "      <td>1</td>\n",
       "      <td>DEV</td>\n",
       "      <td>25.946999</td>\n",
       "      <td>-6.379954</td>\n",
       "      <td>...</td>\n",
       "      <td>0.0</td>\n",
       "      <td>0.0</td>\n",
       "      <td>0.0</td>\n",
       "      <td>0.0</td>\n",
       "      <td>0.738184</td>\n",
       "      <td>1851.672363</td>\n",
       "      <td>0.266367</td>\n",
       "      <td>1010.740356</td>\n",
       "      <td>-0.150187</td>\n",
       "      <td>705.127625</td>\n",
       "    </tr>\n",
       "    <tr>\n",
       "      <th>2</th>\n",
       "      <td>8000</td>\n",
       "      <td>294523</td>\n",
       "      <td>0260m062</td>\n",
       "      <td>2</td>\n",
       "      <td>False</td>\n",
       "      <td>0</td>\n",
       "      <td>1</td>\n",
       "      <td>PSF</td>\n",
       "      <td>25.947223</td>\n",
       "      <td>-6.375302</td>\n",
       "      <td>...</td>\n",
       "      <td>0.0</td>\n",
       "      <td>0.0</td>\n",
       "      <td>0.0</td>\n",
       "      <td>0.0</td>\n",
       "      <td>0.000000</td>\n",
       "      <td>0.000000</td>\n",
       "      <td>0.000000</td>\n",
       "      <td>0.000000</td>\n",
       "      <td>0.000000</td>\n",
       "      <td>0.000000</td>\n",
       "    </tr>\n",
       "    <tr>\n",
       "      <th>3</th>\n",
       "      <td>8000</td>\n",
       "      <td>294523</td>\n",
       "      <td>0260m062</td>\n",
       "      <td>3</td>\n",
       "      <td>True</td>\n",
       "      <td>0</td>\n",
       "      <td>0</td>\n",
       "      <td>DEV</td>\n",
       "      <td>25.947719</td>\n",
       "      <td>-6.372837</td>\n",
       "      <td>...</td>\n",
       "      <td>0.0</td>\n",
       "      <td>0.0</td>\n",
       "      <td>0.0</td>\n",
       "      <td>0.0</td>\n",
       "      <td>0.406632</td>\n",
       "      <td>2378.385010</td>\n",
       "      <td>0.067957</td>\n",
       "      <td>299.701355</td>\n",
       "      <td>-0.121653</td>\n",
       "      <td>435.634338</td>\n",
       "    </tr>\n",
       "    <tr>\n",
       "      <th>4</th>\n",
       "      <td>8000</td>\n",
       "      <td>294523</td>\n",
       "      <td>0260m062</td>\n",
       "      <td>4</td>\n",
       "      <td>False</td>\n",
       "      <td>0</td>\n",
       "      <td>1</td>\n",
       "      <td>REX</td>\n",
       "      <td>25.945132</td>\n",
       "      <td>-6.377418</td>\n",
       "      <td>...</td>\n",
       "      <td>0.0</td>\n",
       "      <td>0.0</td>\n",
       "      <td>0.0</td>\n",
       "      <td>0.0</td>\n",
       "      <td>0.000000</td>\n",
       "      <td>0.000000</td>\n",
       "      <td>0.000000</td>\n",
       "      <td>0.000000</td>\n",
       "      <td>0.000000</td>\n",
       "      <td>0.000000</td>\n",
       "    </tr>\n",
       "    <tr>\n",
       "      <th>...</th>\n",
       "      <td>...</td>\n",
       "      <td>...</td>\n",
       "      <td>...</td>\n",
       "      <td>...</td>\n",
       "      <td>...</td>\n",
       "      <td>...</td>\n",
       "      <td>...</td>\n",
       "      <td>...</td>\n",
       "      <td>...</td>\n",
       "      <td>...</td>\n",
       "      <td>...</td>\n",
       "      <td>...</td>\n",
       "      <td>...</td>\n",
       "      <td>...</td>\n",
       "      <td>...</td>\n",
       "      <td>...</td>\n",
       "      <td>...</td>\n",
       "      <td>...</td>\n",
       "      <td>...</td>\n",
       "      <td>...</td>\n",
       "      <td>...</td>\n",
       "    </tr>\n",
       "    <tr>\n",
       "      <th>8555</th>\n",
       "      <td>8000</td>\n",
       "      <td>294523</td>\n",
       "      <td>0260m062</td>\n",
       "      <td>8555</td>\n",
       "      <td>False</td>\n",
       "      <td>0</td>\n",
       "      <td>1</td>\n",
       "      <td>REX</td>\n",
       "      <td>26.061850</td>\n",
       "      <td>-6.123305</td>\n",
       "      <td>...</td>\n",
       "      <td>0.0</td>\n",
       "      <td>0.0</td>\n",
       "      <td>0.0</td>\n",
       "      <td>0.0</td>\n",
       "      <td>0.000000</td>\n",
       "      <td>0.000000</td>\n",
       "      <td>0.000000</td>\n",
       "      <td>0.000000</td>\n",
       "      <td>0.000000</td>\n",
       "      <td>0.000000</td>\n",
       "    </tr>\n",
       "    <tr>\n",
       "      <th>8556</th>\n",
       "      <td>8000</td>\n",
       "      <td>294523</td>\n",
       "      <td>0260m062</td>\n",
       "      <td>8556</td>\n",
       "      <td>False</td>\n",
       "      <td>0</td>\n",
       "      <td>1</td>\n",
       "      <td>PSF</td>\n",
       "      <td>25.963370</td>\n",
       "      <td>-6.124377</td>\n",
       "      <td>...</td>\n",
       "      <td>0.0</td>\n",
       "      <td>0.0</td>\n",
       "      <td>0.0</td>\n",
       "      <td>0.0</td>\n",
       "      <td>0.000000</td>\n",
       "      <td>0.000000</td>\n",
       "      <td>0.000000</td>\n",
       "      <td>0.000000</td>\n",
       "      <td>0.000000</td>\n",
       "      <td>0.000000</td>\n",
       "    </tr>\n",
       "    <tr>\n",
       "      <th>8557</th>\n",
       "      <td>8000</td>\n",
       "      <td>294523</td>\n",
       "      <td>0260m062</td>\n",
       "      <td>8557</td>\n",
       "      <td>False</td>\n",
       "      <td>0</td>\n",
       "      <td>1</td>\n",
       "      <td>REX</td>\n",
       "      <td>26.047838</td>\n",
       "      <td>-6.124206</td>\n",
       "      <td>...</td>\n",
       "      <td>0.0</td>\n",
       "      <td>0.0</td>\n",
       "      <td>0.0</td>\n",
       "      <td>0.0</td>\n",
       "      <td>0.000000</td>\n",
       "      <td>0.000000</td>\n",
       "      <td>0.000000</td>\n",
       "      <td>0.000000</td>\n",
       "      <td>0.000000</td>\n",
       "      <td>0.000000</td>\n",
       "    </tr>\n",
       "    <tr>\n",
       "      <th>8558</th>\n",
       "      <td>8000</td>\n",
       "      <td>294523</td>\n",
       "      <td>0260m062</td>\n",
       "      <td>8558</td>\n",
       "      <td>False</td>\n",
       "      <td>0</td>\n",
       "      <td>1</td>\n",
       "      <td>PSF</td>\n",
       "      <td>26.047843</td>\n",
       "      <td>-6.123123</td>\n",
       "      <td>...</td>\n",
       "      <td>0.0</td>\n",
       "      <td>0.0</td>\n",
       "      <td>0.0</td>\n",
       "      <td>0.0</td>\n",
       "      <td>0.000000</td>\n",
       "      <td>0.000000</td>\n",
       "      <td>0.000000</td>\n",
       "      <td>0.000000</td>\n",
       "      <td>0.000000</td>\n",
       "      <td>0.000000</td>\n",
       "    </tr>\n",
       "    <tr>\n",
       "      <th>8559</th>\n",
       "      <td>8000</td>\n",
       "      <td>294523</td>\n",
       "      <td>0260m062</td>\n",
       "      <td>8559</td>\n",
       "      <td>True</td>\n",
       "      <td>0</td>\n",
       "      <td>4096</td>\n",
       "      <td>DUP</td>\n",
       "      <td>26.126580</td>\n",
       "      <td>-6.354087</td>\n",
       "      <td>...</td>\n",
       "      <td>0.0</td>\n",
       "      <td>0.0</td>\n",
       "      <td>0.0</td>\n",
       "      <td>0.0</td>\n",
       "      <td>0.000000</td>\n",
       "      <td>0.000000</td>\n",
       "      <td>0.000000</td>\n",
       "      <td>0.000000</td>\n",
       "      <td>0.000000</td>\n",
       "      <td>0.000000</td>\n",
       "    </tr>\n",
       "  </tbody>\n",
       "</table>\n",
       "<p>8560 rows × 160 columns</p>\n",
       "</div>"
      ],
      "text/plain": [
       "      release  brickid brickname  objid  brick_primary  brightblob  maskbits  \\\n",
       "0        8000   294523  0260m062      0           True           0         0   \n",
       "1        8000   294523  0260m062      1          False           0         1   \n",
       "2        8000   294523  0260m062      2          False           0         1   \n",
       "3        8000   294523  0260m062      3           True           0         0   \n",
       "4        8000   294523  0260m062      4          False           0         1   \n",
       "...       ...      ...       ...    ...            ...         ...       ...   \n",
       "8555     8000   294523  0260m062   8555          False           0         1   \n",
       "8556     8000   294523  0260m062   8556          False           0         1   \n",
       "8557     8000   294523  0260m062   8557          False           0         1   \n",
       "8558     8000   294523  0260m062   8558          False           0         1   \n",
       "8559     8000   294523  0260m062   8559           True           0      4096   \n",
       "\n",
       "      type         ra       dec  ...  shapeexp_e1  shapeexp_e1_ivar  \\\n",
       "0     DEV   25.945412 -6.371716  ...          0.0               0.0   \n",
       "1     DEV   25.946999 -6.379954  ...          0.0               0.0   \n",
       "2     PSF   25.947223 -6.375302  ...          0.0               0.0   \n",
       "3     DEV   25.947719 -6.372837  ...          0.0               0.0   \n",
       "4     REX   25.945132 -6.377418  ...          0.0               0.0   \n",
       "...    ...        ...       ...  ...          ...               ...   \n",
       "8555  REX   26.061850 -6.123305  ...          0.0               0.0   \n",
       "8556  PSF   25.963370 -6.124377  ...          0.0               0.0   \n",
       "8557  REX   26.047838 -6.124206  ...          0.0               0.0   \n",
       "8558  PSF   26.047843 -6.123123  ...          0.0               0.0   \n",
       "8559  DUP   26.126580 -6.354087  ...          0.0               0.0   \n",
       "\n",
       "      shapeexp_e2  shapeexp_e2_ivar shapedev_r  shapedev_r_ivar  shapedev_e1  \\\n",
       "0             0.0               0.0   2.006413    225340.296875     0.161191   \n",
       "1             0.0               0.0   0.738184      1851.672363     0.266367   \n",
       "2             0.0               0.0   0.000000         0.000000     0.000000   \n",
       "3             0.0               0.0   0.406632      2378.385010     0.067957   \n",
       "4             0.0               0.0   0.000000         0.000000     0.000000   \n",
       "...           ...               ...        ...              ...          ...   \n",
       "8555          0.0               0.0   0.000000         0.000000     0.000000   \n",
       "8556          0.0               0.0   0.000000         0.000000     0.000000   \n",
       "8557          0.0               0.0   0.000000         0.000000     0.000000   \n",
       "8558          0.0               0.0   0.000000         0.000000     0.000000   \n",
       "8559          0.0               0.0   0.000000         0.000000     0.000000   \n",
       "\n",
       "      shapedev_e1_ivar shapedev_e2  shapedev_e2_ivar  \n",
       "0        663634.250000   -0.000461     395096.156250  \n",
       "1          1010.740356   -0.150187        705.127625  \n",
       "2             0.000000    0.000000          0.000000  \n",
       "3           299.701355   -0.121653        435.634338  \n",
       "4             0.000000    0.000000          0.000000  \n",
       "...                ...         ...               ...  \n",
       "8555          0.000000    0.000000          0.000000  \n",
       "8556          0.000000    0.000000          0.000000  \n",
       "8557          0.000000    0.000000          0.000000  \n",
       "8558          0.000000    0.000000          0.000000  \n",
       "8559          0.000000    0.000000          0.000000  \n",
       "\n",
       "[8560 rows x 160 columns]"
      ]
     },
     "execution_count": 7,
     "metadata": {},
     "output_type": "execute_result"
    }
   ],
   "source": [
    "old_catalogue = pd.DataFrame(dataframe)\n",
    "old_catalogue"
   ]
  },
  {
   "cell_type": "code",
   "execution_count": 8,
   "metadata": {},
   "outputs": [
    {
     "data": {
      "text/plain": [
       "array([25.88890409, 25.88960809, 25.88971301, ..., 26.15103669,\n",
       "       26.15105166, 26.15110804])"
      ]
     },
     "execution_count": 8,
     "metadata": {},
     "output_type": "execute_result"
    }
   ],
   "source": [
    "np.sort(old_catalogue.ra)"
   ]
  },
  {
   "cell_type": "code",
   "execution_count": 9,
   "metadata": {},
   "outputs": [
    {
     "data": {
      "text/plain": [
       "array([-6.38087766, -6.3799537 , -6.3795429 , ..., -6.1215277 ,\n",
       "       -6.12088554, -6.12085056])"
      ]
     },
     "execution_count": 9,
     "metadata": {},
     "output_type": "execute_result"
    }
   ],
   "source": [
    "np.sort(old_catalogue.dec)"
   ]
  },
  {
   "cell_type": "code",
   "execution_count": null,
   "metadata": {},
   "outputs": [],
   "source": []
  },
  {
   "cell_type": "code",
   "execution_count": null,
   "metadata": {},
   "outputs": [],
   "source": []
  },
  {
   "cell_type": "code",
   "execution_count": null,
   "metadata": {},
   "outputs": [],
   "source": []
  },
  {
   "cell_type": "code",
   "execution_count": null,
   "metadata": {},
   "outputs": [],
   "source": []
  },
  {
   "cell_type": "code",
   "execution_count": null,
   "metadata": {},
   "outputs": [],
   "source": []
  },
  {
   "cell_type": "code",
   "execution_count": null,
   "metadata": {},
   "outputs": [],
   "source": []
  },
  {
   "cell_type": "markdown",
   "metadata": {},
   "source": [
    "hdul = astropy.io.fits.open(image_file_g)\n",
    "hdul[0].data\n",
    "plt.figure(figsize = (12,12))\n",
    "plt.imshow(hdul[0].data, cmap='hot')"
   ]
  },
  {
   "cell_type": "markdown",
   "metadata": {},
   "source": [
    "hdul = astropy.io.fits.open(image_file_r)\n",
    "hdul[0].data\n",
    "plt.figure(figsize = (12,12))\n",
    "plt.imshow(hdul[0].data, cmap='hot')"
   ]
  },
  {
   "cell_type": "markdown",
   "metadata": {},
   "source": [
    "hdul = astropy.io.fits.open(image_file_z)\n",
    "hdul[0].data\n",
    "plt.figure(figsize = (12,12))\n",
    "plt.imshow(hdul[0].data, cmap='hot')"
   ]
  },
  {
   "cell_type": "code",
   "execution_count": 10,
   "metadata": {},
   "outputs": [
    {
     "data": {
      "text/plain": [
       "'z-legacysurvey-0260m062-image.fits.fz'"
      ]
     },
     "execution_count": 10,
     "metadata": {},
     "output_type": "execute_result"
    }
   ],
   "source": [
    "original_image = image_file_z.split(os.path.sep)[-1]\n",
    "original_image"
   ]
  },
  {
   "cell_type": "code",
   "execution_count": 11,
   "metadata": {},
   "outputs": [
    {
     "data": {
      "text/plain": [
       "[<astropy.io.fits.hdu.image.PrimaryHDU object at 0x7fee437a2d30>, <astropy.io.fits.hdu.compressed.CompImageHDU object at 0x7fee437b01c0>]"
      ]
     },
     "execution_count": 11,
     "metadata": {},
     "output_type": "execute_result"
    }
   ],
   "source": [
    "hdul = astropy.io.fits.open(image_file_z)\n",
    "hdul"
   ]
  },
  {
   "cell_type": "code",
   "execution_count": 12,
   "metadata": {},
   "outputs": [
    {
     "name": "stderr",
     "output_type": "stream",
     "text": [
      "WARNING: FITSFixedWarning: The WCS transformation has more axes (2) than the image it is associated with (0) [astropy.wcs.wcs]\n",
      "WARNING: FITSFixedWarning: 'datfix' made the change 'Set DATE-REF to '1858-11-17' from MJD-REF'. [astropy.wcs.wcs]\n"
     ]
    },
    {
     "data": {
      "text/plain": [
       "WCS Keywords\n",
       "\n",
       "Number of WCS axes: 2\n",
       "CTYPE : ''  ''  \n",
       "CRVAL : 0.0  0.0  \n",
       "CRPIX : 0.0  0.0  \n",
       "PC1_1 PC1_2  : 1.0  0.0  \n",
       "PC2_1 PC2_2  : 0.0  1.0  \n",
       "CDELT : 1.0  1.0  \n",
       "NAXIS : 0  0"
      ]
     },
     "execution_count": 12,
     "metadata": {},
     "output_type": "execute_result"
    }
   ],
   "source": [
    "w = astropy.wcs.WCS(hdul[0].header, naxis=2)\n",
    "w"
   ]
  },
  {
   "cell_type": "code",
   "execution_count": 13,
   "metadata": {},
   "outputs": [],
   "source": [
    "x, y = w.wcs_world2pix(old_catalogue['ra'], old_catalogue['dec'], 1)"
   ]
  },
  {
   "cell_type": "code",
   "execution_count": 14,
   "metadata": {},
   "outputs": [
    {
     "data": {
      "text/plain": [
       "array([25.94541155, 25.94699887, 25.94722339, ..., 26.0478378 ,\n",
       "       26.04784329, 26.12658028])"
      ]
     },
     "execution_count": 14,
     "metadata": {},
     "output_type": "execute_result"
    }
   ],
   "source": [
    "x"
   ]
  },
  {
   "cell_type": "code",
   "execution_count": 15,
   "metadata": {},
   "outputs": [
    {
     "data": {
      "text/plain": [
       "0       25.945412\n",
       "1       25.946999\n",
       "2       25.947223\n",
       "3       25.947719\n",
       "4       25.945132\n",
       "          ...    \n",
       "8555    26.061850\n",
       "8556    25.963370\n",
       "8557    26.047838\n",
       "8558    26.047843\n",
       "8559    26.126580\n",
       "Name: ra, Length: 8560, dtype: float64"
      ]
     },
     "execution_count": 15,
     "metadata": {},
     "output_type": "execute_result"
    }
   ],
   "source": [
    "old_catalogue['ra']"
   ]
  },
  {
   "cell_type": "code",
   "execution_count": 16,
   "metadata": {},
   "outputs": [
    {
     "data": {
      "text/plain": [
       "array([-6.37171583, -6.3799537 , -6.37530186, ..., -6.12420619,\n",
       "       -6.1231233 , -6.35408713])"
      ]
     },
     "execution_count": 16,
     "metadata": {},
     "output_type": "execute_result"
    }
   ],
   "source": [
    "y"
   ]
  },
  {
   "cell_type": "code",
   "execution_count": 17,
   "metadata": {},
   "outputs": [
    {
     "data": {
      "text/html": [
       "<div>\n",
       "<style scoped>\n",
       "    .dataframe tbody tr th:only-of-type {\n",
       "        vertical-align: middle;\n",
       "    }\n",
       "\n",
       "    .dataframe tbody tr th {\n",
       "        vertical-align: top;\n",
       "    }\n",
       "\n",
       "    .dataframe thead th {\n",
       "        text-align: right;\n",
       "    }\n",
       "</style>\n",
       "<table border=\"1\" class=\"dataframe\">\n",
       "  <thead>\n",
       "    <tr style=\"text-align: right;\">\n",
       "      <th></th>\n",
       "      <th>objid</th>\n",
       "      <th>original_image</th>\n",
       "      <th>flux_g</th>\n",
       "      <th>flux_r</th>\n",
       "      <th>flux_z</th>\n",
       "      <th>x</th>\n",
       "      <th>y</th>\n",
       "      <th>ra</th>\n",
       "      <th>dec</th>\n",
       "    </tr>\n",
       "  </thead>\n",
       "  <tbody>\n",
       "    <tr>\n",
       "      <th>0</th>\n",
       "      <td>0</td>\n",
       "      <td>z-legacysurvey-0260m062-image.fits.fz</td>\n",
       "      <td>14.647056</td>\n",
       "      <td>47.933273</td>\n",
       "      <td>105.962326</td>\n",
       "      <td>25.945412</td>\n",
       "      <td>-6.371716</td>\n",
       "      <td>25.945412</td>\n",
       "      <td>-6.371716</td>\n",
       "    </tr>\n",
       "    <tr>\n",
       "      <th>1</th>\n",
       "      <td>1</td>\n",
       "      <td>z-legacysurvey-0260m062-image.fits.fz</td>\n",
       "      <td>0.300906</td>\n",
       "      <td>1.058756</td>\n",
       "      <td>5.895619</td>\n",
       "      <td>25.946999</td>\n",
       "      <td>-6.379954</td>\n",
       "      <td>25.946999</td>\n",
       "      <td>-6.379954</td>\n",
       "    </tr>\n",
       "    <tr>\n",
       "      <th>2</th>\n",
       "      <td>2</td>\n",
       "      <td>z-legacysurvey-0260m062-image.fits.fz</td>\n",
       "      <td>0.315161</td>\n",
       "      <td>1.082911</td>\n",
       "      <td>2.710563</td>\n",
       "      <td>25.947223</td>\n",
       "      <td>-6.375302</td>\n",
       "      <td>25.947223</td>\n",
       "      <td>-6.375302</td>\n",
       "    </tr>\n",
       "    <tr>\n",
       "      <th>3</th>\n",
       "      <td>3</td>\n",
       "      <td>z-legacysurvey-0260m062-image.fits.fz</td>\n",
       "      <td>0.167745</td>\n",
       "      <td>0.960380</td>\n",
       "      <td>3.497689</td>\n",
       "      <td>25.947719</td>\n",
       "      <td>-6.372837</td>\n",
       "      <td>25.947719</td>\n",
       "      <td>-6.372837</td>\n",
       "    </tr>\n",
       "    <tr>\n",
       "      <th>4</th>\n",
       "      <td>4</td>\n",
       "      <td>z-legacysurvey-0260m062-image.fits.fz</td>\n",
       "      <td>0.733369</td>\n",
       "      <td>1.121266</td>\n",
       "      <td>1.421438</td>\n",
       "      <td>25.945132</td>\n",
       "      <td>-6.377418</td>\n",
       "      <td>25.945132</td>\n",
       "      <td>-6.377418</td>\n",
       "    </tr>\n",
       "    <tr>\n",
       "      <th>...</th>\n",
       "      <td>...</td>\n",
       "      <td>...</td>\n",
       "      <td>...</td>\n",
       "      <td>...</td>\n",
       "      <td>...</td>\n",
       "      <td>...</td>\n",
       "      <td>...</td>\n",
       "      <td>...</td>\n",
       "      <td>...</td>\n",
       "    </tr>\n",
       "    <tr>\n",
       "      <th>8555</th>\n",
       "      <td>8555</td>\n",
       "      <td>z-legacysurvey-0260m062-image.fits.fz</td>\n",
       "      <td>0.158827</td>\n",
       "      <td>0.209918</td>\n",
       "      <td>0.591404</td>\n",
       "      <td>26.061850</td>\n",
       "      <td>-6.123305</td>\n",
       "      <td>26.061850</td>\n",
       "      <td>-6.123305</td>\n",
       "    </tr>\n",
       "    <tr>\n",
       "      <th>8556</th>\n",
       "      <td>8556</td>\n",
       "      <td>z-legacysurvey-0260m062-image.fits.fz</td>\n",
       "      <td>0.063598</td>\n",
       "      <td>0.114165</td>\n",
       "      <td>0.079041</td>\n",
       "      <td>25.963370</td>\n",
       "      <td>-6.124377</td>\n",
       "      <td>25.963370</td>\n",
       "      <td>-6.124377</td>\n",
       "    </tr>\n",
       "    <tr>\n",
       "      <th>8557</th>\n",
       "      <td>8557</td>\n",
       "      <td>z-legacysurvey-0260m062-image.fits.fz</td>\n",
       "      <td>0.102805</td>\n",
       "      <td>0.278738</td>\n",
       "      <td>0.390089</td>\n",
       "      <td>26.047838</td>\n",
       "      <td>-6.124206</td>\n",
       "      <td>26.047838</td>\n",
       "      <td>-6.124206</td>\n",
       "    </tr>\n",
       "    <tr>\n",
       "      <th>8558</th>\n",
       "      <td>8558</td>\n",
       "      <td>z-legacysurvey-0260m062-image.fits.fz</td>\n",
       "      <td>0.137012</td>\n",
       "      <td>0.131219</td>\n",
       "      <td>0.226656</td>\n",
       "      <td>26.047843</td>\n",
       "      <td>-6.123123</td>\n",
       "      <td>26.047843</td>\n",
       "      <td>-6.123123</td>\n",
       "    </tr>\n",
       "    <tr>\n",
       "      <th>8559</th>\n",
       "      <td>8559</td>\n",
       "      <td>z-legacysurvey-0260m062-image.fits.fz</td>\n",
       "      <td>0.000000</td>\n",
       "      <td>0.000000</td>\n",
       "      <td>0.000000</td>\n",
       "      <td>26.126580</td>\n",
       "      <td>-6.354087</td>\n",
       "      <td>26.126580</td>\n",
       "      <td>-6.354087</td>\n",
       "    </tr>\n",
       "  </tbody>\n",
       "</table>\n",
       "<p>8560 rows × 9 columns</p>\n",
       "</div>"
      ],
      "text/plain": [
       "      objid                         original_image     flux_g     flux_r  \\\n",
       "0         0  z-legacysurvey-0260m062-image.fits.fz  14.647056  47.933273   \n",
       "1         1  z-legacysurvey-0260m062-image.fits.fz   0.300906   1.058756   \n",
       "2         2  z-legacysurvey-0260m062-image.fits.fz   0.315161   1.082911   \n",
       "3         3  z-legacysurvey-0260m062-image.fits.fz   0.167745   0.960380   \n",
       "4         4  z-legacysurvey-0260m062-image.fits.fz   0.733369   1.121266   \n",
       "...     ...                                    ...        ...        ...   \n",
       "8555   8555  z-legacysurvey-0260m062-image.fits.fz   0.158827   0.209918   \n",
       "8556   8556  z-legacysurvey-0260m062-image.fits.fz   0.063598   0.114165   \n",
       "8557   8557  z-legacysurvey-0260m062-image.fits.fz   0.102805   0.278738   \n",
       "8558   8558  z-legacysurvey-0260m062-image.fits.fz   0.137012   0.131219   \n",
       "8559   8559  z-legacysurvey-0260m062-image.fits.fz   0.000000   0.000000   \n",
       "\n",
       "          flux_z          x         y         ra       dec  \n",
       "0     105.962326  25.945412 -6.371716  25.945412 -6.371716  \n",
       "1       5.895619  25.946999 -6.379954  25.946999 -6.379954  \n",
       "2       2.710563  25.947223 -6.375302  25.947223 -6.375302  \n",
       "3       3.497689  25.947719 -6.372837  25.947719 -6.372837  \n",
       "4       1.421438  25.945132 -6.377418  25.945132 -6.377418  \n",
       "...          ...        ...       ...        ...       ...  \n",
       "8555    0.591404  26.061850 -6.123305  26.061850 -6.123305  \n",
       "8556    0.079041  25.963370 -6.124377  25.963370 -6.124377  \n",
       "8557    0.390089  26.047838 -6.124206  26.047838 -6.124206  \n",
       "8558    0.226656  26.047843 -6.123123  26.047843 -6.123123  \n",
       "8559    0.000000  26.126580 -6.354087  26.126580 -6.354087  \n",
       "\n",
       "[8560 rows x 9 columns]"
      ]
     },
     "execution_count": 17,
     "metadata": {},
     "output_type": "execute_result"
    }
   ],
   "source": [
    "new_catalogue = pd.DataFrame()\n",
    "new_catalogue['objid'] = catalogue['objid']\n",
    "new_catalogue['original_image'] = [original_image] * len(new_catalogue)\n",
    "new_catalogue['flux_g'] = catalogue['flux_g']\n",
    "new_catalogue['flux_r'] = catalogue['flux_r']\n",
    "new_catalogue['flux_z'] = catalogue['flux_z']\n",
    "new_catalogue['x'] = x\n",
    "new_catalogue['y'] = y\n",
    "new_catalogue['ra'] = catalogue['ra']\n",
    "new_catalogue['dec'] = catalogue['dec']\n",
    "new_catalogue"
   ]
  },
  {
   "cell_type": "code",
   "execution_count": null,
   "metadata": {},
   "outputs": [],
   "source": []
  },
  {
   "cell_type": "code",
   "execution_count": 18,
   "metadata": {},
   "outputs": [],
   "source": [
    "def convert_tractor_catalogue(catalogue_file, image_file, image_name=''):\n",
    "    \"\"\"\n",
    "    Converts a tractor fits file to a pandas dataframe to be given\n",
    "    directly to an ImageDataset object.\n",
    "\n",
    "    Parameters\n",
    "    ----------\n",
    "    catalogue_files : string\n",
    "        tractor catalogue in fits table format \n",
    "    image_file:\n",
    "        The image corresponding to this catalogue (to extract pixel information\n",
    "        and naming information)\n",
    "    \"\"\"\n",
    "\n",
    "    catalogue = astropy.table.Table(astropy.io.fits.getdata(catalogue_file))\n",
    "\n",
    "    dataframe = {}\n",
    "    for name in catalogue.colnames:\n",
    "        data = catalogue[name].tolist()\n",
    "        dataframe[name] = data\n",
    "    \n",
    "    old_catalogue = pd.DataFrame(dataframe)\n",
    "    hdul = astropy.io.fits.open(image_file)\n",
    "\n",
    "    if len(image_name) == 0:\n",
    "        original_image = image_file.split(os.path.sep)[-1]\n",
    "    else:\n",
    "        original_image = image_name\n",
    "    \n",
    "    #w = astropy.wcs.WCS(hdul[0].header, naxis=2)\n",
    "    #x, y = w.wcs_world2pix(old_catalogue['ra'], old_catalogue['dec'], 1)\n",
    "    \n",
    "    new_catalogue = pd.DataFrame()\n",
    "    new_catalogue['objid'] = old_catalogue['objid']\n",
    "    new_catalogue['original_image'] = [original_image] * len(new_catalogue)\n",
    "    new_catalogue['flux_g'] = old_catalogue['flux_g']\n",
    "    new_catalogue['flux_r'] = old_catalogue['flux_r']\n",
    "    new_catalogue['flux_z'] = old_catalogue['flux_z']\n",
    "    new_catalogue['x'] = old_catalogue['bx'].astype('int')\n",
    "    new_catalogue['y'] = old_catalogue['by'].astype('int')\n",
    "    new_catalogue['ra'] = old_catalogue['ra']\n",
    "    new_catalogue['dec'] = old_catalogue['dec']\n",
    "    \n",
    "    return new_catalogue"
   ]
  },
  {
   "cell_type": "code",
   "execution_count": 19,
   "metadata": {},
   "outputs": [],
   "source": [
    "prod = convert_tractor_catalogue(catalogue_file, image_file_z, image_name='')"
   ]
  },
  {
   "cell_type": "code",
   "execution_count": 20,
   "metadata": {},
   "outputs": [
    {
     "data": {
      "text/plain": [
       "RangeIndex(start=0, stop=8560, step=1)"
      ]
     },
     "execution_count": 20,
     "metadata": {},
     "output_type": "execute_result"
    }
   ],
   "source": [
    "prod.index"
   ]
  },
  {
   "cell_type": "code",
   "execution_count": 21,
   "metadata": {},
   "outputs": [
    {
     "data": {
      "text/plain": [
       "objid                                              4982\n",
       "original_image    z-legacysurvey-0260m062-image.fits.fz\n",
       "flux_g                                         0.395609\n",
       "flux_r                                          1.08835\n",
       "flux_z                                          2.87795\n",
       "x                                                  2937\n",
       "y                                                  2020\n",
       "ra                                              25.9362\n",
       "dec                                            -6.23392\n",
       "Name: 4982, dtype: object"
      ]
     },
     "execution_count": 21,
     "metadata": {},
     "output_type": "execute_result"
    }
   ],
   "source": [
    "prod.loc[4982]"
   ]
  },
  {
   "cell_type": "code",
   "execution_count": null,
   "metadata": {},
   "outputs": [],
   "source": []
  }
 ],
 "metadata": {
  "kernelspec": {
   "display_name": "Python 3.7.5 64-bit",
   "language": "python",
   "name": "python37564bit90ce9393941248d8885c8ffd563274d3"
  },
  "language_info": {
   "codemirror_mode": {
    "name": "ipython",
    "version": 3
   },
   "file_extension": ".py",
   "mimetype": "text/x-python",
   "name": "python",
   "nbconvert_exporter": "python",
   "pygments_lexer": "ipython3",
   "version": "3.8.2"
  }
 },
 "nbformat": 4,
 "nbformat_minor": 4
}
