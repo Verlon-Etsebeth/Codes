{
 "cells": [
  {
   "cell_type": "markdown",
   "metadata": {},
   "source": [
    "# Astronomaly"
   ]
  },
  {
   "cell_type": "markdown",
   "metadata": {},
   "source": [
    "This notebook is designed to replicate the ellipse feature extraction method of Astronomaly. In addition, the steps are shown individually and explained in order to provide better detail in the processes of Astronomaly. The notebook would thus ideally serve as a troubleshooting method for Astronomaly."
   ]
  },
  {
   "cell_type": "markdown",
   "metadata": {},
   "source": [
    "___________________________"
   ]
  },
  {
   "cell_type": "markdown",
   "metadata": {},
   "source": [
    "## Prerequisites"
   ]
  },
  {
   "cell_type": "markdown",
   "metadata": {},
   "source": [
    "This section merely loads all of the requirements to run Astronomaly within a Jupyter Notebook."
   ]
  },
  {
   "cell_type": "code",
   "execution_count": null,
   "metadata": {},
   "outputs": [],
   "source": [
    "from astronomaly.anomaly_detection import isolation_forest, human_loop_learning\n",
    "from astronomaly.base import logging_tools\n",
    "from astronomaly.base.base_pipeline import PipelineStage\n",
    "from astronomaly.data_management import image_reader\n",
    "from astronomaly.dimensionality_reduction import pca\n",
    "from astronomaly.feature_extraction import power_spectrum, autoencoder, shape_features\n",
    "from astronomaly.feature_extraction.shape_features import find_contours, fit_ellipse, draw_contour\n",
    "from astronomaly.feature_extraction.shape_features import get_ellipse_leastsq, extract_contour\n",
    "from astronomaly.postprocessing import scaling\n",
    "from astronomaly.preprocessing import image_preprocessing\n",
    "from astronomaly.preprocessing.image_preprocessing import image_transform_sigma_clipping, image_transform_scale, image_transform_greyscale\n",
    "from astronomaly.visualisation import tsne\n",
    "from astronomaly.utils import utils\n",
    "\n",
    "import os\n",
    "import cv2\n",
    "import pandas as pd\n",
    "import numpy as np\n",
    "import matplotlib.pyplot as plt\n",
    "from astropy.io import fits\n",
    "\n",
    "%matplotlib inline"
   ]
  },
  {
   "cell_type": "markdown",
   "metadata": {},
   "source": [
    "_______________________"
   ]
  },
  {
   "cell_type": "markdown",
   "metadata": {},
   "source": [
    "## Section 1: Setting up Astronomaly"
   ]
  },
  {
   "cell_type": "code",
   "execution_count": null,
   "metadata": {},
   "outputs": [],
   "source": []
  },
  {
   "cell_type": "code",
   "execution_count": null,
   "metadata": {},
   "outputs": [],
   "source": []
  },
  {
   "cell_type": "code",
   "execution_count": null,
   "metadata": {},
   "outputs": [],
   "source": []
  }
 ],
 "metadata": {
  "kernelspec": {
   "display_name": "astronomaly",
   "language": "python",
   "name": "astronomaly"
  },
  "language_info": {
   "codemirror_mode": {
    "name": "ipython",
    "version": 3
   },
   "file_extension": ".py",
   "mimetype": "text/x-python",
   "name": "python",
   "nbconvert_exporter": "python",
   "pygments_lexer": "ipython3",
   "version": "3.8.5"
  }
 },
 "nbformat": 4,
 "nbformat_minor": 4
}
