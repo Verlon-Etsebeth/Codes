{
 "cells": [
  {
   "cell_type": "code",
   "execution_count": 1,
   "metadata": {},
   "outputs": [],
   "source": [
    "import matplotlib.pyplot as plt\n",
    "import astropy\n",
    "import os\n",
    "import pandas as pd\n",
    "import numpy as np\n",
    "import xlsxwriter\n",
    "import matplotlib as mpl\n",
    "import pyarrow.parquet as pq\n",
    "import matplotlib.image as mpimg\n",
    "import webbrowser  \n",
    "import time\n",
    "\n",
    "from astropy import io\n",
    "from astropy.io import fits\n",
    "from astropy import table\n",
    "from astropy import wcs"
   ]
  },
  {
   "cell_type": "markdown",
   "metadata": {},
   "source": [
    "## Catalogue File"
   ]
  },
  {
   "cell_type": "code",
   "execution_count": 2,
   "metadata": {},
   "outputs": [],
   "source": [
    "catalogue_file = '/home/verlon/Desktop/Astronomaly/Data/Input/Coadd_0260/0260m062/Catalogue/tractor-0260m062.fits'"
   ]
  },
  {
   "cell_type": "code",
   "execution_count": 3,
   "metadata": {},
   "outputs": [],
   "source": [
    "catalogue = astropy.table.Table(astropy.io.fits.getdata(catalogue_file,ignore_missing_end=True))"
   ]
  },
  {
   "cell_type": "markdown",
   "metadata": {},
   "source": [
    "_______"
   ]
  },
  {
   "cell_type": "markdown",
   "metadata": {},
   "source": [
    "## Images"
   ]
  },
  {
   "cell_type": "code",
   "execution_count": 4,
   "metadata": {},
   "outputs": [],
   "source": [
    "image_file_g = '/home/verlon/Desktop/Astronomaly/Data/Input/Coadd_0260/0260m062/Images/g-legacysurvey-0260m062-image.fits.fz'\n",
    "image_file_r = '/home/verlon/Desktop/Astronomaly/Data/Input/Coadd_0260/0260m062/Images/r-legacysurvey-0260m062-image.fits.fz'\n",
    "image_file_z = '/home/verlon/Desktop/Astronomaly/Data/Input/Coadd_0260/0260m062/Images/z-legacysurvey-0260m062-image.fits.fz'"
   ]
  },
  {
   "cell_type": "markdown",
   "metadata": {},
   "source": [
    "________"
   ]
  },
  {
   "cell_type": "markdown",
   "metadata": {},
   "source": [
    "## Create the new catalogue without point sources"
   ]
  },
  {
   "cell_type": "code",
   "execution_count": 5,
   "metadata": {},
   "outputs": [],
   "source": [
    "def convert_tractor_catalogue(catalogue_file, image_file, image_name =''):\n",
    "    \"\"\"\n",
    "    Converts a tractor fits file to a pandas dataframe to be given\n",
    "    directly to an ImageDataset object.\n",
    "\n",
    "    Parameters\n",
    "    ----------\n",
    "    catalogue_files : string\n",
    "        tractor catalogue in fits table format \n",
    "    image_file:\n",
    "        The image corresponding to this catalogue (to extract pixel information\n",
    "        and naming information)\n",
    "    \"\"\"\n",
    "\n",
    "    catalogue = astropy.table.Table(astropy.io.fits.getdata(catalogue_file,ignore_missing_end=True))\n",
    "\n",
    "    dataframe = {}\n",
    "    for name in catalogue.colnames:\n",
    "        data = catalogue[name].tolist()\n",
    "        dataframe[name] = data\n",
    "    \n",
    "    old_catalogue = pd.DataFrame(dataframe)\n",
    "    hdul = astropy.io.fits.open(image_file)\n",
    "\n",
    "    if len(image_name) == 0:\n",
    "        original_image_ = image_file.split(os.path.sep)[-1]\n",
    "        original_image = original_image_.replace(original_image_[:2],'')\n",
    "    else:\n",
    "        original_image = image_name\n",
    "    \n",
    "    #w = astropy.wcs.WCS(hdul[0].header, naxis=2)\n",
    "    #x, y = w.wcs_world2pix(old_catalogue['ra'], old_catalogue['dec'], 1)\n",
    "    \n",
    "    new_catalogue = pd.DataFrame()\n",
    "    new_catalogue['objid'] = old_catalogue['objid']\n",
    "    new_catalogue['original_image'] = [original_image] * len(new_catalogue)\n",
    "    new_catalogue['flux_g'] = old_catalogue['flux_g']\n",
    "    new_catalogue['flux_r'] = old_catalogue['flux_r']\n",
    "    new_catalogue['flux_z'] = old_catalogue['flux_z']\n",
    "    new_catalogue['x'] = old_catalogue['bx'].astype('int')\n",
    "    new_catalogue['y'] = old_catalogue['by'].astype('int')\n",
    "    new_catalogue['ra'] = old_catalogue['ra']\n",
    "    new_catalogue['dec'] = old_catalogue['dec']\n",
    "    \n",
    "    new_catalogue['type'] = old_catalogue['type']\n",
    "    \n",
    "    \n",
    "    ## Removes PSFs\n",
    "    catalogue_no_PSFs = new_catalogue[new_catalogue.type.astype(\"S\") != b'PSF ']\n",
    "    \n",
    "    return catalogue_no_PSFs"
   ]
  },
  {
   "cell_type": "markdown",
   "metadata": {},
   "source": [
    "__________"
   ]
  },
  {
   "cell_type": "markdown",
   "metadata": {},
   "source": [
    "## Produce the catalogue"
   ]
  },
  {
   "cell_type": "code",
   "execution_count": 6,
   "metadata": {},
   "outputs": [],
   "source": [
    "catalogue = convert_tractor_catalogue(catalogue_file, image_file_g)"
   ]
  },
  {
   "cell_type": "markdown",
   "metadata": {},
   "source": [
    "________"
   ]
  },
  {
   "cell_type": "markdown",
   "metadata": {},
   "source": [
    "## Sort the function according to flux"
   ]
  },
  {
   "cell_type": "code",
   "execution_count": 7,
   "metadata": {},
   "outputs": [],
   "source": [
    "catalogue_sorted = catalogue.sort_values('flux_g', ascending=False)"
   ]
  },
  {
   "cell_type": "markdown",
   "metadata": {},
   "source": [
    "_____"
   ]
  },
  {
   "cell_type": "markdown",
   "metadata": {},
   "source": [
    "## Collect the cutouts from the website"
   ]
  },
  {
   "cell_type": "markdown",
   "metadata": {},
   "source": [
    "#### WARNING: Can take a long time!"
   ]
  },
  {
   "cell_type": "code",
   "execution_count": 8,
   "metadata": {},
   "outputs": [],
   "source": [
    "# Written like this to avoid accidentally running all the values \n",
    "#x = range(len(catalogue_sorted))"
   ]
  },
  {
   "cell_type": "code",
   "execution_count": null,
   "metadata": {},
   "outputs": [],
   "source": [
    "for i in x:\n",
    "    ra = catalogue_sorted['ra'].reset_index()\n",
    "    dec = catalogue_sorted['dec'].reset_index()\n",
    "    \n",
    "    ra_value = ra.loc[i].ra\n",
    "    dec_value = dec.loc[i].dec\n",
    "    \n",
    "    webbrowser.open(\n",
    "        'http://legacysurvey.org/viewer/fits-cutout/?ra=' +str(ra_value) + \n",
    "        '&dec=' +str(dec_value) + '&layer=dr8-south&pixscale=0.27&bands=grz',\n",
    "        new=0,\n",
    "        autoraise=True\n",
    "    )\n",
    "    \n",
    "    # Sleep function added to avoid overburderning browser\n",
    "    time.sleep(0.5)"
   ]
  }
 ],
 "metadata": {
  "kernelspec": {
   "display_name": "Python 3.7.5 64-bit",
   "language": "python",
   "name": "python37564bit90ce9393941248d8885c8ffd563274d3"
  },
  "language_info": {
   "codemirror_mode": {
    "name": "ipython",
    "version": 3
   },
   "file_extension": ".py",
   "mimetype": "text/x-python",
   "name": "python",
   "nbconvert_exporter": "python",
   "pygments_lexer": "ipython3",
   "version": "3.8.2"
  }
 },
 "nbformat": 4,
 "nbformat_minor": 4
}
