{
 "cells": [
  {
   "cell_type": "code",
   "execution_count": 1,
   "metadata": {},
   "outputs": [],
   "source": [
    "import numpy as np\n",
    "import cv2\n",
    "import matplotlib.pyplot as plt\n",
    "import astropy\n",
    "import os\n",
    "import pandas as pd\n",
    "import xlsxwriter\n",
    "import matplotlib as mpl\n",
    "\n",
    "from astropy.io import fits\n",
    "from astropy.stats import sigma_clipped_stats\n",
    "from astronomaly.base.base_pipeline import PipelineStage\n",
    "from astronomaly.base import logging_tools\n",
    "\n",
    "from astropy.stats import sigma_clipped_stats"
   ]
  },
  {
   "cell_type": "markdown",
   "metadata": {},
   "source": [
    "# Load Files"
   ]
  },
  {
   "cell_type": "code",
   "execution_count": 2,
   "metadata": {},
   "outputs": [
    {
     "ename": "FileNotFoundError",
     "evalue": "[Errno 2] No such file or directory: '/home/verlon/Desktop/Astronomaly/Data/Input/Good Images/cutout_23.3816_-6.8632.fits'",
     "output_type": "error",
     "traceback": [
      "\u001b[0;31m---------------------------------------------------------------------------\u001b[0m",
      "\u001b[0;31mFileNotFoundError\u001b[0m                         Traceback (most recent call last)",
      "\u001b[0;32m<ipython-input-2-f4523ceb5e1e>\u001b[0m in \u001b[0;36m<module>\u001b[0;34m\u001b[0m\n\u001b[1;32m      1\u001b[0m \u001b[0mgood_image\u001b[0m \u001b[0;34m=\u001b[0m \u001b[0;34m'/home/verlon/Desktop/Astronomaly/Data/Input/Good Images/cutout_23.3816_-6.8632.fits'\u001b[0m\u001b[0;34m\u001b[0m\u001b[0;34m\u001b[0m\u001b[0m\n\u001b[1;32m      2\u001b[0m \u001b[0;34m\u001b[0m\u001b[0m\n\u001b[0;32m----> 3\u001b[0;31m \u001b[0mgood_image_data\u001b[0m \u001b[0;34m=\u001b[0m \u001b[0mfits\u001b[0m\u001b[0;34m.\u001b[0m\u001b[0mgetdata\u001b[0m\u001b[0;34m(\u001b[0m\u001b[0mgood_image\u001b[0m\u001b[0;34m)\u001b[0m\u001b[0;34m\u001b[0m\u001b[0;34m\u001b[0m\u001b[0m\n\u001b[0m",
      "\u001b[0;32m/usr/local/lib/python3.8/dist-packages/astropy/io/fits/convenience.py\u001b[0m in \u001b[0;36mgetdata\u001b[0;34m(filename, header, lower, upper, view, *args, **kwargs)\u001b[0m\n\u001b[1;32m    187\u001b[0m     \u001b[0mmode\u001b[0m\u001b[0;34m,\u001b[0m \u001b[0mclosed\u001b[0m \u001b[0;34m=\u001b[0m \u001b[0m_get_file_mode\u001b[0m\u001b[0;34m(\u001b[0m\u001b[0mfilename\u001b[0m\u001b[0;34m)\u001b[0m\u001b[0;34m\u001b[0m\u001b[0;34m\u001b[0m\u001b[0m\n\u001b[1;32m    188\u001b[0m \u001b[0;34m\u001b[0m\u001b[0m\n\u001b[0;32m--> 189\u001b[0;31m     \u001b[0mhdulist\u001b[0m\u001b[0;34m,\u001b[0m \u001b[0mextidx\u001b[0m \u001b[0;34m=\u001b[0m \u001b[0m_getext\u001b[0m\u001b[0;34m(\u001b[0m\u001b[0mfilename\u001b[0m\u001b[0;34m,\u001b[0m \u001b[0mmode\u001b[0m\u001b[0;34m,\u001b[0m \u001b[0;34m*\u001b[0m\u001b[0margs\u001b[0m\u001b[0;34m,\u001b[0m \u001b[0;34m**\u001b[0m\u001b[0mkwargs\u001b[0m\u001b[0;34m)\u001b[0m\u001b[0;34m\u001b[0m\u001b[0;34m\u001b[0m\u001b[0m\n\u001b[0m\u001b[1;32m    190\u001b[0m     \u001b[0;32mtry\u001b[0m\u001b[0;34m:\u001b[0m\u001b[0;34m\u001b[0m\u001b[0;34m\u001b[0m\u001b[0m\n\u001b[1;32m    191\u001b[0m         \u001b[0mhdu\u001b[0m \u001b[0;34m=\u001b[0m \u001b[0mhdulist\u001b[0m\u001b[0;34m[\u001b[0m\u001b[0mextidx\u001b[0m\u001b[0;34m]\u001b[0m\u001b[0;34m\u001b[0m\u001b[0;34m\u001b[0m\u001b[0m\n",
      "\u001b[0;32m/usr/local/lib/python3.8/dist-packages/astropy/io/fits/convenience.py\u001b[0m in \u001b[0;36m_getext\u001b[0;34m(filename, mode, ext, extname, extver, *args, **kwargs)\u001b[0m\n\u001b[1;32m   1047\u001b[0m         \u001b[0;32mraise\u001b[0m \u001b[0mTypeError\u001b[0m\u001b[0;34m(\u001b[0m\u001b[0;34m'extver alone cannot specify an extension.'\u001b[0m\u001b[0;34m)\u001b[0m\u001b[0;34m\u001b[0m\u001b[0;34m\u001b[0m\u001b[0m\n\u001b[1;32m   1048\u001b[0m \u001b[0;34m\u001b[0m\u001b[0m\n\u001b[0;32m-> 1049\u001b[0;31m     \u001b[0mhdulist\u001b[0m \u001b[0;34m=\u001b[0m \u001b[0mfitsopen\u001b[0m\u001b[0;34m(\u001b[0m\u001b[0mfilename\u001b[0m\u001b[0;34m,\u001b[0m \u001b[0mmode\u001b[0m\u001b[0;34m=\u001b[0m\u001b[0mmode\u001b[0m\u001b[0;34m,\u001b[0m \u001b[0;34m**\u001b[0m\u001b[0mkwargs\u001b[0m\u001b[0;34m)\u001b[0m\u001b[0;34m\u001b[0m\u001b[0;34m\u001b[0m\u001b[0m\n\u001b[0m\u001b[1;32m   1050\u001b[0m \u001b[0;34m\u001b[0m\u001b[0m\n\u001b[1;32m   1051\u001b[0m     \u001b[0;32mreturn\u001b[0m \u001b[0mhdulist\u001b[0m\u001b[0;34m,\u001b[0m \u001b[0mext\u001b[0m\u001b[0;34m\u001b[0m\u001b[0;34m\u001b[0m\u001b[0m\n",
      "\u001b[0;32m/usr/local/lib/python3.8/dist-packages/astropy/io/fits/hdu/hdulist.py\u001b[0m in \u001b[0;36mfitsopen\u001b[0;34m(name, mode, memmap, save_backup, cache, lazy_load_hdus, **kwargs)\u001b[0m\n\u001b[1;32m    162\u001b[0m         \u001b[0;32mraise\u001b[0m \u001b[0mValueError\u001b[0m\u001b[0;34m(\u001b[0m\u001b[0;34mf'Empty filename: {name!r}'\u001b[0m\u001b[0;34m)\u001b[0m\u001b[0;34m\u001b[0m\u001b[0;34m\u001b[0m\u001b[0m\n\u001b[1;32m    163\u001b[0m \u001b[0;34m\u001b[0m\u001b[0m\n\u001b[0;32m--> 164\u001b[0;31m     return HDUList.fromfile(name, mode, memmap, save_backup, cache,\n\u001b[0m\u001b[1;32m    165\u001b[0m                             lazy_load_hdus, **kwargs)\n\u001b[1;32m    166\u001b[0m \u001b[0;34m\u001b[0m\u001b[0m\n",
      "\u001b[0;32m/usr/local/lib/python3.8/dist-packages/astropy/io/fits/hdu/hdulist.py\u001b[0m in \u001b[0;36mfromfile\u001b[0;34m(cls, fileobj, mode, memmap, save_backup, cache, lazy_load_hdus, **kwargs)\u001b[0m\n\u001b[1;32m    401\u001b[0m         \"\"\"\n\u001b[1;32m    402\u001b[0m \u001b[0;34m\u001b[0m\u001b[0m\n\u001b[0;32m--> 403\u001b[0;31m         return cls._readfrom(fileobj=fileobj, mode=mode, memmap=memmap,\n\u001b[0m\u001b[1;32m    404\u001b[0m                              \u001b[0msave_backup\u001b[0m\u001b[0;34m=\u001b[0m\u001b[0msave_backup\u001b[0m\u001b[0;34m,\u001b[0m \u001b[0mcache\u001b[0m\u001b[0;34m=\u001b[0m\u001b[0mcache\u001b[0m\u001b[0;34m,\u001b[0m\u001b[0;34m\u001b[0m\u001b[0;34m\u001b[0m\u001b[0m\n\u001b[1;32m    405\u001b[0m                              lazy_load_hdus=lazy_load_hdus, **kwargs)\n",
      "\u001b[0;32m/usr/local/lib/python3.8/dist-packages/astropy/io/fits/hdu/hdulist.py\u001b[0m in \u001b[0;36m_readfrom\u001b[0;34m(cls, fileobj, data, mode, memmap, save_backup, cache, lazy_load_hdus, **kwargs)\u001b[0m\n\u001b[1;32m   1052\u001b[0m             \u001b[0;32mif\u001b[0m \u001b[0;32mnot\u001b[0m \u001b[0misinstance\u001b[0m\u001b[0;34m(\u001b[0m\u001b[0mfileobj\u001b[0m\u001b[0;34m,\u001b[0m \u001b[0m_File\u001b[0m\u001b[0;34m)\u001b[0m\u001b[0;34m:\u001b[0m\u001b[0;34m\u001b[0m\u001b[0;34m\u001b[0m\u001b[0m\n\u001b[1;32m   1053\u001b[0m                 \u001b[0;31m# instantiate a FITS file object (ffo)\u001b[0m\u001b[0;34m\u001b[0m\u001b[0;34m\u001b[0m\u001b[0;34m\u001b[0m\u001b[0m\n\u001b[0;32m-> 1054\u001b[0;31m                 \u001b[0mfileobj\u001b[0m \u001b[0;34m=\u001b[0m \u001b[0m_File\u001b[0m\u001b[0;34m(\u001b[0m\u001b[0mfileobj\u001b[0m\u001b[0;34m,\u001b[0m \u001b[0mmode\u001b[0m\u001b[0;34m=\u001b[0m\u001b[0mmode\u001b[0m\u001b[0;34m,\u001b[0m \u001b[0mmemmap\u001b[0m\u001b[0;34m=\u001b[0m\u001b[0mmemmap\u001b[0m\u001b[0;34m,\u001b[0m \u001b[0mcache\u001b[0m\u001b[0;34m=\u001b[0m\u001b[0mcache\u001b[0m\u001b[0;34m)\u001b[0m\u001b[0;34m\u001b[0m\u001b[0;34m\u001b[0m\u001b[0m\n\u001b[0m\u001b[1;32m   1055\u001b[0m             \u001b[0;31m# The Astropy mode is determined by the _File initializer if the\u001b[0m\u001b[0;34m\u001b[0m\u001b[0;34m\u001b[0m\u001b[0;34m\u001b[0m\u001b[0m\n\u001b[1;32m   1056\u001b[0m             \u001b[0;31m# supplied mode was None\u001b[0m\u001b[0;34m\u001b[0m\u001b[0;34m\u001b[0m\u001b[0;34m\u001b[0m\u001b[0m\n",
      "\u001b[0;32m/usr/local/lib/python3.8/dist-packages/astropy/utils/decorators.py\u001b[0m in \u001b[0;36mwrapper\u001b[0;34m(*args, **kwargs)\u001b[0m\n\u001b[1;32m    533\u001b[0m                     \u001b[0mwarnings\u001b[0m\u001b[0;34m.\u001b[0m\u001b[0mwarn\u001b[0m\u001b[0;34m(\u001b[0m\u001b[0mmessage\u001b[0m\u001b[0;34m,\u001b[0m \u001b[0mwarning_type\u001b[0m\u001b[0;34m,\u001b[0m \u001b[0mstacklevel\u001b[0m\u001b[0;34m=\u001b[0m\u001b[0;36m2\u001b[0m\u001b[0;34m)\u001b[0m\u001b[0;34m\u001b[0m\u001b[0;34m\u001b[0m\u001b[0m\n\u001b[1;32m    534\u001b[0m \u001b[0;34m\u001b[0m\u001b[0m\n\u001b[0;32m--> 535\u001b[0;31m             \u001b[0;32mreturn\u001b[0m \u001b[0mfunction\u001b[0m\u001b[0;34m(\u001b[0m\u001b[0;34m*\u001b[0m\u001b[0margs\u001b[0m\u001b[0;34m,\u001b[0m \u001b[0;34m**\u001b[0m\u001b[0mkwargs\u001b[0m\u001b[0;34m)\u001b[0m\u001b[0;34m\u001b[0m\u001b[0;34m\u001b[0m\u001b[0m\n\u001b[0m\u001b[1;32m    536\u001b[0m \u001b[0;34m\u001b[0m\u001b[0m\n\u001b[1;32m    537\u001b[0m         \u001b[0;32mreturn\u001b[0m \u001b[0mwrapper\u001b[0m\u001b[0;34m\u001b[0m\u001b[0;34m\u001b[0m\u001b[0m\n",
      "\u001b[0;32m/usr/local/lib/python3.8/dist-packages/astropy/io/fits/file.py\u001b[0m in \u001b[0;36m__init__\u001b[0;34m(self, fileobj, mode, memmap, overwrite, cache)\u001b[0m\n\u001b[1;32m    191\u001b[0m             \u001b[0mself\u001b[0m\u001b[0;34m.\u001b[0m\u001b[0m_open_fileobj\u001b[0m\u001b[0;34m(\u001b[0m\u001b[0mfileobj\u001b[0m\u001b[0;34m,\u001b[0m \u001b[0mmode\u001b[0m\u001b[0;34m,\u001b[0m \u001b[0moverwrite\u001b[0m\u001b[0;34m)\u001b[0m\u001b[0;34m\u001b[0m\u001b[0;34m\u001b[0m\u001b[0m\n\u001b[1;32m    192\u001b[0m         \u001b[0;32melif\u001b[0m \u001b[0misinstance\u001b[0m\u001b[0;34m(\u001b[0m\u001b[0mfileobj\u001b[0m\u001b[0;34m,\u001b[0m \u001b[0mstr\u001b[0m\u001b[0;34m)\u001b[0m\u001b[0;34m:\u001b[0m\u001b[0;34m\u001b[0m\u001b[0;34m\u001b[0m\u001b[0m\n\u001b[0;32m--> 193\u001b[0;31m             \u001b[0mself\u001b[0m\u001b[0;34m.\u001b[0m\u001b[0m_open_filename\u001b[0m\u001b[0;34m(\u001b[0m\u001b[0mfileobj\u001b[0m\u001b[0;34m,\u001b[0m \u001b[0mmode\u001b[0m\u001b[0;34m,\u001b[0m \u001b[0moverwrite\u001b[0m\u001b[0;34m)\u001b[0m\u001b[0;34m\u001b[0m\u001b[0;34m\u001b[0m\u001b[0m\n\u001b[0m\u001b[1;32m    194\u001b[0m         \u001b[0;32melse\u001b[0m\u001b[0;34m:\u001b[0m\u001b[0;34m\u001b[0m\u001b[0;34m\u001b[0m\u001b[0m\n\u001b[1;32m    195\u001b[0m             \u001b[0mself\u001b[0m\u001b[0;34m.\u001b[0m\u001b[0m_open_filelike\u001b[0m\u001b[0;34m(\u001b[0m\u001b[0mfileobj\u001b[0m\u001b[0;34m,\u001b[0m \u001b[0mmode\u001b[0m\u001b[0;34m,\u001b[0m \u001b[0moverwrite\u001b[0m\u001b[0;34m)\u001b[0m\u001b[0;34m\u001b[0m\u001b[0;34m\u001b[0m\u001b[0m\n",
      "\u001b[0;32m/usr/local/lib/python3.8/dist-packages/astropy/io/fits/file.py\u001b[0m in \u001b[0;36m_open_filename\u001b[0;34m(self, filename, mode, overwrite)\u001b[0m\n\u001b[1;32m    572\u001b[0m \u001b[0;34m\u001b[0m\u001b[0m\n\u001b[1;32m    573\u001b[0m         \u001b[0;32mif\u001b[0m \u001b[0;32mnot\u001b[0m \u001b[0mself\u001b[0m\u001b[0;34m.\u001b[0m\u001b[0m_try_read_compressed\u001b[0m\u001b[0;34m(\u001b[0m\u001b[0mself\u001b[0m\u001b[0;34m.\u001b[0m\u001b[0mname\u001b[0m\u001b[0;34m,\u001b[0m \u001b[0mmagic\u001b[0m\u001b[0;34m,\u001b[0m \u001b[0mmode\u001b[0m\u001b[0;34m,\u001b[0m \u001b[0mext\u001b[0m\u001b[0;34m=\u001b[0m\u001b[0mext\u001b[0m\u001b[0;34m)\u001b[0m\u001b[0;34m:\u001b[0m\u001b[0;34m\u001b[0m\u001b[0;34m\u001b[0m\u001b[0m\n\u001b[0;32m--> 574\u001b[0;31m             \u001b[0mself\u001b[0m\u001b[0;34m.\u001b[0m\u001b[0m_file\u001b[0m \u001b[0;34m=\u001b[0m \u001b[0mfileobj_open\u001b[0m\u001b[0;34m(\u001b[0m\u001b[0mself\u001b[0m\u001b[0;34m.\u001b[0m\u001b[0mname\u001b[0m\u001b[0;34m,\u001b[0m \u001b[0mIO_FITS_MODES\u001b[0m\u001b[0;34m[\u001b[0m\u001b[0mmode\u001b[0m\u001b[0;34m]\u001b[0m\u001b[0;34m)\u001b[0m\u001b[0;34m\u001b[0m\u001b[0;34m\u001b[0m\u001b[0m\n\u001b[0m\u001b[1;32m    575\u001b[0m             \u001b[0mself\u001b[0m\u001b[0;34m.\u001b[0m\u001b[0mclose_on_error\u001b[0m \u001b[0;34m=\u001b[0m \u001b[0;32mTrue\u001b[0m\u001b[0;34m\u001b[0m\u001b[0;34m\u001b[0m\u001b[0m\n\u001b[1;32m    576\u001b[0m \u001b[0;34m\u001b[0m\u001b[0m\n",
      "\u001b[0;32m/usr/local/lib/python3.8/dist-packages/astropy/io/fits/util.py\u001b[0m in \u001b[0;36mfileobj_open\u001b[0;34m(filename, mode)\u001b[0m\n\u001b[1;32m    394\u001b[0m     \"\"\"\n\u001b[1;32m    395\u001b[0m \u001b[0;34m\u001b[0m\u001b[0m\n\u001b[0;32m--> 396\u001b[0;31m     \u001b[0;32mreturn\u001b[0m \u001b[0mopen\u001b[0m\u001b[0;34m(\u001b[0m\u001b[0mfilename\u001b[0m\u001b[0;34m,\u001b[0m \u001b[0mmode\u001b[0m\u001b[0;34m,\u001b[0m \u001b[0mbuffering\u001b[0m\u001b[0;34m=\u001b[0m\u001b[0;36m0\u001b[0m\u001b[0;34m)\u001b[0m\u001b[0;34m\u001b[0m\u001b[0;34m\u001b[0m\u001b[0m\n\u001b[0m\u001b[1;32m    397\u001b[0m \u001b[0;34m\u001b[0m\u001b[0m\n\u001b[1;32m    398\u001b[0m \u001b[0;34m\u001b[0m\u001b[0m\n",
      "\u001b[0;31mFileNotFoundError\u001b[0m: [Errno 2] No such file or directory: '/home/verlon/Desktop/Astronomaly/Data/Input/Good Images/cutout_23.3816_-6.8632.fits'"
     ]
    }
   ],
   "source": [
    "good_image = '/home/verlon/Desktop/Astronomaly/Data/Input/Good Images/cutout_23.3816_-6.8632.fits'\n",
    "\n",
    "good_image_data = fits.getdata(good_image)"
   ]
  },
  {
   "cell_type": "code",
   "execution_count": null,
   "metadata": {},
   "outputs": [],
   "source": [
    "bad_image = '/home/verlon/Desktop/Astronomaly/Data/Input/Bad Images/cutout_23.7486_-6.3234.fits'\n",
    "\n",
    "bad_image_data = fits.getdata(bad_image)"
   ]
  },
  {
   "cell_type": "code",
   "execution_count": null,
   "metadata": {},
   "outputs": [],
   "source": []
  },
  {
   "cell_type": "code",
   "execution_count": null,
   "metadata": {},
   "outputs": [],
   "source": [
    "image = clipped_good_image_g"
   ]
  },
  {
   "cell_type": "markdown",
   "metadata": {},
   "source": [
    "# Sigma Clipping"
   ]
  },
  {
   "cell_type": "code",
   "execution_count": null,
   "metadata": {},
   "outputs": [],
   "source": [
    "im = image"
   ]
  },
  {
   "cell_type": "code",
   "execution_count": null,
   "metadata": {},
   "outputs": [],
   "source": [
    "sigma_clipped_stats(image, mask=None, mask_value=None, sigma=5.0,\n",
    "                    sigma_lower=None, sigma_upper=None, maxiters=5,\n",
    "                    cenfunc='median', stdfunc='std', std_ddof=0, axis=None)"
   ]
  },
  {
   "cell_type": "code",
   "execution_count": null,
   "metadata": {},
   "outputs": [],
   "source": []
  },
  {
   "cell_type": "code",
   "execution_count": null,
   "metadata": {},
   "outputs": [],
   "source": []
  },
  {
   "cell_type": "code",
   "execution_count": null,
   "metadata": {},
   "outputs": [],
   "source": []
  },
  {
   "cell_type": "code",
   "execution_count": null,
   "metadata": {},
   "outputs": [],
   "source": [
    "def image_transform_sigma_clipping(img, sigma=3, central=True):\n",
    "    \"\"\"\n",
    "    Applies sigma clipping, fits contours and\n",
    "\n",
    "    Parameters\n",
    "    ----------\n",
    "    img : np.ndarray\n",
    "        Input image\n",
    "\n",
    "    Returns\n",
    "    -------\n",
    "    np.ndarray\n",
    "\n",
    "    \"\"\"\n",
    "    if len(img.shape) > 2:\n",
    "        im = img[:, :, 0]\n",
    "    else:\n",
    "        im = img\n",
    "\n",
    "    im = np.nan_to_num(im)  # OpenCV can't handle NaNs\n",
    "\n",
    "    mean, median, std = sigma_clipped_stats(im, sigma=sigma)\n",
    "    thresh = std + median\n",
    "    img_bin = np.zeros(im.shape, dtype=np.uint8)\n",
    "\n",
    "    img_bin[im <= thresh] = 0\n",
    "    img_bin[im > thresh] = 1\n",
    "\n",
    "    contours, hierarchy = cv2.findContours(img_bin,\n",
    "                                           cv2.RETR_EXTERNAL,\n",
    "                                           cv2.CHAIN_APPROX_SIMPLE)\n",
    "\n",
    "    x0 = img.shape[0] // 2\n",
    "    y0 = img.shape[1] // 2\n",
    "\n",
    "    for c in contours:\n",
    "        if cv2.pointPolygonTest(c, (x0, y0), False) == 1:\n",
    "            break\n",
    "\n",
    "    contour_mask = np.zeros_like(img, dtype=np.uint8)\n",
    "    if len(contours) == 0:\n",
    "        # This happens if there's no data in the image so we just return zeros\n",
    "        return contour_mask\n",
    "    cv2.drawContours(contour_mask, [c], 0, (1, 1, 1), -1)\n",
    "\n",
    "    new_img = np.zeros_like(img)\n",
    "    new_img[contour_mask == 1] = img[contour_mask == 1]\n",
    "\n",
    "    return new_img"
   ]
  },
  {
   "cell_type": "markdown",
   "metadata": {},
   "source": [
    "## Good Image"
   ]
  },
  {
   "cell_type": "code",
   "execution_count": null,
   "metadata": {},
   "outputs": [],
   "source": [
    "clipped_good_image_g = image_transform_sigma_clipping(good_image_data[0], sigma=3, central=True)\n",
    "clipped_good_image_r = image_transform_sigma_clipping(good_image_data[1], sigma=3, central=True)\n",
    "clipped_good_image_z = image_transform_sigma_clipping(good_image_data[2], sigma=3, central=True)"
   ]
  },
  {
   "cell_type": "code",
   "execution_count": null,
   "metadata": {},
   "outputs": [],
   "source": [
    "f = plt.figure(figsize=(15, 20))\n",
    "\n",
    "\n",
    "f.add_subplot(2, 3, 1)\n",
    "plt.imshow(good_image_data[0], cmap='gray')\n",
    "plt.title('g-band', fontsize=15)\n",
    "\n",
    "f.add_subplot(1, 3, 1)\n",
    "plt.imshow(clipped_good_image_g, cmap='gray')\n",
    "plt.title('Clipped g-band', fontsize=15)\n",
    "\n",
    "\n",
    "f.add_subplot(2, 3, 2)\n",
    "plt.imshow(good_image_data[1], cmap='gray')\n",
    "plt.title('r-band', fontsize=15)\n",
    "\n",
    "f.add_subplot(1, 3, 2)\n",
    "plt.imshow(clipped_good_image_r, cmap='gray')\n",
    "plt.title('Clipped r-band', fontsize=15)\n",
    "\n",
    "\n",
    "f.add_subplot(2, 3, 3)\n",
    "plt.imshow(good_image_data[2], cmap='gray')\n",
    "plt.title('z-band', fontsize=15)\n",
    "\n",
    "f.add_subplot(1, 3, 3)\n",
    "plt.imshow(clipped_good_image_z, cmap='gray')\n",
    "plt.title('Clipped z-band', fontsize=15)\n",
    "\n",
    "\n",
    "plt.show(block=True)"
   ]
  },
  {
   "cell_type": "code",
   "execution_count": null,
   "metadata": {},
   "outputs": [],
   "source": [
    "overlapped_good_image = np.add(good_image_data[0],good_image_data[1],good_image_data[2])\n",
    "\n",
    "clipped_overlapped_good_image = image_transform_sigma_clipping(overlapped_good_image, sigma=3, central=True)"
   ]
  },
  {
   "cell_type": "code",
   "execution_count": null,
   "metadata": {},
   "outputs": [],
   "source": [
    "f = plt.figure(figsize=(15, 15))\n",
    "\n",
    "f.add_subplot(1, 2, 1)\n",
    "plt.imshow(overlapped_good_image, cmap='gray')\n",
    "plt.title('Multi-band Image', fontsize=20)\n",
    "\n",
    "f.add_subplot(1, 2, 2)\n",
    "plt.imshow(clipped_overlapped_good_image, cmap='gray')\n",
    "plt.title('Clipped Multi-band Image', fontsize=20)\n",
    "plt.show()"
   ]
  },
  {
   "cell_type": "markdown",
   "metadata": {},
   "source": [
    "## Bad Image"
   ]
  },
  {
   "cell_type": "code",
   "execution_count": 3,
   "metadata": {},
   "outputs": [
    {
     "ename": "NameError",
     "evalue": "name 'image_transform_sigma_clipping' is not defined",
     "output_type": "error",
     "traceback": [
      "\u001b[0;31m---------------------------------------------------------------------------\u001b[0m",
      "\u001b[0;31mNameError\u001b[0m                                 Traceback (most recent call last)",
      "\u001b[0;32m<ipython-input-3-de10cf2d083c>\u001b[0m in \u001b[0;36m<module>\u001b[0;34m\u001b[0m\n\u001b[0;32m----> 1\u001b[0;31m clipped_bad_image_g = image_transform_sigma_clipping(\n\u001b[0m\u001b[1;32m      2\u001b[0m     bad_image_data[0], sigma=3, central=True)\n\u001b[1;32m      3\u001b[0m clipped_bad_image_r = image_transform_sigma_clipping(\n\u001b[1;32m      4\u001b[0m     bad_image_data[1], sigma=3, central=True)\n\u001b[1;32m      5\u001b[0m clipped_bad_image_z = image_transform_sigma_clipping(\n",
      "\u001b[0;31mNameError\u001b[0m: name 'image_transform_sigma_clipping' is not defined"
     ]
    }
   ],
   "source": [
    "clipped_bad_image_g = image_transform_sigma_clipping(\n",
    "    bad_image_data[0], sigma=3, central=True)\n",
    "clipped_bad_image_r = image_transform_sigma_clipping(\n",
    "    bad_image_data[1], sigma=3, central=True)\n",
    "clipped_bad_image_z = image_transform_sigma_clipping(\n",
    "    bad_image_data[2], sigma=3, central=True)"
   ]
  },
  {
   "cell_type": "code",
   "execution_count": null,
   "metadata": {},
   "outputs": [],
   "source": [
    "np.asarray()"
   ]
  },
  {
   "cell_type": "code",
   "execution_count": null,
   "metadata": {},
   "outputs": [],
   "source": [
    "f = plt.figure(figsize = (15,20))\n",
    "\n",
    "\n",
    "\n",
    "f.add_subplot(2,3, 1)\n",
    "plt.imshow(bad_image_data[0], cmap='gray')\n",
    "plt.title('g-band', fontsize = 15)\n",
    "\n",
    "f.add_subplot(1,3, 1)\n",
    "plt.imshow(clipped_bad_image_g, cmap='gray')\n",
    "plt.title('Clipped g-band', fontsize = 15)\n",
    "\n",
    "\n",
    "f.add_subplot(2,3, 2)\n",
    "plt.imshow(bad_image_data[1], cmap='gray')\n",
    "plt.title('r-band', fontsize = 15)\n",
    "\n",
    "f.add_subplot(1,3, 2)\n",
    "plt.imshow(clipped_bad_image_r, cmap='gray')\n",
    "plt.title('Clipped r-band', fontsize = 15)\n",
    "\n",
    "\n",
    "f.add_subplot(2,3, 3)\n",
    "plt.imshow(bad_image_data[2], cmap='gray')\n",
    "plt.title('z-band', fontsize = 15)\n",
    "\n",
    "f.add_subplot(1,3, 3)\n",
    "plt.imshow(clipped_bad_image_z, cmap='gray')\n",
    "plt.title('Clipped z-band', fontsize = 15)\n",
    "\n",
    "\n",
    "plt.show(block=True)"
   ]
  },
  {
   "cell_type": "code",
   "execution_count": null,
   "metadata": {},
   "outputs": [],
   "source": [
    "overlapped_bad_image = np.add(bad_image_data[0],bad_image_data[1],bad_image_data[2])\n",
    "\n",
    "clipped_overlapped_bad_image = image_transform_sigma_clipping(overlapped_bad_image, sigma=3, central=True)"
   ]
  },
  {
   "cell_type": "code",
   "execution_count": null,
   "metadata": {},
   "outputs": [],
   "source": [
    "f = plt.figure(figsize = (15,15))\n",
    "\n",
    "f.add_subplot(1,2, 1)\n",
    "plt.imshow(overlapped_bad_image, cmap='gray')\n",
    "plt.title('Multi-band Image', fontsize = 20)\n",
    "\n",
    "f.add_subplot(1,2, 2)\n",
    "plt.imshow(clipped_overlapped_bad_image, cmap='gray')\n",
    "plt.title('Clipped Multi-band Image', fontsize = 20)\n",
    "plt.show()"
   ]
  },
  {
   "cell_type": "markdown",
   "metadata": {},
   "source": [
    "# Contours"
   ]
  },
  {
   "cell_type": "code",
   "execution_count": null,
   "metadata": {},
   "outputs": [],
   "source": [
    "def find_contours(img, threshold):\n",
    "    \"\"\"\n",
    "    Finds the contours of an image that meet a threshold\n",
    "\n",
    "    Parameters\n",
    "    ----------\n",
    "    img : np.ndarray\n",
    "        Input image (must be greyscale)\n",
    "    threshold : float\n",
    "        What threshold to use\n",
    "\n",
    "    Returns\n",
    "    -------\n",
    "    contours\n",
    "        opencv description of contours (each contour is a list of x,y values\n",
    "        and there may be several contours, given as a list of lists)\n",
    "    hierarchy\n",
    "        opencv description of how contours relate to each other (see opencv \n",
    "        documentation)\n",
    "    \"\"\"\n",
    "\n",
    "    img_bin = np.zeros(img.shape, dtype=np.uint8)\n",
    "\n",
    "    img_bin[img <= threshold] = 0\n",
    "    img_bin[img > threshold] = 1\n",
    "\n",
    "    contours,hierarchy = cv2.findContours(img_bin, \n",
    "                            cv2.RETR_TREE, \n",
    "                            cv2.CHAIN_APPROX_SIMPLE)\n",
    "\n",
    "    return contours, hierarchy"
   ]
  },
  {
   "cell_type": "code",
   "execution_count": null,
   "metadata": {},
   "outputs": [],
   "source": [
    "def draw_contour(contour, image, filled=False):\n",
    "    \"\"\"\n",
    "    Draws a contour onto an image for diagnostic purposes\n",
    "\n",
    "    Parameters\n",
    "    ----------\n",
    "    contour : np.ndarray\n",
    "        Array of x,y values describing the contours (as returned by opencv's\n",
    "        findCountours function)\n",
    "    image : np.ndarray\n",
    "        The original image the contour was fit to.\n",
    "    filled : bool, optional\n",
    "        If true will fill in the contour otherwise will return an outline.\n",
    "    Returns\n",
    "    -------\n",
    "    np.ndarray\n",
    "        The image with the drawn contour on top\n",
    "    \"\"\"\n",
    "\n",
    "    if filled:\n",
    "        thickness = -1\n",
    "        contour_arr = np.zeros([image.shape[0], image.shape[1]])\n",
    "    else:\n",
    "        thickness = 1\n",
    "        contour_arr = image.copy()\n",
    "    \n",
    "    \n",
    "    # This part determines which contour to draw. Also the difficult part since drawing all causes the ellipses\n",
    "    # to fail. Will need to obtain the largest contour either HERE or before drawing the ellipse! \n",
    "    # (-1 is all contours)\n",
    "    \n",
    "    cv2.drawContours(contour_arr, contour, -1, (1, 1, 1), thickness)\n",
    "    \n",
    "    print(np.shape(contour))\n",
    "    \n",
    "    return contour_arr"
   ]
  },
  {
   "cell_type": "markdown",
   "metadata": {},
   "source": [
    "### Select Image"
   ]
  },
  {
   "cell_type": "code",
   "execution_count": null,
   "metadata": {},
   "outputs": [],
   "source": [
    "image = clipped_overlapped_good_image"
   ]
  },
  {
   "cell_type": "markdown",
   "metadata": {},
   "source": [
    "### Select Percentiles"
   ]
  },
  {
   "cell_type": "code",
   "execution_count": null,
   "metadata": {},
   "outputs": [],
   "source": [
    "percentiles=[0.9, 0.8, 0.7, 0.6, 0.5, 0.4, 0.3, 0.2, 0.1, 0]"
   ]
  },
  {
   "cell_type": "code",
   "execution_count": null,
   "metadata": {
    "scrolled": false
   },
   "outputs": [],
   "source": [
    "contours = []\n",
    "\n",
    "for i in percentiles:\n",
    "    \n",
    "    contour_arr = image.copy()\n",
    "    contour, hierarchy = find_contours(image, i)\n",
    "    contours.append(contour)\n",
    "\n",
    "    #print(hierarchy)\n",
    "\n",
    "d = 0\n",
    "contours_all = []\n",
    "\n",
    "for j in range(len(percentiles)):\n",
    "    \n",
    "    if len(contours[j]) != 0:\n",
    "        \n",
    "        ### Determine the contours\n",
    "        contours_drawn = draw_contour(contours[j], image, filled=False)\n",
    "        contours_all.append(contours_drawn)\n",
    "        \n",
    "        plt.figure(figsize = (10,10))\n",
    "        plt.imshow(contours_drawn, cmap='gray')\n",
    "    \n",
    "    \n",
    "    \n",
    "    #Saving the files as a test\n",
    "    \n",
    "    #filename = '/home/verlon/Desktop/Astronomaly/Data/Input/Good Images/Test jpg/Good Image z %d.jpg'%d\n",
    "    #d+=1\n",
    "    \n",
    "    #plt.imsave(filename, contours_drawn, cmap='gray')"
   ]
  },
  {
   "cell_type": "markdown",
   "metadata": {},
   "source": [
    "# Ellipse"
   ]
  },
  {
   "cell_type": "code",
   "execution_count": null,
   "metadata": {},
   "outputs": [],
   "source": [
    "def fit_ellipse(contour, image, return_params=False):\n",
    "    \"\"\"\n",
    "    Fits an ellipse to a contour and returns a binary image representation of\n",
    "    the ellipse.\n",
    "\n",
    "    Parameters\n",
    "    ----------\n",
    "    contour : np.ndarray\n",
    "        Array of x,y values describing the contours (as returned by opencv's\n",
    "        findCountours function)\n",
    "    image : np.ndarray\n",
    "        The original image the contour was fit to.\n",
    "    return_params : bool\n",
    "        If true also returns the parameters of the fitted ellipse\n",
    "\n",
    "    Returns\n",
    "    -------\n",
    "    np.ndarray\n",
    "        2d binary image with representation of the ellipse\n",
    "    \"\"\"\n",
    "\n",
    "    thickness = -1\n",
    "    y_npix = image.shape[0]\n",
    "    x_npix = image.shape[1]\n",
    "    ellipse_arr = np.zeros([y_npix, x_npix], dtype=np.float)\n",
    "\n",
    "    # Sets some defaults for when the fitting fails\n",
    "    default_return_params = [np.nan] * 5 \n",
    "    raised_error = False\n",
    "\n",
    "    try:\n",
    "        ((x0, y0), (maj_axis, min_axis), theta) = cv2.fitEllipse(contour[0])\n",
    "        ellipse_params = x0, y0, maj_axis, min_axis, theta\n",
    "\n",
    "        if np.any(np.isnan(ellipse_params)):\n",
    "            raised_error = True\n",
    "            logging_tools.log('fit_ellipse failed with unknown error:')\n",
    "\n",
    "    except cv2.error as e:\n",
    "        logging_tools.log('fit_ellipse failed with cv2 error:' + e.msg)\n",
    "        raised_error = True\n",
    "\n",
    "    if raised_error:\n",
    "        if return_params:\n",
    "            return ellipse_arr, default_return_params\n",
    "        else:\n",
    "            return ellipse_arr\n",
    "\n",
    "    x0 = int(np.round(x0))\n",
    "    y0 = int(np.round(y0))\n",
    "    maj_axis = int(np.round(maj_axis))\n",
    "    min_axis = int(np.round(min_axis))\n",
    "    theta = int(np.round(theta))\n",
    "\n",
    "    cv2.ellipse(ellipse_arr, (x0, y0), (maj_axis // 2, min_axis // 2), \n",
    "                theta, 0, 360, (1, 1, 1), thickness)\n",
    "\n",
    "    if return_params:\n",
    "        return ellipse_arr, ellipse_params\n",
    "    else:\n",
    "        return ellipse_arr"
   ]
  },
  {
   "cell_type": "markdown",
   "metadata": {},
   "source": [
    "### Function"
   ]
  },
  {
   "cell_type": "code",
   "execution_count": null,
   "metadata": {},
   "outputs": [],
   "source": [
    "def contours_and_ellipses(image, percentiles):\n",
    "    \n",
    "    \n",
    "    #### Finding the contours ####\n",
    "    \n",
    "    contours = []\n",
    "    \n",
    "    print('Hierarchy')\n",
    "    print('********')\n",
    "\n",
    "    for i in percentiles:\n",
    "    \n",
    "        contour_arr = image.copy()\n",
    "        contour, hierarchy = find_contours(image, i)\n",
    "        contours.append(contour)\n",
    "        \n",
    "        print(np.shape(hierarchy))\n",
    "    \n",
    "    print('')\n",
    "    print('*****')\n",
    "    print('********')\n",
    "    print('*****')\n",
    "    print('')\n",
    "\n",
    "    #### Drawing the contours and finding the ellipses ####  \n",
    "    \n",
    "    d = 0\n",
    "    contours_all = []\n",
    "    ellipse_parameters = []\n",
    "\n",
    "    for j in range(len(percentiles)):\n",
    "    \n",
    "        if len(contours[j]) != 0:\n",
    "        \n",
    "            ### Determine the contours ###\n",
    "            contours_drawn = draw_contour(contours[j], image, filled=False)\n",
    "            contours_all.append(contours_drawn)\n",
    "        \n",
    "            ### Fit the Ellipses ###\n",
    "            ellipse = fit_ellipse(contours[j], image, return_params=False)\n",
    "            ellipse_param = fit_ellipse(contours[j], image, return_params=True)[1]\n",
    "            ellipse_parameters.append(ellipse_param)\n",
    "        \n",
    "            ### Draw the Images ###\n",
    "            f = plt.figure(figsize = (15,15))\n",
    "            f.add_subplot(1,2, 1)\n",
    "            plt.imshow(contours_drawn, cmap='gray')\n",
    "            f.add_subplot(1,2, 2)\n",
    "            plt.imshow(ellipse, cmap='gray')\n",
    "            plt.show(block=True)\n",
    "            \n",
    "        if len(contours[j]) == 0:\n",
    "            print('No Contours Found')\n",
    "            print('-----------------')\n",
    "            \n",
    "    return #ellipse_parameters"
   ]
  },
  {
   "cell_type": "code",
   "execution_count": null,
   "metadata": {},
   "outputs": [],
   "source": [
    "np.shape(hierarchy)"
   ]
  },
  {
   "cell_type": "code",
   "execution_count": null,
   "metadata": {},
   "outputs": [],
   "source": [
    "image = clipped_overlapped_good_image\n",
    " \n",
    "percentiles = [0.9, 0.8, 0.7, 0.6, 0.5, 0.4, 0.3, 0.2, 0.1, 0]"
   ]
  },
  {
   "cell_type": "code",
   "execution_count": null,
   "metadata": {
    "scrolled": false
   },
   "outputs": [],
   "source": [
    "contours_and_ellipses(image, percentiles)"
   ]
  },
  {
   "cell_type": "code",
   "execution_count": null,
   "metadata": {},
   "outputs": [],
   "source": [
    "image = clipped_overlapped_bad_image"
   ]
  },
  {
   "cell_type": "code",
   "execution_count": null,
   "metadata": {},
   "outputs": [],
   "source": [
    "contours_and_ellipses(image, percentiles)"
   ]
  },
  {
   "cell_type": "code",
   "execution_count": null,
   "metadata": {},
   "outputs": [],
   "source": []
  },
  {
   "cell_type": "code",
   "execution_count": null,
   "metadata": {},
   "outputs": [],
   "source": []
  },
  {
   "cell_type": "code",
   "execution_count": null,
   "metadata": {},
   "outputs": [],
   "source": [
    "# Still testing...\n",
    "\n",
    "c = max(contours[j], key = cv2.contourArea)"
   ]
  },
  {
   "cell_type": "code",
   "execution_count": null,
   "metadata": {},
   "outputs": [],
   "source": [
    "clipped_overlapped_good_image"
   ]
  },
  {
   "cell_type": "code",
   "execution_count": null,
   "metadata": {},
   "outputs": [],
   "source": [
    "percentiles = np.sort(percentiles)[::-1]\n",
    "percentiles"
   ]
  },
  {
   "cell_type": "code",
   "execution_count": null,
   "metadata": {},
   "outputs": [],
   "source": []
  }
 ],
 "metadata": {
  "kernelspec": {
   "display_name": "Python 3.7.5 64-bit",
   "language": "python",
   "name": "python37564bit90ce9393941248d8885c8ffd563274d3"
  },
  "language_info": {
   "codemirror_mode": {
    "name": "ipython",
    "version": 3
   },
   "file_extension": ".py",
   "mimetype": "text/x-python",
   "name": "python",
   "nbconvert_exporter": "python",
   "pygments_lexer": "ipython3",
   "version": "3.8.5"
  }
 },
 "nbformat": 4,
 "nbformat_minor": 4
}
