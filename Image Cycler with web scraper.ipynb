{
 "cells": [
  {
   "cell_type": "code",
   "execution_count": 1,
   "metadata": {},
   "outputs": [],
   "source": [
    "import matplotlib.pyplot as plt\n",
    "import astropy\n",
    "import os\n",
    "import pandas as pd\n",
    "import numpy as np\n",
    "import xlsxwriter\n",
    "\n",
    "from astropy.io import fits\n",
    "from astropy.wcs import WCS\n",
    "import numpy as np\n",
    "import os\n",
    "import tracemalloc\n",
    "import pandas as pd\n",
    "import matplotlib as mpl\n",
    "import io\n",
    "from skimage.transform import resize\n",
    "import cv2\n",
    "from astronomaly.base.base_dataset import Dataset\n",
    "from astronomaly.base import logging_tools\n",
    "import matplotlib.pyplot as plt  # noqa: E402"
   ]
  },
  {
   "cell_type": "code",
   "execution_count": 2,
   "metadata": {},
   "outputs": [],
   "source": [
    "catalogue_file = '/home/verlon/Desktop/Astronomaly/Data/Input/Coadd_0260/0260m062/Catalogue/tractor-0260m062.fits'"
   ]
  },
  {
   "cell_type": "code",
   "execution_count": 3,
   "metadata": {},
   "outputs": [],
   "source": [
    "image_file_g = '/home/verlon/Desktop/Astronomaly/Data/Input/Coadd_0260/0260m062/Images/g-legacysurvey-0260m062-image.fits.fz'\n",
    "image_file_r = '/home/verlon/Desktop/Astronomaly/Data/Input/Coadd_0260/0260m062/Images/r-legacysurvey-0260m062-image.fits.fz'\n",
    "image_file_z = '/home/verlon/Desktop/Astronomaly/Data/Input/Coadd_0260/0260m062/Images/z-legacysurvey-0260m062-image.fits.fz'"
   ]
  },
  {
   "cell_type": "code",
   "execution_count": null,
   "metadata": {},
   "outputs": [],
   "source": []
  },
  {
   "cell_type": "code",
   "execution_count": 4,
   "metadata": {},
   "outputs": [],
   "source": [
    "class AstroImage:\n",
    "    def __init__(self, filenames, file_type='fits', fits_index=0, name=''):\n",
    "        \"\"\"\n",
    "        Lightweight wrapper for an astronomy image from a fits file\n",
    "\n",
    "        Parameters\n",
    "        ----------\n",
    "        filenames : list of files\n",
    "            Filename of fits file to be read. Can be length one if there's only\n",
    "            one file or multiple if there are multiband images\n",
    "        fits_index : integer\n",
    "            Which HDU object in the list to work with\n",
    "\n",
    "        \"\"\"\n",
    "        print('Reading image data from %s...' % filenames[0])\n",
    "        self.filenames = filenames\n",
    "        self.file_type = file_type\n",
    "        self.metadata = {}\n",
    "        self.wcs = None\n",
    "        self.fits_index = fits_index\n",
    "        self.hdul_list = []\n",
    "\n",
    "        try:\n",
    "            for f in filenames:     \n",
    "                hdul = fits.open(f, memmap=True)\n",
    "                self.hdul_list.append(hdul)               \n",
    "\n",
    "        except FileNotFoundError:\n",
    "            raise FileNotFoundError(\"File\", f, \"not found\")\n",
    "\n",
    "        # get a test sample\n",
    "        self.get_image_data(0, 10, 0, 10)\n",
    "\n",
    "        if len(name) == 0:\n",
    "            self.name = self._strip_filename()\n",
    "        else:\n",
    "            self.name = name\n",
    "\n",
    "        print('Done!')\n",
    "\n",
    "    def get_image_data(self, row_start, row_end, col_start, col_end):\n",
    "        \"\"\"Returns the image data from a fits HDUlist object\n",
    "\n",
    "        Parameters\n",
    "        ----------\n",
    "        Returns\n",
    "        -------\n",
    "        np.array\n",
    "            Image data\n",
    "        \"\"\"\n",
    "        images = []\n",
    "        rs = row_start\n",
    "        re = row_end\n",
    "        cs = col_start\n",
    "        ce = col_end\n",
    "\n",
    "        for hdul in self.hdul_list:\n",
    "            if self.fits_index is None:\n",
    "                for i in range(len(hdul)):\n",
    "                    self.fits_index = i\n",
    "                    # snap1 = tracemalloc.take_snapshot()\n",
    "                    dat = hdul[self.fits_index].data\n",
    "                    # snap2 = tracemalloc.take_snapshot()\n",
    "                    # diff = snap2.compare_to(snap1, 'lineno')\n",
    "                    # print(diff[0].size_diff)\n",
    "                    if dat is not None:\n",
    "                        if len(dat.shape) > 2:\n",
    "                            dat = dat[0][0]\n",
    "                        image = dat[rs:re, cs:ce]\n",
    "                        break\n",
    "                self.metadata = dict(hdul[self.fits_index].header)\n",
    "                if self.wcs is None:\n",
    "                    self.wcs = WCS(hdul[self.fits_index].header, naxis=2)\n",
    "            else:\n",
    "                dat = hdul[self.fits_index].data\n",
    "                if len(dat.shape) > 2:\n",
    "                    dat = dat[0][0]\n",
    "                image = dat[rs:re, cs:ce]\n",
    "\n",
    "            if len(image.shape) > 2:\n",
    "                image = np.squeeze(image)\n",
    "            images.append(image)\n",
    "\n",
    "        if len(images) > 1:\n",
    "            # Should now be a 3d array with multiple channels\n",
    "            image = np.dstack(images)\n",
    "            self.metadata['NAXIS3'] = image.shape[-1]\n",
    "        else:\n",
    "            image = images[0]  # Was just the one image\n",
    "        return image\n",
    "\n",
    "    def clean_up(self):\n",
    "        \"\"\"\n",
    "        Closes all open fits files so they don't remain in memory.\n",
    "        \"\"\"\n",
    "        print(\"Closing Fits files...\")\n",
    "        for hdul in self.hdul_list:\n",
    "            hdul.close()\n",
    "        logging_tools.log(\"Fits files closed successfully.\")\n",
    "        print(\"Files closed.\")\n",
    "\n",
    "    def _strip_filename(self):\n",
    "\n",
    "        \"\"\"\n",
    "        Tiny utility function to make a nice formatted version of the image \n",
    "        name from the input filename string\n",
    "\n",
    "        Returns\n",
    "        -------\n",
    "        string\n",
    "            Formatted file name\n",
    "\n",
    "        \"\"\"\n",
    "        s1 = self.filenames[0].split(os.path.sep)[-1]\n",
    "        # extension = s1.split('.')[-1]\n",
    "        return s1\n",
    "\n",
    "    def get_coords(self, x, y):\n",
    "        \"\"\"\n",
    "        Returns the RA and DEC coordinates for a given set of pixels.\n",
    "\n",
    "        Parameters\n",
    "        ----------\n",
    "        x : int\n",
    "            x pixel value\n",
    "        y : y\n",
    "            y pixel value\n",
    "\n",
    "        Returns\n",
    "        -------\n",
    "        ra, dec\n",
    "            Sky coordinates\n",
    "        \"\"\"\n",
    "\n",
    "        return self.wcs.wcs_pix2world(x, y, 0)\n"
   ]
  },
  {
   "cell_type": "code",
   "execution_count": 5,
   "metadata": {},
   "outputs": [
    {
     "data": {
      "text/plain": [
       "'/home/verlon/Desktop/Astronomaly/Data/Input/Coadd_0260/0260m062/Images/g-legacysurvey-0260m062-image.fits.fz'"
      ]
     },
     "execution_count": 5,
     "metadata": {},
     "output_type": "execute_result"
    }
   ],
   "source": [
    "filenames = image_file_g\n",
    "filenames"
   ]
  },
  {
   "cell_type": "code",
   "execution_count": 6,
   "metadata": {},
   "outputs": [
    {
     "ename": "AttributeError",
     "evalue": "'function' object has no attribute 'hdul_list'",
     "output_type": "error",
     "traceback": [
      "\u001b[0;31m---------------------------------------------------------------------------\u001b[0m",
      "\u001b[0;31mAttributeError\u001b[0m                            Traceback (most recent call last)",
      "\u001b[0;32m<ipython-input-6-e4dda0567973>\u001b[0m in \u001b[0;36m<module>\u001b[0;34m\u001b[0m\n\u001b[1;32m      3\u001b[0m \u001b[0;34m\u001b[0m\u001b[0m\n\u001b[1;32m      4\u001b[0m \u001b[0mhdul\u001b[0m \u001b[0;34m=\u001b[0m \u001b[0mfits\u001b[0m\u001b[0;34m.\u001b[0m\u001b[0mopen\u001b[0m\u001b[0;34m(\u001b[0m\u001b[0mfilenames\u001b[0m\u001b[0;34m,\u001b[0m \u001b[0mmemmap\u001b[0m\u001b[0;34m=\u001b[0m\u001b[0;32mTrue\u001b[0m\u001b[0;34m)\u001b[0m\u001b[0;34m\u001b[0m\u001b[0;34m\u001b[0m\u001b[0m\n\u001b[0;32m----> 5\u001b[0;31m \u001b[0mAstroImage\u001b[0m\u001b[0;34m.\u001b[0m\u001b[0m__init__\u001b[0m\u001b[0;34m.\u001b[0m\u001b[0mhdul_list\u001b[0m\u001b[0;34m.\u001b[0m\u001b[0mappend\u001b[0m\u001b[0;34m(\u001b[0m\u001b[0mhdul\u001b[0m\u001b[0;34m)\u001b[0m\u001b[0;34m\u001b[0m\u001b[0;34m\u001b[0m\u001b[0m\n\u001b[0m",
      "\u001b[0;31mAttributeError\u001b[0m: 'function' object has no attribute 'hdul_list'"
     ]
    }
   ],
   "source": [
    "hdul_list = []\n",
    "\n",
    "\n",
    "hdul = fits.open(filenames, memmap=True)\n",
    "AstroImage.__init__.hdul_list.append(hdul)"
   ]
  },
  {
   "cell_type": "code",
   "execution_count": 7,
   "metadata": {},
   "outputs": [],
   "source": [
    "class ImageCycler:\n",
    "    def __init__(self, images, xlabels=None):\n",
    "        \"\"\"\n",
    "        Convenience object to cycle through a list of images inside a jupyter \n",
    "        notebook.\n",
    "\n",
    "        Parameters\n",
    "        ----------\n",
    "        images : list\n",
    "            List of numpy arrays to display as images\n",
    "        xlabels : list, optional\n",
    "            List of custom labels for the images\n",
    "        \"\"\"\n",
    "\n",
    "        self.current_ind = 0\n",
    "        self.images = images\n",
    "        self.xlabels = xlabels\n",
    "\n",
    "    def onkeypress(self, event):\n",
    "        \"\"\"\n",
    "        Matplotlib event handler for left and right arrows to cycle through \n",
    "        images.\n",
    "\n",
    "        Parameters\n",
    "        ----------\n",
    "        event\n",
    "\n",
    "        Returns\n",
    "        -------\n",
    "\n",
    "        \"\"\"\n",
    "        plt.gcf()\n",
    "        if event.key == 'right' and self.current_ind < len(self.images):\n",
    "            self.current_ind += 1\n",
    "\n",
    "        elif event.key == 'left' and self.current_ind > 0:\n",
    "            self.current_ind -= 1\n",
    "\n",
    "        plt.clf()\n",
    "        event.canvas.figure.gca().imshow(\n",
    "            self.images[self.current_ind], origin='lower', cmap='hot')\n",
    "\n",
    "        if self.xlabels is not None:\n",
    "            plt.xlabel(self.xlabels[self.current_ind])\n",
    "        plt.title(self.current_ind)\n",
    "        event.canvas.draw()\n",
    "\n",
    "    def cycle(self):\n",
    "        \"\"\"\n",
    "        Creates the plots and binds the event handler\n",
    "        \"\"\"\n",
    "\n",
    "        fig = plt.figure()\n",
    "        fig.canvas.mpl_connect('key_press_event', self.onkeypress)\n",
    "        plt.imshow(self.images[self.current_ind], origin='lower', cmap='hot')\n",
    "        plt.title(self.current_ind)"
   ]
  },
  {
   "cell_type": "code",
   "execution_count": null,
   "metadata": {},
   "outputs": [],
   "source": []
  },
  {
   "cell_type": "code",
   "execution_count": 8,
   "metadata": {},
   "outputs": [],
   "source": [
    "catalogue_file = '/home/verlon/Desktop/Astronomaly/Data/Input/Coadd_0260/0260m062/Catalogue/tractor-0260m062.fits'"
   ]
  },
  {
   "cell_type": "code",
   "execution_count": 9,
   "metadata": {},
   "outputs": [],
   "source": [
    "image_file_g = '/home/verlon/Desktop/Astronomaly/Data/Input/Coadd_0260/0260m062/Images/g-legacysurvey-0260m062-image.fits.fz'\n",
    "image_file_r = '/home/verlon/Desktop/Astronomaly/Data/Input/Coadd_0260/0260m062/Images/r-legacysurvey-0260m062-image.fits.fz'\n",
    "image_file_z = '/home/verlon/Desktop/Astronomaly/Data/Input/Coadd_0260/0260m062/Images/z-legacysurvey-0260m062-image.fits.fz'"
   ]
  },
  {
   "cell_type": "code",
   "execution_count": 10,
   "metadata": {},
   "outputs": [],
   "source": [
    "def convert_tractor_catalogue(catalogue_file, image_file, image_name=''):\n",
    "    \"\"\"\n",
    "    Converts a tractor fits file to a pandas dataframe to be given\n",
    "    directly to an ImageDataset object.\n",
    "\n",
    "    Parameters\n",
    "    ----------\n",
    "    catalogue_files : string\n",
    "        tractor catalogue in fits table format \n",
    "    image_file:\n",
    "        The image corresponding to this catalogue (to extract pixel information\n",
    "        and naming information)\n",
    "    \"\"\"\n",
    "\n",
    "    catalogue = astropy.table.Table(astropy.io.fits.getdata(catalogue_file,ignore_missing_end=True))\n",
    "\n",
    "    dataframe = {}\n",
    "    for name in catalogue.colnames:\n",
    "        data = catalogue[name].tolist()\n",
    "        dataframe[name] = data\n",
    "    \n",
    "    old_catalogue = pd.DataFrame(dataframe)\n",
    "    hdul = astropy.io.fits.open(image_file)\n",
    "\n",
    "    if len(image_name) == 0:\n",
    "        original_image = image_file.split(os.path.sep)[-1]\n",
    "    else:\n",
    "        original_image = image_name\n",
    "    \n",
    "    #w = astropy.wcs.WCS(hdul[0].header, naxis=2)\n",
    "    #x, y = w.wcs_world2pix(old_catalogue['ra'], old_catalogue['dec'], 1)\n",
    "    \n",
    "    new_catalogue = pd.DataFrame()\n",
    "    new_catalogue['objid'] = old_catalogue['objid']\n",
    "    new_catalogue['original_image'] = [original_image] * len(new_catalogue)\n",
    "    new_catalogue['flux_g'] = old_catalogue['flux_g']\n",
    "    new_catalogue['flux_r'] = old_catalogue['flux_r']\n",
    "    new_catalogue['flux_z'] = old_catalogue['flux_z']\n",
    "    new_catalogue['x'] = old_catalogue['bx'].astype('int')\n",
    "    new_catalogue['y'] = old_catalogue['by'].astype('int')\n",
    "    new_catalogue['ra'] = old_catalogue['ra']\n",
    "    new_catalogue['dec'] = old_catalogue['dec']\n",
    "    \n",
    "    new_catalogue['type'] = old_catalogue['type']\n",
    "    \n",
    "    return new_catalogue"
   ]
  },
  {
   "cell_type": "code",
   "execution_count": 11,
   "metadata": {},
   "outputs": [
    {
     "ename": "AttributeError",
     "evalue": "module 'astropy' has no attribute 'table'",
     "output_type": "error",
     "traceback": [
      "\u001b[0;31m---------------------------------------------------------------------------\u001b[0m",
      "\u001b[0;31mAttributeError\u001b[0m                            Traceback (most recent call last)",
      "\u001b[0;32m<ipython-input-11-c9fb97c4a6ee>\u001b[0m in \u001b[0;36m<module>\u001b[0;34m\u001b[0m\n\u001b[0;32m----> 1\u001b[0;31m \u001b[0mnew_catalogue\u001b[0m \u001b[0;34m=\u001b[0m \u001b[0mconvert_tractor_catalogue\u001b[0m\u001b[0;34m(\u001b[0m\u001b[0mcatalogue_file\u001b[0m\u001b[0;34m,\u001b[0m \u001b[0mimage_file_g\u001b[0m\u001b[0;34m,\u001b[0m \u001b[0mimage_name\u001b[0m\u001b[0;34m=\u001b[0m\u001b[0;34m''\u001b[0m\u001b[0;34m)\u001b[0m\u001b[0;34m\u001b[0m\u001b[0;34m\u001b[0m\u001b[0m\n\u001b[0m",
      "\u001b[0;32m<ipython-input-10-b419d0400bd1>\u001b[0m in \u001b[0;36mconvert_tractor_catalogue\u001b[0;34m(catalogue_file, image_file, image_name)\u001b[0m\n\u001b[1;32m     13\u001b[0m     \"\"\"\n\u001b[1;32m     14\u001b[0m \u001b[0;34m\u001b[0m\u001b[0m\n\u001b[0;32m---> 15\u001b[0;31m     \u001b[0mcatalogue\u001b[0m \u001b[0;34m=\u001b[0m \u001b[0mastropy\u001b[0m\u001b[0;34m.\u001b[0m\u001b[0mtable\u001b[0m\u001b[0;34m.\u001b[0m\u001b[0mTable\u001b[0m\u001b[0;34m(\u001b[0m\u001b[0mastropy\u001b[0m\u001b[0;34m.\u001b[0m\u001b[0mio\u001b[0m\u001b[0;34m.\u001b[0m\u001b[0mfits\u001b[0m\u001b[0;34m.\u001b[0m\u001b[0mgetdata\u001b[0m\u001b[0;34m(\u001b[0m\u001b[0mcatalogue_file\u001b[0m\u001b[0;34m,\u001b[0m\u001b[0mignore_missing_end\u001b[0m\u001b[0;34m=\u001b[0m\u001b[0;32mTrue\u001b[0m\u001b[0;34m)\u001b[0m\u001b[0;34m)\u001b[0m\u001b[0;34m\u001b[0m\u001b[0;34m\u001b[0m\u001b[0m\n\u001b[0m\u001b[1;32m     16\u001b[0m \u001b[0;34m\u001b[0m\u001b[0m\n\u001b[1;32m     17\u001b[0m     \u001b[0mdataframe\u001b[0m \u001b[0;34m=\u001b[0m \u001b[0;34m{\u001b[0m\u001b[0;34m}\u001b[0m\u001b[0;34m\u001b[0m\u001b[0;34m\u001b[0m\u001b[0m\n",
      "\u001b[0;31mAttributeError\u001b[0m: module 'astropy' has no attribute 'table'"
     ]
    }
   ],
   "source": [
    "new_catalogue = convert_tractor_catalogue(catalogue_file, image_file_g, image_name='')"
   ]
  },
  {
   "cell_type": "code",
   "execution_count": 12,
   "metadata": {},
   "outputs": [
    {
     "ename": "NameError",
     "evalue": "name 'new_catalogue' is not defined",
     "output_type": "error",
     "traceback": [
      "\u001b[0;31m---------------------------------------------------------------------------\u001b[0m",
      "\u001b[0;31mNameError\u001b[0m                                 Traceback (most recent call last)",
      "\u001b[0;32m<ipython-input-12-09c131cd2ff2>\u001b[0m in \u001b[0;36m<module>\u001b[0;34m\u001b[0m\n\u001b[0;32m----> 1\u001b[0;31m \u001b[0;32mif\u001b[0m \u001b[0mnew_catalogue\u001b[0m \u001b[0;32mis\u001b[0m \u001b[0;32mnot\u001b[0m \u001b[0;32mNone\u001b[0m\u001b[0;34m:\u001b[0m\u001b[0;34m\u001b[0m\u001b[0;34m\u001b[0m\u001b[0m\n\u001b[0m\u001b[1;32m      2\u001b[0m     \u001b[0;32mif\u001b[0m \u001b[0;34m'objid'\u001b[0m \u001b[0;32min\u001b[0m \u001b[0mnew_catalogue\u001b[0m\u001b[0;34m.\u001b[0m\u001b[0mcolumns\u001b[0m\u001b[0;34m:\u001b[0m\u001b[0;34m\u001b[0m\u001b[0;34m\u001b[0m\u001b[0m\n\u001b[1;32m      3\u001b[0m         \u001b[0mnew_catalogue\u001b[0m\u001b[0;34m.\u001b[0m\u001b[0mset_index\u001b[0m\u001b[0;34m(\u001b[0m\u001b[0;34m'objid'\u001b[0m\u001b[0;34m)\u001b[0m\u001b[0;34m\u001b[0m\u001b[0;34m\u001b[0m\u001b[0m\n\u001b[1;32m      4\u001b[0m     \u001b[0mmetadata\u001b[0m \u001b[0;34m=\u001b[0m \u001b[0mnew_catalogue\u001b[0m\u001b[0;34m\u001b[0m\u001b[0;34m\u001b[0m\u001b[0m\n\u001b[1;32m      5\u001b[0m \u001b[0;31m#else:\u001b[0m\u001b[0;34m\u001b[0m\u001b[0;34m\u001b[0m\u001b[0;34m\u001b[0m\u001b[0m\n",
      "\u001b[0;31mNameError\u001b[0m: name 'new_catalogue' is not defined"
     ]
    }
   ],
   "source": [
    "if new_catalogue is not None:\n",
    "    if 'objid' in new_catalogue.columns:\n",
    "        new_catalogue.set_index('objid')\n",
    "    metadata = new_catalogue\n",
    "#else:\n",
    "#    inds = []\n",
    "#    file_paths = []\n",
    "#    for f in self.files:\n",
    "#        extension = f.split('.')[-1]\n",
    "#        if extension in self.known_file_types:\n",
    "#            inds.append(\n",
    "#                f.split(os.path.sep)[-1][:-(len(extension) + 1)])\n",
    "#            file_paths.append(f)\n",
    "#    self.metadata = pd.DataFrame(index=inds, \n",
    "#                                    data={'filename': file_paths})\n",
    "\n",
    "index = metadata.index.values"
   ]
  },
  {
   "cell_type": "code",
   "execution_count": 13,
   "metadata": {},
   "outputs": [
    {
     "ename": "NameError",
     "evalue": "name 'new_catalogue' is not defined",
     "output_type": "error",
     "traceback": [
      "\u001b[0;31m---------------------------------------------------------------------------\u001b[0m",
      "\u001b[0;31mNameError\u001b[0m                                 Traceback (most recent call last)",
      "\u001b[0;32m<ipython-input-13-0c0a03911980>\u001b[0m in \u001b[0;36m<module>\u001b[0;34m\u001b[0m\n\u001b[0;32m----> 1\u001b[0;31m \u001b[0mnew_catalogue\u001b[0m\u001b[0;34m.\u001b[0m\u001b[0mcolumns\u001b[0m\u001b[0;34m\u001b[0m\u001b[0;34m\u001b[0m\u001b[0m\n\u001b[0m",
      "\u001b[0;31mNameError\u001b[0m: name 'new_catalogue' is not defined"
     ]
    }
   ],
   "source": [
    "new_catalogue.columns"
   ]
  },
  {
   "cell_type": "code",
   "execution_count": 14,
   "metadata": {},
   "outputs": [],
   "source": [
    "cols = ['original_image', 'x', 'y']"
   ]
  },
  {
   "cell_type": "code",
   "execution_count": null,
   "metadata": {},
   "outputs": [],
   "source": [
    "cols"
   ]
  },
  {
   "cell_type": "code",
   "execution_count": null,
   "metadata": {},
   "outputs": [],
   "source": [
    "if 'ra' in new_catalogue.columns:\n",
    "    cols.append('ra')\n",
    "if 'dec' in new_catalogue.columns:\n",
    "    cols.append('dec')\n",
    "if 'peak_flux' in new_catalogue.columns:\n",
    "    cols.append('peak_flux')"
   ]
  },
  {
   "cell_type": "code",
   "execution_count": null,
   "metadata": {},
   "outputs": [],
   "source": [
    "cols"
   ]
  },
  {
   "cell_type": "code",
   "execution_count": null,
   "metadata": {},
   "outputs": [],
   "source": [
    "met = {}\n",
    "\n",
    "for c in cols:\n",
    "    met[c] = new_catalogue[c].values"
   ]
  },
  {
   "cell_type": "code",
   "execution_count": null,
   "metadata": {},
   "outputs": [],
   "source": [
    "the_index = np.array(new_catalogue['objid'].values)#, dtype='str')"
   ]
  },
  {
   "cell_type": "code",
   "execution_count": null,
   "metadata": {},
   "outputs": [],
   "source": [
    "the_index"
   ]
  },
  {
   "cell_type": "code",
   "execution_count": null,
   "metadata": {},
   "outputs": [],
   "source": [
    "metadata = pd.DataFrame(met, index=the_index)"
   ]
  },
  {
   "cell_type": "code",
   "execution_count": null,
   "metadata": {},
   "outputs": [],
   "source": [
    "metadata['x'] = metadata['x'].astype('int')"
   ]
  },
  {
   "cell_type": "code",
   "execution_count": null,
   "metadata": {},
   "outputs": [],
   "source": [
    "metadata['y'] = metadata['y'].astype('int')"
   ]
  },
  {
   "cell_type": "code",
   "execution_count": null,
   "metadata": {},
   "outputs": [],
   "source": []
  },
  {
   "cell_type": "code",
   "execution_count": null,
   "metadata": {},
   "outputs": [],
   "source": []
  },
  {
   "cell_type": "code",
   "execution_count": null,
   "metadata": {},
   "outputs": [],
   "source": [
    "metadata"
   ]
  },
  {
   "cell_type": "code",
   "execution_count": null,
   "metadata": {},
   "outputs": [],
   "source": [
    "window_size=128\n",
    "window_shift = window_size"
   ]
  },
  {
   "cell_type": "code",
   "execution_count": null,
   "metadata": {},
   "outputs": [],
   "source": [
    "idx = 1"
   ]
  },
  {
   "cell_type": "code",
   "execution_count": null,
   "metadata": {},
   "outputs": [],
   "source": [
    "image = fits.open(image_file_g)\n",
    "image"
   ]
  },
  {
   "cell_type": "code",
   "execution_count": null,
   "metadata": {},
   "outputs": [],
   "source": []
  },
  {
   "cell_type": "code",
   "execution_count": null,
   "metadata": {},
   "outputs": [],
   "source": [
    "x0 = metadata.loc[idx, 'x']"
   ]
  },
  {
   "cell_type": "code",
   "execution_count": null,
   "metadata": {},
   "outputs": [],
   "source": [
    "y0 = metadata.loc[idx, 'y']"
   ]
  },
  {
   "cell_type": "code",
   "execution_count": null,
   "metadata": {},
   "outputs": [],
   "source": [
    "original_image = metadata.loc[idx, 'original_image']\n",
    "original_image"
   ]
  },
  {
   "cell_type": "code",
   "execution_count": null,
   "metadata": {},
   "outputs": [],
   "source": [
    "this_image = images[original_image]"
   ]
  },
  {
   "cell_type": "code",
   "execution_count": null,
   "metadata": {},
   "outputs": [],
   "source": [
    "filenames = image_file_g"
   ]
  },
  {
   "cell_type": "code",
   "execution_count": null,
   "metadata": {},
   "outputs": [],
   "source": [
    "AstroImage( filenames, file_type='fits', fits_index=0, name='')"
   ]
  },
  {
   "cell_type": "code",
   "execution_count": null,
   "metadata": {},
   "outputs": [],
   "source": [
    "original_image"
   ]
  },
  {
   "cell_type": "code",
   "execution_count": null,
   "metadata": {},
   "outputs": [],
   "source": [
    "            xvals = np.arange(window_size // 2, \n",
    "                              img.shape[1] - window_size // 2, \n",
    "                              window_shift)\n",
    "            yvals = np.arange(window_size // 2, \n",
    "                              img.shape[0] - window_size // 2,\n",
    "                              window_shift)\n",
    "            X, Y = np.meshgrid(xvals, yvals)"
   ]
  },
  {
   "cell_type": "code",
   "execution_count": null,
   "metadata": {},
   "outputs": [],
   "source": []
  },
  {
   "cell_type": "code",
   "execution_count": null,
   "metadata": {},
   "outputs": [],
   "source": []
  },
  {
   "cell_type": "code",
   "execution_count": null,
   "metadata": {},
   "outputs": [],
   "source": []
  },
  {
   "cell_type": "code",
   "execution_count": null,
   "metadata": {},
   "outputs": [],
   "source": [
    "new_catalogue"
   ]
  },
  {
   "cell_type": "code",
   "execution_count": null,
   "metadata": {},
   "outputs": [],
   "source": [
    "catalogue_no_PSFs = new_catalogue[new_catalogue.type.astype(\"S\") != b'PSF ']"
   ]
  },
  {
   "cell_type": "code",
   "execution_count": null,
   "metadata": {},
   "outputs": [],
   "source": [
    "catalogue_no_PSFs.sort_values('flux_g', ascending=False)"
   ]
  },
  {
   "cell_type": "code",
   "execution_count": null,
   "metadata": {},
   "outputs": [],
   "source": [
    "range(len(catalogue_no_PSFs))"
   ]
  },
  {
   "cell_type": "code",
   "execution_count": null,
   "metadata": {},
   "outputs": [],
   "source": []
  },
  {
   "cell_type": "code",
   "execution_count": null,
   "metadata": {},
   "outputs": [],
   "source": [
    "ra_value = catalogue_no_PSFs.sort_values('flux_g', ascending=False)['ra'][0]\n",
    "dec_value = catalogue_no_PSFs.sort_values('flux_g', ascending=False)['dec'][0]"
   ]
  },
  {
   "cell_type": "code",
   "execution_count": null,
   "metadata": {},
   "outputs": [],
   "source": [
    "ra_value"
   ]
  },
  {
   "cell_type": "code",
   "execution_count": null,
   "metadata": {},
   "outputs": [],
   "source": [
    "dec_value"
   ]
  },
  {
   "cell_type": "code",
   "execution_count": null,
   "metadata": {},
   "outputs": [],
   "source": [
    "ra = catalogue_no_PSFs.sort_values('flux_g', ascending=False)['ra'].reset_index()\n",
    "ra"
   ]
  },
  {
   "cell_type": "code",
   "execution_count": null,
   "metadata": {},
   "outputs": [],
   "source": [
    "import webbrowser  \n",
    "import time\n",
    "\n",
    "for i in range(len(catalogue_no_PSFs)):\n",
    "    ra = catalogue_no_PSFs.sort_values('flux_g', ascending=False)['ra'].reset_index()\n",
    "    dec = catalogue_no_PSFs.sort_values('flux_g', ascending=False)['dec'].reset_index()\n",
    "    \n",
    "    ra_value = ra.loc[i].ra\n",
    "    dec_value = dec.loc[i].dec\n",
    "    \n",
    "    webbrowser.open(\n",
    "        'http://legacysurvey.org/viewer/fits-cutout/?ra=' +str(ra_value) + '&dec=' +str(dec_value) + '&layer=dr8&pixscale=0.27&bands=grz',\n",
    "        new=0,\n",
    "        autoraise=True\n",
    "    )\n",
    "    \n",
    "    time.sleep(1)"
   ]
  },
  {
   "cell_type": "code",
   "execution_count": null,
   "metadata": {},
   "outputs": [],
   "source": [
    "from astropy import io\n",
    "from astropy.io import fits\n",
    "from astropy import table\n",
    "from astropy import wcs\n",
    "import astropy\n",
    "\n",
    "\n",
    "\n",
    "img = fits.open('/home/verlon/Downloads/DATA/cutout_26.1266_-6.3541.fits')[0]\n",
    "\n",
    "\n",
    "plt.imshow(img.data[0], cmap='gray')\n"
   ]
  },
  {
   "cell_type": "code",
   "execution_count": null,
   "metadata": {},
   "outputs": [],
   "source": [
    "img[0]"
   ]
  },
  {
   "cell_type": "code",
   "execution_count": null,
   "metadata": {},
   "outputs": [],
   "source": [
    "plt.imshow(img[1], cmap='gray')"
   ]
  },
  {
   "cell_type": "code",
   "execution_count": null,
   "metadata": {},
   "outputs": [],
   "source": []
  }
 ],
 "metadata": {
  "kernelspec": {
   "display_name": "Python 3.7.5 64-bit",
   "language": "python",
   "name": "python37564bit90ce9393941248d8885c8ffd563274d3"
  },
  "language_info": {
   "codemirror_mode": {
    "name": "ipython",
    "version": 3
   },
   "file_extension": ".py",
   "mimetype": "text/x-python",
   "name": "python",
   "nbconvert_exporter": "python",
   "pygments_lexer": "ipython3",
   "version": "3.8.2"
  }
 },
 "nbformat": 4,
 "nbformat_minor": 4
}
