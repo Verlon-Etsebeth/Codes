{
 "cells": [
  {
   "cell_type": "markdown",
   "metadata": {},
   "source": [
    "# Astronomaly"
   ]
  },
  {
   "cell_type": "markdown",
   "metadata": {},
   "source": [
    "This notebook is designed to replicate the feature extraction methods of Astronomaly. In addition, the steps are shown individually and explained in order to provide better detail in the processes of Astronomaly. The notebook would thus ideally serve as a troubleshooting method for Astronomaly."
   ]
  },
  {
   "cell_type": "markdown",
   "metadata": {},
   "source": [
    "## Section 1: Using A Sample From Astronomaly"
   ]
  },
  {
   "cell_type": "markdown",
   "metadata": {},
   "source": [
    "This section displays the contours and ellipses found by Astronomaly. The image within this section is taken directly from Astronomaly and the contours and ellipses are shown for this image. The image has already been transformed before it is obtained and as such the separate transformations can not be displayed here."
   ]
  },
  {
   "cell_type": "markdown",
   "metadata": {},
   "source": [
    "__________________________"
   ]
  },
  {
   "cell_type": "code",
   "execution_count": 1,
   "metadata": {},
   "outputs": [],
   "source": [
    "from astronomaly.anomaly_detection import isolation_forest, human_loop_learning\n",
    "from astronomaly.base import logging_tools\n",
    "from astronomaly.base.base_pipeline import PipelineStage\n",
    "from astronomaly.data_management import image_reader\n",
    "from astronomaly.dimensionality_reduction import pca\n",
    "from astronomaly.feature_extraction import power_spectrum, autoencoder, shape_features\n",
    "from astronomaly.feature_extraction.shape_features import find_contours, fit_ellipse, draw_contour\n",
    "from astronomaly.feature_extraction.shape_features import get_ellipse_leastsq, extract_contour\n",
    "from astronomaly.postprocessing import scaling\n",
    "from astronomaly.preprocessing import image_preprocessing\n",
    "from astronomaly.preprocessing.image_preprocessing import image_transform_sigma_clipping, image_transform_scale\n",
    "from astronomaly.visualisation import tsne\n",
    "from astronomaly.utils import utils\n",
    "\n",
    "import os\n",
    "import cv2\n",
    "import pandas as pd\n",
    "import numpy as np\n",
    "import matplotlib.pyplot as plt\n",
    "from astropy.io import fits\n",
    "\n",
    "%matplotlib inline"
   ]
  },
  {
   "cell_type": "markdown",
   "metadata": {},
   "source": [
    "_______________________"
   ]
  },
  {
   "cell_type": "code",
   "execution_count": 2,
   "metadata": {},
   "outputs": [],
   "source": [
    "def image_transform_greyscale(img):\n",
    "    \"\"\"\n",
    "    Simple function that combines the rgb bands into a single image.\n",
    "\n",
    "    Parameters\n",
    "    ----------\n",
    "    img : np.ndarray\n",
    "        Input image\n",
    "\n",
    "    Returns\n",
    "    -------\n",
    "    np.ndarray\n",
    "        Greyscale image\n",
    "\n",
    "    \"\"\"\n",
    "\n",
    "    img = cv2.cvtColor(img, cv2.COLOR_BGR2GRAY)\n",
    "\n",
    "    return img"
   ]
  },
  {
   "cell_type": "markdown",
   "metadata": {},
   "source": [
    "_______________________"
   ]
  },
  {
   "cell_type": "markdown",
   "metadata": {},
   "source": [
    "### Setting up the data"
   ]
  },
  {
   "cell_type": "markdown",
   "metadata": {},
   "source": [
    "#### This subsection contains all of the relevant data and parameters that are to be specified in order for Astronomaly to run. "
   ]
  },
  {
   "cell_type": "markdown",
   "metadata": {},
   "source": [
    "Selecting the data brick to be used:"
   ]
  },
  {
   "cell_type": "code",
   "execution_count": 3,
   "metadata": {},
   "outputs": [],
   "source": [
    "#coadd_id = '0260'  # Brick code\n",
    "coadd_id = '0267'  # Brick code"
   ]
  },
  {
   "cell_type": "markdown",
   "metadata": {},
   "source": [
    "Some default settings for Astrnomaly to use on optical data"
   ]
  },
  {
   "cell_type": "code",
   "execution_count": 4,
   "metadata": {},
   "outputs": [],
   "source": [
    "list_of_files = []\n",
    "window_size = 32\n",
    "band_prefixes = ['z-', 'r-', 'g-']\n",
    "bands_rgb = {'r': 'z-', 'g': 'r-', 'b': 'g-'}\n",
    "plot_cmap = 'hot'\n",
    "feature_method = 'ellipse'\n",
    "dim_reduction = ''"
   ]
  },
  {
   "cell_type": "markdown",
   "metadata": {},
   "source": [
    "Selecting the transform functions"
   ]
  },
  {
   "cell_type": "code",
   "execution_count": 5,
   "metadata": {},
   "outputs": [],
   "source": [
    "image_transform_function = [# image_transform_greyscale,\n",
    "                            # image_preprocessing.image_transform_sigma_clipping,\n",
    "                            # image_preprocessing.image_transform_inverse_sinh,\n",
    "                            # image_preprocessing.image_transform_scale\n",
    "                           ]\n",
    "\n",
    "display_transform_function = [# image_preprocessing.image_transform_inverse_sinh\n",
    "                              image_preprocessing.image_transform_scale\n",
    "                             ]"
   ]
  },
  {
   "cell_type": "markdown",
   "metadata": {},
   "source": [
    "The data directory can be set up to shorten other directories and assists in sorting out the data storage. Due to the large number of bricks involved, it is much simpler to merely change the brick name than the entire directory all the time"
   ]
  },
  {
   "cell_type": "code",
   "execution_count": 6,
   "metadata": {},
   "outputs": [],
   "source": [
    "data_dir = '/home/verlon/Desktop/Astronomaly/Data/Coadd_'+str(coadd_id)+'/'"
   ]
  },
  {
   "cell_type": "code",
   "execution_count": 7,
   "metadata": {},
   "outputs": [],
   "source": [
    "image_dir = os.path.join(data_dir, 'Input','Images')\n",
    "output_dir = os.path.join(data_dir, 'Output', '')\n",
    "\n",
    "if not os.path.exists(output_dir):\n",
    "    os.makedirs(output_dir)"
   ]
  },
  {
   "cell_type": "code",
   "execution_count": 8,
   "metadata": {},
   "outputs": [],
   "source": [
    "#image_dir = os.path.join(data_dir, '0260m062', 'Input', 'Images')\n",
    "#output_dir = os.path.join(data_dir, '0260m062', 'Output', '')\n",
    "\n",
    "#if not os.path.exists(output_dir):\n",
    "#    os.makedirs(output_dir)#"
   ]
  },
  {
   "cell_type": "markdown",
   "metadata": {},
   "source": [
    "Selecting the catalogue (as created by the convert_tractor_catalogue function in utils.py)"
   ]
  },
  {
   "cell_type": "code",
   "execution_count": 9,
   "metadata": {},
   "outputs": [],
   "source": [
    "catalogue = pd.read_csv(os.path.join(\n",
    "    data_dir, 'Input','Catalogue', 'large_catalogue.csv'))"
   ]
  },
  {
   "cell_type": "code",
   "execution_count": 10,
   "metadata": {},
   "outputs": [],
   "source": [
    "#catalogue = pd.read_csv(os.path.join(\n",
    "#    data_dir, '0260m062', 'Input', 'test_catalogue_0260m062_500.csv'))\n"
   ]
  },
  {
   "cell_type": "markdown",
   "metadata": {},
   "source": [
    "________________________________________"
   ]
  },
  {
   "cell_type": "markdown",
   "metadata": {},
   "source": [
    "## Running Astronomaly"
   ]
  },
  {
   "cell_type": "code",
   "execution_count": 11,
   "metadata": {},
   "outputs": [
    {
     "name": "stdout",
     "output_type": "stream",
     "text": [
      "Reading image data from /home/verlon/Desktop/Astronomaly/Data/Coadd_0267/Input/Images/z-legacysurvey-0267m055-image.fits.fz...\n"
     ]
    },
    {
     "name": "stderr",
     "output_type": "stream",
     "text": [
      "WARNING: FITSFixedWarning: 'datfix' made the change 'Set DATE-REF to '1858-11-17' from MJD-REF'. [astropy.wcs.wcs]\n",
      "2020-10-20 16:47:29,248 - WARNING - FITSFixedWarning: 'datfix' made the change 'Set DATE-REF to '1858-11-17' from MJD-REF'.\n"
     ]
    },
    {
     "name": "stdout",
     "output_type": "stream",
     "text": [
      "Done!\n",
      "Reading image data from /home/verlon/Desktop/Astronomaly/Data/Coadd_0267/Input/Images/z-legacysurvey-0267m057-image.fits.fz...\n",
      "Done!\n",
      "Reading image data from /home/verlon/Desktop/Astronomaly/Data/Coadd_0267/Input/Images/z-legacysurvey-0267m060-image.fits.fz...\n",
      "Done!\n",
      "Reading image data from /home/verlon/Desktop/Astronomaly/Data/Coadd_0267/Input/Images/z-legacysurvey-0267m062-image.fits.fz...\n",
      "Done!\n",
      "Reading image data from /home/verlon/Desktop/Astronomaly/Data/Coadd_0267/Input/Images/z-legacysurvey-0267m065-image.fits.fz...\n",
      "Done!\n",
      "Reading image data from /home/verlon/Desktop/Astronomaly/Data/Coadd_0267/Input/Images/z-legacysurvey-0267m067-image.fits.fz...\n",
      "Done!\n",
      "Reading image data from /home/verlon/Desktop/Astronomaly/Data/Coadd_0267/Input/Images/z-legacysurvey-0267m092-image.fits.fz...\n",
      "Done!\n",
      "Reading image data from /home/verlon/Desktop/Astronomaly/Data/Coadd_0267/Input/Images/z-legacysurvey-0267m095-image.fits.fz...\n",
      "Done!\n",
      "Reading image data from /home/verlon/Desktop/Astronomaly/Data/Coadd_0267/Input/Images/z-legacysurvey-0267m097-image.fits.fz...\n",
      "Done!\n",
      "A catalogue of  20 sources has been provided.\n"
     ]
    }
   ],
   "source": [
    "image_dataset = image_reader.ImageDataset(directory=image_dir,\n",
    "                                          list_of_files=list_of_files,\n",
    "                                          window_size=window_size,\n",
    "                                          output_dir=output_dir,\n",
    "                                          plot_square=False,\n",
    "                                          transform_function=image_transform_function,\n",
    "                                          display_transform_function=display_transform_function,\n",
    "                                          plot_cmap=plot_cmap,\n",
    "                                          catalogue=catalogue,\n",
    "                                          band_prefixes=band_prefixes,\n",
    "                                          bands_rgb=bands_rgb)"
   ]
  },
  {
   "cell_type": "markdown",
   "metadata": {},
   "source": [
    "__________________________"
   ]
  },
  {
   "cell_type": "markdown",
   "metadata": {},
   "source": [
    "This is where a sample is selected and it has yet to be transformed. To see the indices applicable, use :  *image_dataset.metadata.index*"
   ]
  },
  {
   "cell_type": "code",
   "execution_count": 12,
   "metadata": {},
   "outputs": [],
   "source": [
    "ind = '105'"
   ]
  },
  {
   "cell_type": "code",
   "execution_count": 13,
   "metadata": {},
   "outputs": [],
   "source": [
    "# Interesting failure for this one: ind = '32852'"
   ]
  },
  {
   "cell_type": "code",
   "execution_count": 14,
   "metadata": {},
   "outputs": [],
   "source": [
    "# this fails at 90th perc.. where it does not find the first contour : ind = '567'"
   ]
  },
  {
   "cell_type": "code",
   "execution_count": 15,
   "metadata": {},
   "outputs": [],
   "source": [
    "image_original = image_dataset.get_sample(ind)"
   ]
  },
  {
   "cell_type": "code",
   "execution_count": 16,
   "metadata": {},
   "outputs": [
    {
     "data": {
      "text/plain": [
       "(32, 32, 3)"
      ]
     },
     "execution_count": 16,
     "metadata": {},
     "output_type": "execute_result"
    }
   ],
   "source": [
    "np.shape(image_original)"
   ]
  },
  {
   "cell_type": "markdown",
   "metadata": {},
   "source": [
    "__________"
   ]
  },
  {
   "cell_type": "markdown",
   "metadata": {},
   "source": [
    "### Original Image"
   ]
  },
  {
   "cell_type": "code",
   "execution_count": 17,
   "metadata": {},
   "outputs": [
    {
     "name": "stderr",
     "output_type": "stream",
     "text": [
      "2020-10-20 16:47:40,980 - WARNING - Clipping input data to the valid range for imshow with RGB data ([0..1] for floats or [0..255] for integers).\n"
     ]
    },
    {
     "data": {
      "text/plain": [
       "<matplotlib.image.AxesImage at 0x7f39f599f730>"
      ]
     },
     "execution_count": 17,
     "metadata": {},
     "output_type": "execute_result"
    },
    {
     "data": {
      "image/png": "[encoded data removed]",
      "text/plain": [
       "<Figure size 576x576 with 1 Axes>"
      ]
     },
     "metadata": {
      "needs_background": "light"
     },
     "output_type": "display_data"
    }
   ],
   "source": [
    "plt.figure(figsize=(8, 8))\n",
    "plt.title('Original Image', fontsize = 20)\n",
    "plt.imshow(image_original)"
   ]
  },
  {
   "cell_type": "code",
   "execution_count": 18,
   "metadata": {},
   "outputs": [
    {
     "data": {
      "text/plain": [
       "array([[[ 2.70192884e-03,  2.07050852e-02,  1.13992663e-02],\n",
       "        [ 1.86310448e-02,  2.20643394e-02,  9.94052552e-03],\n",
       "        [ 3.19876522e-02,  2.01528091e-02,  7.47879641e-03],\n",
       "        ...,\n",
       "        [ 2.52723433e-02,  3.13224806e-03, -3.13030486e-03],\n",
       "        [-4.28475876e-04,  2.22520670e-03, -1.20732421e-03],\n",
       "        [-6.62156008e-03,  2.18272093e-03, -9.71520669e-04]],\n",
       "\n",
       "       [[ 1.18668247e-02,  1.36601496e-02,  9.33340751e-03],\n",
       "        [ 2.78390422e-02,  1.82165261e-02,  8.13836232e-03],\n",
       "        [ 3.18003483e-02,  1.57400370e-02,  9.51878447e-03],\n",
       "        ...,\n",
       "        [ 6.68560620e-04, -1.70313497e-03,  1.20209833e-03],\n",
       "        [ 5.17205568e-03,  8.40959314e-04,  3.69416107e-03],\n",
       "        [-1.24859596e-02,  2.13530031e-03, -6.05040346e-04]],\n",
       "\n",
       "       [[ 2.87178885e-02,  1.30407522e-02,  5.69322566e-03],\n",
       "        [ 3.02810632e-02,  1.18138948e-02,  7.90990517e-03],\n",
       "        [ 1.91646162e-02,  1.41182151e-02,  6.24075579e-03],\n",
       "        ...,\n",
       "        [ 6.77800504e-04, -2.86076422e-04,  6.69948407e-04],\n",
       "        [-3.53350327e-03, -1.55444245e-03,  2.50617450e-04],\n",
       "        [ 9.78206471e-03, -1.68329373e-03,  6.54195086e-04]],\n",
       "\n",
       "       ...,\n",
       "\n",
       "       [[ 1.52001744e-02,  3.31212603e-03,  5.70798409e-04],\n",
       "        [-9.47348773e-04, -2.71434570e-03,  1.27045647e-03],\n",
       "        [ 1.07211042e-02, -3.92531278e-03,  4.24247002e-04],\n",
       "        ...,\n",
       "        [-8.27854685e-03, -2.25657877e-03,  2.97040166e-03],\n",
       "        [ 9.25063039e-04, -2.48818705e-03, -1.53339782e-03],\n",
       "        [ 5.60733955e-03, -2.72963219e-03,  8.09286255e-04]],\n",
       "\n",
       "       [[ 3.89139750e-03,  2.79054092e-03,  8.45375238e-04],\n",
       "        [-8.68063769e-04,  2.70747044e-03, -1.41687877e-03],\n",
       "        [ 1.09654441e-02,  3.38716403e-04,  3.67899379e-03],\n",
       "        ...,\n",
       "        [-2.39248900e-03, -2.13612220e-03, -1.08130486e-03],\n",
       "        [-4.59226500e-03,  2.92690028e-03,  1.63693028e-03],\n",
       "        [-9.92579386e-03, -1.15273404e-03, -1.48540782e-03]],\n",
       "\n",
       "       [[-7.61024421e-03,  2.33774772e-03,  9.79302567e-05],\n",
       "        [-1.14614535e-02,  6.01158012e-03,  2.37494917e-03],\n",
       "        [ 5.15663065e-03, -1.08785694e-03,  2.13416107e-03],\n",
       "        ...,\n",
       "        [ 3.41481646e-03, -1.21046323e-03, -9.55390919e-04],\n",
       "        [ 5.79360081e-03,  2.17631948e-03,  1.27137662e-03],\n",
       "        [-7.47267110e-03,  6.13469072e-03, -4.46289952e-04]]],\n",
       "      dtype=float32)"
      ]
     },
     "execution_count": 18,
     "metadata": {},
     "output_type": "execute_result"
    }
   ],
   "source": [
    "image_original"
   ]
  },
  {
   "cell_type": "code",
   "execution_count": 19,
   "metadata": {},
   "outputs": [
    {
     "data": {
      "text/plain": [
       "-0.025786374"
      ]
     },
     "execution_count": 19,
     "metadata": {},
     "output_type": "execute_result"
    }
   ],
   "source": [
    "image_original.min()"
   ]
  },
  {
   "cell_type": "code",
   "execution_count": 20,
   "metadata": {},
   "outputs": [
    {
     "data": {
      "text/plain": [
       "0.041454166"
      ]
     },
     "execution_count": 20,
     "metadata": {},
     "output_type": "execute_result"
    }
   ],
   "source": [
    "image_original.max()"
   ]
  },
  {
   "cell_type": "markdown",
   "metadata": {},
   "source": [
    "____________________"
   ]
  },
  {
   "cell_type": "markdown",
   "metadata": {},
   "source": [
    "### Scale Transform One"
   ]
  },
  {
   "cell_type": "code",
   "execution_count": 21,
   "metadata": {},
   "outputs": [],
   "source": [
    "image_transform_one = image_transform_scale(image_original)"
   ]
  },
  {
   "cell_type": "code",
   "execution_count": 22,
   "metadata": {},
   "outputs": [
    {
     "data": {
      "text/plain": [
       "<matplotlib.image.AxesImage at 0x7f39f588a1c0>"
      ]
     },
     "execution_count": 22,
     "metadata": {},
     "output_type": "execute_result"
    },
    {
     "data": {
      "image/png": "[encoded data removed]",
      "text/plain": [
       "<Figure size 576x576 with 1 Axes>"
      ]
     },
     "metadata": {
      "needs_background": "light"
     },
     "output_type": "display_data"
    }
   ],
   "source": [
    "plt.figure(figsize=(8, 8))\n",
    "plt.title('Scale Transformed Image', fontsize = 20)\n",
    "plt.imshow(image_transform_one)"
   ]
  },
  {
   "cell_type": "code",
   "execution_count": 23,
   "metadata": {},
   "outputs": [
    {
     "data": {
      "text/plain": [
       "(32, 32, 3)"
      ]
     },
     "execution_count": 23,
     "metadata": {},
     "output_type": "execute_result"
    }
   ],
   "source": [
    "np.shape(image_transform_one)"
   ]
  },
  {
   "cell_type": "code",
   "execution_count": 24,
   "metadata": {},
   "outputs": [
    {
     "data": {
      "text/plain": [
       "0.0"
      ]
     },
     "execution_count": 24,
     "metadata": {},
     "output_type": "execute_result"
    }
   ],
   "source": [
    "image_transform_one.min()"
   ]
  },
  {
   "cell_type": "code",
   "execution_count": 25,
   "metadata": {},
   "outputs": [
    {
     "data": {
      "text/plain": [
       "1.0"
      ]
     },
     "execution_count": 25,
     "metadata": {},
     "output_type": "execute_result"
    }
   ],
   "source": [
    "image_transform_one.max()"
   ]
  },
  {
   "cell_type": "markdown",
   "metadata": {},
   "source": [
    "______________"
   ]
  },
  {
   "cell_type": "markdown",
   "metadata": {},
   "source": [
    "### Greyscale Image"
   ]
  },
  {
   "cell_type": "code",
   "execution_count": 26,
   "metadata": {},
   "outputs": [],
   "source": [
    "image_grey = cv2.cvtColor(image_transform_one, cv2.COLOR_BGR2GRAY)"
   ]
  },
  {
   "cell_type": "code",
   "execution_count": 27,
   "metadata": {},
   "outputs": [
    {
     "data": {
      "text/plain": [
       "<matplotlib.image.AxesImage at 0x7f39f57eb700>"
      ]
     },
     "execution_count": 27,
     "metadata": {},
     "output_type": "execute_result"
    },
    {
     "data": {
      "image/png": "[encoded data removed]",
      "text/plain": [
       "<Figure size 576x576 with 1 Axes>"
      ]
     },
     "metadata": {
      "needs_background": "light"
     },
     "output_type": "display_data"
    }
   ],
   "source": [
    "plt.figure(figsize=(8, 8))\n",
    "plt.title('Greyscale Image', fontsize = 20)\n",
    "plt.imshow(image_grey)"
   ]
  },
  {
   "cell_type": "code",
   "execution_count": 28,
   "metadata": {},
   "outputs": [
    {
     "data": {
      "text/plain": [
       "(32, 32)"
      ]
     },
     "execution_count": 28,
     "metadata": {},
     "output_type": "execute_result"
    }
   ],
   "source": [
    "np.shape(image_grey)"
   ]
  },
  {
   "cell_type": "code",
   "execution_count": 29,
   "metadata": {},
   "outputs": [
    {
     "data": {
      "text/plain": [
       "0.30824035"
      ]
     },
     "execution_count": 29,
     "metadata": {},
     "output_type": "execute_result"
    }
   ],
   "source": [
    "image_grey.min()"
   ]
  },
  {
   "cell_type": "code",
   "execution_count": 30,
   "metadata": {},
   "outputs": [
    {
     "data": {
      "text/plain": [
       "0.65190285"
      ]
     },
     "execution_count": 30,
     "metadata": {},
     "output_type": "execute_result"
    }
   ],
   "source": [
    "image_grey.max()"
   ]
  },
  {
   "cell_type": "markdown",
   "metadata": {},
   "source": [
    "___________________________"
   ]
  },
  {
   "cell_type": "markdown",
   "metadata": {},
   "source": [
    "### Sigma CLipping"
   ]
  },
  {
   "cell_type": "code",
   "execution_count": 31,
   "metadata": {},
   "outputs": [],
   "source": [
    "image_sigma_clipped = image_transform_sigma_clipping(image_grey)"
   ]
  },
  {
   "cell_type": "code",
   "execution_count": 32,
   "metadata": {},
   "outputs": [
    {
     "data": {
      "text/plain": [
       "<matplotlib.image.AxesImage at 0x7f39f57d50a0>"
      ]
     },
     "execution_count": 32,
     "metadata": {},
     "output_type": "execute_result"
    },
    {
     "data": {
      "image/png": "[encoded data removed]",
      "text/plain": [
       "<Figure size 576x576 with 1 Axes>"
      ]
     },
     "metadata": {
      "needs_background": "light"
     },
     "output_type": "display_data"
    }
   ],
   "source": [
    "plt.figure(figsize=(8, 8))\n",
    "plt.title('Sigma Clipped Image', fontsize = 20)\n",
    "plt.imshow(image_sigma_clipped)"
   ]
  },
  {
   "cell_type": "code",
   "execution_count": 33,
   "metadata": {},
   "outputs": [
    {
     "data": {
      "text/plain": [
       "array([[0., 0., 0., ..., 0., 0., 0.],\n",
       "       [0., 0., 0., ..., 0., 0., 0.],\n",
       "       [0., 0., 0., ..., 0., 0., 0.],\n",
       "       ...,\n",
       "       [0., 0., 0., ..., 0., 0., 0.],\n",
       "       [0., 0., 0., ..., 0., 0., 0.],\n",
       "       [0., 0., 0., ..., 0., 0., 0.]], dtype=float32)"
      ]
     },
     "execution_count": 33,
     "metadata": {},
     "output_type": "execute_result"
    }
   ],
   "source": [
    "image_sigma_clipped"
   ]
  },
  {
   "cell_type": "code",
   "execution_count": 34,
   "metadata": {},
   "outputs": [
    {
     "data": {
      "text/plain": [
       "0.0"
      ]
     },
     "execution_count": 34,
     "metadata": {},
     "output_type": "execute_result"
    }
   ],
   "source": [
    "image_sigma_clipped.min()"
   ]
  },
  {
   "cell_type": "code",
   "execution_count": 35,
   "metadata": {},
   "outputs": [
    {
     "data": {
      "text/plain": [
       "0.5980938"
      ]
     },
     "execution_count": 35,
     "metadata": {},
     "output_type": "execute_result"
    }
   ],
   "source": [
    "image_sigma_clipped.max()"
   ]
  },
  {
   "cell_type": "markdown",
   "metadata": {},
   "source": [
    "______________________"
   ]
  },
  {
   "cell_type": "markdown",
   "metadata": {},
   "source": [
    "### Scale Transform"
   ]
  },
  {
   "cell_type": "code",
   "execution_count": 36,
   "metadata": {},
   "outputs": [],
   "source": [
    "image_transform_two = image_transform_scale(image_sigma_clipped)"
   ]
  },
  {
   "cell_type": "code",
   "execution_count": 37,
   "metadata": {},
   "outputs": [
    {
     "data": {
      "text/plain": [
       "<matplotlib.image.AxesImage at 0x7f39f57a7ac0>"
      ]
     },
     "execution_count": 37,
     "metadata": {},
     "output_type": "execute_result"
    },
    {
     "data": {
      "image/png": "[encoded data removed]",
      "text/plain": [
       "<Figure size 576x576 with 1 Axes>"
      ]
     },
     "metadata": {
      "needs_background": "light"
     },
     "output_type": "display_data"
    }
   ],
   "source": [
    "plt.figure(figsize=(8, 8))\n",
    "plt.title('Scale Transformed Image', fontsize = 20)\n",
    "plt.imshow(image_transform_two)"
   ]
  },
  {
   "cell_type": "code",
   "execution_count": 38,
   "metadata": {},
   "outputs": [
    {
     "data": {
      "text/plain": [
       "array([[0., 0., 0., ..., 0., 0., 0.],\n",
       "       [0., 0., 0., ..., 0., 0., 0.],\n",
       "       [0., 0., 0., ..., 0., 0., 0.],\n",
       "       ...,\n",
       "       [0., 0., 0., ..., 0., 0., 0.],\n",
       "       [0., 0., 0., ..., 0., 0., 0.],\n",
       "       [0., 0., 0., ..., 0., 0., 0.]], dtype=float32)"
      ]
     },
     "execution_count": 38,
     "metadata": {},
     "output_type": "execute_result"
    }
   ],
   "source": [
    "image_transform_two"
   ]
  },
  {
   "cell_type": "code",
   "execution_count": 39,
   "metadata": {},
   "outputs": [
    {
     "data": {
      "text/plain": [
       "0.0"
      ]
     },
     "execution_count": 39,
     "metadata": {},
     "output_type": "execute_result"
    }
   ],
   "source": [
    "image_transform_two.min()"
   ]
  },
  {
   "cell_type": "code",
   "execution_count": 40,
   "metadata": {},
   "outputs": [
    {
     "data": {
      "text/plain": [
       "1.0"
      ]
     },
     "execution_count": 40,
     "metadata": {},
     "output_type": "execute_result"
    }
   ],
   "source": [
    "image_transform_two.max()"
   ]
  },
  {
   "cell_type": "markdown",
   "metadata": {},
   "source": [
    "___________________"
   ]
  },
  {
   "cell_type": "markdown",
   "metadata": {},
   "source": [
    "### Rescaled Image"
   ]
  },
  {
   "cell_type": "code",
   "execution_count": 44,
   "metadata": {},
   "outputs": [],
   "source": [
    "image = image_original"
   ]
  },
  {
   "cell_type": "code",
   "execution_count": 45,
   "metadata": {},
   "outputs": [],
   "source": [
    "scale_percent = 110 # percent of original size\n",
    "width = int(image.shape[1] * scale_percent / 100)\n",
    "height = int(image.shape[0] * scale_percent / 100)\n",
    "dim = (width, height)\n",
    "\n",
    "\n",
    "resized = cv2.resize(image, dim, interpolation = cv2.INTER_AREA)"
   ]
  },
  {
   "cell_type": "code",
   "execution_count": 46,
   "metadata": {},
   "outputs": [
    {
     "name": "stderr",
     "output_type": "stream",
     "text": [
      "2020-10-20 12:41:44,786 - WARNING - Clipping input data to the valid range for imshow with RGB data ([0..1] for floats or [0..255] for integers).\n"
     ]
    },
    {
     "data": {
      "text/plain": [
       "<matplotlib.image.AxesImage at 0x7f39df34ea30>"
      ]
     },
     "execution_count": 46,
     "metadata": {},
     "output_type": "execute_result"
    },
    {
     "data": {
      "image/png": "[encoded data removed]",
      "text/plain": [
       "<Figure size 576x576 with 1 Axes>"
      ]
     },
     "metadata": {
      "needs_background": "light"
     },
     "output_type": "display_data"
    }
   ],
   "source": [
    "plt.figure(figsize=(8, 8))\n",
    "plt.imshow(resized)"
   ]
  },
  {
   "cell_type": "markdown",
   "metadata": {},
   "source": [
    "_________________"
   ]
  },
  {
   "cell_type": "code",
   "execution_count": 116,
   "metadata": {},
   "outputs": [],
   "source": [
    "image = image_transform_two"
   ]
  },
  {
   "cell_type": "code",
   "execution_count": 117,
   "metadata": {},
   "outputs": [
    {
     "data": {
      "text/plain": [
       "array([[0., 0., 0., ..., 0., 0., 0.],\n",
       "       [0., 0., 0., ..., 0., 0., 0.],\n",
       "       [0., 0., 0., ..., 0., 0., 0.],\n",
       "       ...,\n",
       "       [0., 0., 0., ..., 0., 0., 0.],\n",
       "       [0., 0., 0., ..., 0., 0., 0.],\n",
       "       [0., 0., 0., ..., 0., 0., 0.]], dtype=float32)"
      ]
     },
     "execution_count": 117,
     "metadata": {},
     "output_type": "execute_result"
    }
   ],
   "source": [
    "image"
   ]
  },
  {
   "cell_type": "markdown",
   "metadata": {},
   "source": [
    "Select the percentiles to be used. These percentiles divide the image into regions based on the image array values. It is these percentiles that determine the location of the contours that are to be drawn."
   ]
  },
  {
   "cell_type": "code",
   "execution_count": 118,
   "metadata": {},
   "outputs": [],
   "source": [
    "percentiles = [90, 80, 70, 60, 50, 0]"
   ]
  },
  {
   "cell_type": "markdown",
   "metadata": {},
   "source": [
    "___________________"
   ]
  },
  {
   "cell_type": "markdown",
   "metadata": {},
   "source": [
    "This is the function that reads in the percentiles on the relevant image, obtains the contours and finds the corresponding ellipses to these contours."
   ]
  },
  {
   "cell_type": "code",
   "execution_count": 119,
   "metadata": {},
   "outputs": [
    {
     "name": "stdout",
     "output_type": "stream",
     "text": [
      "\n",
      "6\n",
      "(32, 32)\n",
      "\n",
      "8\n",
      "(32, 32)\n",
      "\n",
      "8\n",
      "(32, 32)\n",
      "\n",
      "9\n",
      "(32, 32)\n",
      "\n",
      "\n",
      "21\n",
      "(38, 38)\n",
      "\n",
      "22\n",
      "(38, 38)\n"
     ]
    }
   ],
   "source": [
    "percentiles = np.sort(percentiles)[::-1]\n",
    "\n",
    "c = []\n",
    "feats = []\n",
    "threshold = []\n",
    "all_contours = []\n",
    "all_ellipses = []\n",
    "\n",
    "x0 = y0 = -1\n",
    "x_cent = image.shape[0] // 2\n",
    "y_cent = image.shape[1] // 2\n",
    "\n",
    "if np.all(image == 0):\n",
    "    failed = True\n",
    "    failure_message = \"Invalid cutout for feature extraction\"\n",
    "else:\n",
    "    failed = False\n",
    "    failure_message = \"\"\n",
    "\n",
    "    \n",
    "c_1 = [] \n",
    "    \n",
    "for p in percentiles:\n",
    "    if failed:\n",
    "        contours = []\n",
    "    else:\n",
    "        thresh = np.percentile(image[image > 0], p)\n",
    "        contours_1, hierarchy = find_contours(image, thresh)\n",
    "\n",
    "        x_contours = np.zeros(len(contours_1))\n",
    "        y_contours = np.zeros(len(contours_1))\n",
    "\n",
    "    if len(contours_1) != 0:\n",
    "        for k in range(len(contours_1)):\n",
    "            M = cv2.moments(contours_1[k])\n",
    "            try:\n",
    "                x_contours[k] = int(M[\"m10\"] / M[\"m00\"])\n",
    "                y_contours[k] = int(M[\"m01\"] / M[\"m00\"])\n",
    "            except ZeroDivisionError:\n",
    "                pass\n",
    "        if x0 == -1:\n",
    "            x_diff = x_contours - x_cent\n",
    "            y_diff = y_contours - y_cent\n",
    "        else:\n",
    "            x_diff = x_contours - x0\n",
    "            y_diff = y_contours - y0\n",
    "\n",
    "        # Will try to find the CLOSEST contour to the central one\n",
    "        r_diff = np.sqrt(x_diff**2 + y_diff**2)\n",
    "\n",
    "        ind = np.argmin(r_diff)\n",
    "\n",
    "        if x0 == -1:\n",
    "            x0 = x_contours[ind]\n",
    "            y0 = y_contours[ind]\n",
    "\n",
    "        c_1 = contours_1[ind]\n",
    "        #print(str(p),'c_1 : ' ,len(c_1))\n",
    "        print()\n",
    "\n",
    "        ############################\n",
    "\n",
    "        if len(c_1) < 5:\n",
    "           #pass\n",
    "            \n",
    "            scale_percent = 120  # percent of original size\n",
    "            \n",
    "            width = int(image.shape[1] * scale_percent / 100)\n",
    "            height = int(image.shape[0] * scale_percent / 100)\n",
    "            dim = (width, height)\n",
    "            \n",
    "            image = cv2.resize(image, dim, interpolation=cv2.INTER_AREA)\n",
    "            \n",
    "            resized = image.copy()\n",
    "\n",
    "            thresh = np.percentile(image[image > 0], p)\n",
    "            contours_2, hierarchy = find_contours(image, thresh)\n",
    "\n",
    "            x_contours = np.zeros(len(contours_2))\n",
    "            y_contours = np.zeros(len(contours_2))\n",
    "\n",
    "            if len(contours_2) != 0:\n",
    "                for k in range(len(contours_2)):\n",
    "                    M = cv2.moments(contours_2[k])\n",
    "                    try:\n",
    "                        x_contours[k] = int(M[\"m10\"] / M[\"m00\"])\n",
    "                        y_contours[k] = int(M[\"m01\"] / M[\"m00\"])\n",
    "                    except ZeroDivisionError:\n",
    "                        pass\n",
    "                if x0 == -1:\n",
    "                    x_diff = x_contours - x_cent\n",
    "                    y_diff = y_contours - y_cent\n",
    "                else:\n",
    "                    x_diff = x_contours - x0\n",
    "                    y_diff = y_contours - y0\n",
    "\n",
    "                # Will try to find the CLOSEST contour to the central one\n",
    "                r_diff = np.sqrt(x_diff**2 + y_diff**2)\n",
    "\n",
    "                ind = np.argmin(r_diff)\n",
    "\n",
    "                if x0 == -1:\n",
    "                    x0 = x_contours[ind]\n",
    "                    y0 = y_contours[ind]\n",
    "\n",
    "                c_2 = contours_2[ind]\n",
    "                \n",
    "                #print(str(p),'c_2 : ',len(c_2))\n",
    "                print()\n",
    "                params = get_ellipse_leastsq(c_2, resized)\n",
    "                \n",
    "                # Params return in this order:\n",
    "                # residual, x0, y0, maj_axis, min_axis, theta\n",
    "                if np.any(np.isnan(params)):\n",
    "                    failed = True\n",
    "                else:\n",
    "                    if params[3] == 0 or params[4] == 0:\n",
    "                        aspect = 1\n",
    "                    else:\n",
    "                        aspect = params[4] / params[3]\n",
    "\n",
    "                    if aspect < 1:\n",
    "                        aspect = 1 / aspect\n",
    "                    if aspect > 100:\n",
    "                        aspect = 1\n",
    "\n",
    "                    new_params = params[:3] + [aspect] + [params[-1]]\n",
    "                    feats.append(new_params)\n",
    "                    \n",
    "                    c_1 = c_2\n",
    "            else:\n",
    "                failed = True\n",
    "                failure_message = \"No contour found\"\n",
    "\n",
    "            if failed:\n",
    "                feats.append([np.nan] * 5)\n",
    "                logging_tools.log(failure_message)\n",
    "                \n",
    "            #c_1 = c_2\n",
    "                \n",
    "        else:\n",
    "            params = get_ellipse_leastsq(c_1, image)\n",
    "\n",
    "            # Params return in this order:\n",
    "            # residual, x0, y0, maj_axis, min_axis, theta\n",
    "            if np.any(np.isnan(params)):\n",
    "                failed = True\n",
    "            else:\n",
    "                if params[3] == 0 or params[4] == 0:\n",
    "                    aspect = 1\n",
    "                else:\n",
    "                    aspect = params[4] / params[3]\n",
    "\n",
    "                if aspect < 1:\n",
    "                    aspect = 1 / aspect\n",
    "                if aspect > 100:\n",
    "                    aspect = 1\n",
    "\n",
    "                new_params = params[:3] + [aspect] + [params[-1]]\n",
    "                feats.append(new_params)\n",
    "                \n",
    "\n",
    "\n",
    "        arr = image.copy()\n",
    "\n",
    "        ellipse_arr, param = fit_ellipse(\n",
    "            c_1, image_original, return_params=True, filled=False)\n",
    "\n",
    "        all_ellipses.append(ellipse_arr)\n",
    "        all_contours.append(c_1)\n",
    "        \n",
    "\n",
    "    else:\n",
    "        failed = True\n",
    "        failure_message = \"No contour found\"\n",
    "\n",
    "    if failed:\n",
    "        feats.append([np.nan] * 5)\n",
    "        logging_tools.log(failure_message)\n",
    "         ############################\n",
    "            \n",
    "\n",
    "    print(len(c_1))\n",
    "    #print(len(contours))\n",
    "    #print(thresh)\n",
    "    #print(feats)\n",
    "    print(np.shape(image))"
   ]
  },
  {
   "cell_type": "code",
   "execution_count": 109,
   "metadata": {},
   "outputs": [
    {
     "data": {
      "text/plain": [
       "38"
      ]
     },
     "execution_count": 109,
     "metadata": {},
     "output_type": "execute_result"
    }
   ],
   "source": [
    "len(image)"
   ]
  },
  {
   "cell_type": "code",
   "execution_count": 110,
   "metadata": {},
   "outputs": [
    {
     "data": {
      "text/plain": [
       "32"
      ]
     },
     "execution_count": 110,
     "metadata": {},
     "output_type": "execute_result"
    }
   ],
   "source": [
    "len(image_transform_two)"
   ]
  },
  {
   "cell_type": "code",
   "execution_count": 111,
   "metadata": {},
   "outputs": [
    {
     "data": {
      "text/plain": [
       "array([[0., 0., 0., ..., 0., 0., 0.],\n",
       "       [0., 0., 0., ..., 0., 0., 0.],\n",
       "       [0., 0., 0., ..., 0., 0., 0.],\n",
       "       ...,\n",
       "       [0., 0., 0., ..., 0., 0., 0.],\n",
       "       [0., 0., 0., ..., 0., 0., 0.],\n",
       "       [0., 0., 0., ..., 0., 0., 0.]], dtype=float32)"
      ]
     },
     "execution_count": 111,
     "metadata": {},
     "output_type": "execute_result"
    }
   ],
   "source": [
    "image"
   ]
  },
  {
   "cell_type": "code",
   "execution_count": 112,
   "metadata": {},
   "outputs": [
    {
     "data": {
      "text/plain": [
       "range(0, 6)"
      ]
     },
     "execution_count": 112,
     "metadata": {},
     "output_type": "execute_result"
    }
   ],
   "source": [
    "range(len(percentiles))"
   ]
  },
  {
   "cell_type": "markdown",
   "metadata": {},
   "source": [
    "___________________________"
   ]
  },
  {
   "cell_type": "markdown",
   "metadata": {},
   "source": [
    "This is used to see what the contours and ellipses look like for the given image."
   ]
  },
  {
   "cell_type": "code",
   "execution_count": 114,
   "metadata": {
    "scrolled": false
   },
   "outputs": [
    {
     "name": "stderr",
     "output_type": "stream",
     "text": [
      "2020-10-20 16:55:11,555 - WARNING - Clipping input data to the valid range for imshow with RGB data ([0..1] for floats or [0..255] for integers).\n",
      "2020-10-20 16:55:11,641 - WARNING - Clipping input data to the valid range for imshow with RGB data ([0..1] for floats or [0..255] for integers).\n"
     ]
    },
    {
     "data": {
      "image/png": "[encoded data removed]",
      "text/plain": [
       "<Figure size 1080x1080 with 2 Axes>"
      ]
     },
     "metadata": {
      "needs_background": "light"
     },
     "output_type": "display_data"
    },
    {
     "name": "stderr",
     "output_type": "stream",
     "text": [
      "2020-10-20 16:55:11,996 - WARNING - Clipping input data to the valid range for imshow with RGB data ([0..1] for floats or [0..255] for integers).\n",
      "2020-10-20 16:55:12,028 - WARNING - Clipping input data to the valid range for imshow with RGB data ([0..1] for floats or [0..255] for integers).\n"
     ]
    },
    {
     "name": "stdout",
     "output_type": "stream",
     "text": [
      "(38, 38)\n"
     ]
    },
    {
     "data": {
      "image/png": "[encoded data removed]",
      "text/plain": [
       "<Figure size 1080x1080 with 2 Axes>"
      ]
     },
     "metadata": {
      "needs_background": "light"
     },
     "output_type": "display_data"
    },
    {
     "name": "stderr",
     "output_type": "stream",
     "text": [
      "2020-10-20 16:55:12,405 - WARNING - Clipping input data to the valid range for imshow with RGB data ([0..1] for floats or [0..255] for integers).\n",
      "2020-10-20 16:55:12,441 - WARNING - Clipping input data to the valid range for imshow with RGB data ([0..1] for floats or [0..255] for integers).\n"
     ]
    },
    {
     "name": "stdout",
     "output_type": "stream",
     "text": [
      "(38, 38)\n"
     ]
    },
    {
     "data": {
      "image/png": "[encoded data removed]",
      "text/plain": [
       "<Figure size 1080x1080 with 2 Axes>"
      ]
     },
     "metadata": {
      "needs_background": "light"
     },
     "output_type": "display_data"
    },
    {
     "name": "stderr",
     "output_type": "stream",
     "text": [
      "2020-10-20 16:55:12,799 - WARNING - Clipping input data to the valid range for imshow with RGB data ([0..1] for floats or [0..255] for integers).\n",
      "2020-10-20 16:55:12,837 - WARNING - Clipping input data to the valid range for imshow with RGB data ([0..1] for floats or [0..255] for integers).\n"
     ]
    },
    {
     "name": "stdout",
     "output_type": "stream",
     "text": [
      "(38, 38)\n"
     ]
    },
    {
     "data": {
      "image/png": "[encoded data removed]",
      "text/plain": [
       "<Figure size 1080x1080 with 2 Axes>"
      ]
     },
     "metadata": {
      "needs_background": "light"
     },
     "output_type": "display_data"
    },
    {
     "name": "stderr",
     "output_type": "stream",
     "text": [
      "2020-10-20 16:55:13,279 - WARNING - Clipping input data to the valid range for imshow with RGB data ([0..1] for floats or [0..255] for integers).\n",
      "2020-10-20 16:55:13,322 - WARNING - Clipping input data to the valid range for imshow with RGB data ([0..1] for floats or [0..255] for integers).\n"
     ]
    },
    {
     "name": "stdout",
     "output_type": "stream",
     "text": [
      "(38, 38)\n"
     ]
    },
    {
     "data": {
      "image/png": "[encoded data removed]",
      "text/plain": [
       "<Figure size 1080x1080 with 2 Axes>"
      ]
     },
     "metadata": {
      "needs_background": "light"
     },
     "output_type": "display_data"
    },
    {
     "name": "stderr",
     "output_type": "stream",
     "text": [
      "2020-10-20 16:55:13,696 - WARNING - Clipping input data to the valid range for imshow with RGB data ([0..1] for floats or [0..255] for integers).\n",
      "2020-10-20 16:55:13,733 - WARNING - Clipping input data to the valid range for imshow with RGB data ([0..1] for floats or [0..255] for integers).\n"
     ]
    },
    {
     "name": "stdout",
     "output_type": "stream",
     "text": [
      "(38, 38)\n"
     ]
    },
    {
     "data": {
      "image/png": "[encoded data removed]",
      "text/plain": [
       "<Figure size 1080x1080 with 2 Axes>"
      ]
     },
     "metadata": {
      "needs_background": "light"
     },
     "output_type": "display_data"
    },
    {
     "name": "stdout",
     "output_type": "stream",
     "text": [
      "(38, 38)\n"
     ]
    }
   ],
   "source": [
    "%matplotlib inline\n",
    "\n",
    "for i in range(len(all_contours)):\n",
    "        drawn = draw_contour(all_contours[i], image_original)\n",
    "\n",
    "        f = plt.figure(figsize=(15, 15))\n",
    "\n",
    "        f.add_subplot(1, 2, 1)\n",
    "        plt.imshow(drawn)\n",
    "        plt.gca().set_title('Contour - ' +\n",
    "                        str(percentiles[i]) + 'th percentile', fontsize=20)\n",
    "\n",
    "        f.add_subplot(1, 2, 2)\n",
    "        plt.imshow(all_ellipses[i])\n",
    "        plt.gca().set_title('Ellipse - ' +\n",
    "                        str(percentiles[i]) + 'th percentile', fontsize=20)\n",
    "\n",
    "        plt.show(block=True)\n",
    "        print(np.shape(image))"
   ]
  },
  {
   "cell_type": "markdown",
   "metadata": {},
   "source": [
    "_______________"
   ]
  },
  {
   "cell_type": "markdown",
   "metadata": {},
   "source": [
    "## Section 2: Using A Cutout From The Legacy Skyviewer."
   ]
  },
  {
   "cell_type": "markdown",
   "metadata": {},
   "source": [
    "This section applies the same procedure as Astronomaly on a cutout from the Legacy Skyviewer. The image transformation process can thus be displayed step by step. This assists in troubleshooting if needed."
   ]
  },
  {
   "cell_type": "markdown",
   "metadata": {},
   "source": [
    "________________"
   ]
  },
  {
   "cell_type": "code",
   "execution_count": null,
   "metadata": {},
   "outputs": [],
   "source": [
    "cutout = '/home/verlon/Desktop/Astronomaly/Data/Coadd_0260/0260m062/Input/Failed Images/cutout_26.0835_-6.3682.fits'"
   ]
  },
  {
   "cell_type": "code",
   "execution_count": null,
   "metadata": {},
   "outputs": [],
   "source": [
    "image = fits.getdata(cutout)"
   ]
  },
  {
   "cell_type": "markdown",
   "metadata": {},
   "source": [
    "This image contains three bands, displayed below for more detail."
   ]
  },
  {
   "cell_type": "code",
   "execution_count": null,
   "metadata": {},
   "outputs": [],
   "source": [
    "f = plt.figure(figsize=(15, 15))\n",
    "\n",
    "f.add_subplot(1, 3, 1)\n",
    "plt.imshow(image[0, :, :])\n",
    "plt.gca().set_title('g-band', fontsize=20)\n",
    "\n",
    "f.add_subplot(1, 3, 2)\n",
    "plt.imshow(image[1, :, :])\n",
    "plt.gca().set_title('r-band', fontsize=20)\n",
    "\n",
    "f.add_subplot(1, 3, 3)\n",
    "plt.imshow(image[2, :, :])\n",
    "plt.gca().set_title('z-band', fontsize=20)\n",
    "\n",
    "plt.show(block=True)"
   ]
  },
  {
   "cell_type": "markdown",
   "metadata": {},
   "source": [
    "_________________"
   ]
  },
  {
   "cell_type": "markdown",
   "metadata": {},
   "source": [
    "## Applying The Image Transformation Functions"
   ]
  },
  {
   "cell_type": "markdown",
   "metadata": {},
   "source": [
    "#### Greyscale Transform"
   ]
  },
  {
   "cell_type": "markdown",
   "metadata": {},
   "source": [
    "The first transformation done is the greyscale transform. This is required so as to join all three separate bands together and thus minimizes data loss."
   ]
  },
  {
   "cell_type": "code",
   "execution_count": null,
   "metadata": {},
   "outputs": [],
   "source": [
    "one = image[0,:,:] # g-band - blue b\n",
    "two = image[1,:,:] # r-band - green g\n",
    "three = image[2,:,:] # z-band - red r"
   ]
  },
  {
   "cell_type": "code",
   "execution_count": null,
   "metadata": {},
   "outputs": [],
   "source": [
    "rgb_image = np.dstack((three,two,one)) #RGB IMAGE\n",
    "bgr_image = np.dstack((one,two,three)) #BGR IMAGE\n",
    "image_grey = cv2.cvtColor(bgr_image, cv2.COLOR_BGR2GRAY)"
   ]
  },
  {
   "cell_type": "code",
   "execution_count": null,
   "metadata": {},
   "outputs": [],
   "source": [
    "f = plt.figure(figsize=(15, 15))\n",
    "\n",
    "f.add_subplot(1, 3, 1)\n",
    "plt.imshow(rgb_image)\n",
    "plt.gca().set_title('RGB Image', fontsize=20)\n",
    "\n",
    "f.add_subplot(1, 3, 2)\n",
    "plt.imshow(bgr_image)\n",
    "plt.gca().set_title('BGR Image', fontsize=20)\n",
    "\n",
    "f.add_subplot(1, 3, 3)\n",
    "plt.imshow(image_grey)\n",
    "plt.gca().set_title('Greyscale Image', fontsize=20)\n",
    "\n",
    "plt.show(block=True)"
   ]
  },
  {
   "cell_type": "markdown",
   "metadata": {},
   "source": [
    "#### Sigma Clipping"
   ]
  },
  {
   "cell_type": "markdown",
   "metadata": {},
   "source": [
    "Sigma clipping removes background noise as well as compensates for nearby objects. It is needed to remove any interference."
   ]
  },
  {
   "cell_type": "code",
   "execution_count": null,
   "metadata": {},
   "outputs": [],
   "source": [
    "image_sigma_clipped = image_transform_sigma_clipping(image_grey)"
   ]
  },
  {
   "cell_type": "code",
   "execution_count": null,
   "metadata": {},
   "outputs": [],
   "source": [
    "f = plt.figure(figsize=(15, 15))\n",
    "\n",
    "f.add_subplot(1, 2, 1)\n",
    "plt.imshow(image_grey)\n",
    "plt.gca().set_title('Greyscale Image', fontsize=20)\n",
    "\n",
    "f.add_subplot(1, 2, 2)\n",
    "plt.imshow(image_sigma_clipped)\n",
    "plt.gca().set_title('Sigma Clipped Image', fontsize=20)\n",
    "\n",
    "plt.show(block=True)"
   ]
  },
  {
   "cell_type": "markdown",
   "metadata": {},
   "source": [
    "#### Scale Transform"
   ]
  },
  {
   "cell_type": "markdown",
   "metadata": {},
   "source": [
    "This transformation normalises the image so that the array values are between 0 and 1. This is useful for deep learning."
   ]
  },
  {
   "cell_type": "code",
   "execution_count": null,
   "metadata": {},
   "outputs": [],
   "source": [
    "image_transform = image_transform_scale(image_sigma_clipped)"
   ]
  },
  {
   "cell_type": "code",
   "execution_count": null,
   "metadata": {},
   "outputs": [],
   "source": [
    "f = plt.figure(figsize=(15, 15))\n",
    "\n",
    "f.add_subplot(1, 2, 1)\n",
    "plt.imshow(image_sigma_clipped)\n",
    "plt.gca().set_title('Sigma Clipped Image', fontsize=20)\n",
    "\n",
    "f.add_subplot(1, 2, 2)\n",
    "plt.imshow(image_transform)\n",
    "plt.gca().set_title('Scale Transformed Image', fontsize=20)\n",
    "\n",
    "plt.show(block=True)"
   ]
  },
  {
   "cell_type": "code",
   "execution_count": null,
   "metadata": {},
   "outputs": [],
   "source": [
    "image = image_transform"
   ]
  },
  {
   "cell_type": "markdown",
   "metadata": {},
   "source": [
    "_________________________"
   ]
  },
  {
   "cell_type": "code",
   "execution_count": null,
   "metadata": {},
   "outputs": [],
   "source": [
    "percentiles = np.sort(percentiles)[::-1]\n",
    "\n",
    "feats = []\n",
    "threshold = []\n",
    "all_contours = []\n",
    "all_ellipses = []\n",
    "\n",
    "x0 = y0 = -1\n",
    "x_cent = image.shape[0] // 2\n",
    "y_cent = image.shape[1] // 2\n",
    "\n",
    "if np.all(image == 0):\n",
    "    failed = True\n",
    "    failure_message = \"Invalid cutout for feature extraction\"\n",
    "else:\n",
    "    failed = False\n",
    "    failure_message = \"\"\n",
    "\n",
    "for p in percentiles:\n",
    "    if failed:\n",
    "        contours = []\n",
    "    else:\n",
    "        thresh = np.percentile(image[image > 0], p)\n",
    "        contours, hierarchy = find_contours(image, thresh)\n",
    "\n",
    "        x_contours = np.zeros(len(contours))\n",
    "        y_contours = np.zeros(len(contours))\n",
    "\n",
    "    if len(contours) != 0:\n",
    "        for k in range(len(contours)):\n",
    "            M = cv2.moments(contours[k])\n",
    "            try:\n",
    "                x_contours[k] = int(M[\"m10\"] / M[\"m00\"])\n",
    "                y_contours[k] = int(M[\"m01\"] / M[\"m00\"])\n",
    "            except ZeroDivisionError:\n",
    "                pass\n",
    "        if x0 == -1:\n",
    "            x_diff = x_contours - x_cent\n",
    "            y_diff = y_contours - y_cent\n",
    "        else:\n",
    "            x_diff = x_contours - x0\n",
    "            y_diff = y_contours - y0\n",
    "\n",
    "        # Will try to find the CLOSEST contour to the central one\n",
    "        r_diff = np.sqrt(x_diff**2 + y_diff**2)\n",
    "\n",
    "        ind = np.argmin(r_diff)\n",
    "\n",
    "        if x0 == -1:\n",
    "            x0 = x_contours[ind]\n",
    "            y0 = y_contours[ind]\n",
    "\n",
    "        c = contours[ind]\n",
    "        \n",
    "        ############################\n",
    "        \n",
    "        #if len(c) < 5:\n",
    "            \n",
    "        \n",
    "        \n",
    "        \n",
    "        \n",
    "        \n",
    "\n",
    "        params = get_ellipse_leastsq(c, image)\n",
    "        #print('Parameter = ', params)\n",
    "\n",
    "        # Params return in this order:\n",
    "        # residual, x0, y0, maj_axis, min_axis, theta\n",
    "        if np.any(np.isnan(params)):\n",
    "            failed = True\n",
    "        else:\n",
    "            if params[3] == 0 or params[4] == 0:\n",
    "                aspect = 1\n",
    "            else:\n",
    "                aspect = params[4] / params[3]\n",
    "\n",
    "            if aspect < 1:\n",
    "                aspect = 1 / aspect\n",
    "            if aspect > 100:\n",
    "                aspect = 1\n",
    "\n",
    "            new_params = params[:3] + [aspect] + [params[-1]]\n",
    "            feats.append(new_params)\n",
    "\n",
    "        arr = image.copy()\n",
    "\n",
    "        ellipse_arr, param = fit_ellipse(\n",
    "            c, image, return_params=True, filled=False)\n",
    "\n",
    "        all_ellipses.append(ellipse_arr)\n",
    "        all_contours.append(c)\n",
    "\n",
    "    else:\n",
    "        failed = True\n",
    "        failure_message = \"No contour found\"\n",
    "        \n",
    "        \n",
    "        \n",
    "    print(len(contours))\n",
    "    print(len(c))\n",
    "    \n",
    "    print()\n",
    "    "
   ]
  },
  {
   "cell_type": "code",
   "execution_count": null,
   "metadata": {},
   "outputs": [],
   "source": []
  },
  {
   "cell_type": "code",
   "execution_count": null,
   "metadata": {},
   "outputs": [],
   "source": []
  },
  {
   "cell_type": "code",
   "execution_count": null,
   "metadata": {},
   "outputs": [],
   "source": []
  },
  {
   "cell_type": "code",
   "execution_count": null,
   "metadata": {},
   "outputs": [],
   "source": []
  }
 ],
 "metadata": {
  "kernelspec": {
   "display_name": "astronomaly",
   "language": "python",
   "name": "astronomaly"
  },
  "language_info": {
   "codemirror_mode": {
    "name": "ipython",
    "version": 3
   },
   "file_extension": ".py",
   "mimetype": "text/x-python",
   "name": "python",
   "nbconvert_exporter": "python",
   "pygments_lexer": "ipython3",
   "version": "3.8.5"
  }
 },
 "nbformat": 4,
 "nbformat_minor": 4
}
