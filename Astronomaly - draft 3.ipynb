{
 "cells": [
  {
   "cell_type": "markdown",
   "metadata": {},
   "source": [
    "# Astronomaly"
   ]
  },
  {
   "cell_type": "markdown",
   "metadata": {},
   "source": [
    "This notebook is designed to replicate the feature extraction methods of Astronomaly. In addition, the steps are shown individually and explained in order to provide better detail in the processes of Astronomaly. The notebook would thus ideally serve as a troubleshooting method for Astronomaly."
   ]
  },
  {
   "cell_type": "markdown",
   "metadata": {},
   "source": [
    "## Section 1: Using A Sample From Astronomaly"
   ]
  },
  {
   "cell_type": "markdown",
   "metadata": {},
   "source": [
    "This section displays the contours and ellipses found by Astronomaly. The image within this section is taken directly from Astronomaly and the contours and ellipses are shown for this image. The image has already been transformed before it is obtained and as such the separate transformations can not be displayed here."
   ]
  },
  {
   "cell_type": "markdown",
   "metadata": {},
   "source": [
    "__________________________"
   ]
  },
  {
   "cell_type": "code",
   "execution_count": 1,
   "metadata": {},
   "outputs": [],
   "source": [
    "from astronomaly.anomaly_detection import isolation_forest, human_loop_learning\n",
    "from astronomaly.base import logging_tools\n",
    "from astronomaly.base.base_pipeline import PipelineStage\n",
    "from astronomaly.data_management import image_reader\n",
    "from astronomaly.dimensionality_reduction import pca\n",
    "from astronomaly.feature_extraction import power_spectrum, autoencoder, shape_features\n",
    "from astronomaly.feature_extraction.shape_features import find_contours, fit_ellipse, draw_contour\n",
    "from astronomaly.feature_extraction.shape_features import get_ellipse_leastsq, extract_contour\n",
    "from astronomaly.postprocessing import scaling\n",
    "from astronomaly.preprocessing import image_preprocessing\n",
    "from astronomaly.preprocessing.image_preprocessing import image_transform_sigma_clipping, image_transform_scale\n",
    "from astronomaly.visualisation import tsne\n",
    "from astronomaly.utils import utils\n",
    "\n",
    "import os\n",
    "import cv2\n",
    "import pandas as pd\n",
    "import numpy as np\n",
    "import matplotlib.pyplot as plt\n",
    "from astropy.io import fits\n",
    "\n",
    "%matplotlib inline"
   ]
  },
  {
   "cell_type": "markdown",
   "metadata": {},
   "source": [
    "_______________________"
   ]
  },
  {
   "cell_type": "code",
   "execution_count": 2,
   "metadata": {},
   "outputs": [],
   "source": [
    "def image_transform_greyscale(img):\n",
    "    \"\"\"\n",
    "    Simple function that combines the rgb bands into a single image.\n",
    "\n",
    "    Parameters\n",
    "    ----------\n",
    "    img : np.ndarray\n",
    "        Input image\n",
    "\n",
    "    Returns\n",
    "    -------\n",
    "    np.ndarray\n",
    "        Greyscale image\n",
    "\n",
    "    \"\"\"\n",
    "\n",
    "    img = cv2.cvtColor(img, cv2.COLOR_BGR2GRAY)\n",
    "\n",
    "    return img"
   ]
  },
  {
   "cell_type": "markdown",
   "metadata": {},
   "source": [
    "_______________________"
   ]
  },
  {
   "cell_type": "markdown",
   "metadata": {},
   "source": [
    "### Setting up the data"
   ]
  },
  {
   "cell_type": "markdown",
   "metadata": {},
   "source": [
    "#### This subsection contains all of the relevant data and parameters that are to be specified in order for Astronomaly to run. "
   ]
  },
  {
   "cell_type": "markdown",
   "metadata": {},
   "source": [
    "Selecting the data brick to be used:"
   ]
  },
  {
   "cell_type": "code",
   "execution_count": 3,
   "metadata": {},
   "outputs": [],
   "source": [
    "coadd_id = '0260'  # Brick code"
   ]
  },
  {
   "cell_type": "markdown",
   "metadata": {},
   "source": [
    "Some default settings for Astrnomaly to use on optical data"
   ]
  },
  {
   "cell_type": "code",
   "execution_count": 4,
   "metadata": {},
   "outputs": [],
   "source": [
    "list_of_files = []\n",
    "window_size = 32\n",
    "band_prefixes = ['z-', 'r-', 'g-']\n",
    "bands_rgb = {'r': 'z-', 'g': 'r-', 'b': 'g-'}\n",
    "plot_cmap = 'hot'\n",
    "feature_method = 'ellipse'\n",
    "dim_reduction = ''"
   ]
  },
  {
   "cell_type": "markdown",
   "metadata": {},
   "source": [
    "Selecting the transform functions"
   ]
  },
  {
   "cell_type": "code",
   "execution_count": 5,
   "metadata": {},
   "outputs": [],
   "source": [
    "image_transform_function = [ image_transform_greyscale\n",
    "                            # image_preprocessing.image_transform_sigma_clipping,\n",
    "                            # image_preprocessing.image_transform_inverse_sinh,\n",
    "                            # image_preprocessing.image_transform_scale\n",
    "                           ]\n",
    "\n",
    "display_transform_function = [# image_preprocessing.image_transform_inverse_sinh\n",
    "                              image_preprocessing.image_transform_scale\n",
    "                             ]"
   ]
  },
  {
   "cell_type": "markdown",
   "metadata": {},
   "source": [
    "The data directory can be set up to shorten other directories and assists in sorting out the data storage. Due to the large number of bricks involved, it is much simpler to merely change the brick name than the entire directory all the time"
   ]
  },
  {
   "cell_type": "code",
   "execution_count": 6,
   "metadata": {},
   "outputs": [],
   "source": [
    "data_dir = '/home/verlon/Desktop/Astronomaly/Data/Coadd_'+str(coadd_id)+'/'"
   ]
  },
  {
   "cell_type": "code",
   "execution_count": 7,
   "metadata": {},
   "outputs": [],
   "source": [
    "image_dir = os.path.join(data_dir, '0260m062', 'Input', 'Images')\n",
    "output_dir = os.path.join(data_dir, '0260m062', 'Output', '')\n",
    "\n",
    "if not os.path.exists(output_dir):\n",
    "    os.makedirs(output_dir)"
   ]
  },
  {
   "cell_type": "markdown",
   "metadata": {},
   "source": [
    "Selecting the catalogue (as created by the convert_tractor_catalogue function in utils.py)"
   ]
  },
  {
   "cell_type": "code",
   "execution_count": 8,
   "metadata": {},
   "outputs": [],
   "source": [
    "catalogue = pd.read_csv(os.path.join(\n",
    "    data_dir, '0260m062', 'Input', 'test_catalogue_0260m062_500.csv'))"
   ]
  },
  {
   "cell_type": "markdown",
   "metadata": {},
   "source": [
    "________________________________________"
   ]
  },
  {
   "cell_type": "markdown",
   "metadata": {},
   "source": [
    "## Running Astronomaly"
   ]
  },
  {
   "cell_type": "code",
   "execution_count": 9,
   "metadata": {},
   "outputs": [
    {
     "name": "stdout",
     "output_type": "stream",
     "text": [
      "Reading image data from /home/verlon/Desktop/Astronomaly/Data/Coadd_0260/0260m062/Input/Images/z-legacysurvey-0260m062-image.fits.fz...\n"
     ]
    },
    {
     "name": "stderr",
     "output_type": "stream",
     "text": [
      "WARNING: FITSFixedWarning: 'datfix' made the change 'Set DATE-REF to '1858-11-17' from MJD-REF'. [astropy.wcs.wcs]\n",
      "2020-10-19 14:04:49,944 - WARNING - FITSFixedWarning: 'datfix' made the change 'Set DATE-REF to '1858-11-17' from MJD-REF'.\n"
     ]
    },
    {
     "name": "stdout",
     "output_type": "stream",
     "text": [
      "Done!\n",
      "A catalogue of  500 sources has been provided.\n"
     ]
    }
   ],
   "source": [
    "image_dataset = image_reader.ImageDataset(directory=image_dir,\n",
    "                                          list_of_files=list_of_files,\n",
    "                                          window_size=window_size,\n",
    "                                          output_dir=output_dir,\n",
    "                                          plot_square=False,\n",
    "                                          transform_function=image_transform_function,\n",
    "                                          display_transform_function=display_transform_function,\n",
    "                                          plot_cmap=plot_cmap,\n",
    "                                          catalogue=catalogue,\n",
    "                                          band_prefixes=band_prefixes,\n",
    "                                          bands_rgb=bands_rgb)"
   ]
  },
  {
   "cell_type": "markdown",
   "metadata": {},
   "source": [
    "__________________________"
   ]
  },
  {
   "cell_type": "markdown",
   "metadata": {},
   "source": [
    "This is where a sample is selected and it has yet to be transformed. To see the indices applicable, use :  *image_dataset.metadata.index*"
   ]
  },
  {
   "cell_type": "code",
   "execution_count": 10,
   "metadata": {},
   "outputs": [],
   "source": [
    "ind = '567'"
   ]
  },
  {
   "cell_type": "code",
   "execution_count": 11,
   "metadata": {},
   "outputs": [],
   "source": [
    "image_original = image_dataset.get_sample(ind)"
   ]
  },
  {
   "cell_type": "code",
   "execution_count": 12,
   "metadata": {},
   "outputs": [
    {
     "data": {
      "text/plain": [
       "(32, 32)"
      ]
     },
     "execution_count": 12,
     "metadata": {},
     "output_type": "execute_result"
    }
   ],
   "source": [
    "np.shape(image_original)"
   ]
  },
  {
   "cell_type": "markdown",
   "metadata": {},
   "source": [
    "__________"
   ]
  },
  {
   "cell_type": "code",
   "execution_count": 13,
   "metadata": {},
   "outputs": [
    {
     "data": {
      "text/plain": [
       "<matplotlib.image.AxesImage at 0x7fda70273760>"
      ]
     },
     "execution_count": 13,
     "metadata": {},
     "output_type": "execute_result"
    },
    {
     "data": {
      "image/png": "[encoded data removed]",
      "text/plain": [
       "<Figure size 576x576 with 1 Axes>"
      ]
     },
     "metadata": {
      "needs_background": "light"
     },
     "output_type": "display_data"
    }
   ],
   "source": [
    "plt.figure(figsize=(8, 8))\n",
    "plt.title('Original Image', fontsize = 20)\n",
    "plt.imshow(image_original)"
   ]
  },
  {
   "cell_type": "code",
   "execution_count": 14,
   "metadata": {},
   "outputs": [
    {
     "ename": "error",
     "evalue": "OpenCV(4.4.0) /tmp/pip-req-build-6179nsls/opencv/modules/imgproc/src/color.simd_helpers.hpp:92: error: (-2:Unspecified error) in function 'cv::impl::{anonymous}::CvtHelper<VScn, VDcn, VDepth, sizePolicy>::CvtHelper(cv::InputArray, cv::OutputArray, int) [with VScn = cv::impl::{anonymous}::Set<3, 4>; VDcn = cv::impl::{anonymous}::Set<1>; VDepth = cv::impl::{anonymous}::Set<0, 2, 5>; cv::impl::{anonymous}::SizePolicy sizePolicy = cv::impl::<unnamed>::NONE; cv::InputArray = const cv::_InputArray&; cv::OutputArray = const cv::_OutputArray&]'\n> Invalid number of channels in input image:\n>     'VScn::contains(scn)'\n> where\n>     'scn' is 1\n",
     "output_type": "error",
     "traceback": [
      "\u001b[0;31m---------------------------------------------------------------------------\u001b[0m",
      "\u001b[0;31merror\u001b[0m                                     Traceback (most recent call last)",
      "\u001b[0;32m<ipython-input-14-663e6629fa98>\u001b[0m in \u001b[0;36m<module>\u001b[0;34m\u001b[0m\n\u001b[0;32m----> 1\u001b[0;31m \u001b[0mimage_grey\u001b[0m \u001b[0;34m=\u001b[0m \u001b[0mcv2\u001b[0m\u001b[0;34m.\u001b[0m\u001b[0mcvtColor\u001b[0m\u001b[0;34m(\u001b[0m\u001b[0mimage_original\u001b[0m\u001b[0;34m,\u001b[0m \u001b[0mcv2\u001b[0m\u001b[0;34m.\u001b[0m\u001b[0mCOLOR_BGR2GRAY\u001b[0m\u001b[0;34m)\u001b[0m\u001b[0;34m\u001b[0m\u001b[0;34m\u001b[0m\u001b[0m\n\u001b[0m",
      "\u001b[0;31merror\u001b[0m: OpenCV(4.4.0) /tmp/pip-req-build-6179nsls/opencv/modules/imgproc/src/color.simd_helpers.hpp:92: error: (-2:Unspecified error) in function 'cv::impl::{anonymous}::CvtHelper<VScn, VDcn, VDepth, sizePolicy>::CvtHelper(cv::InputArray, cv::OutputArray, int) [with VScn = cv::impl::{anonymous}::Set<3, 4>; VDcn = cv::impl::{anonymous}::Set<1>; VDepth = cv::impl::{anonymous}::Set<0, 2, 5>; cv::impl::{anonymous}::SizePolicy sizePolicy = cv::impl::<unnamed>::NONE; cv::InputArray = const cv::_InputArray&; cv::OutputArray = const cv::_OutputArray&]'\n> Invalid number of channels in input image:\n>     'VScn::contains(scn)'\n> where\n>     'scn' is 1\n"
     ]
    }
   ],
   "source": [
    "image_grey = cv2.cvtColor(image_original, cv2.COLOR_BGR2GRAY)"
   ]
  },
  {
   "cell_type": "code",
   "execution_count": null,
   "metadata": {},
   "outputs": [],
   "source": [
    "plt.figure(figsize=(8, 8))\n",
    "plt.title('Greyscale Image', fontsize = 20)\n",
    "plt.imshow(image_grey)"
   ]
  },
  {
   "cell_type": "code",
   "execution_count": null,
   "metadata": {},
   "outputs": [],
   "source": [
    "image_sigma_clipped = image_transform_sigma_clipping(image_grey)"
   ]
  },
  {
   "cell_type": "code",
   "execution_count": null,
   "metadata": {},
   "outputs": [],
   "source": [
    "plt.figure(figsize=(8, 8))\n",
    "plt.title('Sigma Clipped Image', fontsize = 20)\n",
    "plt.imshow(image_sigma_clipped)"
   ]
  },
  {
   "cell_type": "code",
   "execution_count": null,
   "metadata": {},
   "outputs": [],
   "source": [
    "image_transform = image_transform_scale(image_sigma_clipped)"
   ]
  },
  {
   "cell_type": "code",
   "execution_count": null,
   "metadata": {},
   "outputs": [],
   "source": [
    "plt.figure(figsize=(8, 8))\n",
    "plt.title('Scale Transformed Image', fontsize = 20)\n",
    "plt.imshow(image_transform)"
   ]
  },
  {
   "cell_type": "code",
   "execution_count": null,
   "metadata": {},
   "outputs": [],
   "source": []
  },
  {
   "cell_type": "code",
   "execution_count": null,
   "metadata": {},
   "outputs": [],
   "source": []
  },
  {
   "cell_type": "code",
   "execution_count": null,
   "metadata": {},
   "outputs": [],
   "source": []
  },
  {
   "cell_type": "code",
   "execution_count": null,
   "metadata": {},
   "outputs": [],
   "source": []
  },
  {
   "cell_type": "code",
   "execution_count": null,
   "metadata": {},
   "outputs": [],
   "source": []
  },
  {
   "cell_type": "code",
   "execution_count": null,
   "metadata": {},
   "outputs": [],
   "source": []
  },
  {
   "cell_type": "code",
   "execution_count": null,
   "metadata": {},
   "outputs": [],
   "source": []
  },
  {
   "cell_type": "code",
   "execution_count": null,
   "metadata": {},
   "outputs": [],
   "source": [
    "image = image_original"
   ]
  },
  {
   "cell_type": "code",
   "execution_count": null,
   "metadata": {},
   "outputs": [],
   "source": [
    "scale_percent = 110 # percent of original size\n",
    "width = int(image.shape[1] * scale_percent / 100)\n",
    "height = int(image.shape[0] * scale_percent / 100)\n",
    "dim = (width, height)\n",
    "\n",
    "\n",
    "resized = cv2.resize(image, dim, interpolation = cv2.INTER_AREA)"
   ]
  },
  {
   "cell_type": "code",
   "execution_count": null,
   "metadata": {},
   "outputs": [],
   "source": [
    "plt.figure(figsize=(8, 8))\n",
    "plt.imshow(resized)"
   ]
  },
  {
   "cell_type": "code",
   "execution_count": null,
   "metadata": {},
   "outputs": [],
   "source": [
    "image = image_transform # resized"
   ]
  },
  {
   "cell_type": "markdown",
   "metadata": {},
   "source": [
    "Select the percentiles to be used. These percentiles divide the image into regions based on the image array values. It is these percentiles that determine the location of the contours that are to be drawn."
   ]
  },
  {
   "cell_type": "code",
   "execution_count": null,
   "metadata": {},
   "outputs": [],
   "source": [
    "percentiles = [90, 80, 70, 60, 50, 0]"
   ]
  },
  {
   "cell_type": "markdown",
   "metadata": {},
   "source": [
    "___________________"
   ]
  },
  {
   "cell_type": "markdown",
   "metadata": {},
   "source": [
    "This is the function that reads in the percentiles on the relevant image, obtains the contours and finds the corresponding ellipses to these contours."
   ]
  },
  {
   "cell_type": "code",
   "execution_count": null,
   "metadata": {},
   "outputs": [],
   "source": [
    "percentiles = np.sort(percentiles)[::-1]\n",
    "\n",
    "feats = []\n",
    "threshold = []\n",
    "all_contours = []\n",
    "all_ellipses = []\n",
    "\n",
    "x0 = y0 = -1\n",
    "x_cent = image.shape[0] // 2\n",
    "y_cent = image.shape[1] // 2\n",
    "\n",
    "if np.all(image == 0):\n",
    "    failed = True\n",
    "    failure_message = \"Invalid cutout for feature extraction\"\n",
    "else:\n",
    "    failed = False\n",
    "    failure_message = \"\"\n",
    "\n",
    "for p in percentiles:\n",
    "    if failed:\n",
    "        contours = []\n",
    "    else:\n",
    "        thresh = np.percentile(image[image > 0], p)\n",
    "        contours, hierarchy = find_contours(image, thresh)\n",
    "\n",
    "        x_contours = np.zeros(len(contours))\n",
    "        y_contours = np.zeros(len(contours))\n",
    "\n",
    "    if len(contours) != 0:\n",
    "        for k in range(len(contours)):\n",
    "            M = cv2.moments(contours[k])\n",
    "            try:\n",
    "                x_contours[k] = int(M[\"m10\"] / M[\"m00\"])\n",
    "                y_contours[k] = int(M[\"m01\"] / M[\"m00\"])\n",
    "            except ZeroDivisionError:\n",
    "                pass\n",
    "        if x0 == -1:\n",
    "            x_diff = x_contours - x_cent\n",
    "            y_diff = y_contours - y_cent\n",
    "        else:\n",
    "            x_diff = x_contours - x0\n",
    "            y_diff = y_contours - y0\n",
    "\n",
    "        # Will try to find the CLOSEST contour to the central one\n",
    "        r_diff = np.sqrt(x_diff**2 + y_diff**2)\n",
    "\n",
    "        ind = np.argmin(r_diff)\n",
    "\n",
    "        if x0 == -1:\n",
    "            x0 = x_contours[ind]\n",
    "            y0 = y_contours[ind]\n",
    "\n",
    "        c = contours[ind]\n",
    "\n",
    "        ############################\n",
    "\n",
    "        if len(c) < 5:\n",
    "            scale_percent = 110  # percent of original size\n",
    "            \n",
    "            width = int(image.shape[1] * scale_percent / 100)\n",
    "            height = int(image.shape[0] * scale_percent / 100)\n",
    "            dim = (width, height)\n",
    "            \n",
    "            image = cv2.resize(image, dim, interpolation=cv2.INTER_AREA)\n",
    "\n",
    "            thresh = np.percentile(image[image > 0], p)\n",
    "            contours, hierarchy = find_contours(image, thresh)\n",
    "\n",
    "            x_contours = np.zeros(len(contours))\n",
    "            y_contours = np.zeros(len(contours))\n",
    "\n",
    "            if len(contours) != 0:\n",
    "\n",
    "                for k in range(len(contours)):\n",
    "                    M = cv2.moments(contours[k])\n",
    "                    try:\n",
    "                        x_contours[k] = int(M[\"m10\"] / M[\"m00\"])\n",
    "                        y_contours[k] = int(M[\"m01\"] / M[\"m00\"])\n",
    "                    except ZeroDivisionError:\n",
    "                        pass\n",
    "                if x0 == -1:\n",
    "                    x_diff = x_contours - x_cent\n",
    "                    y_diff = y_contours - y_cent\n",
    "                else:\n",
    "                    x_diff = x_contours - x0\n",
    "                    y_diff = y_contours - y0\n",
    "\n",
    "                # Will try to find the CLOSEST contour to the central one\n",
    "                r_diff = np.sqrt(x_diff**2 + y_diff**2)\n",
    "\n",
    "                ind = np.argmin(r_diff)\n",
    "\n",
    "                if x0 == -1:\n",
    "                    x0 = x_contours[ind]\n",
    "                    y0 = y_contours[ind]\n",
    "\n",
    "                c = contours[ind]\n",
    "                \n",
    "                params = get_ellipse_leastsq(c, image)\n",
    "                \n",
    "                # Params return in this order:\n",
    "                # residual, x0, y0, maj_axis, min_axis, theta\n",
    "                if np.any(np.isnan(params)):\n",
    "                    failed = True\n",
    "                else:\n",
    "                    if params[3] == 0 or params[4] == 0:\n",
    "                        aspect = 1\n",
    "                    else:\n",
    "                        aspect = params[4] / params[3]\n",
    "\n",
    "                    if aspect < 1:\n",
    "                        aspect = 1 / aspect\n",
    "                    if aspect > 100:\n",
    "                        aspect = 1\n",
    "\n",
    "                    new_params = params[:3] + [aspect] + [params[-1]]\n",
    "                    feats.append(new_params)\n",
    "                    \n",
    "            else:\n",
    "                failed = True\n",
    "                failure_message = \"No contour found\"\n",
    "\n",
    "            if failed:\n",
    "                feats.append([np.nan] * 5)\n",
    "                logging_tools.log(failure_message)\n",
    "                \n",
    "        else:\n",
    "            params = get_ellipse_leastsq(c, image)\n",
    "\n",
    "            # Params return in this order:\n",
    "            # residual, x0, y0, maj_axis, min_axis, theta\n",
    "            if np.any(np.isnan(params)):\n",
    "                failed = True\n",
    "            else:\n",
    "                if params[3] == 0 or params[4] == 0:\n",
    "                    aspect = 1\n",
    "                else:\n",
    "                    aspect = params[4] / params[3]\n",
    "\n",
    "                if aspect < 1:\n",
    "                    aspect = 1 / aspect\n",
    "                if aspect > 100:\n",
    "                    aspect = 1\n",
    "\n",
    "                new_params = params[:3] + [aspect] + [params[-1]]\n",
    "                feats.append(new_params)\n",
    "\n",
    "\n",
    "    else:\n",
    "        failed = True\n",
    "        failure_message = \"No contour found\"\n",
    "\n",
    "    if failed:\n",
    "        feats.append([np.nan] * 5)\n",
    "        logging_tools.log(failure_message)\n",
    "         ############################\n",
    "\n",
    "#        params = get_ellipse_leastsq(c, image)\n",
    "#        #print('Parameter = ', params)\n",
    "\n",
    "        # Params return in this order:\n",
    "        # residual, x0, y0, maj_axis, min_axis, theta\n",
    "#        if np.any(np.isnan(params)):\n",
    "#            failed = True\n",
    "#        else:\n",
    "#            if params[3] == 0 or params[4] == 0:\n",
    "#                aspect = 1\n",
    "#            else:\n",
    "#                aspect = params[4] / params[3]\n",
    "\n",
    "#            if aspect < 1:\n",
    "#                aspect = 1 / aspect\n",
    "#            if aspect > 100:\n",
    "#                aspect = 1\n",
    "\n",
    "#            new_params = params[:3] + [aspect] + [params[-1]]\n",
    "#            feats.append(new_params)\n",
    "\n",
    "        arr = image.copy()\n",
    "\n",
    "        ellipse_arr, param = fit_ellipse(\n",
    "            c, image, return_params=True, filled=False)\n",
    "\n",
    "        all_ellipses.append(ellipse_arr)\n",
    "        all_contours.append(c)\n",
    "\n",
    "\n",
    "    print(len(c))\n",
    "    print(len(contours))\n",
    "    print(feats)\n",
    "    print()"
   ]
  },
  {
   "cell_type": "code",
   "execution_count": null,
   "metadata": {},
   "outputs": [],
   "source": [
    "np.shape(image)"
   ]
  },
  {
   "cell_type": "code",
   "execution_count": null,
   "metadata": {},
   "outputs": [],
   "source": []
  },
  {
   "cell_type": "code",
   "execution_count": null,
   "metadata": {},
   "outputs": [],
   "source": []
  },
  {
   "cell_type": "markdown",
   "metadata": {},
   "source": [
    "___________________________"
   ]
  },
  {
   "cell_type": "markdown",
   "metadata": {},
   "source": [
    "This is used to see what the contours and ellipses look like for the given image."
   ]
  },
  {
   "cell_type": "code",
   "execution_count": null,
   "metadata": {
    "scrolled": false
   },
   "outputs": [],
   "source": [
    "%matplotlib inline\n",
    "\n",
    "for i in range(len(all_contours)):\n",
    "    drawn = draw_contour(all_contours[i], image)\n",
    "\n",
    "    f = plt.figure(figsize=(15, 15))\n",
    "\n",
    "    f.add_subplot(1, 2, 1)\n",
    "    plt.imshow(drawn)\n",
    "    plt.gca().set_title('Contour - ' +\n",
    "                        str(percentiles[i]) + 'th percentile', fontsize=20)\n",
    "\n",
    "    f.add_subplot(1, 2, 2)\n",
    "    plt.imshow(all_ellipses[i])\n",
    "    plt.gca().set_title('Ellipse - ' +\n",
    "                        str(percentiles[i]) + 'th percentile', fontsize=20)\n",
    "\n",
    "    plt.show(block=True)\n",
    "    print(np.shape(image))"
   ]
  },
  {
   "cell_type": "markdown",
   "metadata": {},
   "source": [
    "_______________"
   ]
  },
  {
   "cell_type": "markdown",
   "metadata": {},
   "source": [
    "## Section 2: Using A Cutout From The Legacy Skyviewer."
   ]
  },
  {
   "cell_type": "markdown",
   "metadata": {},
   "source": [
    "This section applies the same procedure as Astronomaly on a cutout from the Legacy Skyviewer. The image transformation process can thus be displayed step by step. This assists in troubleshooting if needed."
   ]
  },
  {
   "cell_type": "markdown",
   "metadata": {},
   "source": [
    "________________"
   ]
  },
  {
   "cell_type": "code",
   "execution_count": null,
   "metadata": {},
   "outputs": [],
   "source": [
    "cutout = '/home/verlon/Desktop/Astronomaly/Data/Coadd_0260/0260m062/Input/Failed Images/cutout_26.0835_-6.3682.fits'"
   ]
  },
  {
   "cell_type": "code",
   "execution_count": null,
   "metadata": {},
   "outputs": [],
   "source": [
    "image = fits.getdata(cutout)"
   ]
  },
  {
   "cell_type": "markdown",
   "metadata": {},
   "source": [
    "This image contains three bands, displayed below for more detail."
   ]
  },
  {
   "cell_type": "code",
   "execution_count": null,
   "metadata": {},
   "outputs": [],
   "source": [
    "f = plt.figure(figsize=(15, 15))\n",
    "\n",
    "f.add_subplot(1, 3, 1)\n",
    "plt.imshow(image[0, :, :])\n",
    "plt.gca().set_title('g-band', fontsize=20)\n",
    "\n",
    "f.add_subplot(1, 3, 2)\n",
    "plt.imshow(image[1, :, :])\n",
    "plt.gca().set_title('r-band', fontsize=20)\n",
    "\n",
    "f.add_subplot(1, 3, 3)\n",
    "plt.imshow(image[2, :, :])\n",
    "plt.gca().set_title('z-band', fontsize=20)\n",
    "\n",
    "plt.show(block=True)"
   ]
  },
  {
   "cell_type": "markdown",
   "metadata": {},
   "source": [
    "_________________"
   ]
  },
  {
   "cell_type": "markdown",
   "metadata": {},
   "source": [
    "## Applying The Image Transformation Functions"
   ]
  },
  {
   "cell_type": "markdown",
   "metadata": {},
   "source": [
    "#### Greyscale Transform"
   ]
  },
  {
   "cell_type": "markdown",
   "metadata": {},
   "source": [
    "The first transformation done is the greyscale transform. This is required so as to join all three separate bands together and thus minimizes data loss."
   ]
  },
  {
   "cell_type": "code",
   "execution_count": null,
   "metadata": {},
   "outputs": [],
   "source": [
    "one = image[0,:,:] # g-band - blue b\n",
    "two = image[1,:,:] # r-band - green g\n",
    "three = image[2,:,:] # z-band - red r"
   ]
  },
  {
   "cell_type": "code",
   "execution_count": null,
   "metadata": {},
   "outputs": [],
   "source": [
    "rgb_image = np.dstack((three,two,one)) #RGB IMAGE\n",
    "bgr_image = np.dstack((one,two,three)) #BGR IMAGE\n",
    "image_grey = cv2.cvtColor(bgr_image, cv2.COLOR_BGR2GRAY)"
   ]
  },
  {
   "cell_type": "code",
   "execution_count": null,
   "metadata": {},
   "outputs": [],
   "source": [
    "f = plt.figure(figsize=(15, 15))\n",
    "\n",
    "f.add_subplot(1, 3, 1)\n",
    "plt.imshow(rgb_image)\n",
    "plt.gca().set_title('RGB Image', fontsize=20)\n",
    "\n",
    "f.add_subplot(1, 3, 2)\n",
    "plt.imshow(bgr_image)\n",
    "plt.gca().set_title('BGR Image', fontsize=20)\n",
    "\n",
    "f.add_subplot(1, 3, 3)\n",
    "plt.imshow(image_grey)\n",
    "plt.gca().set_title('Greyscale Image', fontsize=20)\n",
    "\n",
    "plt.show(block=True)"
   ]
  },
  {
   "cell_type": "markdown",
   "metadata": {},
   "source": [
    "#### Sigma Clipping"
   ]
  },
  {
   "cell_type": "markdown",
   "metadata": {},
   "source": [
    "Sigma clipping removes background noise as well as compensates for nearby objects. It is needed to remove any interference."
   ]
  },
  {
   "cell_type": "code",
   "execution_count": null,
   "metadata": {},
   "outputs": [],
   "source": [
    "image_sigma_clipped = image_transform_sigma_clipping(image_grey)"
   ]
  },
  {
   "cell_type": "code",
   "execution_count": null,
   "metadata": {},
   "outputs": [],
   "source": [
    "f = plt.figure(figsize=(15, 15))\n",
    "\n",
    "f.add_subplot(1, 2, 1)\n",
    "plt.imshow(image_grey)\n",
    "plt.gca().set_title('Greyscale Image', fontsize=20)\n",
    "\n",
    "f.add_subplot(1, 2, 2)\n",
    "plt.imshow(image_sigma_clipped)\n",
    "plt.gca().set_title('Sigma Clipped Image', fontsize=20)\n",
    "\n",
    "plt.show(block=True)"
   ]
  },
  {
   "cell_type": "markdown",
   "metadata": {},
   "source": [
    "#### Scale Transform"
   ]
  },
  {
   "cell_type": "markdown",
   "metadata": {},
   "source": [
    "This transformation normalises the image so that the array values are between 0 and 1. This is useful for deep learning."
   ]
  },
  {
   "cell_type": "code",
   "execution_count": null,
   "metadata": {},
   "outputs": [],
   "source": [
    "image_transform = image_transform_scale(image_sigma_clipped)"
   ]
  },
  {
   "cell_type": "code",
   "execution_count": null,
   "metadata": {},
   "outputs": [],
   "source": [
    "f = plt.figure(figsize=(15, 15))\n",
    "\n",
    "f.add_subplot(1, 2, 1)\n",
    "plt.imshow(image_sigma_clipped)\n",
    "plt.gca().set_title('Sigma Clipped Image', fontsize=20)\n",
    "\n",
    "f.add_subplot(1, 2, 2)\n",
    "plt.imshow(image_transform)\n",
    "plt.gca().set_title('Scale Transformed Image', fontsize=20)\n",
    "\n",
    "plt.show(block=True)"
   ]
  },
  {
   "cell_type": "code",
   "execution_count": null,
   "metadata": {},
   "outputs": [],
   "source": [
    "image = image_transform"
   ]
  },
  {
   "cell_type": "markdown",
   "metadata": {},
   "source": [
    "_________________________"
   ]
  },
  {
   "cell_type": "code",
   "execution_count": null,
   "metadata": {},
   "outputs": [],
   "source": [
    "percentiles = np.sort(percentiles)[::-1]\n",
    "\n",
    "feats = []\n",
    "threshold = []\n",
    "all_contours = []\n",
    "all_ellipses = []\n",
    "\n",
    "x0 = y0 = -1\n",
    "x_cent = image.shape[0] // 2\n",
    "y_cent = image.shape[1] // 2\n",
    "\n",
    "if np.all(image == 0):\n",
    "    failed = True\n",
    "    failure_message = \"Invalid cutout for feature extraction\"\n",
    "else:\n",
    "    failed = False\n",
    "    failure_message = \"\"\n",
    "\n",
    "for p in percentiles:\n",
    "    if failed:\n",
    "        contours = []\n",
    "    else:\n",
    "        thresh = np.percentile(image[image > 0], p)\n",
    "        contours, hierarchy = find_contours(image, thresh)\n",
    "\n",
    "        x_contours = np.zeros(len(contours))\n",
    "        y_contours = np.zeros(len(contours))\n",
    "\n",
    "    if len(contours) != 0:\n",
    "        for k in range(len(contours)):\n",
    "            M = cv2.moments(contours[k])\n",
    "            try:\n",
    "                x_contours[k] = int(M[\"m10\"] / M[\"m00\"])\n",
    "                y_contours[k] = int(M[\"m01\"] / M[\"m00\"])\n",
    "            except ZeroDivisionError:\n",
    "                pass\n",
    "        if x0 == -1:\n",
    "            x_diff = x_contours - x_cent\n",
    "            y_diff = y_contours - y_cent\n",
    "        else:\n",
    "            x_diff = x_contours - x0\n",
    "            y_diff = y_contours - y0\n",
    "\n",
    "        # Will try to find the CLOSEST contour to the central one\n",
    "        r_diff = np.sqrt(x_diff**2 + y_diff**2)\n",
    "\n",
    "        ind = np.argmin(r_diff)\n",
    "\n",
    "        if x0 == -1:\n",
    "            x0 = x_contours[ind]\n",
    "            y0 = y_contours[ind]\n",
    "\n",
    "        c = contours[ind]\n",
    "        \n",
    "        ############################\n",
    "        \n",
    "        #if len(c) < 5:\n",
    "            \n",
    "        \n",
    "        \n",
    "        \n",
    "        \n",
    "        \n",
    "\n",
    "        params = get_ellipse_leastsq(c, image)\n",
    "        #print('Parameter = ', params)\n",
    "\n",
    "        # Params return in this order:\n",
    "        # residual, x0, y0, maj_axis, min_axis, theta\n",
    "        if np.any(np.isnan(params)):\n",
    "            failed = True\n",
    "        else:\n",
    "            if params[3] == 0 or params[4] == 0:\n",
    "                aspect = 1\n",
    "            else:\n",
    "                aspect = params[4] / params[3]\n",
    "\n",
    "            if aspect < 1:\n",
    "                aspect = 1 / aspect\n",
    "            if aspect > 100:\n",
    "                aspect = 1\n",
    "\n",
    "            new_params = params[:3] + [aspect] + [params[-1]]\n",
    "            feats.append(new_params)\n",
    "\n",
    "        arr = image.copy()\n",
    "\n",
    "        ellipse_arr, param = fit_ellipse(\n",
    "            c, image, return_params=True, filled=False)\n",
    "\n",
    "        all_ellipses.append(ellipse_arr)\n",
    "        all_contours.append(c)\n",
    "\n",
    "    else:\n",
    "        failed = True\n",
    "        failure_message = \"No contour found\"\n",
    "        \n",
    "        \n",
    "        \n",
    "    print(len(contours))\n",
    "    print(len(c))\n",
    "    \n",
    "    print()\n",
    "    "
   ]
  },
  {
   "cell_type": "code",
   "execution_count": null,
   "metadata": {},
   "outputs": [],
   "source": []
  },
  {
   "cell_type": "code",
   "execution_count": null,
   "metadata": {},
   "outputs": [],
   "source": []
  },
  {
   "cell_type": "code",
   "execution_count": null,
   "metadata": {},
   "outputs": [],
   "source": []
  },
  {
   "cell_type": "code",
   "execution_count": null,
   "metadata": {},
   "outputs": [],
   "source": []
  }
 ],
 "metadata": {
  "kernelspec": {
   "display_name": "astronomaly",
   "language": "python",
   "name": "astronomaly"
  },
  "language_info": {
   "codemirror_mode": {
    "name": "ipython",
    "version": 3
   },
   "file_extension": ".py",
   "mimetype": "text/x-python",
   "name": "python",
   "nbconvert_exporter": "python",
   "pygments_lexer": "ipython3",
   "version": "3.8.5"
  }
 },
 "nbformat": 4,
 "nbformat_minor": 4
}
