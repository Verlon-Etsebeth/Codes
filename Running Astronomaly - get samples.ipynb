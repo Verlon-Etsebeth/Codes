{
 "cells": [
  {
   "cell_type": "code",
   "execution_count": 23,
   "metadata": {},
   "outputs": [],
   "source": [
    "import os\n",
    "import pandas as pd\n",
    "import numpy as np\n",
    "import matplotlib.pyplot as plt"
   ]
  },
  {
   "cell_type": "code",
   "execution_count": 24,
   "metadata": {},
   "outputs": [],
   "source": [
    "from astronomaly.data_management.image_reader import AstroImage\n",
    "from astronomaly.data_management import image_reader\n",
    "from astronomaly.data_management.image_reader import ImageDataset\n",
    "from astronomaly.preprocessing import image_preprocessing\n",
    "from astronomaly.feature_extraction import shape_features\n",
    "from astronomaly.postprocessing import scaling\n",
    "from astronomaly.anomaly_detection import isolation_forest, human_loop_learning\n",
    "from astronomaly.visualisation import tsne"
   ]
  },
  {
   "cell_type": "code",
   "execution_count": 25,
   "metadata": {},
   "outputs": [],
   "source": [
    "def apply_transform(cutout, transform_function):\n",
    "    \"\"\"\n",
    "    Applies the transform function(s) given at initialisation to the image.\n",
    "\n",
    "    Parameters\n",
    "    ----------\n",
    "    cutout : np.ndarray\n",
    "        Cutout of image\n",
    "\n",
    "    Returns\n",
    "    -------\n",
    "    np.ndarray\n",
    "        Transformed cutout\n",
    "    \"\"\"\n",
    "    if transform_function is not None:\n",
    "        try:\n",
    "            len(transform_function)\n",
    "            new_cutout = cutout\n",
    "            for f in transform_function:\n",
    "                new_cutout = f(new_cutout)\n",
    "            cutout = new_cutout\n",
    "        except TypeError:  # Simple way to test if there's only one function\n",
    "            cutout = transform_function(cutout)\n",
    "    return cutout"
   ]
  },
  {
   "cell_type": "markdown",
   "metadata": {},
   "source": [
    "_____"
   ]
  },
  {
   "cell_type": "markdown",
   "metadata": {},
   "source": [
    "### Basic setting for DECaLS data"
   ]
  },
  {
   "cell_type": "code",
   "execution_count": 26,
   "metadata": {},
   "outputs": [],
   "source": [
    "which_data = 'decals'\n",
    "\n",
    "coadd_id = '026'\n",
    "\n",
    "feature_method = 'ellipse'\n",
    "\n",
    "dim_reduction = ''\n",
    "\n",
    "band_prefixes = ['z-', 'r-', 'g-']\n",
    "\n",
    "band_rgb = {'r': 'z-', 'g': 'r-', 'b': 'g-'}\n",
    "\n",
    "image_transform_function = [image_preprocessing.image_transform_sigma_clipping,\n",
    "                            # image_preprocessing.image_transform_inverse_sinh,\n",
    "                            image_preprocessing.image_transform_scale\n",
    "                            ]\n",
    "\n",
    "display_transform_function = [#image_preprocessing.image_transform_inverse_sinh,\n",
    "                              image_preprocessing.image_transform_scale]\n",
    "\n",
    "plot_cmap = 'hot'\n",
    "window_size = 32\n",
    "list_of_files = []"
   ]
  },
  {
   "cell_type": "markdown",
   "metadata": {},
   "source": [
    "### Reading in the catalogue"
   ]
  },
  {
   "cell_type": "code",
   "execution_count": 27,
   "metadata": {},
   "outputs": [],
   "source": [
    "data_dir = '/home/verlon/Desktop/Astronomaly/Data/Input/Coadd_0260/0260m062/'\n",
    "#data_dir = '/home/verlon/Desktop/Astronomaly/Data/Input/0267 Brick/'\n",
    "\n",
    "image_dir = os.path.join(data_dir, 'Images')\n",
    "\n",
    "output_dir = os.path.join(\n",
    "    '/home/verlon/Desktop/Astronomaly/Data/Output/Coadd026','')\n",
    "\n",
    "#output_dir = os.path.join(\n",
    "#    '/home/verlon/Desktop/Astronomaly/Data/Output/0267 Brick', '')\n",
    "\n",
    "\n",
    "#catalogue = pd.read_csv('/home/verlon/Desktop/Astronomaly/Data/test_catalogue.csv')\n",
    "catalogue = pd.read_csv('/home/verlon/Desktop/Astronomaly/Data/Input/Coadd_0260/0260m062/test_catalogue_0260m062_500.csv')\n",
    "#catalogue = pd.read_csv('/home/verlon/Desktop/Astronomaly/Data/Input/0267 Brick/Catalogue/large_catalogue.csv')"
   ]
  },
  {
   "cell_type": "markdown",
   "metadata": {},
   "source": [
    "### Running Astronomaly"
   ]
  },
  {
   "cell_type": "code",
   "execution_count": 28,
   "metadata": {},
   "outputs": [
    {
     "name": "stdout",
     "output_type": "stream",
     "text": [
      "Reading image data from /home/verlon/Desktop/Astronomaly/Data/Input/Coadd_0260/0260m062/Images/z-legacysurvey-0260m062-image.fits.fz...\n"
     ]
    },
    {
     "name": "stderr",
     "output_type": "stream",
     "text": [
      "WARNING: FITSFixedWarning: 'datfix' made the change 'Set DATE-REF to '1858-11-17' from MJD-REF'. [astropy.wcs.wcs]\n",
      "2020-10-05 15:53:23,280 - WARNING - FITSFixedWarning: 'datfix' made the change 'Set DATE-REF to '1858-11-17' from MJD-REF'.\n"
     ]
    },
    {
     "name": "stdout",
     "output_type": "stream",
     "text": [
      "Done!\n",
      "A catalogue of  500 sources has been provided.\n"
     ]
    }
   ],
   "source": [
    "image_dataset = image_reader.ImageDataset(directory=image_dir,\n",
    "                                          list_of_files=list_of_files,\n",
    "                                          window_size=window_size, \n",
    "                                          output_dir=output_dir, \n",
    "                                          plot_square=False,\n",
    "                                          transform_function=image_transform_function,\n",
    "                                          display_transform_function=display_transform_function,\n",
    "                                          plot_cmap=plot_cmap,\n",
    "                                          catalogue=catalogue,\n",
    "                                          band_prefixes=band_prefixes,\n",
    "                                          bands_rgb=band_rgb)"
   ]
  },
  {
   "cell_type": "markdown",
   "metadata": {},
   "source": [
    "### After adding 'peak_flux' column (copying flux_g column)"
   ]
  },
  {
   "cell_type": "code",
   "execution_count": 29,
   "metadata": {},
   "outputs": [
    {
     "data": {
      "text/html": [
       "<div>\n",
       "<style scoped>\n",
       "    .dataframe tbody tr th:only-of-type {\n",
       "        vertical-align: middle;\n",
       "    }\n",
       "\n",
       "    .dataframe tbody tr th {\n",
       "        vertical-align: top;\n",
       "    }\n",
       "\n",
       "    .dataframe thead th {\n",
       "        text-align: right;\n",
       "    }\n",
       "</style>\n",
       "<table border=\"1\" class=\"dataframe\">\n",
       "  <thead>\n",
       "    <tr style=\"text-align: right;\">\n",
       "      <th></th>\n",
       "      <th>Unnamed: 0</th>\n",
       "      <th>objid</th>\n",
       "      <th>original_image</th>\n",
       "      <th>flux_g</th>\n",
       "      <th>flux_r</th>\n",
       "      <th>flux_z</th>\n",
       "      <th>x</th>\n",
       "      <th>y</th>\n",
       "      <th>ra</th>\n",
       "      <th>dec</th>\n",
       "      <th>type</th>\n",
       "      <th>peak_flux</th>\n",
       "    </tr>\n",
       "  </thead>\n",
       "  <tbody>\n",
       "    <tr>\n",
       "      <th>0</th>\n",
       "      <td>594</td>\n",
       "      <td>594</td>\n",
       "      <td>legacysurvey-0260m062-image.fits.fz</td>\n",
       "      <td>317.535095</td>\n",
       "      <td>720.682556</td>\n",
       "      <td>1307.191528</td>\n",
       "      <td>337</td>\n",
       "      <td>369</td>\n",
       "      <td>26.126581</td>\n",
       "      <td>-6.354089</td>\n",
       "      <td>DEV</td>\n",
       "      <td>NaN</td>\n",
       "    </tr>\n",
       "    <tr>\n",
       "      <th>1</th>\n",
       "      <td>6095</td>\n",
       "      <td>6095</td>\n",
       "      <td>legacysurvey-0260m062-image.fits.fz</td>\n",
       "      <td>168.212524</td>\n",
       "      <td>284.601593</td>\n",
       "      <td>412.424927</td>\n",
       "      <td>994</td>\n",
       "      <td>2486</td>\n",
       "      <td>26.078486</td>\n",
       "      <td>-6.199997</td>\n",
       "      <td>EXP</td>\n",
       "      <td>NaN</td>\n",
       "    </tr>\n",
       "    <tr>\n",
       "      <th>2</th>\n",
       "      <td>2709</td>\n",
       "      <td>2709</td>\n",
       "      <td>legacysurvey-0260m062-image.fits.fz</td>\n",
       "      <td>51.362320</td>\n",
       "      <td>146.547363</td>\n",
       "      <td>276.822815</td>\n",
       "      <td>3216</td>\n",
       "      <td>1209</td>\n",
       "      <td>25.915781</td>\n",
       "      <td>-6.292911</td>\n",
       "      <td>DEV</td>\n",
       "      <td>NaN</td>\n",
       "    </tr>\n",
       "    <tr>\n",
       "      <th>3</th>\n",
       "      <td>5667</td>\n",
       "      <td>5667</td>\n",
       "      <td>legacysurvey-0260m062-image.fits.fz</td>\n",
       "      <td>71.172943</td>\n",
       "      <td>143.411240</td>\n",
       "      <td>247.036163</td>\n",
       "      <td>1088</td>\n",
       "      <td>2359</td>\n",
       "      <td>26.071583</td>\n",
       "      <td>-6.209265</td>\n",
       "      <td>EXP</td>\n",
       "      <td>NaN</td>\n",
       "    </tr>\n",
       "    <tr>\n",
       "      <th>4</th>\n",
       "      <td>2471</td>\n",
       "      <td>2471</td>\n",
       "      <td>legacysurvey-0260m062-image.fits.fz</td>\n",
       "      <td>43.115738</td>\n",
       "      <td>121.118385</td>\n",
       "      <td>238.656158</td>\n",
       "      <td>2859</td>\n",
       "      <td>1137</td>\n",
       "      <td>25.941948</td>\n",
       "      <td>-6.298205</td>\n",
       "      <td>DEV</td>\n",
       "      <td>NaN</td>\n",
       "    </tr>\n",
       "    <tr>\n",
       "      <th>...</th>\n",
       "      <td>...</td>\n",
       "      <td>...</td>\n",
       "      <td>...</td>\n",
       "      <td>...</td>\n",
       "      <td>...</td>\n",
       "      <td>...</td>\n",
       "      <td>...</td>\n",
       "      <td>...</td>\n",
       "      <td>...</td>\n",
       "      <td>...</td>\n",
       "      <td>...</td>\n",
       "      <td>...</td>\n",
       "    </tr>\n",
       "    <tr>\n",
       "      <th>495</th>\n",
       "      <td>6345</td>\n",
       "      <td>6345</td>\n",
       "      <td>legacysurvey-0260m062-image.fits.fz</td>\n",
       "      <td>0.981929</td>\n",
       "      <td>2.535009</td>\n",
       "      <td>4.758138</td>\n",
       "      <td>292</td>\n",
       "      <td>2585</td>\n",
       "      <td>26.129869</td>\n",
       "      <td>-6.192759</td>\n",
       "      <td>REX</td>\n",
       "      <td>NaN</td>\n",
       "    </tr>\n",
       "    <tr>\n",
       "      <th>496</th>\n",
       "      <td>4612</td>\n",
       "      <td>4612</td>\n",
       "      <td>legacysurvey-0260m062-image.fits.fz</td>\n",
       "      <td>1.468138</td>\n",
       "      <td>3.162834</td>\n",
       "      <td>4.752346</td>\n",
       "      <td>3450</td>\n",
       "      <td>1864</td>\n",
       "      <td>25.898683</td>\n",
       "      <td>-6.245235</td>\n",
       "      <td>EXP</td>\n",
       "      <td>NaN</td>\n",
       "    </tr>\n",
       "    <tr>\n",
       "      <th>497</th>\n",
       "      <td>2445</td>\n",
       "      <td>2445</td>\n",
       "      <td>legacysurvey-0260m062-image.fits.fz</td>\n",
       "      <td>0.865858</td>\n",
       "      <td>2.835724</td>\n",
       "      <td>4.745888</td>\n",
       "      <td>1230</td>\n",
       "      <td>1161</td>\n",
       "      <td>26.061230</td>\n",
       "      <td>-6.296397</td>\n",
       "      <td>DEV</td>\n",
       "      <td>NaN</td>\n",
       "    </tr>\n",
       "    <tr>\n",
       "      <th>498</th>\n",
       "      <td>3190</td>\n",
       "      <td>3190</td>\n",
       "      <td>legacysurvey-0260m062-image.fits.fz</td>\n",
       "      <td>0.940797</td>\n",
       "      <td>2.619087</td>\n",
       "      <td>4.742189</td>\n",
       "      <td>2916</td>\n",
       "      <td>1365</td>\n",
       "      <td>25.937799</td>\n",
       "      <td>-6.281606</td>\n",
       "      <td>EXP</td>\n",
       "      <td>NaN</td>\n",
       "    </tr>\n",
       "    <tr>\n",
       "      <th>499</th>\n",
       "      <td>8031</td>\n",
       "      <td>8031</td>\n",
       "      <td>legacysurvey-0260m062-image.fits.fz</td>\n",
       "      <td>0.053244</td>\n",
       "      <td>0.661450</td>\n",
       "      <td>4.741834</td>\n",
       "      <td>35</td>\n",
       "      <td>3352</td>\n",
       "      <td>26.148690</td>\n",
       "      <td>-6.136935</td>\n",
       "      <td>REX</td>\n",
       "      <td>NaN</td>\n",
       "    </tr>\n",
       "  </tbody>\n",
       "</table>\n",
       "<p>500 rows × 12 columns</p>\n",
       "</div>"
      ],
      "text/plain": [
       "     Unnamed: 0  objid                       original_image      flux_g  \\\n",
       "0           594    594  legacysurvey-0260m062-image.fits.fz  317.535095   \n",
       "1          6095   6095  legacysurvey-0260m062-image.fits.fz  168.212524   \n",
       "2          2709   2709  legacysurvey-0260m062-image.fits.fz   51.362320   \n",
       "3          5667   5667  legacysurvey-0260m062-image.fits.fz   71.172943   \n",
       "4          2471   2471  legacysurvey-0260m062-image.fits.fz   43.115738   \n",
       "..          ...    ...                                  ...         ...   \n",
       "495        6345   6345  legacysurvey-0260m062-image.fits.fz    0.981929   \n",
       "496        4612   4612  legacysurvey-0260m062-image.fits.fz    1.468138   \n",
       "497        2445   2445  legacysurvey-0260m062-image.fits.fz    0.865858   \n",
       "498        3190   3190  legacysurvey-0260m062-image.fits.fz    0.940797   \n",
       "499        8031   8031  legacysurvey-0260m062-image.fits.fz    0.053244   \n",
       "\n",
       "         flux_r       flux_z     x     y         ra       dec  type  peak_flux  \n",
       "0    720.682556  1307.191528   337   369  26.126581 -6.354089  DEV         NaN  \n",
       "1    284.601593   412.424927   994  2486  26.078486 -6.199997  EXP         NaN  \n",
       "2    146.547363   276.822815  3216  1209  25.915781 -6.292911  DEV         NaN  \n",
       "3    143.411240   247.036163  1088  2359  26.071583 -6.209265  EXP         NaN  \n",
       "4    121.118385   238.656158  2859  1137  25.941948 -6.298205  DEV         NaN  \n",
       "..          ...          ...   ...   ...        ...       ...   ...        ...  \n",
       "495    2.535009     4.758138   292  2585  26.129869 -6.192759  REX         NaN  \n",
       "496    3.162834     4.752346  3450  1864  25.898683 -6.245235  EXP         NaN  \n",
       "497    2.835724     4.745888  1230  1161  26.061230 -6.296397  DEV         NaN  \n",
       "498    2.619087     4.742189  2916  1365  25.937799 -6.281606  EXP         NaN  \n",
       "499    0.661450     4.741834    35  3352  26.148690 -6.136935  REX         NaN  \n",
       "\n",
       "[500 rows x 12 columns]"
      ]
     },
     "execution_count": 29,
     "metadata": {},
     "output_type": "execute_result"
    }
   ],
   "source": [
    "image_dataset.catalogue"
   ]
  },
  {
   "cell_type": "code",
   "execution_count": 30,
   "metadata": {},
   "outputs": [],
   "source": [
    "image_dataset.metadata.peak_flux = image_dataset.catalogue.flux_g"
   ]
  },
  {
   "cell_type": "code",
   "execution_count": 31,
   "metadata": {
    "scrolled": true
   },
   "outputs": [
    {
     "data": {
      "text/html": [
       "<div>\n",
       "<style scoped>\n",
       "    .dataframe tbody tr th:only-of-type {\n",
       "        vertical-align: middle;\n",
       "    }\n",
       "\n",
       "    .dataframe tbody tr th {\n",
       "        vertical-align: top;\n",
       "    }\n",
       "\n",
       "    .dataframe thead th {\n",
       "        text-align: right;\n",
       "    }\n",
       "</style>\n",
       "<table border=\"1\" class=\"dataframe\">\n",
       "  <thead>\n",
       "    <tr style=\"text-align: right;\">\n",
       "      <th></th>\n",
       "      <th>original_image</th>\n",
       "      <th>x</th>\n",
       "      <th>y</th>\n",
       "      <th>ra</th>\n",
       "      <th>dec</th>\n",
       "      <th>peak_flux</th>\n",
       "    </tr>\n",
       "  </thead>\n",
       "  <tbody>\n",
       "    <tr>\n",
       "      <th>594</th>\n",
       "      <td>legacysurvey-0260m062-image.fits.fz</td>\n",
       "      <td>337</td>\n",
       "      <td>369</td>\n",
       "      <td>26.126581</td>\n",
       "      <td>-6.354089</td>\n",
       "      <td>NaN</td>\n",
       "    </tr>\n",
       "    <tr>\n",
       "      <th>6095</th>\n",
       "      <td>legacysurvey-0260m062-image.fits.fz</td>\n",
       "      <td>994</td>\n",
       "      <td>2486</td>\n",
       "      <td>26.078486</td>\n",
       "      <td>-6.199997</td>\n",
       "      <td>NaN</td>\n",
       "    </tr>\n",
       "    <tr>\n",
       "      <th>2709</th>\n",
       "      <td>legacysurvey-0260m062-image.fits.fz</td>\n",
       "      <td>3216</td>\n",
       "      <td>1209</td>\n",
       "      <td>25.915781</td>\n",
       "      <td>-6.292911</td>\n",
       "      <td>NaN</td>\n",
       "    </tr>\n",
       "    <tr>\n",
       "      <th>5667</th>\n",
       "      <td>legacysurvey-0260m062-image.fits.fz</td>\n",
       "      <td>1088</td>\n",
       "      <td>2359</td>\n",
       "      <td>26.071583</td>\n",
       "      <td>-6.209265</td>\n",
       "      <td>NaN</td>\n",
       "    </tr>\n",
       "    <tr>\n",
       "      <th>2471</th>\n",
       "      <td>legacysurvey-0260m062-image.fits.fz</td>\n",
       "      <td>2859</td>\n",
       "      <td>1137</td>\n",
       "      <td>25.941948</td>\n",
       "      <td>-6.298205</td>\n",
       "      <td>NaN</td>\n",
       "    </tr>\n",
       "    <tr>\n",
       "      <th>...</th>\n",
       "      <td>...</td>\n",
       "      <td>...</td>\n",
       "      <td>...</td>\n",
       "      <td>...</td>\n",
       "      <td>...</td>\n",
       "      <td>...</td>\n",
       "    </tr>\n",
       "    <tr>\n",
       "      <th>6345</th>\n",
       "      <td>legacysurvey-0260m062-image.fits.fz</td>\n",
       "      <td>292</td>\n",
       "      <td>2585</td>\n",
       "      <td>26.129869</td>\n",
       "      <td>-6.192759</td>\n",
       "      <td>NaN</td>\n",
       "    </tr>\n",
       "    <tr>\n",
       "      <th>4612</th>\n",
       "      <td>legacysurvey-0260m062-image.fits.fz</td>\n",
       "      <td>3450</td>\n",
       "      <td>1864</td>\n",
       "      <td>25.898683</td>\n",
       "      <td>-6.245235</td>\n",
       "      <td>NaN</td>\n",
       "    </tr>\n",
       "    <tr>\n",
       "      <th>2445</th>\n",
       "      <td>legacysurvey-0260m062-image.fits.fz</td>\n",
       "      <td>1230</td>\n",
       "      <td>1161</td>\n",
       "      <td>26.061230</td>\n",
       "      <td>-6.296397</td>\n",
       "      <td>NaN</td>\n",
       "    </tr>\n",
       "    <tr>\n",
       "      <th>3190</th>\n",
       "      <td>legacysurvey-0260m062-image.fits.fz</td>\n",
       "      <td>2916</td>\n",
       "      <td>1365</td>\n",
       "      <td>25.937799</td>\n",
       "      <td>-6.281606</td>\n",
       "      <td>NaN</td>\n",
       "    </tr>\n",
       "    <tr>\n",
       "      <th>8031</th>\n",
       "      <td>legacysurvey-0260m062-image.fits.fz</td>\n",
       "      <td>35</td>\n",
       "      <td>3352</td>\n",
       "      <td>26.148690</td>\n",
       "      <td>-6.136935</td>\n",
       "      <td>NaN</td>\n",
       "    </tr>\n",
       "  </tbody>\n",
       "</table>\n",
       "<p>500 rows × 6 columns</p>\n",
       "</div>"
      ],
      "text/plain": [
       "                           original_image     x     y         ra       dec  \\\n",
       "594   legacysurvey-0260m062-image.fits.fz   337   369  26.126581 -6.354089   \n",
       "6095  legacysurvey-0260m062-image.fits.fz   994  2486  26.078486 -6.199997   \n",
       "2709  legacysurvey-0260m062-image.fits.fz  3216  1209  25.915781 -6.292911   \n",
       "5667  legacysurvey-0260m062-image.fits.fz  1088  2359  26.071583 -6.209265   \n",
       "2471  legacysurvey-0260m062-image.fits.fz  2859  1137  25.941948 -6.298205   \n",
       "...                                   ...   ...   ...        ...       ...   \n",
       "6345  legacysurvey-0260m062-image.fits.fz   292  2585  26.129869 -6.192759   \n",
       "4612  legacysurvey-0260m062-image.fits.fz  3450  1864  25.898683 -6.245235   \n",
       "2445  legacysurvey-0260m062-image.fits.fz  1230  1161  26.061230 -6.296397   \n",
       "3190  legacysurvey-0260m062-image.fits.fz  2916  1365  25.937799 -6.281606   \n",
       "8031  legacysurvey-0260m062-image.fits.fz    35  3352  26.148690 -6.136935   \n",
       "\n",
       "      peak_flux  \n",
       "594         NaN  \n",
       "6095        NaN  \n",
       "2709        NaN  \n",
       "5667        NaN  \n",
       "2471        NaN  \n",
       "...         ...  \n",
       "6345        NaN  \n",
       "4612        NaN  \n",
       "2445        NaN  \n",
       "3190        NaN  \n",
       "8031        NaN  \n",
       "\n",
       "[500 rows x 6 columns]"
      ]
     },
     "execution_count": 31,
     "metadata": {},
     "output_type": "execute_result"
    }
   ],
   "source": [
    "image_dataset.metadata"
   ]
  },
  {
   "cell_type": "markdown",
   "metadata": {},
   "source": [
    "image_dataset.get_sample('62763') #Just zero values"
   ]
  },
  {
   "cell_type": "markdown",
   "metadata": {},
   "source": [
    "inds = ['62762', '62763', '67877']\n",
    "imgs = []\n",
    "\n",
    "for i in inds:\n",
    "    imgs.append(image_dataset.get_sample(i))"
   ]
  },
  {
   "cell_type": "code",
   "execution_count": 32,
   "metadata": {},
   "outputs": [
    {
     "data": {
      "text/plain": [
       "[]"
      ]
     },
     "execution_count": 32,
     "metadata": {},
     "output_type": "execute_result"
    }
   ],
   "source": [
    "imgs"
   ]
  },
  {
   "cell_type": "code",
   "execution_count": null,
   "metadata": {},
   "outputs": [],
   "source": []
  },
  {
   "cell_type": "code",
   "execution_count": 33,
   "metadata": {},
   "outputs": [
    {
     "name": "stdout",
     "output_type": "stream",
     "text": [
      "Extracting features using EllipseFitFeatures ...\n",
      "0 instances completed\n",
      "100 instances completed\n",
      "200 instances completed\n",
      "300 instances completed\n",
      "400 instances completed\n",
      "Done! Time taken:  8.213062763214111 s\n"
     ]
    }
   ],
   "source": [
    "pipeline_ellipse = shape_features.EllipseFitFeatures(\n",
    "    percentiles=[90, 80, 70, 60, 50, 0],\n",
    "    output_dir=output_dir, channel=0, force_rerun=True\n",
    ")\n",
    "\n",
    "features_original = pipeline_ellipse.run_on_dataset(image_dataset)"
   ]
  },
  {
   "cell_type": "code",
   "execution_count": 34,
   "metadata": {},
   "outputs": [],
   "source": [
    "features = features_original.copy()"
   ]
  },
  {
   "cell_type": "code",
   "execution_count": 35,
   "metadata": {},
   "outputs": [],
   "source": [
    "pipeline_scaler = scaling.FeatureScaler(force_rerun=True,\n",
    "                                            output_dir=output_dir)"
   ]
  },
  {
   "cell_type": "code",
   "execution_count": 36,
   "metadata": {},
   "outputs": [
    {
     "name": "stdout",
     "output_type": "stream",
     "text": [
      "Running FeatureScaler ...\n",
      "Done! Time taken: 0.042346954345703125 s\n"
     ]
    }
   ],
   "source": [
    "features = pipeline_scaler.run(features)"
   ]
  },
  {
   "cell_type": "code",
   "execution_count": 37,
   "metadata": {},
   "outputs": [
    {
     "name": "stdout",
     "output_type": "stream",
     "text": [
      "Running IforestAlgorithm ...\n",
      "Done! Time taken: 0.686532735824585 s\n",
      "Running ScoreConverter ...\n",
      "Running anomaly score rescaler...\n",
      "Done! Time taken: 0.01149892807006836 s\n"
     ]
    }
   ],
   "source": [
    "pipeline_iforest = isolation_forest.IforestAlgorithm(\n",
    "    force_rerun=True, output_dir=output_dir)\n",
    "anomalies = pipeline_iforest.run(features)\n",
    "\n",
    "pipeline_score_converter = human_loop_learning.ScoreConverter(\n",
    "    force_rerun=False, output_dir=output_dir)\n",
    "anomalies = pipeline_score_converter.run(anomalies)\n",
    "anomalies = anomalies.sort_values('score', ascending=False)"
   ]
  },
  {
   "cell_type": "code",
   "execution_count": 38,
   "metadata": {},
   "outputs": [
    {
     "name": "stdout",
     "output_type": "stream",
     "text": [
      "Running TSNE_Plot ...\n",
      "Done! Time taken: 5.126437187194824 s\n"
     ]
    }
   ],
   "source": [
    "try:\n",
    "    df = pd.read_csv(\n",
    "        os.path.join(output_dir, 'ml_scores.csv'), \n",
    "        index_col=0,\n",
    "        dtype={'human_label': 'int'})\n",
    "    df.index = df.index.astype('str')\n",
    "\n",
    "    if len(anomalies) == len(df):\n",
    "        anomalies = pd.concat(\n",
    "            (anomalies, df['human_label']), axis=1, join='inner')\n",
    "except FileNotFoundError:\n",
    "    pass\n",
    "    \n",
    "pipeline_active_learning = human_loop_learning.NeighbourScore(\n",
    "    alpha=1, output_dir=output_dir)\n",
    "\n",
    "pipeline_tsne = tsne.TSNE_Plot(\n",
    "    force_rerun=False,\n",
    "    output_dir=output_dir,\n",
    "    perplexity=50)\n",
    "t_plot = pipeline_tsne.run(features.loc[anomalies.index])"
   ]
  },
  {
   "cell_type": "code",
   "execution_count": null,
   "metadata": {},
   "outputs": [],
   "source": []
  },
  {
   "cell_type": "code",
   "execution_count": null,
   "metadata": {},
   "outputs": [],
   "source": []
  }
 ],
 "metadata": {
  "kernelspec": {
   "display_name": "Python 3.7.5 64-bit",
   "language": "python",
   "name": "python37564bit90ce9393941248d8885c8ffd563274d3"
  },
  "language_info": {
   "codemirror_mode": {
    "name": "ipython",
    "version": 3
   },
   "file_extension": ".py",
   "mimetype": "text/x-python",
   "name": "python",
   "nbconvert_exporter": "python",
   "pygments_lexer": "ipython3",
   "version": "3.8.2"
  }
 },
 "nbformat": 4,
 "nbformat_minor": 4
}
